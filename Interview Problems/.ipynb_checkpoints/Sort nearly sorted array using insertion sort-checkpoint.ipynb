{
 "cells": [
  {
   "cell_type": "markdown",
   "metadata": {},
   "source": [
    "# Understanding the problem statement"
   ]
  },
  {
   "cell_type": "markdown",
   "metadata": {},
   "source": [
    "We have to sort a nearly sorted array, in which each element is misplaced by at most k-positions."
   ]
  },
  {
   "cell_type": "markdown",
   "metadata": {},
   "source": [
    "# Approach"
   ]
  },
  {
   "cell_type": "markdown",
   "metadata": {},
   "source": [
    "If we use merge sort or quick sort to sort the entire array it takes O(nlogn).\n",
    "But we have to use this scenario where each element is misplaced by atmost k-positions.\n",
    "\n",
    "Assume we are using insertion sort for an element i, elements till i-1 are already sorted.\n",
    "As element i is misplaced by atmost k-positions, We have to make n comparisons to place element i in its correct\n",
    "position.\n",
    "So for each element we have to make k comparisons\n",
    "So if we use insertion sort in this case complexity is O(nk).\n",
    "\n",
    "In nearly sorted array if k < logn then insertion sort is better.\n"
   ]
  },
  {
   "cell_type": "code",
   "execution_count": null,
   "metadata": {},
   "outputs": [],
   "source": []
  }
 ],
 "metadata": {
  "kernelspec": {
   "display_name": "Python 3",
   "language": "python",
   "name": "python3"
  },
  "language_info": {
   "codemirror_mode": {
    "name": "ipython",
    "version": 3
   },
   "file_extension": ".py",
   "mimetype": "text/x-python",
   "name": "python",
   "nbconvert_exporter": "python",
   "pygments_lexer": "ipython3",
   "version": "3.5.2"
  }
 },
 "nbformat": 4,
 "nbformat_minor": 2
}
