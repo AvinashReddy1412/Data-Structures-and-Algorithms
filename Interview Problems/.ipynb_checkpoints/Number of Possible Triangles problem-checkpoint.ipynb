{
 "cells": [
  {
   "cell_type": "markdown",
   "metadata": {},
   "source": [
    "## Understanding the problem statement"
   ]
  },
  {
   "cell_type": "raw",
   "metadata": {},
   "source": [
    "Given an unsorted array of positive integers, find the number of triangles that can be formed with \n",
    "three different elements as three sides of traingle\n",
    "input : [2,4,3,1]\n",
    "output : 1\n",
    "ans : [2,3,4] only can form traingle\n",
    "      Triangular property : sum of any two sides should be greater than third side.\n",
    "      Sides of traingle [a,b,c] --> a+b > c and a+c > b and b+c > a\n",
    "      [1,2,3] cannot form triangle as 1+2 = 3 ."
   ]
  },
  {
   "cell_type": "markdown",
   "metadata": {},
   "source": [
    "## Approach 1"
   ]
  },
  {
   "cell_type": "markdown",
   "metadata": {},
   "source": [
    "1. Find all the possibilities of 3 elements from given n elements. nc3 i.e O(n^3)\n",
    "2. For each possibility check Triangular property condition i.e a+b > c and a+c > b and b+c > a . O(1)\n",
    "3. So total time complexity is O(n^3) * O(1) = O(n^3)"
   ]
  },
  {
   "cell_type": "markdown",
   "metadata": {},
   "source": [
    "# Approach 2 "
   ]
  },
  {
   "cell_type": "markdown",
   "metadata": {},
   "source": [
    "1. Sort the given array. O(nlogn)\n",
    "2. when elements are sorted we need not check 3 conditions. When [a,b,c] are in ascending order just checking \n",
    "a+b > c will be enough because as c is already greater than a and b ,  a+c > b and b+c > a will be true.\n",
    "3. Take each element from the array i , take next element as j and check for the elements k which are smaller than\n",
    "a[i]+a[j]. When bigger element is encountered we can stop iterating and update the count.K need not be initialized \n",
    "in the algorithm because once it is true for smaller sum of i,j then it will be true for i and bigger j. O(n^2)\n",
    "4. Once bigger element is encountered we can increase sum a[i]+a[j] by incrementing j. \n",
    "5. Repeat steps 3 and 4 i,e move i and j and keep updating count. \n",
    "6. See reference screenshot for complete algorithm.\n",
    "7. so Total time complexity = O(nlogn) + O(n^2) = O(n^2)"
   ]
  },
  {
   "cell_type": "markdown",
   "metadata": {},
   "source": [
    "# Implementation"
   ]
  },
  {
   "cell_type": "code",
   "execution_count": 8,
   "metadata": {},
   "outputs": [],
   "source": [
    "def findPossibleTriangleCount(arr,n):\n",
    "    arr = sorted(arr)\n",
    "    count = 0\n",
    "    for i in range(n-2):\n",
    "        k = i+2\n",
    "        for j in range(i+1,n-1):\n",
    "            while((k<n) and ((arr[i]+arr[j])>arr[k])):\n",
    "                k+=1\n",
    "            count = count+(k-j-1)\n",
    "    return count\n",
    "    "
   ]
  },
  {
   "cell_type": "code",
   "execution_count": 15,
   "metadata": {},
   "outputs": [
    {
     "data": {
      "text/plain": [
       "18"
      ]
     },
     "execution_count": 15,
     "metadata": {},
     "output_type": "execute_result"
    }
   ],
   "source": [
    "arr = [6,7,8,10,12,14,50]\n",
    "findPossibleTriangleCount(arr,len(arr))\n",
    "# ans 18"
   ]
  },
  {
   "cell_type": "code",
   "execution_count": 16,
   "metadata": {},
   "outputs": [
    {
     "data": {
      "text/plain": [
       "3"
      ]
     },
     "execution_count": 16,
     "metadata": {},
     "output_type": "execute_result"
    }
   ],
   "source": [
    "arr = [7, 3, 6, 4]\n",
    "findPossibleTriangleCount(arr,len(arr))\n",
    "# ans 3"
   ]
  },
  {
   "cell_type": "code",
   "execution_count": 17,
   "metadata": {},
   "outputs": [
    {
     "data": {
      "text/plain": [
       "6"
      ]
     },
     "execution_count": 17,
     "metadata": {},
     "output_type": "execute_result"
    }
   ],
   "source": [
    "arr = [10, 21, 22, 100, 101, 200, 300]\n",
    "findPossibleTriangleCount(arr,len(arr))\n",
    "# ans 6"
   ]
  },
  {
   "cell_type": "code",
   "execution_count": null,
   "metadata": {},
   "outputs": [],
   "source": []
  }
 ],
 "metadata": {
  "kernelspec": {
   "display_name": "Python 3",
   "language": "python",
   "name": "python3"
  },
  "language_info": {
   "codemirror_mode": {
    "name": "ipython",
    "version": 3
   },
   "file_extension": ".py",
   "mimetype": "text/x-python",
   "name": "python",
   "nbconvert_exporter": "python",
   "pygments_lexer": "ipython3",
   "version": "3.5.2"
  }
 },
 "nbformat": 4,
 "nbformat_minor": 2
}
