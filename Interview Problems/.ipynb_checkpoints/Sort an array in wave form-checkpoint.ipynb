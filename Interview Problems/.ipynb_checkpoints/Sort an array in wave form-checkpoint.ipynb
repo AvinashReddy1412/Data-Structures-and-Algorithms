{
 "cells": [
  {
   "cell_type": "markdown",
   "metadata": {},
   "source": [
    "# Understanding the problem statement\n",
    "    "
   ]
  },
  {
   "cell_type": "markdown",
   "metadata": {},
   "source": [
    "Given an array of unsorted integers we have to sort the array in wave form i.e\n",
    "arr[0] >= arr[1] <= arr[2] >= arr[3] <= arr[4] ..... \n",
    "i.e elements should increase and decrease alternatively.\n",
    "\n",
    "Input : [1,5,2,4,3,6,7,8]\n",
    "Output : [2,1,4,3,6,5,8,7]\n",
    "\n",
    "There may be multiple outputs possible for single input"
   ]
  },
  {
   "cell_type": "markdown",
   "metadata": {},
   "source": [
    "# Approach 1\n",
    "    Find all the permutations of given array, and check which permutation has wave form.\n",
    "    Total permutations possible = n!"
   ]
  },
  {
   "cell_type": "markdown",
   "metadata": {},
   "source": [
    "### Time Complexity : O(n!)\n",
    "### Space Complexity : O(1)"
   ]
  },
  {
   "cell_type": "markdown",
   "metadata": {},
   "source": [
    "# Approach 2"
   ]
  },
  {
   "cell_type": "markdown",
   "metadata": {},
   "source": [
    "1. First sort the given array \n",
    "   [1,5,2,4,3,6,7,8] --> [1,2,3,4,5,6,7,8]\n",
    "2. Then swap the adjacent elements to get array in wave form\n",
    "   [1,2,3,4,5,6,7,8] --> [2,1,4,3,6,5,8,7]\n",
    "3. Sorting takes O(nlogn) and swap takes O(n). No extra space needed as we are sorting and swapping inplace.\n"
   ]
  },
  {
   "cell_type": "markdown",
   "metadata": {},
   "source": [
    "### Time Complexity : O(nlogn)\n",
    "### Space Complexity : O(1)"
   ]
  },
  {
   "cell_type": "markdown",
   "metadata": {},
   "source": [
    "# Approach 3"
   ]
  },
  {
   "cell_type": "markdown",
   "metadata": {},
   "source": [
    "1. We can observe that elements at even position are greater than adjacent elements i.e elements at odd postion.\n",
    "2. So we traverse at each even position and for each even position \n",
    "     a. If element is smaller than element to the left we swap them\n",
    "     b. If element is smaller than element to the right we swap them\n",
    "\n",
    "NOTE: For the next swap previous arrangement does not get disturbed because\n",
    "    a1,a2,a3,a4,a5.\n",
    "    If a4 was less than a3 and we swap that means a4 is also less than a2 because a3 was less than a2.\n",
    "\n",
    "We scan even positions of array and swap. So Time complexity is O(n)"
   ]
  },
  {
   "cell_type": "markdown",
   "metadata": {},
   "source": [
    "### Time Complexity : O(n)\n",
    "### Space Complexity : O(1)"
   ]
  },
  {
   "cell_type": "code",
   "execution_count": 5,
   "metadata": {},
   "outputs": [],
   "source": [
    "def sortArrayInWave(arr,size):\n",
    "    for i in range(0,size,2):\n",
    "        if i > 0 and arr[i-1] > arr[i]:\n",
    "            temp = arr[i-1]\n",
    "            arr[i-1] = arr[i]\n",
    "            arr[i] = temp\n",
    "        if i < size-1 and arr[i+1] > arr[i]:\n",
    "            temp = arr[i+1]\n",
    "            arr[i+1] = arr[i]\n",
    "            arr[i] = temp\n",
    "    return arr"
   ]
  },
  {
   "cell_type": "code",
   "execution_count": 6,
   "metadata": {},
   "outputs": [
    {
     "name": "stdout",
     "output_type": "stream",
     "text": [
      "[90, 10, 49, 1, 5, 2, 23]\n"
     ]
    }
   ],
   "source": [
    "arr = [10, 90, 49, 2, 1, 5, 23]\n",
    "size = len(arr)\n",
    "print(sortArrayInWave(arr,size))\n",
    "# ans \n",
    "# [90, 10, 49, 1, 5, 2, 23]"
   ]
  },
  {
   "cell_type": "code",
   "execution_count": 11,
   "metadata": {},
   "outputs": [
    {
     "name": "stdout",
     "output_type": "stream",
     "text": [
      "[100, 35, 90, 1, 5, 2, 78]\n"
     ]
    }
   ],
   "source": [
    "arr = [100, 90, 35, 2, 1, 5, 78]\n",
    "size = len(arr)\n",
    "print(sortArrayInWave(arr,size))\n",
    "# ans \n",
    "# [100, 35, 90, 1, 5, 2, 78]"
   ]
  },
  {
   "cell_type": "code",
   "execution_count": 12,
   "metadata": {},
   "outputs": [
    {
     "name": "stdout",
     "output_type": "stream",
     "text": [
      "[900, 100]\n"
     ]
    }
   ],
   "source": [
    "arr = [100, 900]\n",
    "size = len(arr)\n",
    "print(sortArrayInWave(arr,size))\n",
    "# ans \n",
    "# [900, 100]"
   ]
  },
  {
   "cell_type": "code",
   "execution_count": 13,
   "metadata": {},
   "outputs": [
    {
     "name": "stdout",
     "output_type": "stream",
     "text": [
      "[100]\n"
     ]
    }
   ],
   "source": [
    "arr = [100]\n",
    "size = len(arr)\n",
    "print(sortArrayInWave(arr,size))\n",
    "# ans \n",
    "# [100]"
   ]
  },
  {
   "cell_type": "code",
   "execution_count": null,
   "metadata": {},
   "outputs": [],
   "source": []
  }
 ],
 "metadata": {
  "kernelspec": {
   "display_name": "Python 3",
   "language": "python",
   "name": "python3"
  },
  "language_info": {
   "codemirror_mode": {
    "name": "ipython",
    "version": 3
   },
   "file_extension": ".py",
   "mimetype": "text/x-python",
   "name": "python",
   "nbconvert_exporter": "python",
   "pygments_lexer": "ipython3",
   "version": "3.5.2"
  }
 },
 "nbformat": 4,
 "nbformat_minor": 2
}
