{
 "cells": [
  {
   "cell_type": "markdown",
   "metadata": {},
   "source": [
    "# Understanding the problem statement"
   ]
  },
  {
   "cell_type": "markdown",
   "metadata": {},
   "source": [
    "Given a number, we have to find the smallest number with same set of digits that is greater than the given\n",
    "number.\n",
    "\n",
    "Input : 76348\n",
    "Output : 76384\n",
    "\n",
    "we also have 76834 greater than 76348 but it is not the smallest one possible."
   ]
  },
  {
   "cell_type": "markdown",
   "metadata": {},
   "source": [
    "# Approach 1\n",
    "    Find all the permuations of the given number. We have n! numbers possible. From all these numbers find\n",
    "    the numbers which are greater than the given number, and maintain the track of the smallest number out of\n",
    "    all the greater numbers than given number.\n"
   ]
  },
  {
   "cell_type": "markdown",
   "metadata": {},
   "source": [
    "### Time Complexity : O(n!)\n",
    "### Space Complexity : O(1)"
   ]
  },
  {
   "cell_type": "markdown",
   "metadata": {},
   "source": [
    "# Approach 2 (Own approach)"
   ]
  },
  {
   "cell_type": "markdown",
   "metadata": {},
   "source": [
    "1. Start from right and keep the track of maximum number till now.\n",
    "2. while traversing from right,If we dont find a number smaller than the maximum number till now\n",
    "   then maximum number is not possible.\n",
    "3. If we find a smaller number, the take number which is just greater than the current number from the right\n",
    "   side list, and replace it with current number. Also sort the entire right side array to current number in\n",
    "   increasing order"
   ]
  },
  {
   "cell_type": "markdown",
   "metadata": {},
   "source": [
    "# Implementation"
   ]
  },
  {
   "cell_type": "code",
   "execution_count": 57,
   "metadata": {},
   "outputs": [],
   "source": [
    "def nextBiggest(num,size):\n",
    "    max_right = num[size-1]\n",
    "    flag = False\n",
    "    for i in range(size-1,0,-1):\n",
    "        max_comp = num[i]\n",
    "        if num[i] > max_right:\n",
    "            j = i\n",
    "            temp = num[i]\n",
    "            while(j+1 < size and num[j+1] <= temp):\n",
    "                num[j] = num[j+1]\n",
    "                j = j+1\n",
    "            num[j] = temp\n",
    "        elif num[i] < max_right:\n",
    "            flag = True\n",
    "            temp = num[i]\n",
    "            for k in range(i+1,size):\n",
    "                if num[k] > num[i]:\n",
    "                    num[i] = num[k]\n",
    "                    num[k] = temp\n",
    "                    break\n",
    "            break\n",
    "        max_right = max(max_right,max_comp)\n",
    "    if flag:\n",
    "        return num\n",
    "    else:\n",
    "        return \"number not possible\""
   ]
  },
  {
   "cell_type": "code",
   "execution_count": 58,
   "metadata": {},
   "outputs": [
    {
     "data": {
      "text/plain": [
       "[2, 5, 1, 6, 7, 8]"
      ]
     },
     "execution_count": 58,
     "metadata": {},
     "output_type": "execute_result"
    }
   ],
   "source": [
    "num = [2,1,8,7,6,5]\n",
    "size = len(num)\n",
    "nextBiggest(num,size)\n",
    "# [2, 5, 1, 6, 7, 8]"
   ]
  },
  {
   "cell_type": "code",
   "execution_count": 59,
   "metadata": {},
   "outputs": [
    {
     "data": {
      "text/plain": [
       "'number not possible'"
      ]
     },
     "execution_count": 59,
     "metadata": {},
     "output_type": "execute_result"
    }
   ],
   "source": [
    "num = [9,7,6,5,4]\n",
    "size = len(num)\n",
    "nextBiggest(num,size)\n",
    "# ans\n",
    "# 'number not possible'"
   ]
  },
  {
   "cell_type": "code",
   "execution_count": 60,
   "metadata": {},
   "outputs": [
    {
     "data": {
      "text/plain": [
       "[1, 2, 3, 4, 5, 6, 7, 8, 5, 1, 2, 3, 4, 4, 6, 7, 8, 9]"
      ]
     },
     "execution_count": 60,
     "metadata": {},
     "output_type": "execute_result"
    }
   ],
   "source": [
    "num = [1,2,3,4,5,6,7,8,4,9,8,7,6,5,4,3,2,1]\n",
    "size = len(num)\n",
    "nextBiggest(num,size)\n",
    "# ans \n",
    "# [1, 2, 3, 4, 5, 6, 7, 8, 5, 1, 2, 3, 4, 4, 6, 7, 8, 9]"
   ]
  },
  {
   "cell_type": "markdown",
   "metadata": {},
   "source": [
    "# Approach 2 (RBR)\n",
    "    Logic is same. Code wise optimization is done for the above approach"
   ]
  },
  {
   "cell_type": "markdown",
   "metadata": {},
   "source": [
    "1. Find the first place from right where left digit is less than the right digit n[i-1] < n[i]. -->  O(n)\n",
    "   \n",
    "   (We need not keep track of max_right as above because once we have seen n[i+1] > n[i+2],then only we go to\n",
    "   n[i]. so its enought to check just n[i+1] since its any way greater than n[i+2])\n",
    "2. Find the smallest digit larger than n[i-1] to the right.Lets call it n[k]. -->  O(n)\n",
    "3. Swap the two digits n[i-1],n[k]. -->O(n)\n",
    "4. Sort all the numbers that are right to the n[i-1] in non decreasing order. --> O(n)\n",
    "  \n",
    "  We can also just reverse because numbers are in decreasing order."
   ]
  },
  {
   "cell_type": "markdown",
   "metadata": {},
   "source": [
    "### Time Complexity : O(n)\n",
    "### Space Complexity : O(1)"
   ]
  },
  {
   "cell_type": "markdown",
   "metadata": {},
   "source": [
    "# Implementation"
   ]
  },
  {
   "cell_type": "code",
   "execution_count": 3,
   "metadata": {},
   "outputs": [],
   "source": [
    "def swap(arr,i,j):\n",
    "    temp = arr[i]\n",
    "    arr[i] = arr[j]\n",
    "    arr[j] = temp\n",
    "    return arr\n",
    "    \n",
    "def arr_reverse(arr,i,j):\n",
    "    while(i<=j):\n",
    "        temp = arr[i]\n",
    "        arr[i] = arr[j]\n",
    "        arr[j] = temp\n",
    "        i+=1\n",
    "        j-=1\n",
    "    return arr\n",
    "        \n",
    "def nextBig(arr,size):\n",
    "    for i in range(size-1,-1,-1):\n",
    "        if (i == 0):\n",
    "            print(\"number not possible\")\n",
    "            return None\n",
    "        if arr[i] > arr[i-1]:\n",
    "            break\n",
    "    num = arr[i-1]\n",
    "    smallest = i\n",
    "    for j in range(i+1,size):\n",
    "        if arr[j] > num and arr[j] < arr[smallest]:\n",
    "            smallest = j\n",
    "    arr = swap(arr,i-1,smallest)\n",
    "    arr = arr_reverse(arr,i,size-1)\n",
    "    return arr\n",
    "            "
   ]
  },
  {
   "cell_type": "code",
   "execution_count": 4,
   "metadata": {},
   "outputs": [
    {
     "data": {
      "text/plain": [
       "[2, 5, 1, 6, 7, 8]"
      ]
     },
     "execution_count": 4,
     "metadata": {},
     "output_type": "execute_result"
    }
   ],
   "source": [
    "num = [2,1,8,7,6,5]\n",
    "size = len(num)\n",
    "nextBig(num,size)\n",
    "# [2, 5, 1, 6, 7, 8]"
   ]
  },
  {
   "cell_type": "code",
   "execution_count": 5,
   "metadata": {},
   "outputs": [
    {
     "name": "stdout",
     "output_type": "stream",
     "text": [
      "number not possible\n"
     ]
    }
   ],
   "source": [
    "num = [9,7,6,5,4]\n",
    "size = len(num)\n",
    "nextBig(num,size)\n",
    "# ans\n",
    "# 'number not possible'"
   ]
  },
  {
   "cell_type": "code",
   "execution_count": 6,
   "metadata": {},
   "outputs": [
    {
     "data": {
      "text/plain": [
       "[1, 2, 3, 4, 5, 6, 7, 8, 5, 1, 2, 3, 4, 4, 6, 7, 8, 9]"
      ]
     },
     "execution_count": 6,
     "metadata": {},
     "output_type": "execute_result"
    }
   ],
   "source": [
    "num = [1,2,3,4,5,6,7,8,4,9,8,7,6,5,4,3,2,1]\n",
    "size = len(num)\n",
    "nextBig(num,size)\n",
    "# ans \n",
    "# [1, 2, 3, 4, 5, 6, 7, 8, 5, 1, 2, 3, 4, 4, 6, 7, 8, 9]"
   ]
  },
  {
   "cell_type": "code",
   "execution_count": null,
   "metadata": {},
   "outputs": [],
   "source": []
  }
 ],
 "metadata": {
  "kernelspec": {
   "display_name": "Python 3",
   "language": "python",
   "name": "python3"
  },
  "language_info": {
   "codemirror_mode": {
    "name": "ipython",
    "version": 3
   },
   "file_extension": ".py",
   "mimetype": "text/x-python",
   "name": "python",
   "nbconvert_exporter": "python",
   "pygments_lexer": "ipython3",
   "version": "3.5.2"
  }
 },
 "nbformat": 4,
 "nbformat_minor": 2
}
