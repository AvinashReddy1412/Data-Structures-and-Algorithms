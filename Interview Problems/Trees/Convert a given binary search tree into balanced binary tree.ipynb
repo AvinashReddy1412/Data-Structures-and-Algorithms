{
 "cells": [
  {
   "cell_type": "markdown",
   "metadata": {},
   "source": [
    "# Refer screenshot for explanation, complexity and algorithm"
   ]
  },
  {
   "cell_type": "markdown",
   "metadata": {},
   "source": [
    "# Tree Creation"
   ]
  },
  {
   "cell_type": "markdown",
   "metadata": {},
   "source": [
    "          5\n",
    "           \\\n",
    "           10\n",
    "             \\ \n",
    "              20 \n",
    "               \\\n",
    "               30\n",
    "                \\\n",
    "                 40\n",
    "                  \\\n",
    "                   50\n",
    "                     \\\n",
    "                     55"
   ]
  },
  {
   "cell_type": "code",
   "execution_count": 19,
   "metadata": {},
   "outputs": [],
   "source": [
    "class TreeNode:\n",
    "    def __init__(self, key):\n",
    "        self.key = key\n",
    "        self.left = None\n",
    "        self.right = None\n",
    "        \n",
    "def createsampletree():\n",
    "    node5 = TreeNode(5)\n",
    "    node10 = TreeNode(10)\n",
    "    node20 = TreeNode(20)\n",
    "    node30 = TreeNode(30)\n",
    "    node40 = TreeNode(40)\n",
    "    node50 = TreeNode(50)\n",
    "    node55 = TreeNode(55)\n",
    "    node5.right = node10\n",
    "    node10.right = node20\n",
    "    node20.right = node30\n",
    "    node30.right = node40\n",
    "    node40.right = node50\n",
    "    node50.right = node55\n",
    "    return node5"
   ]
  },
  {
   "cell_type": "markdown",
   "metadata": {},
   "source": [
    "# Implementation"
   ]
  },
  {
   "cell_type": "code",
   "execution_count": 20,
   "metadata": {},
   "outputs": [],
   "source": [
    "def inorder(root):\n",
    "    if root:\n",
    "        inorder(root.left)\n",
    "        print(root.key)\n",
    "        inorder(root.right)\n",
    "        \n",
    "def build_BST(arr, start, end):\n",
    "    if start > end:\n",
    "        return\n",
    "    middle = (start+end)//2\n",
    "    root = arr[middle]\n",
    "    root.left = build_BST(arr, start, middle-1)\n",
    "    root.right = build_BST(arr, middle+1, end)\n",
    "    return root\n",
    "\n",
    "def add_nodes(root,sorted_nodes_arr,i):\n",
    "    if not root:\n",
    "        return i\n",
    "    i = add_nodes(root.left, sorted_nodes_arr, i)\n",
    "    sorted_nodes_arr.append(root)\n",
    "    i += 1\n",
    "    i = add_nodes(root.right, sorted_nodes_arr, i)\n",
    "    return i\n",
    "\n",
    "def convert_BT_to_BST(root):\n",
    "    sorted_nodes_arr = []\n",
    "    n = 0\n",
    "    n = add_nodes(root, sorted_nodes_arr, n)\n",
    "    return build_BST(sorted_nodes_arr, 0, n-1)\n",
    "    "
   ]
  },
  {
   "cell_type": "markdown",
   "metadata": {},
   "source": [
    "# Test"
   ]
  },
  {
   "cell_type": "code",
   "execution_count": 21,
   "metadata": {},
   "outputs": [
    {
     "name": "stdout",
     "output_type": "stream",
     "text": [
      "5\n",
      "10\n",
      "20\n",
      "30\n",
      "40\n",
      "50\n",
      "55\n"
     ]
    }
   ],
   "source": [
    "root = createsampletree()\n",
    "root = convert_BT_to_BST(root)\n",
    "inorder(root)\n",
    "# Inorder traversal of balanced bst should also print elements in ascending order\n",
    "# checking structure as well at the bottom\n",
    "# structure should be as shown below"
   ]
  },
  {
   "cell_type": "markdown",
   "metadata": {},
   "source": [
    "          30\n",
    "         /  \\\n",
    "        10   50\n",
    "       / \\   / \\ \n",
    "      5  20 40 55 \n",
    "     "
   ]
  },
  {
   "cell_type": "code",
   "execution_count": 22,
   "metadata": {},
   "outputs": [
    {
     "name": "stdout",
     "output_type": "stream",
     "text": [
      "30\n",
      "10\n",
      "50\n",
      "5\n",
      "20\n",
      "40\n",
      "55\n"
     ]
    }
   ],
   "source": [
    "print(root.key)\n",
    "print(root.left.key)\n",
    "print(root.right.key)\n",
    "print(root.left.left.key)\n",
    "print(root.left.right.key)\n",
    "print(root.right.left.key)\n",
    "print(root.right.right.key)"
   ]
  },
  {
   "cell_type": "code",
   "execution_count": 23,
   "metadata": {},
   "outputs": [
    {
     "ename": "AttributeError",
     "evalue": "'NoneType' object has no attribute 'key'",
     "output_type": "error",
     "traceback": [
      "\u001b[0;31m---------------------------------------------------------------------------\u001b[0m",
      "\u001b[0;31mAttributeError\u001b[0m                            Traceback (most recent call last)",
      "\u001b[0;32m<ipython-input-23-f0781276cd50>\u001b[0m in \u001b[0;36m<module>\u001b[0;34m\u001b[0m\n\u001b[1;32m      1\u001b[0m \u001b[0;31m# initial tree check\u001b[0m\u001b[0;34m\u001b[0m\u001b[0;34m\u001b[0m\u001b[0;34m\u001b[0m\u001b[0m\n\u001b[1;32m      2\u001b[0m \u001b[0mroot\u001b[0m \u001b[0;34m=\u001b[0m \u001b[0mcreatesampletree\u001b[0m\u001b[0;34m(\u001b[0m\u001b[0;34m)\u001b[0m\u001b[0;34m\u001b[0m\u001b[0;34m\u001b[0m\u001b[0m\n\u001b[0;32m----> 3\u001b[0;31m \u001b[0mroot\u001b[0m\u001b[0;34m.\u001b[0m\u001b[0mleft\u001b[0m\u001b[0;34m.\u001b[0m\u001b[0mkey\u001b[0m\u001b[0;34m\u001b[0m\u001b[0;34m\u001b[0m\u001b[0m\n\u001b[0m\u001b[1;32m      4\u001b[0m \u001b[0;31m# should give error\u001b[0m\u001b[0;34m\u001b[0m\u001b[0;34m\u001b[0m\u001b[0;34m\u001b[0m\u001b[0m\n",
      "\u001b[0;31mAttributeError\u001b[0m: 'NoneType' object has no attribute 'key'"
     ]
    }
   ],
   "source": [
    "# initial tree check\n",
    "root = createsampletree()\n",
    "root.left.key\n",
    "# should give error"
   ]
  },
  {
   "cell_type": "code",
   "execution_count": null,
   "metadata": {},
   "outputs": [],
   "source": []
  },
  {
   "cell_type": "code",
   "execution_count": null,
   "metadata": {},
   "outputs": [],
   "source": []
  }
 ],
 "metadata": {
  "kernelspec": {
   "display_name": "Python 3",
   "language": "python",
   "name": "python3"
  },
  "language_info": {
   "codemirror_mode": {
    "name": "ipython",
    "version": 3
   },
   "file_extension": ".py",
   "mimetype": "text/x-python",
   "name": "python",
   "nbconvert_exporter": "python",
   "pygments_lexer": "ipython3",
   "version": "3.9.0"
  }
 },
 "nbformat": 4,
 "nbformat_minor": 4
}
