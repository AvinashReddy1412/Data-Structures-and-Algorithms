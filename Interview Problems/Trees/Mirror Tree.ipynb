{
 "cells": [
  {
   "cell_type": "markdown",
   "metadata": {},
   "source": [
    "# Refer screenshot for example, tracing and complexity"
   ]
  },
  {
   "cell_type": "markdown",
   "metadata": {},
   "source": [
    "# Tree Creation"
   ]
  },
  {
   "cell_type": "code",
   "execution_count": 1,
   "metadata": {},
   "outputs": [],
   "source": [
    "class TreeNode:\n",
    "    def __init__(self,data):\n",
    "        self.key = data\n",
    "        self.leftChild = None\n",
    "        self.rightChild = None\n",
    "        \n",
    "# From screenshot example\n",
    "def createSampleTree(): \n",
    "    a= TreeNode(10)\n",
    "    b = TreeNode(30)\n",
    "    c = TreeNode(50)\n",
    "    d = TreeNode(20)\n",
    "    e = TreeNode(40)\n",
    "    a.leftChild = b\n",
    "    b.leftChild = c\n",
    "    a.rightChild = d\n",
    "    d.leftChild = e\n",
    "    return a\n",
    "\n",
    "def preorderTraversal(root):\n",
    "    if root:\n",
    "        print(root.key,end=\" \")\n",
    "        preorderTraversal(root.leftChild)\n",
    "        preorderTraversal(root.rightChild)"
   ]
  },
  {
   "cell_type": "markdown",
   "metadata": {},
   "source": [
    "# Recursive Equation"
   ]
  },
  {
   "cell_type": "markdown",
   "metadata": {},
   "source": [
    "To write recursion, first split the given problem into recursive equation"
   ]
  },
  {
   "cell_type": "raw",
   "metadata": {},
   "source": [
    "Mirror(root) = Mirror(Left subtree) + Mirror(right subtree) + swap(LST,RST)\n",
    "             = Null  ; if root=Null"
   ]
  },
  {
   "cell_type": "markdown",
   "metadata": {},
   "source": [
    "## Complexity\n",
    "### Time :\n",
    "    As each node is visted once in recrusion : O(n)\n",
    "### Space :\n",
    "    At any stage number of records in recursion stack is equal to number of levels in tree\n",
    "    maximum levels can be n : O(n)"
   ]
  },
  {
   "cell_type": "markdown",
   "metadata": {},
   "source": [
    "# Implementation"
   ]
  },
  {
   "cell_type": "code",
   "execution_count": 2,
   "metadata": {},
   "outputs": [],
   "source": [
    "def get_mirror(root):\n",
    "    if not root:\n",
    "        return \n",
    "    get_mirror(root.leftChild)\n",
    "    get_mirror(root.rightChild)\n",
    "    # swap\n",
    "    temp = root.leftChild\n",
    "    root.leftChild = root.rightChild\n",
    "    root.rightChild = temp"
   ]
  },
  {
   "cell_type": "markdown",
   "metadata": {},
   "source": [
    "# Test"
   ]
  },
  {
   "cell_type": "code",
   "execution_count": 13,
   "metadata": {},
   "outputs": [
    {
     "name": "stdout",
     "output_type": "stream",
     "text": [
      "Before Mirroring\n",
      "10 30 50 20 40 \n",
      "After Mirroring\n",
      "10 20 40 30 50 "
     ]
    }
   ],
   "source": [
    "root = createSampleTree()\n",
    "print(\"Before Mirroring\")\n",
    "preorderTraversal(root)\n",
    "get_mirror(root)\n",
    "print(\"\\nAfter Mirroring\")\n",
    "preorderTraversal(root)\n",
    "# ans\n",
    "# check screenshot and preorder it and verify\n",
    "# Before Mirroring\n",
    "# 10 30 50 20 40 \n",
    "# After Mirroring\n",
    "# 10 20 40 30 50 "
   ]
  },
  {
   "cell_type": "code",
   "execution_count": 14,
   "metadata": {},
   "outputs": [
    {
     "name": "stdout",
     "output_type": "stream",
     "text": [
      "10\n",
      "20\n"
     ]
    }
   ],
   "source": [
    "# debug to see if value changes i.e TreeNode is mutable or not\n",
    "root = TreeNode(10)\n",
    "def changevalue(root):\n",
    "    root.key = 20\n",
    "print(root.key)\n",
    "changevalue(root)\n",
    "print(root.key)"
   ]
  },
  {
   "cell_type": "code",
   "execution_count": null,
   "metadata": {},
   "outputs": [],
   "source": []
  },
  {
   "cell_type": "code",
   "execution_count": null,
   "metadata": {},
   "outputs": [],
   "source": []
  }
 ],
 "metadata": {
  "kernelspec": {
   "display_name": "Python 3",
   "language": "python",
   "name": "python3"
  },
  "language_info": {
   "codemirror_mode": {
    "name": "ipython",
    "version": 3
   },
   "file_extension": ".py",
   "mimetype": "text/x-python",
   "name": "python",
   "nbconvert_exporter": "python",
   "pygments_lexer": "ipython3",
   "version": "3.9.0"
  }
 },
 "nbformat": 4,
 "nbformat_minor": 4
}
