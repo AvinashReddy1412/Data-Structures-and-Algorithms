{
 "cells": [
  {
   "cell_type": "markdown",
   "metadata": {},
   "source": [
    "# Refer screenshot for explanation, complexity and algorithm"
   ]
  },
  {
   "cell_type": "markdown",
   "metadata": {},
   "source": [
    "# Tree Creation"
   ]
  },
  {
   "cell_type": "markdown",
   "metadata": {},
   "source": [
    "          1\n",
    "         / \\\n",
    "        2   3\n",
    "       / \\     \n",
    "      4   5   \n",
    "     "
   ]
  },
  {
   "cell_type": "code",
   "execution_count": 23,
   "metadata": {},
   "outputs": [],
   "source": [
    "class TreeNode:\n",
    "    def __init__(self, data):\n",
    "        self.left = None\n",
    "        self.right = None\n",
    "        self.key = data\n",
    "\n",
    "# From above figure example\n",
    "def createsampletree():\n",
    "    node1 = TreeNode(1)\n",
    "    node2 = TreeNode(2)\n",
    "    node3 = TreeNode(3)\n",
    "    node4 = TreeNode(4)\n",
    "    node5 = TreeNode(5)\n",
    "    node1.left = node2\n",
    "    node1.right = node3\n",
    "    node2.left = node4\n",
    "    node2.right = node5\n",
    "    return node1\n",
    "\n",
    "def preorderTraversal(root):\n",
    "    if root:\n",
    "        print(root.key,end=\" \")\n",
    "        preorderTraversal(root.left)\n",
    "        preorderTraversal(root.right)"
   ]
  },
  {
   "cell_type": "markdown",
   "metadata": {},
   "source": [
    "# Implementation"
   ]
  },
  {
   "cell_type": "code",
   "execution_count": 24,
   "metadata": {},
   "outputs": [],
   "source": [
    "def removenodes(root, k):\n",
    "    if k==0:\n",
    "        return root\n",
    "    if not root:\n",
    "        return \n",
    "    root.left = removenodes(root.left, k-1)\n",
    "    root.right = removenodes(root.right, k-1)\n",
    "    if not root.left and not root.right:\n",
    "        del root\n",
    "        return \n",
    "    return root"
   ]
  },
  {
   "cell_type": "markdown",
   "metadata": {},
   "source": [
    "# Test"
   ]
  },
  {
   "cell_type": "code",
   "execution_count": 25,
   "metadata": {},
   "outputs": [
    {
     "name": "stdout",
     "output_type": "stream",
     "text": [
      "before deletion\n",
      "1 2 4 5 3 \n",
      "after deletion\n",
      "node 3 should be deleted\n",
      "1 2 4 5 "
     ]
    }
   ],
   "source": [
    "root = createsampletree()\n",
    "print(\"before deletion\")\n",
    "preorderTraversal(root)\n",
    "root = removenodes(root, 2)\n",
    "print(\"\\nafter deletion\")\n",
    "print(\"node 3 should be deleted\")\n",
    "preorderTraversal(root)"
   ]
  },
  {
   "cell_type": "code",
   "execution_count": 26,
   "metadata": {},
   "outputs": [
    {
     "name": "stdout",
     "output_type": "stream",
     "text": [
      "before deletion\n",
      "1 2 4 5 3 \n",
      "after deletion\n",
      "all paths should be deleted\n"
     ]
    }
   ],
   "source": [
    "root = createsampletree()\n",
    "print(\"before deletion\")\n",
    "preorderTraversal(root)\n",
    "root = removenodes(root, 3)\n",
    "print(\"\\nafter deletion\")\n",
    "print(\"all paths should be deleted\")\n",
    "preorderTraversal(root)"
   ]
  },
  {
   "cell_type": "markdown",
   "metadata": {},
   "source": [
    "          1\n",
    "         / \\\n",
    "        2   3\n",
    "       / \\     \n",
    "      4   5   \n",
    "     / \\\n",
    "    8  10"
   ]
  },
  {
   "cell_type": "code",
   "execution_count": 27,
   "metadata": {},
   "outputs": [],
   "source": [
    "# From above figure example\n",
    "def createsampletree():\n",
    "    node1 = TreeNode(1)\n",
    "    node2 = TreeNode(2)\n",
    "    node3 = TreeNode(3)\n",
    "    node4 = TreeNode(4)\n",
    "    node5 = TreeNode(5)\n",
    "    node8 = TreeNode(8)\n",
    "    node10 = TreeNode(10)\n",
    "    node1.left = node2\n",
    "    node1.right = node3\n",
    "    node2.left = node4\n",
    "    node2.right = node5\n",
    "    node4.left = node8\n",
    "    node4.right = node10\n",
    "    return node1"
   ]
  },
  {
   "cell_type": "code",
   "execution_count": 28,
   "metadata": {},
   "outputs": [
    {
     "name": "stdout",
     "output_type": "stream",
     "text": [
      "before deletion\n",
      "1 2 4 8 10 5 3 \n",
      "after deletion\n",
      "3 and 5 should be deleted\n",
      "1 2 4 8 10 "
     ]
    }
   ],
   "source": [
    "root = createsampletree()\n",
    "print(\"before deletion\")\n",
    "preorderTraversal(root)\n",
    "root = removenodes(root, 3)\n",
    "print(\"\\nafter deletion\")\n",
    "print(\"3 and 5 should be deleted\")\n",
    "preorderTraversal(root)"
   ]
  },
  {
   "cell_type": "code",
   "execution_count": 29,
   "metadata": {},
   "outputs": [
    {
     "name": "stdout",
     "output_type": "stream",
     "text": [
      "before deletion\n",
      "2 \n",
      "after deletion\n"
     ]
    }
   ],
   "source": [
    "# Test for single node. It will be deleted since path length will be zero for a single node\n",
    "root = TreeNode(2)\n",
    "print(\"before deletion\")\n",
    "preorderTraversal(root)\n",
    "root = removenodes(root, 1)\n",
    "print(\"\\nafter deletion\")\n",
    "preorderTraversal(root)"
   ]
  },
  {
   "cell_type": "code",
   "execution_count": null,
   "metadata": {},
   "outputs": [],
   "source": []
  }
 ],
 "metadata": {
  "kernelspec": {
   "display_name": "Python 3",
   "language": "python",
   "name": "python3"
  },
  "language_info": {
   "codemirror_mode": {
    "name": "ipython",
    "version": 3
   },
   "file_extension": ".py",
   "mimetype": "text/x-python",
   "name": "python",
   "nbconvert_exporter": "python",
   "pygments_lexer": "ipython3",
   "version": "3.9.0"
  }
 },
 "nbformat": 4,
 "nbformat_minor": 4
}
