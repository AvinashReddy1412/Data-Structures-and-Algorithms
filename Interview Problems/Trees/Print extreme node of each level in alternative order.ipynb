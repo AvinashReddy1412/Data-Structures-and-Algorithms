{
 "cells": [
  {
   "cell_type": "markdown",
   "metadata": {},
   "source": [
    "# Refer screenshot for explanation, algorithm and complexity"
   ]
  },
  {
   "cell_type": "markdown",
   "metadata": {},
   "source": [
    "# Tree Creation"
   ]
  },
  {
   "cell_type": "markdown",
   "metadata": {},
   "source": [
    "          1\n",
    "         / \\\n",
    "        2   3\n",
    "       / \\     \n",
    "      4   5   \n",
    "     "
   ]
  },
  {
   "cell_type": "code",
   "execution_count": 19,
   "metadata": {},
   "outputs": [],
   "source": [
    "class TreeNode:\n",
    "    def __init__(self, data):\n",
    "        self.left = None\n",
    "        self.right = None\n",
    "        self.key = data\n",
    "\n",
    "# From above figure example\n",
    "def createsampletree():\n",
    "    node1 = TreeNode(1)\n",
    "    node2 = TreeNode(2)\n",
    "    node3 = TreeNode(3)\n",
    "    node4 = TreeNode(4)\n",
    "    node5 = TreeNode(5)\n",
    "    node1.left = node2\n",
    "    node1.right = node3\n",
    "    node2.left = node4\n",
    "    node2.right = node5\n",
    "    return node1"
   ]
  },
  {
   "cell_type": "markdown",
   "metadata": {},
   "source": [
    "# Implementation"
   ]
  },
  {
   "cell_type": "code",
   "execution_count": 20,
   "metadata": {},
   "outputs": [],
   "source": [
    "class Queue:\n",
    "    def __init__(self,maxsize):\n",
    "        self.queue = [0]*maxsize\n",
    "        self.front = 0\n",
    "        self.rear = 0\n",
    "        self.maxsize = maxsize\n",
    "    \n",
    "    def enqueue(self,item):\n",
    "        self.rear = (self.rear+1)%self.maxsize\n",
    "        if (self.front == self.rear):\n",
    "            print(\"Overflow\")\n",
    "            if self.rear == 0:\n",
    "                self.rear = self.maxsize - 1\n",
    "            else:\n",
    "                self.rear = self.rear - 1\n",
    "            return\n",
    "        else:\n",
    "            self.queue[self.rear] = item\n",
    "            return\n",
    "    \n",
    "    def dequeue(self):\n",
    "        if (self.front == self.rear):\n",
    "            print(\"Underflow\")\n",
    "            return -1\n",
    "        else:\n",
    "            self.front = (self.front+1)%self.maxsize\n",
    "            item = self.queue[self.front]\n",
    "            return item\n",
    "\n",
    "    def display(self):\n",
    "        print(self.queue)\n",
    "            \n",
    "    def isempty(self):\n",
    "        if self.front == self.rear:\n",
    "            return True\n",
    "        return False\n",
    "    \n",
    "    def get_front(self):\n",
    "        return self.queue[(self.front+1)%self.maxsize]\n",
    "    \n",
    "    def size(self):\n",
    "        return self.rear - self.front\n",
    "            \n",
    "def print_extreme(root):\n",
    "    if not root:\n",
    "        return \n",
    "    q = Queue(10)\n",
    "    q.enqueue(root)\n",
    "    flag = False\n",
    "    while not q.isempty():\n",
    "        nodecount = q.size()\n",
    "        n = nodecount\n",
    "        while n:\n",
    "            temp = q.get_front()\n",
    "            if temp.left:\n",
    "                q.enqueue(temp.left)\n",
    "            if temp.right:\n",
    "                q.enqueue(temp.right)\n",
    "            n -= 1\n",
    "            if not flag and n == nodecount -1 :\n",
    "                print(temp.key)\n",
    "            if flag and n==0:\n",
    "                print(temp.key)\n",
    "            q.dequeue()\n",
    "        flag = not flag\n",
    "    "
   ]
  },
  {
   "cell_type": "markdown",
   "metadata": {},
   "source": [
    "# Test"
   ]
  },
  {
   "cell_type": "code",
   "execution_count": 21,
   "metadata": {},
   "outputs": [
    {
     "name": "stdout",
     "output_type": "stream",
     "text": [
      "1\n",
      "3\n",
      "4\n"
     ]
    }
   ],
   "source": [
    "root = createsampletree()\n",
    "print_extreme(root)\n",
    "# ans\n",
    "# 1, 3, 4"
   ]
  },
  {
   "cell_type": "markdown",
   "metadata": {},
   "source": [
    "          1\n",
    "         / \\\n",
    "        2   3\n",
    "       / \\     \n",
    "      4   5   \n",
    "     / \\\n",
    "    8  10"
   ]
  },
  {
   "cell_type": "code",
   "execution_count": 22,
   "metadata": {},
   "outputs": [],
   "source": [
    "# From above figure example\n",
    "def createsampletree():\n",
    "    node1 = TreeNode(1)\n",
    "    node2 = TreeNode(2)\n",
    "    node3 = TreeNode(3)\n",
    "    node4 = TreeNode(4)\n",
    "    node5 = TreeNode(5)\n",
    "    node8 = TreeNode(8)\n",
    "    node10 = TreeNode(10)\n",
    "    node1.left = node2\n",
    "    node1.right = node3\n",
    "    node2.left = node4\n",
    "    node2.right = node5\n",
    "    node4.left = node8\n",
    "    node4.right = node10\n",
    "    return node1"
   ]
  },
  {
   "cell_type": "code",
   "execution_count": 23,
   "metadata": {},
   "outputs": [
    {
     "name": "stdout",
     "output_type": "stream",
     "text": [
      "1\n",
      "3\n",
      "4\n",
      "10\n"
     ]
    }
   ],
   "source": [
    "root = createsampletree()\n",
    "print_extreme(root)\n",
    "# ans\n",
    "# 1, 3, 4, 10"
   ]
  },
  {
   "cell_type": "markdown",
   "metadata": {},
   "source": [
    "          1\n",
    "         / \\\n",
    "        2   3\n",
    "         \\     \n",
    "          5   "
   ]
  },
  {
   "cell_type": "code",
   "execution_count": 24,
   "metadata": {},
   "outputs": [],
   "source": [
    "# From above figure example\n",
    "def createsampletree():\n",
    "    node1 = TreeNode(1)\n",
    "    node2 = TreeNode(2)\n",
    "    node3 = TreeNode(3)\n",
    "    node5 = TreeNode(5)\n",
    "    node1.left = node2\n",
    "    node1.right = node3\n",
    "    node2.right = node5\n",
    "    return node1"
   ]
  },
  {
   "cell_type": "code",
   "execution_count": 25,
   "metadata": {},
   "outputs": [
    {
     "name": "stdout",
     "output_type": "stream",
     "text": [
      "1\n",
      "3\n",
      "5\n"
     ]
    }
   ],
   "source": [
    "root = createsampletree()\n",
    "print_extreme(root)\n",
    "# ans\n",
    "# 1, 3, 5"
   ]
  },
  {
   "cell_type": "code",
   "execution_count": null,
   "metadata": {},
   "outputs": [],
   "source": []
  }
 ],
 "metadata": {
  "kernelspec": {
   "display_name": "Python 3",
   "language": "python",
   "name": "python3"
  },
  "language_info": {
   "codemirror_mode": {
    "name": "ipython",
    "version": 3
   },
   "file_extension": ".py",
   "mimetype": "text/x-python",
   "name": "python",
   "nbconvert_exporter": "python",
   "pygments_lexer": "ipython3",
   "version": "3.9.0"
  }
 },
 "nbformat": 4,
 "nbformat_minor": 4
}
