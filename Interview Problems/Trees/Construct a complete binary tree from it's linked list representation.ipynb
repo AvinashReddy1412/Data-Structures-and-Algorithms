{
 "cells": [
  {
   "cell_type": "markdown",
   "metadata": {},
   "source": [
    "# Refer screenshot for clear explanation, algorithm and complexity"
   ]
  },
  {
   "cell_type": "markdown",
   "metadata": {},
   "source": [
    "# LinkedList Creation"
   ]
  },
  {
   "cell_type": "code",
   "execution_count": 10,
   "metadata": {},
   "outputs": [],
   "source": [
    "class Node:\n",
    "    def __init__(self,data):\n",
    "        self.next = None\n",
    "        self.data = data\n",
    "        \n",
    "# From screenshot example        \n",
    "head = Node(20)\n",
    "b = Node(30)\n",
    "c = Node(40)\n",
    "d = Node(5)\n",
    "e = Node(15)\n",
    "f = Node(25)\n",
    "\n",
    "head.next = b\n",
    "b.next = c\n",
    "c.next = d\n",
    "d.next = e\n",
    "e.next = f"
   ]
  },
  {
   "cell_type": "markdown",
   "metadata": {},
   "source": [
    "# Queue Creation"
   ]
  },
  {
   "cell_type": "code",
   "execution_count": 11,
   "metadata": {},
   "outputs": [],
   "source": [
    "class Queue:\n",
    "    def __init__(self,maxsize):\n",
    "        self.queue = [0]*maxsize\n",
    "        self.front = 0\n",
    "        self.rear = 0\n",
    "        self.maxsize = maxsize\n",
    "    \n",
    "    def enqueue(self,item):\n",
    "        self.rear = (self.rear+1)%self.maxsize\n",
    "        if (self.front == self.rear):\n",
    "            print(\"Overflow\")\n",
    "            if self.rear == 0:\n",
    "                self.rear = self.maxsize - 1\n",
    "            else:\n",
    "                self.rear = self.rear - 1\n",
    "            return\n",
    "        else:\n",
    "            self.queue[self.rear] = item\n",
    "            return\n",
    "    \n",
    "    def dequeue(self):\n",
    "        if (self.front == self.rear):\n",
    "            print(\"Underflow\")\n",
    "            return -1\n",
    "        else:\n",
    "            self.front = (self.front+1)%self.maxsize\n",
    "            item = self.queue[self.front]\n",
    "            return item\n",
    "\n",
    "    def display(self):\n",
    "        print(self.queue)\n",
    "            "
   ]
  },
  {
   "cell_type": "markdown",
   "metadata": {},
   "source": [
    "# Implementation"
   ]
  },
  {
   "cell_type": "code",
   "execution_count": 12,
   "metadata": {},
   "outputs": [],
   "source": [
    "class TreeNode:\n",
    "    def __init__(self, key):\n",
    "        self.key = key\n",
    "        self.left = None\n",
    "        self.right = None\n",
    "\n",
    "def convert_LL_to_CBT(head):\n",
    "    if not head:\n",
    "        root = None\n",
    "        return root\n",
    "    root = TreeNode(head.data)\n",
    "    q = Queue(10)\n",
    "    q.enqueue(root)\n",
    "    head = head.next\n",
    "    while(head):\n",
    "        parent = q.dequeue()\n",
    "        leftChild = None\n",
    "        rightChild = None\n",
    "        leftChild = TreeNode(head.data)\n",
    "        q.enqueue(leftChild)\n",
    "        head = head.next\n",
    "        if head:\n",
    "            rightChild = TreeNode(head.data)\n",
    "            q.enqueue(rightChild)\n",
    "            head = head.next\n",
    "        parent.left = leftChild\n",
    "        parent.right = rightChild\n",
    "        \n",
    "    return root"
   ]
  },
  {
   "cell_type": "markdown",
   "metadata": {},
   "source": [
    "# Test"
   ]
  },
  {
   "cell_type": "code",
   "execution_count": 15,
   "metadata": {},
   "outputs": [],
   "source": [
    "root = convert_LL_to_CBT(head)"
   ]
  },
  {
   "cell_type": "markdown",
   "metadata": {},
   "source": [
    "resultant tree should be\n",
    "\n",
    "                                 20\n",
    "                               /   \\\n",
    "                              30    40\n",
    "                             /  \\   /\n",
    "                            5   15 25"
   ]
  },
  {
   "cell_type": "code",
   "execution_count": 16,
   "metadata": {},
   "outputs": [
    {
     "name": "stdout",
     "output_type": "stream",
     "text": [
      "20\n",
      "30\n",
      "40\n",
      "5\n",
      "15\n",
      "25\n"
     ]
    }
   ],
   "source": [
    "# checking root structure\n",
    "print(root.key)\n",
    "print(root.left.key)\n",
    "print(root.right.key)\n",
    "print(root.left.left.key)\n",
    "print(root.left.right.key)\n",
    "print(root.right.left.key)"
   ]
  },
  {
   "cell_type": "code",
   "execution_count": null,
   "metadata": {},
   "outputs": [],
   "source": []
  }
 ],
 "metadata": {
  "kernelspec": {
   "display_name": "Python 3",
   "language": "python",
   "name": "python3"
  },
  "language_info": {
   "codemirror_mode": {
    "name": "ipython",
    "version": 3
   },
   "file_extension": ".py",
   "mimetype": "text/x-python",
   "name": "python",
   "nbconvert_exporter": "python",
   "pygments_lexer": "ipython3",
   "version": "3.9.0"
  }
 },
 "nbformat": 4,
 "nbformat_minor": 4
}
