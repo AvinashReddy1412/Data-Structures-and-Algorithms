{
 "cells": [
  {
   "cell_type": "markdown",
   "metadata": {},
   "source": [
    "# Refer screenshot for clear explanation, complexity and algorithm"
   ]
  },
  {
   "cell_type": "markdown",
   "metadata": {},
   "source": [
    "# Tree Creation"
   ]
  },
  {
   "cell_type": "markdown",
   "metadata": {},
   "source": [
    "          1\n",
    "         / \\\n",
    "        2   3\n",
    "       / \\     \n",
    "      4   5   \n",
    "     "
   ]
  },
  {
   "cell_type": "code",
   "execution_count": 15,
   "metadata": {},
   "outputs": [],
   "source": [
    "class TreeNode:\n",
    "    def __init__(self, data):\n",
    "        self.left = None\n",
    "        self.right = None\n",
    "        self.key = data\n",
    "\n",
    "# From above figure example\n",
    "def createsampletree():\n",
    "    node1 = TreeNode(1)\n",
    "    node2 = TreeNode(2)\n",
    "    node3 = TreeNode(3)\n",
    "    node4 = TreeNode(4)\n",
    "    node5 = TreeNode(5)\n",
    "    node1.left = node2\n",
    "    node1.right = node3\n",
    "    node2.left = node4\n",
    "    node2.right = node5\n",
    "    return node1"
   ]
  },
  {
   "cell_type": "markdown",
   "metadata": {},
   "source": [
    "# Implementation"
   ]
  },
  {
   "cell_type": "code",
   "execution_count": 16,
   "metadata": {},
   "outputs": [],
   "source": [
    "def isleaf(node):\n",
    "    if node:\n",
    "        if not node.left and not node.right:\n",
    "            return True\n",
    "    return False\n",
    "\n",
    "def print_paths(root, path, ln):\n",
    "    if not root:\n",
    "        return \n",
    "    if len(path) <= ln:\n",
    "        path.append(root.key)\n",
    "    else:\n",
    "        path[ln] = root.key\n",
    "    ln +=1\n",
    "    if isleaf(root):\n",
    "        print(path[:ln])\n",
    "    else:\n",
    "        print_paths(root.left, path, ln)\n",
    "        print_paths(root.right, path, ln)"
   ]
  },
  {
   "cell_type": "code",
   "execution_count": 17,
   "metadata": {},
   "outputs": [
    {
     "name": "stdout",
     "output_type": "stream",
     "text": [
      "[1, 2, 4]\n",
      "[1, 2, 5]\n",
      "[1, 3]\n"
     ]
    }
   ],
   "source": [
    "root = createsampletree()\n",
    "path = []\n",
    "print_paths(root, path, 0)"
   ]
  },
  {
   "cell_type": "markdown",
   "metadata": {},
   "source": [
    "          1\n",
    "         / \\\n",
    "        2   3\n",
    "       / \\     \n",
    "      4   5   \n",
    "           \\\n",
    "            6"
   ]
  },
  {
   "cell_type": "code",
   "execution_count": 18,
   "metadata": {},
   "outputs": [],
   "source": [
    "# From above figure example\n",
    "def createsampletree():\n",
    "    node1 = TreeNode(1)\n",
    "    node2 = TreeNode(2)\n",
    "    node3 = TreeNode(3)\n",
    "    node4 = TreeNode(4)\n",
    "    node5 = TreeNode(5)\n",
    "    node6 = TreeNode(6)\n",
    "    node1.left = node2\n",
    "    node1.right = node3\n",
    "    node2.left = node4\n",
    "    node2.right = node5\n",
    "    node5.right = node6\n",
    "    return node1"
   ]
  },
  {
   "cell_type": "code",
   "execution_count": 19,
   "metadata": {},
   "outputs": [
    {
     "name": "stdout",
     "output_type": "stream",
     "text": [
      "[1, 2, 4]\n",
      "[1, 2, 5, 6]\n",
      "[1, 3]\n"
     ]
    }
   ],
   "source": [
    "root = createsampletree()\n",
    "path = []\n",
    "print_paths(root, path, 0)"
   ]
  },
  {
   "cell_type": "code",
   "execution_count": null,
   "metadata": {},
   "outputs": [],
   "source": []
  }
 ],
 "metadata": {
  "kernelspec": {
   "display_name": "Python 3",
   "language": "python",
   "name": "python3"
  },
  "language_info": {
   "codemirror_mode": {
    "name": "ipython",
    "version": 3
   },
   "file_extension": ".py",
   "mimetype": "text/x-python",
   "name": "python",
   "nbconvert_exporter": "python",
   "pygments_lexer": "ipython3",
   "version": "3.9.0"
  }
 },
 "nbformat": 4,
 "nbformat_minor": 4
}
