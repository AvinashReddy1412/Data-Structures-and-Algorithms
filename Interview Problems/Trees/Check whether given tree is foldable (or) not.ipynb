{
 "cells": [
  {
   "cell_type": "markdown",
   "metadata": {},
   "source": [
    "# Refer screeshot for clear explanation, algorithm and complexity"
   ]
  },
  {
   "cell_type": "markdown",
   "metadata": {},
   "source": [
    "# Tree Creation"
   ]
  },
  {
   "cell_type": "markdown",
   "metadata": {},
   "source": [
    "              5\n",
    "            /    \\\n",
    "           8     12\n",
    "          / \\    / \\\n",
    "         20  9  6  13\n",
    "            /    \\\n",
    "           10    15"
   ]
  },
  {
   "cell_type": "markdown",
   "metadata": {},
   "source": [
    "    Tree is Foldable"
   ]
  },
  {
   "cell_type": "code",
   "execution_count": 21,
   "metadata": {},
   "outputs": [],
   "source": [
    "class TreeNode:\n",
    "    def __init__(self, data):\n",
    "        self.left = None\n",
    "        self.right = None\n",
    "        self.key = data\n",
    "\n",
    "# From above figure example\n",
    "def createsampletree():\n",
    "    node5 = TreeNode(5)\n",
    "    node8 = TreeNode(8)\n",
    "    node12 = TreeNode(12)\n",
    "    node20 = TreeNode(20)\n",
    "    node9 = TreeNode(9)\n",
    "    node6 = TreeNode(6)\n",
    "    node13 = TreeNode(13)\n",
    "    node10 = TreeNode(10)\n",
    "    node15 = TreeNode(15)\n",
    "    node5.left = node8 \n",
    "    node5.right = node12\n",
    "    node8.left=node20 \n",
    "    node8.right=node9 \n",
    "    node12.left=node6 \n",
    "    node12.right=node13\n",
    "    node9.left = node10\n",
    "    node6.right = node15\n",
    "    return node5"
   ]
  },
  {
   "cell_type": "markdown",
   "metadata": {},
   "source": [
    "# Implementation"
   ]
  },
  {
   "cell_type": "code",
   "execution_count": 22,
   "metadata": {},
   "outputs": [],
   "source": [
    "def isFoldable(lnode, rnode):\n",
    "    if not lnode and not rnode:\n",
    "        return True\n",
    "    if not lnode or not rnode:\n",
    "        return False\n",
    "    return isFoldable(lnode.left, rnode.right) and isFoldable(lnode.right, rnode.left)\n",
    "\n",
    "def isFoldableUtil(root):\n",
    "    if not root:\n",
    "        return True\n",
    "    return isFoldable(root.left, root.right)"
   ]
  },
  {
   "cell_type": "markdown",
   "metadata": {},
   "source": [
    "# Test"
   ]
  },
  {
   "cell_type": "code",
   "execution_count": 23,
   "metadata": {},
   "outputs": [
    {
     "data": {
      "text/plain": [
       "True"
      ]
     },
     "execution_count": 23,
     "metadata": {},
     "output_type": "execute_result"
    }
   ],
   "source": [
    "root = createsampletree()\n",
    "\n",
    "isFoldableUtil(root)\n",
    "# ans \n",
    "# True"
   ]
  },
  {
   "cell_type": "code",
   "execution_count": 24,
   "metadata": {},
   "outputs": [],
   "source": [
    "# From above figure example modified to get random tree\n",
    "def createsampletree():\n",
    "    node5 = TreeNode(5)\n",
    "    node8 = TreeNode(8)\n",
    "    node12 = TreeNode(12)\n",
    "    node20 = TreeNode(20)\n",
    "    node9 = TreeNode(9)\n",
    "    node6 = TreeNode(6)\n",
    "    node13 = TreeNode(13)\n",
    "    node10 = TreeNode(10)\n",
    "    node15 = TreeNode(15)\n",
    "    node5.left = node8 \n",
    "    node5.right = node12\n",
    "    node8.left=node20 \n",
    "    node8.right=node9 \n",
    "    node12.left=node6 \n",
    "    node12.right=node13\n",
    "    node9.left = node10\n",
    "    node6.right = node15\n",
    "    node15.left = TreeNode(100) # modified\n",
    "    return node5"
   ]
  },
  {
   "cell_type": "code",
   "execution_count": 25,
   "metadata": {},
   "outputs": [
    {
     "data": {
      "text/plain": [
       "False"
      ]
     },
     "execution_count": 25,
     "metadata": {},
     "output_type": "execute_result"
    }
   ],
   "source": [
    "root = createsampletree()\n",
    "\n",
    "isFoldableUtil(root)\n",
    "# ans \n",
    "# False"
   ]
  },
  {
   "cell_type": "code",
   "execution_count": null,
   "metadata": {},
   "outputs": [],
   "source": []
  }
 ],
 "metadata": {
  "kernelspec": {
   "display_name": "Python 3",
   "language": "python",
   "name": "python3"
  },
  "language_info": {
   "codemirror_mode": {
    "name": "ipython",
    "version": 3
   },
   "file_extension": ".py",
   "mimetype": "text/x-python",
   "name": "python",
   "nbconvert_exporter": "python",
   "pygments_lexer": "ipython3",
   "version": "3.9.0"
  }
 },
 "nbformat": 4,
 "nbformat_minor": 4
}
