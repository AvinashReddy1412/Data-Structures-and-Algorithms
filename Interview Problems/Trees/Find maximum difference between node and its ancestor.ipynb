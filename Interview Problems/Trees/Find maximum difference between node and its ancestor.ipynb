{
 "cells": [
  {
   "cell_type": "markdown",
   "metadata": {},
   "source": [
    "# Refer screenshot for explanation, algorithm and complexity"
   ]
  },
  {
   "cell_type": "markdown",
   "metadata": {},
   "source": [
    "# Tree Creation"
   ]
  },
  {
   "cell_type": "markdown",
   "metadata": {},
   "source": [
    "           25\n",
    "         /     \\\n",
    "        32     45\n",
    "       /  \\    / \\\n",
    "      3   50  2  15\n",
    "          /    \\\n",
    "         4     -5"
   ]
  },
  {
   "cell_type": "code",
   "execution_count": 17,
   "metadata": {},
   "outputs": [],
   "source": [
    "class TreeNode:\n",
    "    def __init__(self, data):\n",
    "        self.left = None\n",
    "        self.right = None\n",
    "        self.key = data\n",
    "\n",
    "# From above figure example and screenshot example\n",
    "def createsampletree():\n",
    "    node25 = TreeNode(25)\n",
    "    node32 = TreeNode(32)\n",
    "    node45 = TreeNode(45)\n",
    "    node3 = TreeNode(3)\n",
    "    node50 = TreeNode(50)\n",
    "    node2 = TreeNode(2)\n",
    "    node15 = TreeNode(15)\n",
    "    node4 = TreeNode(4)\n",
    "    node_5 = TreeNode(-5)\n",
    "    node25.left = node32\n",
    "    node25.right = node45\n",
    "    node32.left = node3\n",
    "    node32.right = node50\n",
    "    node45.left = node2\n",
    "    node45.right = node15\n",
    "    node50.left = node4\n",
    "    node2.right = node_5\n",
    "    return node25"
   ]
  },
  {
   "cell_type": "markdown",
   "metadata": {},
   "source": [
    "# Implementation"
   ]
  },
  {
   "cell_type": "code",
   "execution_count": 18,
   "metadata": {},
   "outputs": [],
   "source": [
    "def isleaf(node):\n",
    "    if not node.left and not node.right:\n",
    "        return True\n",
    "    return False\n",
    "\n",
    "def min_descendant(root, res=-10000): #minus infinity\n",
    "    if not root:\n",
    "        return res, 10000# INT_MAX\n",
    "    if isleaf(root):\n",
    "        return res, root.key\n",
    "    res, leftmin = min_descendant(root.left, res)\n",
    "    res, rightmin = min_descendant(root.right, res)\n",
    "    minchild_val = min(leftmin, rightmin)\n",
    "    res = max(res, root.key-minchild_val)\n",
    "    return res, min(root.key, minchild_val)\n",
    "    \n",
    "    "
   ]
  },
  {
   "cell_type": "markdown",
   "metadata": {},
   "source": [
    "# Test"
   ]
  },
  {
   "cell_type": "code",
   "execution_count": 20,
   "metadata": {},
   "outputs": [
    {
     "name": "stdout",
     "output_type": "stream",
     "text": [
      "50\n"
     ]
    }
   ],
   "source": [
    "root = createsampletree()\n",
    "res, _ = min_descendant(root)\n",
    "print(res)\n",
    "# ans # refer screenshot for answer explanation\n",
    "# 50"
   ]
  },
  {
   "cell_type": "code",
   "execution_count": null,
   "metadata": {},
   "outputs": [],
   "source": []
  }
 ],
 "metadata": {
  "kernelspec": {
   "display_name": "Python 3",
   "language": "python",
   "name": "python3"
  },
  "language_info": {
   "codemirror_mode": {
    "name": "ipython",
    "version": 3
   },
   "file_extension": ".py",
   "mimetype": "text/x-python",
   "name": "python",
   "nbconvert_exporter": "python",
   "pygments_lexer": "ipython3",
   "version": "3.9.0"
  }
 },
 "nbformat": 4,
 "nbformat_minor": 4
}
