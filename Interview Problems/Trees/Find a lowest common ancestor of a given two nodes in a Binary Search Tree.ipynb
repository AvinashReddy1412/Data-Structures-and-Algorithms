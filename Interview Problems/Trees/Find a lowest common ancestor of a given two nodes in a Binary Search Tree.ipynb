{
 "cells": [
  {
   "cell_type": "markdown",
   "metadata": {},
   "source": [
    "# Refer screenshot for explanation, complexity and algorithm"
   ]
  },
  {
   "cell_type": "markdown",
   "metadata": {},
   "source": [
    "# Tree Creation"
   ]
  },
  {
   "cell_type": "code",
   "execution_count": 1,
   "metadata": {},
   "outputs": [],
   "source": [
    "class TreeNode:\n",
    "    def __init__(self,data):\n",
    "        self.key = data\n",
    "        self.leftChild = None\n",
    "        self.rightChild = None\n",
    "        \n",
    "# Example from screenshot\n",
    "def createSampleTree():\n",
    "    a= TreeNode(20)\n",
    "    b = TreeNode(7)\n",
    "    c = TreeNode(21)\n",
    "    d = TreeNode(3)\n",
    "    e = TreeNode(11)\n",
    "    f = TreeNode(9)\n",
    "    g = TreeNode(13)\n",
    "    a.leftChild = b\n",
    "    a.rightChild = c\n",
    "    b.leftChild = d\n",
    "    b.rightChild = e\n",
    "    e.leftChild = f\n",
    "    e.rightChild = g\n",
    "    return a\n"
   ]
  },
  {
   "cell_type": "code",
   "execution_count": 2,
   "metadata": {},
   "outputs": [],
   "source": [
    "def iterative_LCA_BST(root, key1, key2):\n",
    "    while root:\n",
    "        if root.key > key1 and root.key > key2:\n",
    "            root = root.leftChild\n",
    "        elif root.key < key1 and root.key < key2:\n",
    "            root = root.rightChild\n",
    "        else:\n",
    "            break\n",
    "    return root"
   ]
  },
  {
   "cell_type": "code",
   "execution_count": 4,
   "metadata": {},
   "outputs": [
    {
     "name": "stdout",
     "output_type": "stream",
     "text": [
      "11\n"
     ]
    }
   ],
   "source": [
    "root = createSampleTree()\n",
    "node = iterative_LCA_BST(root, 9, 13)\n",
    "print(node.key)\n",
    "# ans \n",
    "# 11"
   ]
  },
  {
   "cell_type": "code",
   "execution_count": 5,
   "metadata": {},
   "outputs": [
    {
     "name": "stdout",
     "output_type": "stream",
     "text": [
      "7\n"
     ]
    }
   ],
   "source": [
    "root = createSampleTree()\n",
    "node = iterative_LCA_BST(root, 7, 11)\n",
    "print(node.key)\n",
    "# ans \n",
    "# 7"
   ]
  },
  {
   "cell_type": "code",
   "execution_count": null,
   "metadata": {},
   "outputs": [],
   "source": []
  }
 ],
 "metadata": {
  "kernelspec": {
   "display_name": "Python 3",
   "language": "python",
   "name": "python3"
  },
  "language_info": {
   "codemirror_mode": {
    "name": "ipython",
    "version": 3
   },
   "file_extension": ".py",
   "mimetype": "text/x-python",
   "name": "python",
   "nbconvert_exporter": "python",
   "pygments_lexer": "ipython3",
   "version": "3.9.0"
  }
 },
 "nbformat": 4,
 "nbformat_minor": 4
}
