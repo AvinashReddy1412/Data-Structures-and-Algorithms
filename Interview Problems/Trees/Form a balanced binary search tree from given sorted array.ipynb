{
 "cells": [
  {
   "cell_type": "markdown",
   "metadata": {},
   "source": [
    "# Refer screenshot for explanation, complexity and algorithm"
   ]
  },
  {
   "cell_type": "markdown",
   "metadata": {},
   "source": [
    "# Implementation"
   ]
  },
  {
   "cell_type": "code",
   "execution_count": 16,
   "metadata": {},
   "outputs": [],
   "source": [
    "class TreeNode:\n",
    "    def __init__(self, key):\n",
    "        self.key = key\n",
    "        self.left = None\n",
    "        self.right = None\n",
    "        \n",
    "def inorder(root):\n",
    "    if root:\n",
    "        inorder(root.left)\n",
    "        print(root.key)\n",
    "        inorder(root.right)\n",
    "        \n",
    "def build_BST(arr, start, end):\n",
    "    if start > end:\n",
    "        return\n",
    "    middle = (start+end)//2\n",
    "    root = TreeNode(arr[middle])\n",
    "    root.left = build_BST(arr, start, middle-1)\n",
    "    root.right = build_BST(arr, middle+1, end)\n",
    "    return root"
   ]
  },
  {
   "cell_type": "markdown",
   "metadata": {},
   "source": [
    "# Test"
   ]
  },
  {
   "cell_type": "code",
   "execution_count": 17,
   "metadata": {},
   "outputs": [
    {
     "name": "stdout",
     "output_type": "stream",
     "text": [
      "5\n",
      "10\n",
      "20\n",
      "30\n",
      "40\n",
      "50\n",
      "55\n"
     ]
    }
   ],
   "source": [
    "arr = [5,10,20,30,40,50,55]\n",
    "root = build_BST(arr, 0, 6)\n",
    "inorder(root)\n",
    "# Inorder traversal of bst should print elements in ascending order"
   ]
  },
  {
   "cell_type": "markdown",
   "metadata": {},
   "source": [
    "          30\n",
    "         /  \\\n",
    "        10   50\n",
    "       / \\   / \\ \n",
    "      5  20 40 55 \n",
    "     "
   ]
  },
  {
   "cell_type": "code",
   "execution_count": 18,
   "metadata": {},
   "outputs": [
    {
     "name": "stdout",
     "output_type": "stream",
     "text": [
      "30\n",
      "10\n",
      "50\n",
      "5\n",
      "20\n",
      "40\n",
      "55\n"
     ]
    }
   ],
   "source": [
    "print(root.key)\n",
    "print(root.left.key)\n",
    "print(root.right.key)\n",
    "print(root.left.left.key)\n",
    "print(root.left.right.key)\n",
    "print(root.right.left.key)\n",
    "print(root.right.right.key)"
   ]
  },
  {
   "cell_type": "code",
   "execution_count": 19,
   "metadata": {},
   "outputs": [
    {
     "name": "stdout",
     "output_type": "stream",
     "text": [
      "5\n",
      "10\n",
      "20\n",
      "30\n",
      "40\n",
      "50\n"
     ]
    }
   ],
   "source": [
    "arr = [5,10,20,30,40,50]\n",
    "root = build_BST(arr, 0, 5)\n",
    "inorder(root)\n",
    "# Inorder traversal of bst should print elements in ascending order"
   ]
  },
  {
   "cell_type": "markdown",
   "metadata": {},
   "source": [
    "          20\n",
    "         /  \\\n",
    "        5    40\n",
    "         \\   / \\ \n",
    "         10 30 50 \n",
    "     "
   ]
  },
  {
   "cell_type": "code",
   "execution_count": 20,
   "metadata": {},
   "outputs": [
    {
     "name": "stdout",
     "output_type": "stream",
     "text": [
      "20\n",
      "5\n",
      "40\n",
      "10\n",
      "30\n",
      "50\n"
     ]
    }
   ],
   "source": [
    "print(root.key)\n",
    "print(root.left.key)\n",
    "print(root.right.key)\n",
    "print(root.left.right.key)\n",
    "print(root.right.left.key)\n",
    "print(root.right.right.key)"
   ]
  },
  {
   "cell_type": "code",
   "execution_count": null,
   "metadata": {},
   "outputs": [],
   "source": []
  },
  {
   "cell_type": "code",
   "execution_count": null,
   "metadata": {},
   "outputs": [],
   "source": []
  }
 ],
 "metadata": {
  "kernelspec": {
   "display_name": "Python 3",
   "language": "python",
   "name": "python3"
  },
  "language_info": {
   "codemirror_mode": {
    "name": "ipython",
    "version": 3
   },
   "file_extension": ".py",
   "mimetype": "text/x-python",
   "name": "python",
   "nbconvert_exporter": "python",
   "pygments_lexer": "ipython3",
   "version": "3.9.0"
  }
 },
 "nbformat": 4,
 "nbformat_minor": 4
}
