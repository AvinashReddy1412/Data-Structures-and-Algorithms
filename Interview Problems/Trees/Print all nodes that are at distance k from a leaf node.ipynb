{
 "cells": [
  {
   "cell_type": "markdown",
   "metadata": {},
   "source": [
    "# Refer screenshot for explanation, algorithm and complexity"
   ]
  },
  {
   "cell_type": "markdown",
   "metadata": {},
   "source": [
    "# Tree Creation"
   ]
  },
  {
   "cell_type": "markdown",
   "metadata": {},
   "source": [
    "          1\n",
    "         / \\\n",
    "        2   3\n",
    "       / \\     \n",
    "      4   5   \n",
    "     "
   ]
  },
  {
   "cell_type": "code",
   "execution_count": 27,
   "metadata": {},
   "outputs": [],
   "source": [
    "class TreeNode:\n",
    "    def __init__(self, data):\n",
    "        self.left = None\n",
    "        self.right = None\n",
    "        self.key = data\n",
    "\n",
    "# From above figure example\n",
    "def createsampletree():\n",
    "    node1 = TreeNode(1)\n",
    "    node2 = TreeNode(2)\n",
    "    node3 = TreeNode(3)\n",
    "    node4 = TreeNode(4)\n",
    "    node5 = TreeNode(5)\n",
    "    node1.left = node2\n",
    "    node1.right = node3\n",
    "    node2.left = node4\n",
    "    node2.right = node5\n",
    "    return node1"
   ]
  },
  {
   "cell_type": "markdown",
   "metadata": {},
   "source": [
    "# Implementation"
   ]
  },
  {
   "cell_type": "code",
   "execution_count": 28,
   "metadata": {},
   "outputs": [],
   "source": [
    "def isleaf(node):\n",
    "    if not node.left and not node.right:\n",
    "        return True\n",
    "    return False\n",
    "\n",
    "# instead of tot_path_len we can use len(path) dynamicaaly as in print out all root to leaf of a BT. But length\n",
    "# computation takes time. so tried this approach\n",
    "def distance_k_from_leaf(root, path, visited, tot_path_len, curr_path_len, k):\n",
    "    if not root:\n",
    "        return tot_path_len\n",
    "    if tot_path_len <= curr_path_len: # len(path) <= curr_path_len\n",
    "        path.append(root)\n",
    "        visited.append(False)\n",
    "        tot_path_len +=1 # increment only when appending , when replacing no need to increment . \n",
    "    else:\n",
    "        path[curr_path_len] = root\n",
    "        visited[curr_path_len] = False # replacing here so not incrementing\n",
    "    if isleaf(root) and curr_path_len-k >= 0 and not visited[curr_path_len-k]:\n",
    "        print(path[curr_path_len - k].key)\n",
    "        visited[curr_path_len - k] = True\n",
    "    tot_path_len = distance_k_from_leaf(root.left, path, visited, tot_path_len, curr_path_len+1, k)\n",
    "    tot_path_len = distance_k_from_leaf(root.right, path, visited, tot_path_len, curr_path_len+1, k)\n",
    "    return tot_path_len\n",
    "    \n",
    "        \n",
    "    \n",
    "    "
   ]
  },
  {
   "cell_type": "markdown",
   "metadata": {},
   "source": [
    "# Test"
   ]
  },
  {
   "cell_type": "code",
   "execution_count": 29,
   "metadata": {},
   "outputs": [
    {
     "name": "stdout",
     "output_type": "stream",
     "text": [
      "2\n",
      "1\n"
     ]
    }
   ],
   "source": [
    "root = createsampletree()\n",
    "cap_hid = distance_k_from_leaf(root, [], [], 0, 0, 1)\n",
    "# ans\n",
    "# 2, 1"
   ]
  },
  {
   "cell_type": "code",
   "execution_count": 30,
   "metadata": {},
   "outputs": [
    {
     "name": "stdout",
     "output_type": "stream",
     "text": [
      "1\n"
     ]
    }
   ],
   "source": [
    "root = createsampletree()\n",
    "cap_hid = distance_k_from_leaf(root, [], [], 0, 0, 2)\n",
    "# ans\n",
    "# 1"
   ]
  },
  {
   "cell_type": "markdown",
   "metadata": {},
   "source": [
    "          1\n",
    "         / \\\n",
    "        2   3\n",
    "       / \\     \n",
    "      4   5   \n",
    "     / \\\n",
    "    8  10"
   ]
  },
  {
   "cell_type": "code",
   "execution_count": 31,
   "metadata": {},
   "outputs": [],
   "source": [
    "# From above figure example\n",
    "def createsampletree():\n",
    "    node1 = TreeNode(1)\n",
    "    node2 = TreeNode(2)\n",
    "    node3 = TreeNode(3)\n",
    "    node4 = TreeNode(4)\n",
    "    node5 = TreeNode(5)\n",
    "    node8 = TreeNode(8)\n",
    "    node10 = TreeNode(10)\n",
    "    node1.left = node2\n",
    "    node1.right = node3\n",
    "    node2.left = node4\n",
    "    node2.right = node5\n",
    "    node4.left = node8\n",
    "    node4.right = node10\n",
    "    return node1"
   ]
  },
  {
   "cell_type": "code",
   "execution_count": 32,
   "metadata": {},
   "outputs": [
    {
     "name": "stdout",
     "output_type": "stream",
     "text": [
      "2\n",
      "1\n"
     ]
    }
   ],
   "source": [
    "root = createsampletree()\n",
    "cap_hid = distance_k_from_leaf(root, [], [], 0, 0, 2)\n",
    "# ans\n",
    "# 2, 1"
   ]
  },
  {
   "cell_type": "code",
   "execution_count": 33,
   "metadata": {},
   "outputs": [
    {
     "name": "stdout",
     "output_type": "stream",
     "text": [
      "4\n",
      "2\n",
      "1\n"
     ]
    }
   ],
   "source": [
    "root = createsampletree()\n",
    "cap_hid = distance_k_from_leaf(root, [], [], 0, 0, 1)\n",
    "# ans\n",
    "# 4, 2, 1"
   ]
  },
  {
   "cell_type": "markdown",
   "metadata": {},
   "source": [
    "          1\n",
    "         / \\\n",
    "        2   3\n",
    "         \\     \n",
    "          5   "
   ]
  },
  {
   "cell_type": "code",
   "execution_count": 34,
   "metadata": {},
   "outputs": [],
   "source": [
    "# From above figure example\n",
    "def createsampletree():\n",
    "    node1 = TreeNode(1)\n",
    "    node2 = TreeNode(2)\n",
    "    node3 = TreeNode(3)\n",
    "    node5 = TreeNode(5)\n",
    "    node1.left = node2\n",
    "    node1.right = node3\n",
    "    node2.right = node5\n",
    "    return node1"
   ]
  },
  {
   "cell_type": "code",
   "execution_count": 35,
   "metadata": {},
   "outputs": [
    {
     "name": "stdout",
     "output_type": "stream",
     "text": [
      "1\n"
     ]
    }
   ],
   "source": [
    "root = createsampletree()\n",
    "cap_hid = distance_k_from_leaf(root, [], [], 0, 0, 2)\n",
    "# ans\n",
    "# 1"
   ]
  },
  {
   "cell_type": "code",
   "execution_count": 36,
   "metadata": {},
   "outputs": [],
   "source": [
    "root = createsampletree()\n",
    "cap_hid = distance_k_from_leaf(root, [], [], 0, 0, 3)\n",
    "# ans\n",
    "# None"
   ]
  },
  {
   "cell_type": "code",
   "execution_count": null,
   "metadata": {},
   "outputs": [],
   "source": []
  }
 ],
 "metadata": {
  "kernelspec": {
   "display_name": "Python 3",
   "language": "python",
   "name": "python3"
  },
  "language_info": {
   "codemirror_mode": {
    "name": "ipython",
    "version": 3
   },
   "file_extension": ".py",
   "mimetype": "text/x-python",
   "name": "python",
   "nbconvert_exporter": "python",
   "pygments_lexer": "ipython3",
   "version": "3.9.0"
  }
 },
 "nbformat": 4,
 "nbformat_minor": 4
}
