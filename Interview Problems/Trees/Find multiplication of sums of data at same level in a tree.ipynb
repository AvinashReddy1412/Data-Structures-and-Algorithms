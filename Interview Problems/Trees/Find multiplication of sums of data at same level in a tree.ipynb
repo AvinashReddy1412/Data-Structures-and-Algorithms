{
 "cells": [
  {
   "cell_type": "markdown",
   "metadata": {},
   "source": [
    "# Understanding the problem statement"
   ]
  },
  {
   "cell_type": "markdown",
   "metadata": {},
   "source": [
    "Level Order Traversal is traversing the tree level wise i.e all nodes at level 1 are visited first, the nodes at level\n",
    "2 and so on .\n",
    "\n",
    "Refer screenshot for clear explanation with example, Time Complexity and algorithm"
   ]
  },
  {
   "cell_type": "markdown",
   "metadata": {},
   "source": [
    "# Queue Implementation"
   ]
  },
  {
   "cell_type": "code",
   "execution_count": 37,
   "metadata": {},
   "outputs": [],
   "source": [
    "class Queue:\n",
    "    def __init__(self,maxsize):\n",
    "        self.queue = [0]*maxsize\n",
    "        self.front = 0\n",
    "        self.rear = 0\n",
    "        self.maxsize = maxsize\n",
    "    \n",
    "    def enqueue(self,item):\n",
    "        self.rear = (self.rear+1)%self.maxsize\n",
    "        if (self.front == self.rear):\n",
    "            print(\"Overflow\")\n",
    "            if self.rear == 0:\n",
    "                self.rear = self.maxsize - 1\n",
    "            else:\n",
    "                self.rear = self.rear - 1\n",
    "            return\n",
    "        else:\n",
    "            self.queue[self.rear] = item\n",
    "            return\n",
    "    \n",
    "    def dequeue(self):\n",
    "        if (self.front == self.rear):\n",
    "            print(\"Underflow\")\n",
    "            return -1\n",
    "        else:\n",
    "            self.front = (self.front+1)%self.maxsize\n",
    "            item = self.queue[self.front]\n",
    "            return item\n",
    "\n",
    "    def display(self):\n",
    "        print(self.queue)\n",
    "        \n",
    "    def isempty(self):\n",
    "        if self.front == self.rear:\n",
    "            return True\n",
    "        return False\n",
    "    \n",
    "    def size(self):\n",
    "        return self.rear - self.front\n",
    "    \n",
    "    def get_front(self):\n",
    "        self.queue[(self.front+1)%self.maxsize]\n",
    "        "
   ]
  },
  {
   "cell_type": "markdown",
   "metadata": {},
   "source": [
    "# Tree Creation"
   ]
  },
  {
   "cell_type": "markdown",
   "metadata": {},
   "source": [
    "                2              ---  2\n",
    "              /   \\\n",
    "             3     4           ---  7\n",
    "            / \\   / \\ \n",
    "           5   6  1  5         ---  17 "
   ]
  },
  {
   "cell_type": "code",
   "execution_count": 38,
   "metadata": {},
   "outputs": [],
   "source": [
    "class TreeNode:\n",
    "    def __init__(self,data):\n",
    "        self.key = data\n",
    "        self.leftChild = None\n",
    "        self.rightChild = None\n",
    " \n",
    "#from screenshot example\n",
    "def createSampleTree():\n",
    "    a= TreeNode(2)\n",
    "    b = TreeNode(3)\n",
    "    c = TreeNode(4)\n",
    "    d = TreeNode(5)\n",
    "    e = TreeNode(6)\n",
    "    f = TreeNode(1)\n",
    "    g = TreeNode(5)\n",
    "    a.leftChild = b\n",
    "    a.rightChild = c\n",
    "    b.leftChild = d\n",
    "    b.rightChild = e\n",
    "    c.leftChild = f\n",
    "    c.rightChild = g\n",
    "    return a\n"
   ]
  },
  {
   "cell_type": "markdown",
   "metadata": {},
   "source": [
    "# Implementation"
   ]
  },
  {
   "cell_type": "code",
   "execution_count": 39,
   "metadata": {},
   "outputs": [],
   "source": [
    "def get_product_of_sums_Level(root):\n",
    "    if not root:\n",
    "        return\n",
    "    prod = 1\n",
    "    q = Queue(20)\n",
    "    q.enqueue(root)\n",
    "    eval_str = ''\n",
    "    while(not q.isempty()):\n",
    "        nodelen = q.size()\n",
    "        n = nodelen\n",
    "        levelsum = 0\n",
    "        while(n):\n",
    "            curr_node = q.dequeue()\n",
    "            levelsum = levelsum + curr_node.key\n",
    "            if curr_node.leftChild:\n",
    "                q.enqueue(curr_node.leftChild)\n",
    "            if curr_node.rightChild:\n",
    "                q.enqueue(curr_node.rightChild)\n",
    "            n -=1\n",
    "        prod = prod*levelsum\n",
    "        eval_str = eval_str +'*'+str(levelsum)\n",
    "#     print(eval_str)\n",
    "    return prod"
   ]
  },
  {
   "cell_type": "code",
   "execution_count": 40,
   "metadata": {},
   "outputs": [
    {
     "data": {
      "text/plain": [
       "238"
      ]
     },
     "execution_count": 40,
     "metadata": {},
     "output_type": "execute_result"
    }
   ],
   "source": [
    "root = createSampleTree()\n",
    "get_product_of_sums_Level(root)\n",
    "# ans\n",
    "# from screenshot example\n",
    "# 2 * 7 * 17 = 238"
   ]
  },
  {
   "cell_type": "markdown",
   "metadata": {},
   "source": [
    "               10         ---- 10\n",
    "              /  \\\n",
    "             30  20       ---- 50\n",
    "            /    /\n",
    "           50   40        ---- 90"
   ]
  },
  {
   "cell_type": "code",
   "execution_count": 41,
   "metadata": {},
   "outputs": [],
   "source": [
    "class TreeNode:\n",
    "    def __init__(self,data):\n",
    "        self.key = data\n",
    "        self.leftChild = None\n",
    "        self.rightChild = None\n",
    "        \n",
    "def createSampleTree(): \n",
    "    a= TreeNode(10)\n",
    "    b = TreeNode(30)\n",
    "    c = TreeNode(50)\n",
    "    d = TreeNode(20)\n",
    "    e = TreeNode(40)\n",
    "    a.leftChild = b\n",
    "    b.leftChild = c\n",
    "    a.rightChild = d\n",
    "    d.leftChild = e\n",
    "    return a"
   ]
  },
  {
   "cell_type": "code",
   "execution_count": 42,
   "metadata": {},
   "outputs": [
    {
     "data": {
      "text/plain": [
       "45000"
      ]
     },
     "execution_count": 42,
     "metadata": {},
     "output_type": "execute_result"
    }
   ],
   "source": [
    "root = createSampleTree()\n",
    "get_product_of_sums_Level(root)\n",
    "# ans\n",
    "# 10 * 50 * 90 = 45000"
   ]
  },
  {
   "cell_type": "code",
   "execution_count": null,
   "metadata": {},
   "outputs": [],
   "source": []
  }
 ],
 "metadata": {
  "kernelspec": {
   "display_name": "Python 3",
   "language": "python",
   "name": "python3"
  },
  "language_info": {
   "codemirror_mode": {
    "name": "ipython",
    "version": 3
   },
   "file_extension": ".py",
   "mimetype": "text/x-python",
   "name": "python",
   "nbconvert_exporter": "python",
   "pygments_lexer": "ipython3",
   "version": "3.9.0"
  }
 },
 "nbformat": 4,
 "nbformat_minor": 4
}
