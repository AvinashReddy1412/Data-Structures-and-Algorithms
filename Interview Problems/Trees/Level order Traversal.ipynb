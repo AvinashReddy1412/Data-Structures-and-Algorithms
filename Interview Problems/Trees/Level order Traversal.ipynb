{
 "cells": [
  {
   "cell_type": "markdown",
   "metadata": {},
   "source": [
    "# Understanding the problem statement"
   ]
  },
  {
   "cell_type": "markdown",
   "metadata": {},
   "source": [
    "Level Order Traversal is traversing the tree level wise i.e all nodes at level 1 are visited first, the nodes at level\n",
    "2 and so on .\n",
    "\n",
    "Refer screenshot for clear explanation with example, Time Complexity and algorithm"
   ]
  },
  {
   "cell_type": "markdown",
   "metadata": {},
   "source": [
    "# Queue Implementation"
   ]
  },
  {
   "cell_type": "code",
   "execution_count": 5,
   "metadata": {},
   "outputs": [],
   "source": [
    "class Queue:\n",
    "    def __init__(self,maxsize):\n",
    "        self.queue = [0]*maxsize\n",
    "        self.front = 0\n",
    "        self.rear = 0\n",
    "        self.maxsize = maxsize\n",
    "    \n",
    "    def enqueue(self,item):\n",
    "        self.rear = (self.rear+1)%self.maxsize\n",
    "        if (self.front == self.rear):\n",
    "            print(\"Overflow\")\n",
    "            if self.rear == 0:\n",
    "                self.rear = self.maxsize - 1\n",
    "            else:\n",
    "                self.rear = self.rear - 1\n",
    "            return\n",
    "        else:\n",
    "            self.queue[self.rear] = item\n",
    "            return\n",
    "    \n",
    "    def dequeue(self):\n",
    "        if (self.front == self.rear):\n",
    "            print(\"Underflow\")\n",
    "            return -1\n",
    "        else:\n",
    "            self.front = (self.front+1)%self.maxsize\n",
    "            item = self.queue[self.front]\n",
    "            return item\n",
    "\n",
    "    def display(self):\n",
    "        print(self.queue)\n",
    "        \n",
    "    def isempty(self):\n",
    "        if self.front == self.rear:\n",
    "            return True\n",
    "        return False"
   ]
  },
  {
   "cell_type": "markdown",
   "metadata": {},
   "source": [
    "# Tree Creation"
   ]
  },
  {
   "cell_type": "code",
   "execution_count": 6,
   "metadata": {},
   "outputs": [],
   "source": [
    "class TreeNode:\n",
    "    def __init__(self,data):\n",
    "        self.key = data\n",
    "        self.leftChild = None\n",
    "        self.rightChild = None\n",
    "        \n",
    "def createSampleTree():\n",
    "    a= TreeNode('a')\n",
    "    b = TreeNode('b')\n",
    "    c = TreeNode('c')\n",
    "    d = TreeNode('d')\n",
    "    e = TreeNode('e')\n",
    "    f = TreeNode('f')\n",
    "    g = TreeNode('g')\n",
    "    a.leftChild = b\n",
    "    a.rightChild = c\n",
    "    b.leftChild = d\n",
    "    b.rightChild = e\n",
    "    c.leftChild = f\n",
    "    c.rightChild = g\n",
    "    return a\n"
   ]
  },
  {
   "cell_type": "markdown",
   "metadata": {},
   "source": [
    "# Implementation"
   ]
  },
  {
   "cell_type": "code",
   "execution_count": 7,
   "metadata": {},
   "outputs": [],
   "source": [
    "def level_order_traversal(root):\n",
    "    if root:\n",
    "        q = Queue(20)\n",
    "        q.enqueue(root)\n",
    "        while(not q.isempty()):\n",
    "            curr_node = q.dequeue()\n",
    "            print(curr_node.key,end=\" \")\n",
    "            if curr_node.leftChild:\n",
    "                q.enqueue(curr_node.leftChild)\n",
    "            if curr_node.rightChild:\n",
    "                q.enqueue(curr_node.rightChild)\n",
    "                "
   ]
  },
  {
   "cell_type": "code",
   "execution_count": 8,
   "metadata": {},
   "outputs": [
    {
     "name": "stdout",
     "output_type": "stream",
     "text": [
      "a b c d e f g "
     ]
    }
   ],
   "source": [
    "root = createSampleTree()\n",
    "level_order_traversal(root)\n",
    "# ans\n",
    "# a b c d e f g"
   ]
  },
  {
   "cell_type": "code",
   "execution_count": 9,
   "metadata": {},
   "outputs": [],
   "source": [
    "def createSampleTree(): \n",
    "    a= TreeNode(10)\n",
    "    b = TreeNode(30)\n",
    "    c = TreeNode(50)\n",
    "    d = TreeNode(20)\n",
    "    e = TreeNode(40)\n",
    "    a.leftChild = b\n",
    "    b.leftChild = c\n",
    "    a.rightChild = d\n",
    "    d.leftChild = e\n",
    "    return a"
   ]
  },
  {
   "cell_type": "code",
   "execution_count": 10,
   "metadata": {},
   "outputs": [
    {
     "name": "stdout",
     "output_type": "stream",
     "text": [
      "10 30 20 50 40 "
     ]
    }
   ],
   "source": [
    "root = createSampleTree()\n",
    "level_order_traversal(root)\n",
    "# ans\n",
    "# 10 30 20 50 40"
   ]
  },
  {
   "cell_type": "code",
   "execution_count": null,
   "metadata": {},
   "outputs": [],
   "source": []
  }
 ],
 "metadata": {
  "kernelspec": {
   "display_name": "Python 3",
   "language": "python",
   "name": "python3"
  },
  "language_info": {
   "codemirror_mode": {
    "name": "ipython",
    "version": 3
   },
   "file_extension": ".py",
   "mimetype": "text/x-python",
   "name": "python",
   "nbconvert_exporter": "python",
   "pygments_lexer": "ipython3",
   "version": "3.9.0"
  }
 },
 "nbformat": 4,
 "nbformat_minor": 4
}
