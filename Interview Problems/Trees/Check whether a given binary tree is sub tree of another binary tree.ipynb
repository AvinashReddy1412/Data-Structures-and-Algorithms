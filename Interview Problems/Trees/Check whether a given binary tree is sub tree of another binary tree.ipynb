{
 "cells": [
  {
   "cell_type": "markdown",
   "metadata": {},
   "source": [
    "# Refer screenshot for algorithm, complexity and implementation"
   ]
  },
  {
   "cell_type": "markdown",
   "metadata": {},
   "source": [
    "# Tree Creation"
   ]
  },
  {
   "cell_type": "code",
   "execution_count": 1,
   "metadata": {},
   "outputs": [],
   "source": [
    "class TreeNode:\n",
    "    def __init__(self,data):\n",
    "        self.key = data\n",
    "        self.leftChild = None\n",
    "        self.rightChild = None\n",
    "        \n",
    "def createSampleTree():\n",
    "    a= TreeNode('a')\n",
    "    b = TreeNode('b')\n",
    "    c = TreeNode('c')\n",
    "    d = TreeNode('d')\n",
    "    e = TreeNode('e')\n",
    "    f = TreeNode('f')\n",
    "    g = TreeNode('g')\n",
    "    a.leftChild = b\n",
    "    a.rightChild = c\n",
    "    b.leftChild = d\n",
    "    b.rightChild = e\n",
    "    c.leftChild = f\n",
    "    c.rightChild = g\n",
    "    return a"
   ]
  },
  {
   "cell_type": "markdown",
   "metadata": {},
   "source": [
    "# Implementation"
   ]
  },
  {
   "cell_type": "code",
   "execution_count": 2,
   "metadata": {},
   "outputs": [],
   "source": [
    "def check_identical(root1, root2):\n",
    "    if not root1 and not root2:\n",
    "        return True\n",
    "    if root1 and root2 :\n",
    "        return ((root1.key==root2.key) and check_identical(root1.leftChild,root2.leftChild)  \n",
    "                        and check_identical(root1.rightChild,root2.rightChild))\n",
    "    else:\n",
    "        return False\n",
    "    \n",
    "def subtree(t1, t2):\n",
    "    if not t2:\n",
    "        return True\n",
    "    if not t1:\n",
    "        return False\n",
    "    if check_identical(t1,t2):\n",
    "        return True\n",
    "    return subtree(t1.leftChild, t2) or subtree(t1.rightChild, t2)"
   ]
  },
  {
   "cell_type": "markdown",
   "metadata": {},
   "source": [
    "# Test"
   ]
  },
  {
   "cell_type": "code",
   "execution_count": 13,
   "metadata": {},
   "outputs": [
    {
     "data": {
      "text/plain": [
       "True"
      ]
     },
     "execution_count": 13,
     "metadata": {},
     "output_type": "execute_result"
    }
   ],
   "source": [
    "t1 = createSampleTree()\n",
    "t2 = createSampleTree()\n",
    "subtree(t1, t2)\n",
    "# ans\n",
    "# True"
   ]
  },
  {
   "cell_type": "code",
   "execution_count": 14,
   "metadata": {},
   "outputs": [
    {
     "data": {
      "text/plain": [
       "False"
      ]
     },
     "execution_count": 14,
     "metadata": {},
     "output_type": "execute_result"
    }
   ],
   "source": [
    "t1 = createSampleTree()\n",
    "t2 = createSampleTree()\n",
    "t2.leftChild.leftChild = TreeNode('x')\n",
    "subtree(t1, t2)\n",
    "# ans\n",
    "# False"
   ]
  },
  {
   "cell_type": "code",
   "execution_count": 15,
   "metadata": {},
   "outputs": [],
   "source": [
    "# t2 = createSampleTree()\n",
    "# t2.leftChild.key"
   ]
  },
  {
   "cell_type": "code",
   "execution_count": 16,
   "metadata": {},
   "outputs": [],
   "source": [
    "# t2.leftChild.leftChild.key"
   ]
  },
  {
   "cell_type": "code",
   "execution_count": 17,
   "metadata": {},
   "outputs": [],
   "source": [
    "# t2.leftChild.leftChild = TreeNode('x')"
   ]
  },
  {
   "cell_type": "code",
   "execution_count": null,
   "metadata": {},
   "outputs": [],
   "source": []
  }
 ],
 "metadata": {
  "kernelspec": {
   "display_name": "Python 3",
   "language": "python",
   "name": "python3"
  },
  "language_info": {
   "codemirror_mode": {
    "name": "ipython",
    "version": 3
   },
   "file_extension": ".py",
   "mimetype": "text/x-python",
   "name": "python",
   "nbconvert_exporter": "python",
   "pygments_lexer": "ipython3",
   "version": "3.9.0"
  }
 },
 "nbformat": 4,
 "nbformat_minor": 4
}
