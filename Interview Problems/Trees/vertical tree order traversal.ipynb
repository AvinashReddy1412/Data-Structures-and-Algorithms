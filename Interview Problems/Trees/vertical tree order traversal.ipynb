{
 "cells": [
  {
   "cell_type": "markdown",
   "metadata": {},
   "source": [
    "# Refer screenshot for definition of vertical tree order traversal, all the three approaches and their complexities and implementation\n",
    "Let us implement the first approach which is given by RRR. RRR gave only first approach in file as well."
   ]
  },
  {
   "cell_type": "markdown",
   "metadata": {},
   "source": [
    "# Tree Creation"
   ]
  },
  {
   "cell_type": "markdown",
   "metadata": {},
   "source": [
    "          1\n",
    "         / \\\n",
    "        2   3\n",
    "       / \\     \n",
    "      4   5   \n",
    "     "
   ]
  },
  {
   "cell_type": "code",
   "execution_count": 17,
   "metadata": {},
   "outputs": [],
   "source": [
    "class TreeNode:\n",
    "    def __init__(self, data):\n",
    "        self.left = None\n",
    "        self.right = None\n",
    "        self.key = data\n",
    "\n",
    "# From above figure example\n",
    "def createsampletree():\n",
    "    node1 = TreeNode(1)\n",
    "    node2 = TreeNode(2)\n",
    "    node3 = TreeNode(3)\n",
    "    node4 = TreeNode(4)\n",
    "    node5 = TreeNode(5)\n",
    "    node1.left = node2\n",
    "    node1.right = node3\n",
    "    node2.left = node4\n",
    "    node2.right = node5\n",
    "    return node1"
   ]
  },
  {
   "cell_type": "markdown",
   "metadata": {},
   "source": [
    "# Implementation"
   ]
  },
  {
   "cell_type": "code",
   "execution_count": 18,
   "metadata": {},
   "outputs": [],
   "source": [
    "def findminmax(root,hd,min_hd,max_hd):\n",
    "    if not root:\n",
    "        return min_hd,max_hd\n",
    "    if hd < min_hd:\n",
    "        min_hd = hd\n",
    "    elif hd > max_hd:\n",
    "        max_hd = hd\n",
    "    min_hd, max_hd = findminmax(root.left, hd-1, min_hd, max_hd)\n",
    "    min_hd, max_hd = findminmax(root.right, hd+1, min_hd, max_hd)\n",
    "    return min_hd, max_hd\n",
    "\n",
    "def printVerticalNode(root, hd, k):\n",
    "    if not root:\n",
    "        return\n",
    "    if hd == k:\n",
    "        print(root.key)\n",
    "    printVerticalNode(root.left, hd-1, k)\n",
    "    printVerticalNode(root.right, hd+1, k)\n",
    "\n",
    "def printVertical(root):\n",
    "    if not root:\n",
    "        return\n",
    "    min_hd, max_hd = findminmax(root, 0, 0, 0)\n",
    "    for i in range(min_hd, max_hd+1):\n",
    "        printVerticalNode(root, 0, i)"
   ]
  },
  {
   "cell_type": "markdown",
   "metadata": {},
   "source": [
    "# Test"
   ]
  },
  {
   "cell_type": "code",
   "execution_count": 19,
   "metadata": {},
   "outputs": [
    {
     "name": "stdout",
     "output_type": "stream",
     "text": [
      "4\n",
      "2\n",
      "1\n",
      "5\n",
      "3\n"
     ]
    }
   ],
   "source": [
    "root = createsampletree()\n",
    "printVertical(root)\n",
    "# ans\n",
    "# 4 2 1 5 3"
   ]
  },
  {
   "cell_type": "markdown",
   "metadata": {},
   "source": [
    "          1\n",
    "         / \\\n",
    "        2   3\n",
    "       / \\     \n",
    "      4   5   \n",
    "     / \\\n",
    "    8  10"
   ]
  },
  {
   "cell_type": "code",
   "execution_count": 20,
   "metadata": {},
   "outputs": [],
   "source": [
    "# From above figure example\n",
    "def createsampletree():\n",
    "    node1 = TreeNode(1)\n",
    "    node2 = TreeNode(2)\n",
    "    node3 = TreeNode(3)\n",
    "    node4 = TreeNode(4)\n",
    "    node5 = TreeNode(5)\n",
    "    node8 = TreeNode(8)\n",
    "    node10 = TreeNode(10)\n",
    "    node1.left = node2\n",
    "    node1.right = node3\n",
    "    node2.left = node4\n",
    "    node2.right = node5\n",
    "    node4.left = node8\n",
    "    node4.right = node10\n",
    "    return node1"
   ]
  },
  {
   "cell_type": "code",
   "execution_count": 21,
   "metadata": {},
   "outputs": [
    {
     "name": "stdout",
     "output_type": "stream",
     "text": [
      "8\n",
      "4\n",
      "2\n",
      "10\n",
      "1\n",
      "5\n",
      "3\n"
     ]
    }
   ],
   "source": [
    "root = createsampletree()\n",
    "printVertical(root)\n",
    "# ans\n",
    "# 8 4 2 10 1 5 3"
   ]
  },
  {
   "cell_type": "code",
   "execution_count": null,
   "metadata": {},
   "outputs": [],
   "source": []
  }
 ],
 "metadata": {
  "kernelspec": {
   "display_name": "Python 3",
   "language": "python",
   "name": "python3"
  },
  "language_info": {
   "codemirror_mode": {
    "name": "ipython",
    "version": 3
   },
   "file_extension": ".py",
   "mimetype": "text/x-python",
   "name": "python",
   "nbconvert_exporter": "python",
   "pygments_lexer": "ipython3",
   "version": "3.9.0"
  }
 },
 "nbformat": 4,
 "nbformat_minor": 4
}
