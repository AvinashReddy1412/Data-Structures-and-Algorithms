{
 "cells": [
  {
   "cell_type": "markdown",
   "metadata": {},
   "source": [
    "# Refer screenshot for clear explanation, complexities and algorithm"
   ]
  },
  {
   "cell_type": "markdown",
   "metadata": {},
   "source": [
    "# Tree Creation"
   ]
  },
  {
   "cell_type": "code",
   "execution_count": 4,
   "metadata": {},
   "outputs": [],
   "source": [
    "class TreeNode:\n",
    "    def __init__(self, data):\n",
    "        self.left = None\n",
    "        self.right = None\n",
    "        self.key = data\n",
    "\n",
    "# From screenshot example\n",
    "def createsampletree():\n",
    "    node4 = TreeNode(4)\n",
    "    node2 = TreeNode(2)\n",
    "    node1 = TreeNode(1)\n",
    "    node3 = TreeNode(3)\n",
    "    node7 = TreeNode(7)\n",
    "    node6 = TreeNode(6)\n",
    "    node8 = TreeNode(8)\n",
    "    node4.left = node2\n",
    "    node4.right = node7\n",
    "    node2.left = node1\n",
    "    node2.right = node3\n",
    "    node7.left = node6\n",
    "    node7.right = node8\n",
    "    return node4"
   ]
  },
  {
   "cell_type": "code",
   "execution_count": 5,
   "metadata": {},
   "outputs": [],
   "source": [
    "def convertBTtoDLL(root):\n",
    "    if root.left:\n",
    "        ldll = convertBTtoDLL(root.left)\n",
    "        while(ldll.right):\n",
    "            ldll = ldll.right\n",
    "        root.left = ldll\n",
    "        ldll.right = root\n",
    "    if root.right:\n",
    "        rdll = convertBTtoDLL(root.right)\n",
    "        while(rdll.left):\n",
    "            rdll = rdll.left\n",
    "        root.right = rdll\n",
    "        rdll.left = root\n",
    "    return root"
   ]
  },
  {
   "cell_type": "markdown",
   "metadata": {},
   "source": [
    "# Test"
   ]
  },
  {
   "cell_type": "code",
   "execution_count": 10,
   "metadata": {},
   "outputs": [
    {
     "name": "stdout",
     "output_type": "stream",
     "text": [
      "6\n",
      "4\n"
     ]
    }
   ],
   "source": [
    "root = createsampletree()\n",
    "dll = convertBTtoDLL(root)\n",
    "# Inorder traversal result\n",
    "# 1 2 3 4 6 7 8\n",
    "# check dll\n",
    "second_node = dll.right\n",
    "print(second_node.key)\n",
    "# ans\n",
    "# 2\n",
    "# checking reverse moving because in DLL we can traverse backwards\n",
    "first_node = second_node.left\n",
    "print(first_node.key)\n",
    "# ans \n",
    "# 1"
   ]
  },
  {
   "cell_type": "raw",
   "metadata": {},
   "source": [
    "we got 6 and 4, but remember we are getting root pointer, we again have to go to beginning/ head to test above scenario.\n",
    "so test as below"
   ]
  },
  {
   "cell_type": "code",
   "execution_count": 11,
   "metadata": {},
   "outputs": [
    {
     "name": "stdout",
     "output_type": "stream",
     "text": [
      "2\n",
      "1\n"
     ]
    }
   ],
   "source": [
    "root = createsampletree()\n",
    "dll = convertBTtoDLL(root)\n",
    "while(dll.left):\n",
    "    dll = dll.left\n",
    "# Inorder traversal result\n",
    "# 1 2 3 4 6 7 8\n",
    "# check dll\n",
    "second_node = dll.right\n",
    "print(second_node.key)\n",
    "# ans\n",
    "# 2\n",
    "# checking reverse moving because in DLL we can traverse backwards\n",
    "first_node = second_node.left\n",
    "print(first_node.key)\n",
    "# ans \n",
    "# 1"
   ]
  },
  {
   "cell_type": "code",
   "execution_count": null,
   "metadata": {},
   "outputs": [],
   "source": []
  }
 ],
 "metadata": {
  "kernelspec": {
   "display_name": "Python 3",
   "language": "python",
   "name": "python3"
  },
  "language_info": {
   "codemirror_mode": {
    "name": "ipython",
    "version": 3
   },
   "file_extension": ".py",
   "mimetype": "text/x-python",
   "name": "python",
   "nbconvert_exporter": "python",
   "pygments_lexer": "ipython3",
   "version": "3.9.0"
  }
 },
 "nbformat": 4,
 "nbformat_minor": 4
}
