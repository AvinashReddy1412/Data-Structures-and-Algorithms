{
 "cells": [
  {
   "cell_type": "markdown",
   "metadata": {},
   "source": [
    "# Refer screenshot for explanation, complexity and algorithm\n",
    "    It has two screenshots. normal and implementation screenshot. refer both"
   ]
  },
  {
   "cell_type": "markdown",
   "metadata": {},
   "source": [
    "# Implementation"
   ]
  },
  {
   "cell_type": "code",
   "execution_count": 14,
   "metadata": {},
   "outputs": [],
   "source": [
    "class TreeNode:\n",
    "    def __init__(self, key):\n",
    "        self.key = key\n",
    "        self.left = None\n",
    "        self.right = None\n",
    "\n",
    "def search(inorder, start, end, key):\n",
    "    for i in range(start, end+1):\n",
    "        if inorder[i] == key:\n",
    "            return i\n",
    "        \n",
    "def build_tree(preorder, inorder, instart, inend, preindex):\n",
    "    if instart > inend:\n",
    "        return None, preindex\n",
    "    root = TreeNode(preorder[preindex])\n",
    "    preindex+=1\n",
    "    if instart == inend:\n",
    "        return root, preindex\n",
    "    inindex = search(inorder, instart, inend, root.key)\n",
    "    root.left, preindex = build_tree(preorder, inorder, instart, inindex-1, preindex)\n",
    "    root.right, preindex = build_tree(preorder, inorder, inindex+1, inend, preindex)\n",
    "    return root, preindex\n",
    "        "
   ]
  },
  {
   "cell_type": "code",
   "execution_count": 15,
   "metadata": {},
   "outputs": [],
   "source": [
    "preorder = ['a', 'b', 'd', 'h', 'e' , 'g', 'c', 'f']\n",
    "inorder = ['h', 'd', 'b', 'g', 'e', 'a', 'f', 'c']\n",
    "instart = 0\n",
    "inend = 7\n",
    "preindex = 0\n",
    "root, _ = build_tree(preorder, inorder, instart, inend, preindex)"
   ]
  },
  {
   "cell_type": "markdown",
   "metadata": {},
   "source": [
    "resultant tree should be\n",
    "\n",
    "                                 a\n",
    "                               /   \\\n",
    "                              b     c\n",
    "                             / \\   /\n",
    "                            d   e f\n",
    "                           /   /\n",
    "                          h   g"
   ]
  },
  {
   "cell_type": "code",
   "execution_count": 17,
   "metadata": {},
   "outputs": [
    {
     "name": "stdout",
     "output_type": "stream",
     "text": [
      "a\n",
      "b\n",
      "c\n",
      "d\n",
      "e\n",
      "f\n",
      "h\n",
      "g\n"
     ]
    }
   ],
   "source": [
    "# checking root structure\n",
    "print(root.key)\n",
    "print(root.left.key)\n",
    "print(root.right.key)\n",
    "print(root.left.left.key)\n",
    "print(root.left.right.key)\n",
    "print(root.right.left.key)\n",
    "print(root.left.left.left.key)\n",
    "print(root.left.right.left.key)"
   ]
  },
  {
   "cell_type": "code",
   "execution_count": null,
   "metadata": {},
   "outputs": [],
   "source": []
  },
  {
   "cell_type": "code",
   "execution_count": null,
   "metadata": {},
   "outputs": [],
   "source": []
  }
 ],
 "metadata": {
  "kernelspec": {
   "display_name": "Python 3",
   "language": "python",
   "name": "python3"
  },
  "language_info": {
   "codemirror_mode": {
    "name": "ipython",
    "version": 3
   },
   "file_extension": ".py",
   "mimetype": "text/x-python",
   "name": "python",
   "nbconvert_exporter": "python",
   "pygments_lexer": "ipython3",
   "version": "3.9.0"
  }
 },
 "nbformat": 4,
 "nbformat_minor": 4
}
