{
 "cells": [
  {
   "cell_type": "markdown",
   "metadata": {},
   "source": [
    "# Refer screenshot for explanation, algorithm and complexity"
   ]
  },
  {
   "cell_type": "markdown",
   "metadata": {},
   "source": [
    "# Tree Creation"
   ]
  },
  {
   "cell_type": "markdown",
   "metadata": {},
   "source": [
    "          55\n",
    "         /  \\\n",
    "       10    25\n",
    "       / \\   / \\  \n",
    "      9   4  3  11\n",
    "              \\\n",
    "               4"
   ]
  },
  {
   "cell_type": "code",
   "execution_count": 9,
   "metadata": {},
   "outputs": [],
   "source": [
    "class TreeNode:\n",
    "    def __init__(self, data):\n",
    "        self.left = None\n",
    "        self.right = None\n",
    "        self.key = data\n",
    "\n",
    "# From above figure example and screenshot example\n",
    "def createsampletree():\n",
    "    node55 = TreeNode(55)\n",
    "    node10 = TreeNode(10)\n",
    "    node25 = TreeNode(25)\n",
    "    node9 = TreeNode(9)\n",
    "    node4 = TreeNode(4)\n",
    "    node3 = TreeNode(3)\n",
    "    node11 = TreeNode(11)\n",
    "    node4_1 = TreeNode(4)\n",
    "    node55.left = node10\n",
    "    node55.right = node25\n",
    "    node10.left = node9\n",
    "    node10.right = node4\n",
    "    node25.left = node3\n",
    "    node25.right = node11\n",
    "    node3.right = node4_1\n",
    "    return node55\n",
    "\n",
    "def inorder(root):\n",
    "    if root:\n",
    "        inorder(root.left)\n",
    "        print(root.key)\n",
    "        inorder(root.right)"
   ]
  },
  {
   "cell_type": "markdown",
   "metadata": {},
   "source": [
    "# Implementation"
   ]
  },
  {
   "cell_type": "code",
   "execution_count": 10,
   "metadata": {},
   "outputs": [],
   "source": [
    "def is_leaf(node):\n",
    "    if not node.left and not node.right:\n",
    "        return True\n",
    "    return False\n",
    "\n",
    "def increment(node, diff):\n",
    "    if node.left :\n",
    "        node.left.key = node.left.key + diff\n",
    "        increment(node.left, diff)\n",
    "    elif node.right:\n",
    "        node.right.key = node.right.key + diff\n",
    "        increment(node.right, diff)\n",
    "    \n",
    "def convert_childsum(root):\n",
    "    if not root or is_leaf(root):\n",
    "        return\n",
    "    convert_childsum(root.left)\n",
    "    convert_childsum(root.right)\n",
    "    leftdata = 0\n",
    "    rightdata = 0\n",
    "    if root.left:\n",
    "        leftdata = root.left.key\n",
    "    if root.right:\n",
    "        rightdata = root.right.key\n",
    "    diff = leftdata + rightdata - root.key\n",
    "    if diff > 0:\n",
    "        root.key = root.key + diff\n",
    "    else:\n",
    "        increment(root, -diff)\n",
    "    "
   ]
  },
  {
   "cell_type": "markdown",
   "metadata": {},
   "source": [
    "# Test"
   ]
  },
  {
   "cell_type": "code",
   "execution_count": 11,
   "metadata": {},
   "outputs": [
    {
     "name": "stdout",
     "output_type": "stream",
     "text": [
      "Inorder traversal before conversion\n",
      "9\n",
      "10\n",
      "4\n",
      "55\n",
      "3\n",
      "4\n",
      "25\n",
      "11\n",
      "\n",
      "Inorder traversal after conversion\n",
      "26\n",
      "30\n",
      "4\n",
      "55\n",
      "14\n",
      "14\n",
      "25\n",
      "11\n"
     ]
    }
   ],
   "source": [
    "root = createsampletree()\n",
    "print(\"Inorder traversal before conversion\")\n",
    "inorder(root)\n",
    "# ans\n",
    "# 9 10 4 55 3 4 25 11\n",
    "convert_childsum(root)\n",
    "print(\"\\nInorder traversal after conversion\")\n",
    "inorder(root)\n",
    "# ans  (from screenshot)\n",
    "# 26 30 4 55 14 14 25 11"
   ]
  },
  {
   "cell_type": "code",
   "execution_count": null,
   "metadata": {},
   "outputs": [],
   "source": []
  },
  {
   "cell_type": "markdown",
   "metadata": {},
   "source": []
  }
 ],
 "metadata": {
  "kernelspec": {
   "display_name": "Python 3",
   "language": "python",
   "name": "python3"
  },
  "language_info": {
   "codemirror_mode": {
    "name": "ipython",
    "version": 3
   },
   "file_extension": ".py",
   "mimetype": "text/x-python",
   "name": "python",
   "nbconvert_exporter": "python",
   "pygments_lexer": "ipython3",
   "version": "3.9.0"
  }
 },
 "nbformat": 4,
 "nbformat_minor": 4
}
