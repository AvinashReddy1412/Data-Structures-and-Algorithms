{
 "cells": [
  {
   "cell_type": "markdown",
   "metadata": {},
   "source": [
    "# Refer screenshot for clear explanation, complexity and algorithm"
   ]
  },
  {
   "cell_type": "markdown",
   "metadata": {},
   "source": [
    "# Tree Creation"
   ]
  },
  {
   "cell_type": "code",
   "execution_count": 1,
   "metadata": {},
   "outputs": [],
   "source": [
    "class TreeNode:\n",
    "    def __init__(self,data):\n",
    "        self.key = data\n",
    "        self.leftChild = None\n",
    "        self.rightChild = None\n",
    "\n",
    "# From screenshot example\n",
    "def createSampleTree():\n",
    "    a= TreeNode(20)\n",
    "    b = TreeNode(7)\n",
    "    c = TreeNode(21)\n",
    "    d = TreeNode(3)\n",
    "    e = TreeNode(11)\n",
    "    f = TreeNode(9)\n",
    "    g = TreeNode(13)\n",
    "    a.leftChild = b\n",
    "    a.rightChild = c\n",
    "    b.leftChild = d\n",
    "    b.rightChild = e\n",
    "    c.leftChild = f\n",
    "    c.rightChild = g\n",
    "    return a\n"
   ]
  },
  {
   "cell_type": "markdown",
   "metadata": {},
   "source": [
    "# Implementation"
   ]
  },
  {
   "cell_type": "code",
   "execution_count": 3,
   "metadata": {},
   "outputs": [],
   "source": [
    "def LCA_BT(root, key1, key2):\n",
    "    if not root:\n",
    "        return None\n",
    "    if root.key == key1 or root.key == key2:\n",
    "        return root\n",
    "    left_lca = LCA_BT(root.leftChild, key1, key2)\n",
    "    right_lca = LCA_BT(root.rightChild, key1, key2)\n",
    "    if left_lca and right_lca:\n",
    "        return root\n",
    "    return (left_lca if left_lca else right_lca)"
   ]
  },
  {
   "cell_type": "markdown",
   "metadata": {},
   "source": [
    "# Test"
   ]
  },
  {
   "cell_type": "code",
   "execution_count": 4,
   "metadata": {},
   "outputs": [
    {
     "name": "stdout",
     "output_type": "stream",
     "text": [
      "7\n"
     ]
    }
   ],
   "source": [
    "root = createSampleTree()\n",
    "node = LCA_BT(root, 3, 11)\n",
    "print(node.key)\n",
    "# ans\n",
    "# 7"
   ]
  },
  {
   "cell_type": "code",
   "execution_count": 5,
   "metadata": {},
   "outputs": [
    {
     "name": "stdout",
     "output_type": "stream",
     "text": [
      "20\n"
     ]
    }
   ],
   "source": [
    "root = createSampleTree()\n",
    "node = LCA_BT(root, 11, 9)\n",
    "print(node.key)\n",
    "# ans\n",
    "# 20"
   ]
  },
  {
   "cell_type": "code",
   "execution_count": null,
   "metadata": {},
   "outputs": [],
   "source": []
  }
 ],
 "metadata": {
  "kernelspec": {
   "display_name": "Python 3",
   "language": "python",
   "name": "python3"
  },
  "language_info": {
   "codemirror_mode": {
    "name": "ipython",
    "version": 3
   },
   "file_extension": ".py",
   "mimetype": "text/x-python",
   "name": "python",
   "nbconvert_exporter": "python",
   "pygments_lexer": "ipython3",
   "version": "3.9.0"
  }
 },
 "nbformat": 4,
 "nbformat_minor": 4
}
