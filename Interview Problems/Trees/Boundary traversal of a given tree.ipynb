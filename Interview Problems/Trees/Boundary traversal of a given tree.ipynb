{
 "cells": [
  {
   "cell_type": "markdown",
   "metadata": {},
   "source": [
    "# Refer screeshot for clear explanation, algorithm and complexity"
   ]
  },
  {
   "cell_type": "markdown",
   "metadata": {},
   "source": [
    "# Tree Creation"
   ]
  },
  {
   "cell_type": "markdown",
   "metadata": {},
   "source": [
    "              10\n",
    "         /          \\\n",
    "        20          25\n",
    "       /  \\        /  \\\n",
    "      30  40      41   50\n",
    "            \\     /\n",
    "            50   32\n",
    "            /    / \\\n",
    "           20   21 35"
   ]
  },
  {
   "cell_type": "markdown",
   "metadata": {},
   "source": [
    "    Boundary Traversal is :\n",
    "\n",
    "    10 20 30 50 20 21 35 32 50 25\n",
    "\n",
    "    Note : we are not printing 40 since it is covered by 30\n",
    "    We are priting root only once while starting and skipping it at the end"
   ]
  },
  {
   "cell_type": "code",
   "execution_count": 5,
   "metadata": {},
   "outputs": [],
   "source": [
    "class TreeNode:\n",
    "    def __init__(self, data):\n",
    "        self.left = None\n",
    "        self.right = None\n",
    "        self.key = data\n",
    "\n",
    "# From above figure example\n",
    "def createsampletree():\n",
    "    node10 = TreeNode(10)\n",
    "    node20 = TreeNode(20)\n",
    "    node25 = TreeNode(25)\n",
    "    node30 = TreeNode(30)\n",
    "    node40 = TreeNode(40)\n",
    "    node41 = TreeNode(41)\n",
    "    node50 = TreeNode(50)\n",
    "    node40 = TreeNode(40)\n",
    "    node50_1 = TreeNode(50)\n",
    "    node32 = TreeNode(32)\n",
    "    node20_1 = TreeNode(20)\n",
    "    node21 = TreeNode(21)\n",
    "    node35 = TreeNode(35)\n",
    "    node10.left = node20 \n",
    "    node10.right = node25 \n",
    "    node20.left=node30 \n",
    "    node20.right=node40 \n",
    "    node25.left=node41 \n",
    "    node25.right=node50 \n",
    "    node40.right=node50_1 \n",
    "    node41.left=node32 \n",
    "    node50_1.left=node20_1 \n",
    "    node32.left=node21 \n",
    "    node32.right=node35\n",
    "    return node10"
   ]
  },
  {
   "cell_type": "markdown",
   "metadata": {},
   "source": [
    "# Implementation"
   ]
  },
  {
   "cell_type": "code",
   "execution_count": 6,
   "metadata": {},
   "outputs": [],
   "source": [
    "def print_leaves(root):\n",
    "    if root:\n",
    "        print_leaves(root.left)\n",
    "        if not root.left and not root.right:\n",
    "            print(root.key)\n",
    "        print_leaves(root.right)\n",
    "\n",
    "def left_boundary(root):\n",
    "    if root:\n",
    "        if root.left:\n",
    "            print(root.key)\n",
    "            left_boundary(root.left)\n",
    "        elif root.right:\n",
    "            print(root.key)\n",
    "            left_boundary(root.right)\n",
    "            \n",
    "def right_boundary(root): \n",
    "    if root:\n",
    "        if root.right:\n",
    "            right_boundary(root.right)\n",
    "            print(root.key)\n",
    "        elif root.left:\n",
    "            right_boundary(root.left)\n",
    "            print(root.key)"
   ]
  },
  {
   "cell_type": "markdown",
   "metadata": {},
   "source": [
    "# Test"
   ]
  },
  {
   "cell_type": "code",
   "execution_count": 9,
   "metadata": {},
   "outputs": [
    {
     "name": "stdout",
     "output_type": "stream",
     "text": [
      "10\n",
      "20\n",
      "30\n",
      "20\n",
      "21\n",
      "35\n",
      "50\n",
      "25\n"
     ]
    }
   ],
   "source": [
    "root = createsampletree()\n",
    "\n",
    "# boundary traversal\n",
    "# call all three functions\n",
    "left_boundary(root)\n",
    "print_leaves(root)\n",
    "right_boundary(root.right) # since we are skipping root at the end\n",
    "# ans \n",
    "# 10 20 30 50 20 21 35 32 50 25\n",
    "\n",
    "# 50 and 32 are skipped since they are not in boundary. Need to cross check this.\n",
    "# But as per RRR algorithm this will be skipped, but in explanation he asked to print them as well.\n",
    "# Need to cross check how left view and right view works and use them if we need 50 and 32 as well"
   ]
  },
  {
   "cell_type": "code",
   "execution_count": null,
   "metadata": {},
   "outputs": [],
   "source": []
  }
 ],
 "metadata": {
  "kernelspec": {
   "display_name": "Python 3",
   "language": "python",
   "name": "python3"
  },
  "language_info": {
   "codemirror_mode": {
    "name": "ipython",
    "version": 3
   },
   "file_extension": ".py",
   "mimetype": "text/x-python",
   "name": "python",
   "nbconvert_exporter": "python",
   "pygments_lexer": "ipython3",
   "version": "3.9.0"
  }
 },
 "nbformat": 4,
 "nbformat_minor": 4
}
