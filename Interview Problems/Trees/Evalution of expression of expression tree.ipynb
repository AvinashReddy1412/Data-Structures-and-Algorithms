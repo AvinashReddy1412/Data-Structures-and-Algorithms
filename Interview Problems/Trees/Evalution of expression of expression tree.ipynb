{
 "cells": [
  {
   "cell_type": "markdown",
   "metadata": {},
   "source": [
    "# Refer screenshot for explanation, complexity and algorithm"
   ]
  },
  {
   "cell_type": "markdown",
   "metadata": {},
   "source": [
    "# Tree Creation"
   ]
  },
  {
   "cell_type": "markdown",
   "metadata": {},
   "source": [
    "                     +\n",
    "                   /   \\\n",
    "                  %      -\n",
    "                 / \\    / \\\n",
    "                *   5  100 *\n",
    "               / \\        / \\\n",
    "              10  2      3   30"
   ]
  },
  {
   "cell_type": "raw",
   "metadata": {},
   "source": [
    "expression : ((10*2)/5) + (100 - (3*30))\n",
    "\n",
    "answer should be 14"
   ]
  },
  {
   "cell_type": "code",
   "execution_count": 18,
   "metadata": {},
   "outputs": [],
   "source": [
    "class TreeNode:\n",
    "    def __init__(self, key):\n",
    "        self.key = key\n",
    "        self.left = None\n",
    "        self.right = None\n",
    "\n",
    "# From above example        \n",
    "def createsampletree():\n",
    "    node1 = TreeNode('+')\n",
    "    node2 = TreeNode('/')\n",
    "    node3 = TreeNode('-')\n",
    "    node4 = TreeNode('*')\n",
    "    node5 = TreeNode(5)\n",
    "    node6 = TreeNode(100)\n",
    "    node7 = TreeNode('*')\n",
    "    node8 = TreeNode(10)\n",
    "    node9 = TreeNode(2)\n",
    "    node10 = TreeNode(3)\n",
    "    node11 = TreeNode(30)\n",
    "    node1.left = node2\n",
    "    node1.right = node3\n",
    "    node2.left = node4\n",
    "    node2.right = node5\n",
    "    node3.left = node6\n",
    "    node3.right = node7\n",
    "    node4.left = node8\n",
    "    node4.right = node9\n",
    "    node7.left = node10\n",
    "    node7.right = node11\n",
    "    return node1"
   ]
  },
  {
   "cell_type": "markdown",
   "metadata": {},
   "source": [
    "# Implementation"
   ]
  },
  {
   "cell_type": "code",
   "execution_count": 19,
   "metadata": {},
   "outputs": [],
   "source": [
    "def isleaf(node):\n",
    "    if not node.left and not node.right:\n",
    "        return True\n",
    "    return False\n",
    "\n",
    "def evaluate_expression_tree(root):\n",
    "    if not root:\n",
    "        return 0\n",
    "    if isleaf(root):\n",
    "        return root.key\n",
    "    leftval = evaluate_expression_tree(root.left)\n",
    "    rightval = evaluate_expression_tree(root.right)\n",
    "    return eval('int(' + str(leftval)+ str(root.key) + str(rightval) + ')')"
   ]
  },
  {
   "cell_type": "code",
   "execution_count": 20,
   "metadata": {},
   "outputs": [
    {
     "data": {
      "text/plain": [
       "14"
      ]
     },
     "execution_count": 20,
     "metadata": {},
     "output_type": "execute_result"
    }
   ],
   "source": [
    "root= createsampletree()\n",
    "evaluate_expression_tree(root)"
   ]
  },
  {
   "cell_type": "code",
   "execution_count": null,
   "metadata": {},
   "outputs": [],
   "source": []
  }
 ],
 "metadata": {
  "kernelspec": {
   "display_name": "Python 3",
   "language": "python",
   "name": "python3"
  },
  "language_info": {
   "codemirror_mode": {
    "name": "ipython",
    "version": 3
   },
   "file_extension": ".py",
   "mimetype": "text/x-python",
   "name": "python",
   "nbconvert_exporter": "python",
   "pygments_lexer": "ipython3",
   "version": "3.9.0"
  }
 },
 "nbformat": 4,
 "nbformat_minor": 4
}
