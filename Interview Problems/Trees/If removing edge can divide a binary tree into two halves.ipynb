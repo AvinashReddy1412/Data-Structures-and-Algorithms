{
 "cells": [
  {
   "cell_type": "markdown",
   "metadata": {},
   "source": [
    "# Refer screeshot for clear explanation, algorithm and complexity"
   ]
  },
  {
   "cell_type": "markdown",
   "metadata": {},
   "source": [
    "# Tree Creation"
   ]
  },
  {
   "cell_type": "markdown",
   "metadata": {},
   "source": [
    "                5\n",
    "            /       \\\n",
    "           8        12\n",
    "         /  \\       / \\\n",
    "        20   9     6  13\n",
    "       / \\   /     /  /\n",
    "      88 99 10    15 100"
   ]
  },
  {
   "cell_type": "markdown",
   "metadata": {},
   "source": [
    "    Here structure is only important not node values. Above tree is from screenshot example."
   ]
  },
  {
   "cell_type": "code",
   "execution_count": 7,
   "metadata": {},
   "outputs": [],
   "source": [
    "class TreeNode:\n",
    "    def __init__(self, data):\n",
    "        self.left = None\n",
    "        self.right = None\n",
    "        self.key = data\n",
    "\n",
    "# From above figure example\n",
    "def createsampletree():\n",
    "    node5 = TreeNode(5)\n",
    "    node8 = TreeNode(8)\n",
    "    node12 = TreeNode(12)\n",
    "    node20 = TreeNode(20)\n",
    "    node9 = TreeNode(9)\n",
    "    node6 = TreeNode(6)\n",
    "    node13 = TreeNode(13)\n",
    "    node10 = TreeNode(10)\n",
    "    node15 = TreeNode(15)\n",
    "    node88 = TreeNode(88)\n",
    "    node99 = TreeNode(99)\n",
    "    node100 = TreeNode(100)\n",
    "    node5.left = node8 \n",
    "    node5.right = node12\n",
    "    node8.left=node20 \n",
    "    node8.right=node9 \n",
    "    node12.left=node6 \n",
    "    node12.right=node13\n",
    "    node9.left = node10\n",
    "    node6.left = node15\n",
    "    node20.left = node88\n",
    "    node20.right = node99\n",
    "    node13.left = node100\n",
    "    return node5"
   ]
  },
  {
   "cell_type": "markdown",
   "metadata": {},
   "source": [
    "# Implementation"
   ]
  },
  {
   "cell_type": "code",
   "execution_count": 8,
   "metadata": {},
   "outputs": [],
   "source": [
    "def count_number_of_nodes(root, size):\n",
    "    global res\n",
    "    if not root:\n",
    "        return 0\n",
    "    count = 1 + count_number_of_nodes(root.left, size) + count_number_of_nodes(root.right, size)\n",
    "    if count == size-count:\n",
    "        res = True\n",
    "    return count"
   ]
  },
  {
   "cell_type": "markdown",
   "metadata": {},
   "source": [
    "# Test"
   ]
  },
  {
   "cell_type": "code",
   "execution_count": 9,
   "metadata": {},
   "outputs": [
    {
     "name": "stdout",
     "output_type": "stream",
     "text": [
      "True\n"
     ]
    }
   ],
   "source": [
    "root = createsampletree()\n",
    "size = 12\n",
    "\n",
    "res = False\n",
    "count_number_of_nodes(root, size)\n",
    "print(res)\n",
    "# ans \n",
    "# True"
   ]
  },
  {
   "cell_type": "code",
   "execution_count": 10,
   "metadata": {},
   "outputs": [],
   "source": [
    "# From above figure example modified to get random tree\n",
    "def createsampletree():\n",
    "    node5 = TreeNode(5)\n",
    "    node8 = TreeNode(8)\n",
    "    node12 = TreeNode(12)\n",
    "    node20 = TreeNode(20)\n",
    "    node9 = TreeNode(9)\n",
    "    node6 = TreeNode(6)\n",
    "    node13 = TreeNode(13)\n",
    "    node10 = TreeNode(10)\n",
    "    node15 = TreeNode(15)\n",
    "    node5.left = node8 \n",
    "    node5.right = node12\n",
    "    node8.left=node20 \n",
    "    node8.right=node9 \n",
    "    node12.left=node6 \n",
    "    node12.right=node13\n",
    "    node9.left = node10\n",
    "    node6.right = node15\n",
    "    node15.left = TreeNode(100) # modified\n",
    "    return node5"
   ]
  },
  {
   "cell_type": "code",
   "execution_count": 11,
   "metadata": {},
   "outputs": [
    {
     "name": "stdout",
     "output_type": "stream",
     "text": [
      "False\n"
     ]
    }
   ],
   "source": [
    "root = createsampletree()\n",
    "size = 12\n",
    "\n",
    "res = False\n",
    "count_number_of_nodes(root, size)\n",
    "print(res)\n",
    "# ans \n",
    "# False"
   ]
  },
  {
   "cell_type": "code",
   "execution_count": null,
   "metadata": {},
   "outputs": [],
   "source": []
  }
 ],
 "metadata": {
  "kernelspec": {
   "display_name": "Python 3",
   "language": "python",
   "name": "python3"
  },
  "language_info": {
   "codemirror_mode": {
    "name": "ipython",
    "version": 3
   },
   "file_extension": ".py",
   "mimetype": "text/x-python",
   "name": "python",
   "nbconvert_exporter": "python",
   "pygments_lexer": "ipython3",
   "version": "3.9.0"
  }
 },
 "nbformat": 4,
 "nbformat_minor": 4
}
