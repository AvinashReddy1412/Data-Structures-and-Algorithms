{
 "cells": [
  {
   "cell_type": "markdown",
   "metadata": {},
   "source": [
    "# Refer screenshot for definition of perfect binary tree, algorithm and complexity"
   ]
  },
  {
   "cell_type": "markdown",
   "metadata": {},
   "source": [
    "# Tree Creation"
   ]
  },
  {
   "cell_type": "markdown",
   "metadata": {},
   "source": [
    "              1\n",
    "         /        \\\n",
    "        2           3\n",
    "       /  \\       /   \\   \n",
    "      4    5     6     7 \n",
    "     / \\  / \\   / \\   / \\\n",
    "    8  9 10 11 12 13 14 15"
   ]
  },
  {
   "cell_type": "code",
   "execution_count": 1,
   "metadata": {},
   "outputs": [],
   "source": [
    "class TreeNode:\n",
    "    def __init__(self, data):\n",
    "        self.left = None\n",
    "        self.right = None\n",
    "        self.key = data\n",
    "\n",
    "# From above figure example also screenshot example\n",
    "def createsampletree():\n",
    "    node1 = TreeNode(1)\n",
    "    node2 = TreeNode(2)\n",
    "    node3 = TreeNode(3)\n",
    "    node4 = TreeNode(4)\n",
    "    node5 = TreeNode(5)\n",
    "    node6 = TreeNode(6)\n",
    "    node7 = TreeNode(7)\n",
    "    node8 = TreeNode(8)\n",
    "    node9 = TreeNode(9)\n",
    "    node10 = TreeNode(10)\n",
    "    node11 = TreeNode(11)\n",
    "    node12 = TreeNode(12)\n",
    "    node13 = TreeNode(13)\n",
    "    node14 = TreeNode(14)\n",
    "    node15 = TreeNode(15)\n",
    "    node1.left = node2\n",
    "    node1.right = node3\n",
    "    node2.left = node4\n",
    "    node2.right = node5\n",
    "    node3.left = node6\n",
    "    node3.right = node7\n",
    "    node4.left = node8\n",
    "    node4.right = node9\n",
    "    node5.left = node10\n",
    "    node5.right = node11\n",
    "    node6.left = node12\n",
    "    node6.right = node13\n",
    "    node7.left = node14\n",
    "    node7.right = node15\n",
    "    return node1"
   ]
  },
  {
   "cell_type": "markdown",
   "metadata": {},
   "source": [
    "# Implementation"
   ]
  },
  {
   "cell_type": "code",
   "execution_count": 34,
   "metadata": {},
   "outputs": [],
   "source": [
    "def reverse_alternate(lnode, rnode, level):\n",
    "    if not lnode and not rnode:\n",
    "        return \n",
    "    if level%2 == 0: \n",
    "        # swap only keys. if you swap objects it wont work\n",
    "        temp = lnode.key\n",
    "        lnode.key = rnode.key\n",
    "        rnode.key = temp\n",
    "    reverse_alternate(lnode.left, rnode.right, level+1)\n",
    "    reverse_alternate(lnode.right, rnode.left, level+1)"
   ]
  },
  {
   "cell_type": "markdown",
   "metadata": {},
   "source": [
    "# Test"
   ]
  },
  {
   "cell_type": "code",
   "execution_count": 44,
   "metadata": {},
   "outputs": [],
   "source": [
    "root = createsampletree()\n",
    "reverse_alternate(root.left, root.right, 0)"
   ]
  },
  {
   "cell_type": "code",
   "execution_count": 45,
   "metadata": {},
   "outputs": [],
   "source": [
    "# check structure"
   ]
  },
  {
   "cell_type": "code",
   "execution_count": 46,
   "metadata": {},
   "outputs": [
    {
     "name": "stdout",
     "output_type": "stream",
     "text": [
      "3\n",
      "2\n",
      "15\n",
      "14\n",
      "4\n"
     ]
    }
   ],
   "source": [
    "print(root.left.key) # should be 3\n",
    "print(root.right.key) # should be 2\n",
    "print(root.left.left.left.key) # should be 15\n",
    "print(root.left.left.right.key) # should be 14\n",
    "print(root.left.left.key) # should be 4 since level 1 should not be swapped"
   ]
  },
  {
   "cell_type": "code",
   "execution_count": 47,
   "metadata": {},
   "outputs": [
    {
     "name": "stdout",
     "output_type": "stream",
     "text": [
      "2\n"
     ]
    }
   ],
   "source": [
    "# Example of object swap not working\n",
    "root = createsampletree()\n",
    "def swap(left, right):\n",
    "    temp = left\n",
    "    left = right\n",
    "    right = temp\n",
    "swap(root.left, root.right)\n",
    "print(root.left.key)"
   ]
  },
  {
   "cell_type": "code",
   "execution_count": null,
   "metadata": {},
   "outputs": [],
   "source": []
  }
 ],
 "metadata": {
  "kernelspec": {
   "display_name": "Python 3",
   "language": "python",
   "name": "python3"
  },
  "language_info": {
   "codemirror_mode": {
    "name": "ipython",
    "version": 3
   },
   "file_extension": ".py",
   "mimetype": "text/x-python",
   "name": "python",
   "nbconvert_exporter": "python",
   "pygments_lexer": "ipython3",
   "version": "3.9.0"
  }
 },
 "nbformat": 4,
 "nbformat_minor": 4
}
