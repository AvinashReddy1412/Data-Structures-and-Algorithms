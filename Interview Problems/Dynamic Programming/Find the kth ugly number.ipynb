{
 "cells": [
  {
   "cell_type": "markdown",
   "metadata": {},
   "source": [
    "## Refer screenshot for explanation, approach and complexity"
   ]
  },
  {
   "cell_type": "markdown",
   "metadata": {},
   "source": [
    "    INPUT : 4\n",
    "    OUTPUT : 5"
   ]
  },
  {
   "cell_type": "markdown",
   "metadata": {},
   "source": [
    "# Implementation"
   ]
  },
  {
   "cell_type": "code",
   "execution_count": 8,
   "metadata": {},
   "outputs": [],
   "source": [
    "def kth_ugly(k):\n",
    "    i2 = 0\n",
    "    i3 = 0\n",
    "    i5 = 0\n",
    "    ugly = [1]\n",
    "    next_mul_2 = 2\n",
    "    next_mul_3 = 3\n",
    "    next_mul_5 = 5\n",
    "    for i in range(k-1):\n",
    "        next_ugly_number = min(next_mul_2, next_mul_3, next_mul_5)\n",
    "        ugly.append(next_ugly_number) # remember to do this\n",
    "        if next_ugly_number == next_mul_2:\n",
    "            i2+=1\n",
    "            next_mul_2 = ugly[i2] *2\n",
    "        elif next_ugly_number == next_mul_3:\n",
    "            i3+=1\n",
    "            next_mul_3 = ugly[i3] *3\n",
    "        elif next_ugly_number == next_mul_5:\n",
    "            i5+=1\n",
    "            next_mul_5 = ugly[i5] * 5\n",
    "    return next_ugly_number"
   ]
  },
  {
   "cell_type": "code",
   "execution_count": 9,
   "metadata": {},
   "outputs": [
    {
     "data": {
      "text/plain": [
       "6"
      ]
     },
     "execution_count": 9,
     "metadata": {},
     "output_type": "execute_result"
    }
   ],
   "source": [
    "kth_ugly(6)\n",
    "# ans\n",
    "6"
   ]
  },
  {
   "cell_type": "code",
   "execution_count": 10,
   "metadata": {},
   "outputs": [
    {
     "data": {
      "text/plain": [
       "12"
      ]
     },
     "execution_count": 10,
     "metadata": {},
     "output_type": "execute_result"
    }
   ],
   "source": [
    "kth_ugly(10)\n",
    "# ans\n",
    "12"
   ]
  },
  {
   "cell_type": "code",
   "execution_count": null,
   "metadata": {},
   "outputs": [],
   "source": []
  }
 ],
 "metadata": {
  "kernelspec": {
   "display_name": "Python 3",
   "language": "python",
   "name": "python3"
  },
  "language_info": {
   "codemirror_mode": {
    "name": "ipython",
    "version": 3
   },
   "file_extension": ".py",
   "mimetype": "text/x-python",
   "name": "python",
   "nbconvert_exporter": "python",
   "pygments_lexer": "ipython3",
   "version": "3.9.0"
  }
 },
 "nbformat": 4,
 "nbformat_minor": 4
}
