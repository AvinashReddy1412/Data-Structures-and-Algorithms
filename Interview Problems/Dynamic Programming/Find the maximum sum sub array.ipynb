{
 "cells": [
  {
   "cell_type": "markdown",
   "metadata": {},
   "source": [
    "# Refer screenshots for explanation, approach, complexity and implementation"
   ]
  },
  {
   "cell_type": "markdown",
   "metadata": {},
   "source": [
    "    Input : [-3, 10, 5, -20, 4, 11, -5, 7]\n",
    "    Output : [4, 7]"
   ]
  },
  {
   "cell_type": "markdown",
   "metadata": {},
   "source": [
    "# Implementation of Kadane's Algo"
   ]
  },
  {
   "cell_type": "code",
   "execution_count": 1,
   "metadata": {},
   "outputs": [],
   "source": [
    "def max_sum_sub_array(arr, arr_len):\n",
    "    max_sum_so_far = 0\n",
    "    curr_sum = 0\n",
    "    index = -1 \n",
    "    start_index = -1\n",
    "    for i in range(arr_len):\n",
    "        curr_sum += arr[i]\n",
    "        if curr_sum < 0:\n",
    "            curr_sum = 0\n",
    "        elif max_sum_so_far < curr_sum:\n",
    "            max_sum_so_far = curr_sum\n",
    "            index = i\n",
    "    found_sum = 0\n",
    "    for i in range(index, -1, -1):\n",
    "        found_sum+= arr[i]\n",
    "        if found_sum == max_sum_so_far:\n",
    "            start_index = i\n",
    "            break\n",
    "    return [start_index, index]"
   ]
  },
  {
   "cell_type": "code",
   "execution_count": 2,
   "metadata": {},
   "outputs": [
    {
     "data": {
      "text/plain": [
       "[4, 7]"
      ]
     },
     "execution_count": 2,
     "metadata": {},
     "output_type": "execute_result"
    }
   ],
   "source": [
    "arr = [-3, 10, 5, -20, 4, 11, -5, 7]\n",
    "arr_len = len(arr)\n",
    "max_sum_sub_array(arr, arr_len)\n",
    "# ans\n",
    "# [4, 7]"
   ]
  },
  {
   "cell_type": "code",
   "execution_count": null,
   "metadata": {},
   "outputs": [],
   "source": []
  }
 ],
 "metadata": {
  "kernelspec": {
   "display_name": "Python 3",
   "language": "python",
   "name": "python3"
  },
  "language_info": {
   "codemirror_mode": {
    "name": "ipython",
    "version": 3
   },
   "file_extension": ".py",
   "mimetype": "text/x-python",
   "name": "python",
   "nbconvert_exporter": "python",
   "pygments_lexer": "ipython3",
   "version": "3.9.0"
  }
 },
 "nbformat": 4,
 "nbformat_minor": 4
}
