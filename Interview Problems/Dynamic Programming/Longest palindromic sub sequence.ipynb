{
 "cells": [
  {
   "cell_type": "markdown",
   "metadata": {},
   "source": [
    "# Refer screenshot for explanation, approach and complexity"
   ]
  },
  {
   "cell_type": "markdown",
   "metadata": {},
   "source": [
    "    Input : Raudra\n",
    "    Output : 3"
   ]
  },
  {
   "cell_type": "markdown",
   "metadata": {},
   "source": [
    "# Implementation"
   ]
  },
  {
   "cell_type": "code",
   "execution_count": 7,
   "metadata": {},
   "outputs": [],
   "source": [
    "def long_palindrome_seq(arr, n):\n",
    "    LPS = [[0 for i in range(n)] for j in range(n)]\n",
    "    for i in range(n): # diag elements are 1\n",
    "        LPS[i][i] = 1 \n",
    "    for ls in range(2, n+1):\n",
    "        for i in range(n-ls+1):\n",
    "            j = i+ls-1\n",
    "            if arr[i] == arr[j] and ls==2:\n",
    "                LPS[i][j] = 2\n",
    "            elif arr[i] == arr[j]:\n",
    "                LPS[i][j] = 2 + LPS[i+1][j-1]\n",
    "            else:\n",
    "                LPS[i][j] = max(LPS[i+1][j], LPS[i][j-1])\n",
    "    return LPS[0][n-1]"
   ]
  },
  {
   "cell_type": "code",
   "execution_count": 8,
   "metadata": {},
   "outputs": [
    {
     "data": {
      "text/plain": [
       "3"
      ]
     },
     "execution_count": 8,
     "metadata": {},
     "output_type": "execute_result"
    }
   ],
   "source": [
    "arr = \"raudra\"\n",
    "n = len(arr)\n",
    "long_palindrome_seq(arr, n)"
   ]
  },
  {
   "cell_type": "code",
   "execution_count": 9,
   "metadata": {},
   "outputs": [
    {
     "data": {
      "text/plain": [
       "5"
      ]
     },
     "execution_count": 9,
     "metadata": {},
     "output_type": "execute_result"
    }
   ],
   "source": [
    "arr = \"GEEKSFORGEEKS\"\n",
    "n = len(arr)\n",
    "long_palindrome_seq(arr, n)"
   ]
  },
  {
   "cell_type": "code",
   "execution_count": 10,
   "metadata": {},
   "outputs": [
    {
     "data": {
      "text/plain": [
       "7"
      ]
     },
     "execution_count": 10,
     "metadata": {},
     "output_type": "execute_result"
    }
   ],
   "source": [
    "arr = \"GEEKS FOR GEEKS\"\n",
    "n = len(arr)\n",
    "long_palindrome_seq(arr, n)"
   ]
  },
  {
   "cell_type": "code",
   "execution_count": null,
   "metadata": {},
   "outputs": [],
   "source": []
  }
 ],
 "metadata": {
  "kernelspec": {
   "display_name": "Python 3",
   "language": "python",
   "name": "python3"
  },
  "language_info": {
   "codemirror_mode": {
    "name": "ipython",
    "version": 3
   },
   "file_extension": ".py",
   "mimetype": "text/x-python",
   "name": "python",
   "nbconvert_exporter": "python",
   "pygments_lexer": "ipython3",
   "version": "3.9.0"
  }
 },
 "nbformat": 4,
 "nbformat_minor": 4
}
