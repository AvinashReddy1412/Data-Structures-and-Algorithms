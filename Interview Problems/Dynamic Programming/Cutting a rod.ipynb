{
 "cells": [
  {
   "cell_type": "markdown",
   "metadata": {},
   "source": [
    "# Refer screenshot for explanation, complexity and approach "
   ]
  },
  {
   "cell_type": "markdown",
   "metadata": {},
   "source": [
    "    Input : {1, 5, 8, 9, 10, 17, 17, 20}, 8\n",
    "    Output : 22"
   ]
  },
  {
   "cell_type": "markdown",
   "metadata": {},
   "source": [
    "# Implementation"
   ]
  },
  {
   "cell_type": "code",
   "execution_count": 9,
   "metadata": {},
   "outputs": [],
   "source": [
    "def cut_rod(price, n):\n",
    "    val = [0 for i in range(n+1)] \n",
    "    val[0] = 0 # price for rod 0 is 0\n",
    "    for i in range(1, n+1): # start from 1\n",
    "        max_val = -1\n",
    "        for j in range(i):\n",
    "            max_val = max(max_val, price[j]+val[i-j-1]) # when j is i-1, it covers whole rod as well since i-j-1 \n",
    "            # becomes 0 and price[i-1] wil give us price for rod of 1 inches\n",
    "        val[i] = max_val\n",
    "    return val[n]"
   ]
  },
  {
   "cell_type": "code",
   "execution_count": 10,
   "metadata": {},
   "outputs": [
    {
     "data": {
      "text/plain": [
       "22"
      ]
     },
     "execution_count": 10,
     "metadata": {},
     "output_type": "execute_result"
    }
   ],
   "source": [
    "price = [1, 5, 8, 9, 10, 17, 17, 20]\n",
    "n = len(price)\n",
    "cut_rod(price, n)"
   ]
  },
  {
   "cell_type": "code",
   "execution_count": null,
   "metadata": {},
   "outputs": [],
   "source": []
  }
 ],
 "metadata": {
  "kernelspec": {
   "display_name": "Python 3",
   "language": "python",
   "name": "python3"
  },
  "language_info": {
   "codemirror_mode": {
    "name": "ipython",
    "version": 3
   },
   "file_extension": ".py",
   "mimetype": "text/x-python",
   "name": "python",
   "nbconvert_exporter": "python",
   "pygments_lexer": "ipython3",
   "version": "3.9.0"
  }
 },
 "nbformat": 4,
 "nbformat_minor": 4
}
