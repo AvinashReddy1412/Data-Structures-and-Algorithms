{
 "cells": [
  {
   "cell_type": "markdown",
   "metadata": {},
   "source": [
    "# Refer screenshot for explanation, approach and implementation"
   ]
  },
  {
   "cell_type": "markdown",
   "metadata": {},
   "source": [
    "    INPUT : 5, [1,2,3]\n",
    "    OUTPUT : 5"
   ]
  },
  {
   "cell_type": "markdown",
   "metadata": {},
   "source": [
    "# Implementation"
   ]
  },
  {
   "cell_type": "code",
   "execution_count": 6,
   "metadata": {},
   "outputs": [],
   "source": [
    "def coin_change(amt, coins, n):\n",
    "    no_of_ways = [[0 for i in range(amt+1)] for j in range(n+1)]\n",
    "    for i in range(amt+1):\n",
    "        no_of_ways[0][i] = 0 # first row = 0 since no of ways amount can be formed with zero coins is 0\n",
    "    for i in range(n+1):\n",
    "        no_of_ways[i][0] = 1 # first col = 0 since amount 0 can be formed in 1 way\n",
    "    for i in range(1, n+1): # coin\n",
    "        for j in range(1, amt+1): # amount\n",
    "            if j >= coins[i-1]:\n",
    "                X = no_of_ways[i][j-coins[i-1]] # including coin atleast once\n",
    "            else:\n",
    "                X = 0 # cannot include coin\n",
    "            \n",
    "            Y = no_of_ways[i-1][j] # exclude coin\n",
    "            no_of_ways[i][j] = X+Y\n",
    "    return no_of_ways[n][amt]"
   ]
  },
  {
   "cell_type": "code",
   "execution_count": 7,
   "metadata": {},
   "outputs": [
    {
     "data": {
      "text/plain": [
       "5"
      ]
     },
     "execution_count": 7,
     "metadata": {},
     "output_type": "execute_result"
    }
   ],
   "source": [
    "amt = 5\n",
    "coins = [1,2,3]\n",
    "n = len(coins)\n",
    "coin_change(amt, coins, n)\n",
    "# ans\n",
    "# 5"
   ]
  },
  {
   "cell_type": "code",
   "execution_count": 8,
   "metadata": {},
   "outputs": [
    {
     "data": {
      "text/plain": [
       "4"
      ]
     },
     "execution_count": 8,
     "metadata": {},
     "output_type": "execute_result"
    }
   ],
   "source": [
    "amt = 4\n",
    "coins = [1,2,3]\n",
    "n = len(coins)\n",
    "coin_change(amt, coins, n)\n",
    "# ans\n",
    "# 4"
   ]
  },
  {
   "cell_type": "code",
   "execution_count": null,
   "metadata": {},
   "outputs": [],
   "source": []
  }
 ],
 "metadata": {
  "kernelspec": {
   "display_name": "Python 3",
   "language": "python",
   "name": "python3"
  },
  "language_info": {
   "codemirror_mode": {
    "name": "ipython",
    "version": 3
   },
   "file_extension": ".py",
   "mimetype": "text/x-python",
   "name": "python",
   "nbconvert_exporter": "python",
   "pygments_lexer": "ipython3",
   "version": "3.9.0"
  }
 },
 "nbformat": 4,
 "nbformat_minor": 4
}
