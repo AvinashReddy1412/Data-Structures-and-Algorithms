{
 "cells": [
  {
   "cell_type": "markdown",
   "metadata": {},
   "source": [
    "# Refer screenshot for explanation, algorithm and complexity"
   ]
  },
  {
   "cell_type": "markdown",
   "metadata": {},
   "source": [
    "    INPUT : [20, 3, 1, 15, 16, 2, 12, 13]\n",
    "    OUTPUT : sum = 34\n",
    "             subsequence = [3, 15, 16]"
   ]
  },
  {
   "cell_type": "markdown",
   "metadata": {},
   "source": [
    "# Implementation"
   ]
  },
  {
   "cell_type": "code",
   "execution_count": 35,
   "metadata": {},
   "outputs": [],
   "source": [
    "def max_sum_of_increasing_ss(arr, n):\n",
    "    sum_arr = []\n",
    "    subsequences = []\n",
    "    for i in range(n):\n",
    "        sum_arr.append(arr[i])\n",
    "        subsequences.append([i])\n",
    "    for i in range(1, n):\n",
    "        for j in range(i):\n",
    "            if arr[j] < arr[i] and sum_arr[i] < sum_arr[j]+arr[i]:\n",
    "                sum_arr[i] = sum_arr[j]+arr[i]\n",
    "                subsequences[i] = [i] # clearing incase of previous updates\n",
    "                subsequences[i].extend(subsequences[j])\n",
    "    max_sum = 0\n",
    "    for i in range(n):\n",
    "        if sum_arr[i]> max_sum:\n",
    "            max_sum = sum_arr[i]\n",
    "            index = i\n",
    "    for i in subsequences[index]:\n",
    "        print(arr[i], end=\" \")\n",
    "    return max_sum\n",
    "    "
   ]
  },
  {
   "cell_type": "code",
   "execution_count": 36,
   "metadata": {},
   "outputs": [
    {
     "name": "stdout",
     "output_type": "stream",
     "text": [
      "16 15 3 "
     ]
    },
    {
     "data": {
      "text/plain": [
       "34"
      ]
     },
     "execution_count": 36,
     "metadata": {},
     "output_type": "execute_result"
    }
   ],
   "source": [
    "arr = [20, 3, 1, 15, 16, 2, 12, 13]\n",
    "n = len(arr)\n",
    "max_sum_of_increasing_ss(arr, n)"
   ]
  },
  {
   "cell_type": "code",
   "execution_count": null,
   "metadata": {},
   "outputs": [],
   "source": []
  }
 ],
 "metadata": {
  "kernelspec": {
   "display_name": "Python 3",
   "language": "python",
   "name": "python3"
  },
  "language_info": {
   "codemirror_mode": {
    "name": "ipython",
    "version": 3
   },
   "file_extension": ".py",
   "mimetype": "text/x-python",
   "name": "python",
   "nbconvert_exporter": "python",
   "pygments_lexer": "ipython3",
   "version": "3.9.0"
  }
 },
 "nbformat": 4,
 "nbformat_minor": 4
}
