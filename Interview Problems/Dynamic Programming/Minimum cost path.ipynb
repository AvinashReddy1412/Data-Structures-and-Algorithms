{
 "cells": [
  {
   "cell_type": "markdown",
   "metadata": {},
   "source": [
    "# Refer screenshot for explanation, complexity and approach"
   ]
  },
  {
   "cell_type": "markdown",
   "metadata": {},
   "source": [
    "    INPUT : [[1,2,3,4],[4,5,8,3],[1,5,9,2],[6,2,4,3]]\n",
    "    OUTPUT : 14"
   ]
  },
  {
   "cell_type": "markdown",
   "metadata": {},
   "source": [
    "# Implementation"
   ]
  },
  {
   "cell_type": "code",
   "execution_count": 2,
   "metadata": {},
   "outputs": [],
   "source": [
    "def min_cost_path(cost, m, n):\n",
    "    min_cost = [[0 for i in range(m+1)] for j in range(n+1)]\n",
    "    min_cost[0][0] = cost[0][0]\n",
    "    for i in range(1, m+1):\n",
    "        min_cost[i][0] = min_cost[i-1][0] + cost[i][0]\n",
    "    for j in range(1, n+1):\n",
    "        min_cost[0][j] = min_cost[0][j-1] + cost[0][j]\n",
    "    for i in range(1, m+1):\n",
    "        for j in range(1, n+1):\n",
    "            min_cost[i][j] = min(min_cost[i-1][j-1], min_cost[i-1][j], min_cost[i][j-1]) + cost[i][j]\n",
    "    return min_cost[m][n]"
   ]
  },
  {
   "cell_type": "code",
   "execution_count": 3,
   "metadata": {},
   "outputs": [
    {
     "data": {
      "text/plain": [
       "14"
      ]
     },
     "execution_count": 3,
     "metadata": {},
     "output_type": "execute_result"
    }
   ],
   "source": [
    "cost = [[1,2,3,4],[4,5,8,3],[1,5,9,2],[6,2,4,3]]\n",
    "m = 3\n",
    "n = 3\n",
    "min_cost_path(cost, m, n)\n",
    "# ans\n",
    "# 14"
   ]
  },
  {
   "cell_type": "code",
   "execution_count": null,
   "metadata": {},
   "outputs": [],
   "source": []
  }
 ],
 "metadata": {
  "kernelspec": {
   "display_name": "Python 3",
   "language": "python",
   "name": "python3"
  },
  "language_info": {
   "codemirror_mode": {
    "name": "ipython",
    "version": 3
   },
   "file_extension": ".py",
   "mimetype": "text/x-python",
   "name": "python",
   "nbconvert_exporter": "python",
   "pygments_lexer": "ipython3",
   "version": "3.9.0"
  }
 },
 "nbformat": 4,
 "nbformat_minor": 4
}
