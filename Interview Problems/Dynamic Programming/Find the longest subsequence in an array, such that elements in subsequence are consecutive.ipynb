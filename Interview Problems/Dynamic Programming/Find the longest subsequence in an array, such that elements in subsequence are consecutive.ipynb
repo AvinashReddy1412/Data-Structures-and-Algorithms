{
 "cells": [
  {
   "cell_type": "markdown",
   "metadata": {},
   "source": [
    "# Refer screenshot for explanation, algorithm and approach"
   ]
  },
  {
   "cell_type": "markdown",
   "metadata": {},
   "source": [
    "    NOTE : Implementation is sliglty different from screenshot. Implemented as per GFG\n",
    "    https://www.geeksforgeeks.org/longest-consecutive-subsequence/\n",
    "    \n",
    "    In screenshot , we processed for first element by decrementing. But in actual we process only if that elements starts the subsequence. So we need not update the flags to 'P'. We are processing only for first element. So we dont process for the other elements and that way each element gets visited exactly twice and complexity remains same.\n",
    "    example : we have 3,4,5,6,7 in the array as 4,5,6,7,3. For 4 we dont process. for 3 we process for all. So each elements gets visited twice.\n",
    "    \n",
    "    \n",
    "    INPUT : [10, 4, 3, 11, 13, 5, 6, 12, 7]\n",
    "    OUTPUT : 5"
   ]
  },
  {
   "cell_type": "markdown",
   "metadata": {},
   "source": [
    "# Implementation"
   ]
  },
  {
   "cell_type": "code",
   "execution_count": 10,
   "metadata": {},
   "outputs": [],
   "source": [
    "def find_LS_consecutive(arr, n):\n",
    "    hash_table = set()\n",
    "    LS_len = 0\n",
    "    for i in range(n):\n",
    "        hash_table.add(arr[i])\n",
    "    for ele in arr:\n",
    "        sub_count = 0\n",
    "        if ele-1 not in hash_table: # checking if element forms the first element of subsequence\n",
    "            while ele in hash_table:\n",
    "                ele +=1 # increment element\n",
    "                sub_count+=1\n",
    "            LS_len = max(LS_len, sub_count) # updating ans\n",
    "    return LS_len"
   ]
  },
  {
   "cell_type": "code",
   "execution_count": 11,
   "metadata": {},
   "outputs": [
    {
     "data": {
      "text/plain": [
       "5"
      ]
     },
     "execution_count": 11,
     "metadata": {},
     "output_type": "execute_result"
    }
   ],
   "source": [
    "arr = [10, 4, 3, 11, 13, 5, 6, 12, 7]\n",
    "n = len(arr)\n",
    "find_LS_consecutive(arr, n)"
   ]
  },
  {
   "cell_type": "code",
   "execution_count": 12,
   "metadata": {},
   "outputs": [
    {
     "data": {
      "text/plain": [
       "4"
      ]
     },
     "execution_count": 12,
     "metadata": {},
     "output_type": "execute_result"
    }
   ],
   "source": [
    "arr = [10, 4, 23, 11, 13, 500, 6, 12, 7]\n",
    "n = len(arr)\n",
    "find_LS_consecutive(arr, n)"
   ]
  },
  {
   "cell_type": "code",
   "execution_count": null,
   "metadata": {},
   "outputs": [],
   "source": []
  },
  {
   "cell_type": "code",
   "execution_count": null,
   "metadata": {},
   "outputs": [],
   "source": []
  }
 ],
 "metadata": {
  "kernelspec": {
   "display_name": "Python 3",
   "language": "python",
   "name": "python3"
  },
  "language_info": {
   "codemirror_mode": {
    "name": "ipython",
    "version": 3
   },
   "file_extension": ".py",
   "mimetype": "text/x-python",
   "name": "python",
   "nbconvert_exporter": "python",
   "pygments_lexer": "ipython3",
   "version": "3.9.0"
  }
 },
 "nbformat": 4,
 "nbformat_minor": 4
}
