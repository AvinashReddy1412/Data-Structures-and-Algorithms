{
 "cells": [
  {
   "cell_type": "markdown",
   "metadata": {},
   "source": [
    "# Refer screenshot for explanation, approach and complexity "
   ]
  },
  {
   "cell_type": "markdown",
   "metadata": {},
   "source": [
    "    INPUT : emadamz\n",
    "    OUTPUT : 5"
   ]
  },
  {
   "cell_type": "markdown",
   "metadata": {},
   "source": [
    "# Implementation"
   ]
  },
  {
   "cell_type": "code",
   "execution_count": 10,
   "metadata": {},
   "outputs": [],
   "source": [
    "def LPS(input_str, n):\n",
    "    max_len = 1\n",
    "    for i in range(1, n+1):\n",
    "        low = i-1\n",
    "        high = i\n",
    "        \n",
    "        while(low>=0 and high<n and input_str[low]==input_str[high]):\n",
    "            if ((high-low+1)> max_len):\n",
    "                max_len = high-low+1\n",
    "                start = low\n",
    "            low-=1\n",
    "            high+=1\n",
    "        \n",
    "        low = i-1\n",
    "        high = i+1\n",
    "        \n",
    "        while(low>=0 and high<n and input_str[low]==input_str[high]):\n",
    "            if ((high-low+1)> max_len):\n",
    "                max_len = high-low+1\n",
    "                start = low\n",
    "            low-=1\n",
    "            high+=1  \n",
    "    return max_len, input_str[start:start+max_len]"
   ]
  },
  {
   "cell_type": "code",
   "execution_count": 11,
   "metadata": {},
   "outputs": [
    {
     "data": {
      "text/plain": [
       "(5, 'madam')"
      ]
     },
     "execution_count": 11,
     "metadata": {},
     "output_type": "execute_result"
    }
   ],
   "source": [
    "input_str= \"emadamz\"\n",
    "n = len(input_str)\n",
    "LPS(input_str, n)\n",
    "# ans\n",
    "# 5, madam"
   ]
  },
  {
   "cell_type": "code",
   "execution_count": 12,
   "metadata": {},
   "outputs": [
    {
     "data": {
      "text/plain": [
       "(3, 'sas')"
      ]
     },
     "execution_count": 12,
     "metadata": {},
     "output_type": "execute_result"
    }
   ],
   "source": [
    "input_str= \"esass\"\n",
    "n = len(input_str)\n",
    "LPS(input_str, n)\n",
    "# ans\n",
    "# 3, sas"
   ]
  },
  {
   "cell_type": "code",
   "execution_count": 13,
   "metadata": {},
   "outputs": [
    {
     "data": {
      "text/plain": [
       "(5, 'anana')"
      ]
     },
     "execution_count": 13,
     "metadata": {},
     "output_type": "execute_result"
    }
   ],
   "source": [
    "input_str= \"bananas\"\n",
    "n = len(input_str)\n",
    "LPS(input_str, n)\n",
    "# ans\n",
    "# 5, anana"
   ]
  },
  {
   "cell_type": "code",
   "execution_count": null,
   "metadata": {},
   "outputs": [],
   "source": []
  }
 ],
 "metadata": {
  "kernelspec": {
   "display_name": "Python 3",
   "language": "python",
   "name": "python3"
  },
  "language_info": {
   "codemirror_mode": {
    "name": "ipython",
    "version": 3
   },
   "file_extension": ".py",
   "mimetype": "text/x-python",
   "name": "python",
   "nbconvert_exporter": "python",
   "pygments_lexer": "ipython3",
   "version": "3.9.0"
  }
 },
 "nbformat": 4,
 "nbformat_minor": 4
}
