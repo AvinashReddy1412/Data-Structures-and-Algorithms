{
 "cells": [
  {
   "cell_type": "markdown",
   "metadata": {},
   "source": [
    "# Refer screenshot for explanation, approach and complexity "
   ]
  },
  {
   "cell_type": "markdown",
   "metadata": {},
   "source": [
    "    INPUT : 12\n",
    "    OUTPUT : 51"
   ]
  },
  {
   "cell_type": "markdown",
   "metadata": {},
   "source": [
    "# Implementation"
   ]
  },
  {
   "cell_type": "code",
   "execution_count": 72,
   "metadata": {},
   "outputs": [],
   "source": [
    "from math import pow\n",
    "from math import log10\n",
    "def sum_arr(d):\n",
    "    a = [0, 45]\n",
    "    for i in range(2, d+1):\n",
    "        a.append(int(a[i-1] * 10 + (pow(10,i-1)* 45) ))\n",
    "    return a\n",
    "\n",
    "def compute_digit_sum(n):\n",
    "    if n==0:\n",
    "        return 0\n",
    "    d = int(log10(n))\n",
    "    a = sum_arr(d)\n",
    "    lmd = n // pow(10,d)    \n",
    "    return int(lmd * a[d] + (((lmd-1)* lmd)//2) * pow(10, d) + lmd * (1 + (n % pow(10, d))) +compute_digit_sum((n % pow(10, d))))"
   ]
  },
  {
   "cell_type": "code",
   "execution_count": 73,
   "metadata": {},
   "outputs": [
    {
     "data": {
      "text/plain": [
       "51"
      ]
     },
     "execution_count": 73,
     "metadata": {},
     "output_type": "execute_result"
    }
   ],
   "source": [
    "n = 12\n",
    "compute_digit_sum(n)\n",
    "# ans\n",
    "# 51"
   ]
  },
  {
   "cell_type": "code",
   "execution_count": 74,
   "metadata": {},
   "outputs": [
    {
     "data": {
      "text/plain": [
       "3241"
      ]
     },
     "execution_count": 74,
     "metadata": {},
     "output_type": "execute_result"
    }
   ],
   "source": [
    "n = 328\n",
    "compute_digit_sum(n)\n",
    "# ans\n",
    "# 3241"
   ]
  },
  {
   "cell_type": "code",
   "execution_count": 75,
   "metadata": {},
   "outputs": [
    {
     "data": {
      "text/plain": [
       "3.629205657102304"
      ]
     },
     "execution_count": 75,
     "metadata": {},
     "output_type": "execute_result"
    }
   ],
   "source": [
    "# verify\n",
    "log10(4258)"
   ]
  },
  {
   "cell_type": "code",
   "execution_count": null,
   "metadata": {},
   "outputs": [],
   "source": []
  },
  {
   "cell_type": "code",
   "execution_count": null,
   "metadata": {},
   "outputs": [],
   "source": []
  }
 ],
 "metadata": {
  "kernelspec": {
   "display_name": "Python 3",
   "language": "python",
   "name": "python3"
  },
  "language_info": {
   "codemirror_mode": {
    "name": "ipython",
    "version": 3
   },
   "file_extension": ".py",
   "mimetype": "text/x-python",
   "name": "python",
   "nbconvert_exporter": "python",
   "pygments_lexer": "ipython3",
   "version": "3.9.0"
  }
 },
 "nbformat": 4,
 "nbformat_minor": 4
}
