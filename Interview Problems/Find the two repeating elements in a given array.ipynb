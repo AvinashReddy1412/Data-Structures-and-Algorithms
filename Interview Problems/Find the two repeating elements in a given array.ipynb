{
 "cells": [
  {
   "cell_type": "markdown",
   "metadata": {},
   "source": [
    "# Understanding the problem statement"
   ]
  },
  {
   "cell_type": "raw",
   "metadata": {},
   "source": [
    "Consider an array such that 1<=arr[i]<=n i.e all the elements are in the range of [1,n]. All the elements\n",
    "in the array occur once except for two repeating elements.\n",
    "suppose if n=7 then elements will be like [1,2,3,4,5,1,3].\n",
    "In the example 1 and 3 are repeated, but any elements could repeat but the range will be from 1 to n-2.\n",
    "Actual range 1<=arr[i]<=n-2.\n",
    "\n",
    "Input  : [1,2,3,4,5,1,3]\n",
    "Output : [1,3]"
   ]
  },
  {
   "cell_type": "markdown",
   "metadata": {},
   "source": [
    "# Approach 1"
   ]
  },
  {
   "cell_type": "markdown",
   "metadata": {},
   "source": [
    "Find all possible pairs out of n elements (nc2) using two for loops and check if they are repeating or not.\n",
    "### Time Complexity : O(n^2)\n",
    "### Space Complexity : O(1)"
   ]
  },
  {
   "cell_type": "markdown",
   "metadata": {},
   "source": [
    "# Approach 2"
   ]
  },
  {
   "cell_type": "markdown",
   "metadata": {},
   "source": [
    "1. Maintain a list of size n.\n",
    "2. Traverse the given array and increment value at that index in the list.\n",
    "If 1 is repeated increment count at list[1] i.e [0,1,0,0,0]\n",
    "3. Traverse the list and print the indexes where count = 2.\n",
    "[1,2,1,1,2]\n",
    "\n",
    "### Time Complexity: O(n)\n",
    "### Space Complexity: O(n)"
   ]
  },
  {
   "cell_type": "markdown",
   "metadata": {},
   "source": [
    "# Approach 3"
   ]
  },
  {
   "cell_type": "markdown",
   "metadata": {},
   "source": [
    "1. Find the sum of the given array S.\n",
    "2. Find the sum of first (n-2) natural numbers using n(n+1)/2 formula S1.\n",
    "3. Compute the difference S-S1 which gives sum of repeating elements. (X + Y)\n",
    "4. Find the product of the given array. P\n",
    "5. Find the product of first (n-2) natural numbers using n!. P1\n",
    "6. Compute the division P/P1 which gives product of repeating elements.(X * Y)\n",
    "7. Compute the difference of repeating elements using (X-Y) = sqrt(((X+Y)^2)- 4XY)\n",
    "8. We have X+Y and X-Y we can compute X and Y.\n",
    "9. Although the time complexity is O(n) we dont use this approach because this involves too multiplcations\n",
    "and multiplication is computationally expensive.\n",
    "\n",
    "### Time Complexity : O(n)\n",
    "### Space Complexity : O(1)"
   ]
  },
  {
   "cell_type": "markdown",
   "metadata": {},
   "source": [
    "# Approach 4"
   ]
  },
  {
   "cell_type": "markdown",
   "metadata": {},
   "source": [
    "1. Find the xor of all elements in the given array. [1,2,3,4,1,2]\n",
    "2. Xor the obtained result with the first (n-2) natural numbers to obtain the xor of repeating elements. (X^Y).\n",
    "Xor with same element cancels out each other. (1^2^3^4^1^2)^(1^2^3^4) = 1^2\n",
    "3. Now find the right most set bit in X^Y using formula a & ~(a-1).\n",
    "4. Divide the given array based on the right most set bit. Now the two repeating elements goes into two\n",
    "different lists. [1,1,3],[2,2,4]\n",
    "5. Also divide first n-2 natural numbers based on right most set bit. [1,3],[2,4]\n",
    "6. Now xor the divided natural numbers list and divided array list to get repeating elements\n",
    "[1,1,3] ^ [1,3] = [1]\n",
    "[2,2,4] ^ [2,4] = [2]\n",
    "7. [1,2] are repeating elements\n",
    "\n",
    "### Time Complexity : O(n)\n",
    "### Space Complexity : O(1)"
   ]
  },
  {
   "cell_type": "markdown",
   "metadata": {},
   "source": [
    "# Implementation"
   ]
  },
  {
   "cell_type": "code",
   "execution_count": 3,
   "metadata": {},
   "outputs": [],
   "source": [
    "def check_set(n,k):\n",
    "    if (1<<k)&(n):\n",
    "        return 1\n",
    "    return 0\n",
    "\n",
    "def findRepeating(arr,size):\n",
    "    arr_xor = 0\n",
    "    for i in range(size):\n",
    "        arr_xor = arr_xor ^ arr[i]\n",
    "    for i in range(1,size-1):\n",
    "        arr_xor = arr_xor ^ i\n",
    "    set_bit = arr_xor & (~(arr_xor -1))\n",
    "    first_num = 0\n",
    "    second_num = 0\n",
    "    for i in range(size):\n",
    "        if check_set(arr[i],set_bit):\n",
    "            first_num = first_num ^ arr[i]\n",
    "        else:\n",
    "            second_num = second_num ^ arr[i]\n",
    "    for i in range(1,size-1):\n",
    "        if check_set(i,set_bit):\n",
    "            first_num = first_num ^ i\n",
    "        else:\n",
    "            second_num = second_num ^ i\n",
    "    return [first_num,second_num]\n",
    "        \n",
    "        \n",
    "    "
   ]
  },
  {
   "cell_type": "code",
   "execution_count": 4,
   "metadata": {},
   "outputs": [
    {
     "name": "stdout",
     "output_type": "stream",
     "text": [
      "[2, 1]\n"
     ]
    }
   ],
   "source": [
    "arr = [1,2,3,4,1,2]\n",
    "size = len(arr)\n",
    "print(findRepeating(arr,size))\n",
    "# ans \n",
    "# [2, 1]"
   ]
  },
  {
   "cell_type": "code",
   "execution_count": 6,
   "metadata": {},
   "outputs": [
    {
     "name": "stdout",
     "output_type": "stream",
     "text": [
      "[2, 1]\n"
     ]
    }
   ],
   "source": [
    "arr = [1,2,2,3,1,4]\n",
    "size = len(arr)\n",
    "print(findRepeating(arr,size))\n",
    "# ans \n",
    "# [2, 1]"
   ]
  },
  {
   "cell_type": "code",
   "execution_count": 7,
   "metadata": {},
   "outputs": [
    {
     "name": "stdout",
     "output_type": "stream",
     "text": [
      "[5, 3]\n"
     ]
    }
   ],
   "source": [
    "arr = [1,3,2,3,5,4,5]\n",
    "size = len(arr)\n",
    "print(findRepeating(arr,size))\n",
    "# ans \n",
    "# [5, 3]"
   ]
  },
  {
   "cell_type": "markdown",
   "metadata": {},
   "source": [
    "# Approach 4"
   ]
  },
  {
   "cell_type": "markdown",
   "metadata": {},
   "source": [
    "1. This is similar to finding duplicates program in O(n) time and O(1) extra space.\n",
    "2. Iterate through the array and make integer at index arr[i] to negative if it is positive.\n",
    "If it is already negative it means we already have arr[i] at some other place in array.\n",
    "3. So arr[i] is considered as repeated."
   ]
  },
  {
   "cell_type": "code",
   "execution_count": null,
   "metadata": {},
   "outputs": [],
   "source": []
  }
 ],
 "metadata": {
  "kernelspec": {
   "display_name": "Python 3",
   "language": "python",
   "name": "python3"
  },
  "language_info": {
   "codemirror_mode": {
    "name": "ipython",
    "version": 3
   },
   "file_extension": ".py",
   "mimetype": "text/x-python",
   "name": "python",
   "nbconvert_exporter": "python",
   "pygments_lexer": "ipython3",
   "version": "3.5.2"
  }
 },
 "nbformat": 4,
 "nbformat_minor": 2
}
