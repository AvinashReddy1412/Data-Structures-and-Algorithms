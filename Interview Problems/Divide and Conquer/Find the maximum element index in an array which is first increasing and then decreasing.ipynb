{
 "cells": [
  {
   "cell_type": "markdown",
   "metadata": {},
   "source": [
    "# Refer screenshot for explanation, approach and complexity"
   ]
  },
  {
   "cell_type": "markdown",
   "metadata": {},
   "source": [
    "    INPUT : 1 2 10 20 9 5 4\n",
    "    OUTPUT : 20"
   ]
  },
  {
   "cell_type": "markdown",
   "metadata": {},
   "source": [
    "# Implementation"
   ]
  },
  {
   "cell_type": "code",
   "execution_count": 1,
   "metadata": {},
   "outputs": [],
   "source": [
    "def get_maximum(arr, left, right):\n",
    "    if left == right: # only one element\n",
    "        return arr[left]\n",
    "    if right== left+1 and arr[left] >= arr[right]: # two elements\n",
    "        return arr[left]\n",
    "    if right == left+1 and arr[left] < arr[right]:\n",
    "        return arr[right]\n",
    "    mid = (left+right)//2\n",
    "    if arr[mid-1] < arr[mid] and arr[mid+1] < arr[mid]:\n",
    "        return arr[mid]\n",
    "    if arr[mid-1] < arr[mid] and arr[mid] < arr[mid+1]: # present in increasing side then search on right half\n",
    "        return get_maximum(arr, mid+1, right)\n",
    "    else:\n",
    "        return get_maximum(arr, left, mid-1)"
   ]
  },
  {
   "cell_type": "markdown",
   "metadata": {},
   "source": [
    "# Test"
   ]
  },
  {
   "cell_type": "code",
   "execution_count": 2,
   "metadata": {},
   "outputs": [
    {
     "data": {
      "text/plain": [
       "20"
      ]
     },
     "execution_count": 2,
     "metadata": {},
     "output_type": "execute_result"
    }
   ],
   "source": [
    "arr = [1, 2, 10, 20, 9, 5, 4]\n",
    "left = 0\n",
    "right = len(arr)-1\n",
    "get_maximum(arr, left, right)\n",
    "# ans\n",
    "# 20"
   ]
  },
  {
   "cell_type": "code",
   "execution_count": 3,
   "metadata": {},
   "outputs": [
    {
     "data": {
      "text/plain": [
       "90"
      ]
     },
     "execution_count": 3,
     "metadata": {},
     "output_type": "execute_result"
    }
   ],
   "source": [
    "arr = [1, 2, 90, 20, 9, 5, 4]\n",
    "left = 0\n",
    "right = len(arr)-1\n",
    "get_maximum(arr, left, right)\n",
    "# ans\n",
    "# 90"
   ]
  },
  {
   "cell_type": "markdown",
   "metadata": {},
   "source": [
    "    check screenshot of -- \"implementation of find peak element\"\n",
    "\n",
    "    There instead of writing conditions for one element, two elements, code is written using OR short circuiting \n",
    "    :-P\n",
    "    Logic is same. just minor changes"
   ]
  },
  {
   "cell_type": "code",
   "execution_count": null,
   "metadata": {},
   "outputs": [],
   "source": []
  }
 ],
 "metadata": {
  "kernelspec": {
   "display_name": "Python 3",
   "language": "python",
   "name": "python3"
  },
  "language_info": {
   "codemirror_mode": {
    "name": "ipython",
    "version": 3
   },
   "file_extension": ".py",
   "mimetype": "text/x-python",
   "name": "python",
   "nbconvert_exporter": "python",
   "pygments_lexer": "ipython3",
   "version": "3.9.0"
  }
 },
 "nbformat": 4,
 "nbformat_minor": 4
}
