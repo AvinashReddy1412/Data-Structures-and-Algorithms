{
 "cells": [
  {
   "cell_type": "markdown",
   "metadata": {},
   "source": [
    "# Refer screenshot for clear explanation, approach and complexity"
   ]
  },
  {
   "cell_type": "markdown",
   "metadata": {},
   "source": [
    "    INPUT : [0 0 0 0 0 0 1 1 1 1 1 1]\n",
    "    OUTPUT : 6"
   ]
  },
  {
   "cell_type": "markdown",
   "metadata": {},
   "source": [
    "# Implementation"
   ]
  },
  {
   "cell_type": "code",
   "execution_count": 25,
   "metadata": {},
   "outputs": [],
   "source": [
    "def get_first_one(arr, start, end):\n",
    "    if start <= end:\n",
    "        middle = (start+end)//2\n",
    "        if (middle == 0 or arr[middle-1] == 0) and (arr[middle]==1):\n",
    "            return middle\n",
    "        if arr[middle] == 0:\n",
    "            return get_first_one(arr, middle+1, end)\n",
    "        return get_first_one(arr, 0, middle-1)\n",
    "    return -1\n",
    "    \n",
    "def number_of_ones(arr, size):\n",
    "    first = get_first_one(arr, 0, size-1)\n",
    "    if first == -1:\n",
    "        return 0\n",
    "    return size-first"
   ]
  },
  {
   "cell_type": "markdown",
   "metadata": {},
   "source": [
    "# Test"
   ]
  },
  {
   "cell_type": "code",
   "execution_count": 26,
   "metadata": {},
   "outputs": [
    {
     "data": {
      "text/plain": [
       "6"
      ]
     },
     "execution_count": 26,
     "metadata": {},
     "output_type": "execute_result"
    }
   ],
   "source": [
    "arr = [0, 0, 0, 0, 0, 0, 1, 1, 1, 1, 1, 1]\n",
    "number_of_ones(arr, len(arr))\n",
    "# ans \n",
    "# 6"
   ]
  },
  {
   "cell_type": "code",
   "execution_count": 27,
   "metadata": {},
   "outputs": [
    {
     "data": {
      "text/plain": [
       "12"
      ]
     },
     "execution_count": 27,
     "metadata": {},
     "output_type": "execute_result"
    }
   ],
   "source": [
    "arr = [1, 1, 1, 1, 1, 1, 1, 1, 1, 1, 1, 1]\n",
    "number_of_ones(arr, len(arr))\n",
    "# ans \n",
    "# 12"
   ]
  },
  {
   "cell_type": "code",
   "execution_count": 28,
   "metadata": {},
   "outputs": [
    {
     "data": {
      "text/plain": [
       "0"
      ]
     },
     "execution_count": 28,
     "metadata": {},
     "output_type": "execute_result"
    }
   ],
   "source": [
    "arr = [0, 0, 0, 0, 0]\n",
    "number_of_ones(arr, len(arr))\n",
    "# ans \n",
    "# 0"
   ]
  },
  {
   "cell_type": "code",
   "execution_count": null,
   "metadata": {},
   "outputs": [],
   "source": []
  }
 ],
 "metadata": {
  "kernelspec": {
   "display_name": "Python 3",
   "language": "python",
   "name": "python3"
  },
  "language_info": {
   "codemirror_mode": {
    "name": "ipython",
    "version": 3
   },
   "file_extension": ".py",
   "mimetype": "text/x-python",
   "name": "python",
   "nbconvert_exporter": "python",
   "pygments_lexer": "ipython3",
   "version": "3.9.0"
  }
 },
 "nbformat": 4,
 "nbformat_minor": 4
}
