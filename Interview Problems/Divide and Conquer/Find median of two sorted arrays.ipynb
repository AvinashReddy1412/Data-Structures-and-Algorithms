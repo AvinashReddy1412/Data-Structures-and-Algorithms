{
 "cells": [
  {
   "cell_type": "markdown",
   "metadata": {},
   "source": [
    "# Refer screenshot for explanation, approach and complexity"
   ]
  },
  {
   "cell_type": "markdown",
   "metadata": {},
   "source": [
    "    INPUT : 5 8 10 21 25\n",
    "            7 9 15 17 19\n",
    "    \n",
    "    OUTPUT : 10,15 --> 12.5"
   ]
  },
  {
   "cell_type": "markdown",
   "metadata": {},
   "source": [
    "# Implementation"
   ]
  },
  {
   "cell_type": "code",
   "execution_count": 38,
   "metadata": {},
   "outputs": [],
   "source": [
    "def median(arr, size):\n",
    "    if size%2 == 0:\n",
    "        return (arr[(size//2)-1]+arr[size//2])/2\n",
    "    else:\n",
    "        return arr[size//2]\n",
    "    \n",
    "def find_median_from_sorted(arr1, arr2, size):\n",
    "    if size==1:\n",
    "        return (arr1[0]+arr2[0])/2\n",
    "    if size==2:\n",
    "        return (max(arr1[0],arr2[0])+min(arr1[1],arr2[1]))/2\n",
    "    m1 = median(arr1, size)\n",
    "    m2 = median(arr2, size)\n",
    "    if m1==m2:\n",
    "        return m1\n",
    "    if m1 < m2: # median lies in second half of first array and first half of second array\n",
    "        if size%2 == 0:\n",
    "            return find_median_from_sorted(arr1[(size//2)-1:], arr2[:(size//2)+1], (size//2)+1)\n",
    "        else:\n",
    "            return find_median_from_sorted(arr1[(size//2):], arr2[:(size//2)+1], (size//2)+1)\n",
    "    elif m1 > m2: # median lies in first half of first array and second half of second array\n",
    "        if size%2 == 0: # handling based on size. -1 because mid point should be included in further median search\n",
    "            return find_median_from_sorted(arr1[:(size//2)+1], arr2[(size//2)-1:], (size//2)+1)\n",
    "        else:\n",
    "            return find_median_from_sorted(arr1[:(size//2)+1], arr2[(size//2):], (size//2)+1)\n"
   ]
  },
  {
   "cell_type": "markdown",
   "metadata": {},
   "source": [
    "# Test"
   ]
  },
  {
   "cell_type": "code",
   "execution_count": 41,
   "metadata": {},
   "outputs": [
    {
     "data": {
      "text/plain": [
       "12.5"
      ]
     },
     "execution_count": 41,
     "metadata": {},
     "output_type": "execute_result"
    }
   ],
   "source": [
    "arr1 = [5,8,10,21,25]\n",
    "arr2 = [7,9,15,17,19]\n",
    "find_median_from_sorted(arr1, arr2, 5)"
   ]
  },
  {
   "cell_type": "code",
   "execution_count": 42,
   "metadata": {},
   "outputs": [
    {
     "data": {
      "text/plain": [
       "16.0"
      ]
     },
     "execution_count": 42,
     "metadata": {},
     "output_type": "execute_result"
    }
   ],
   "source": [
    "arr1 = [5,8,10,21,25,26]\n",
    "arr2 = [7,9,15,17,19,20]\n",
    "find_median_from_sorted(arr1, arr2, 6)"
   ]
  },
  {
   "cell_type": "code",
   "execution_count": 44,
   "metadata": {},
   "outputs": [
    {
     "data": {
      "text/plain": [
       "16.0"
      ]
     },
     "execution_count": 44,
     "metadata": {},
     "output_type": "execute_result"
    }
   ],
   "source": [
    "arr1 = [1, 12, 15, 26, 38]\n",
    "arr2 = [2, 13, 17, 30, 45]\n",
    "find_median_from_sorted(arr1, arr2, 5)"
   ]
  },
  {
   "cell_type": "code",
   "execution_count": 46,
   "metadata": {},
   "outputs": [
    {
     "data": {
      "text/plain": [
       "5.0"
      ]
     },
     "execution_count": 46,
     "metadata": {},
     "output_type": "execute_result"
    }
   ],
   "source": [
    "arr1 = [1, 2, 3, 6]\n",
    "arr2 = [4, 6, 8, 10]\n",
    "find_median_from_sorted(arr1, arr2, 4)"
   ]
  },
  {
   "cell_type": "markdown",
   "metadata": {},
   "source": [
    "# check this\n",
    "https://www.geeksforgeeks.org/median-of-two-sorted-arrays/"
   ]
  },
  {
   "cell_type": "code",
   "execution_count": null,
   "metadata": {},
   "outputs": [],
   "source": []
  }
 ],
 "metadata": {
  "kernelspec": {
   "display_name": "Python 3",
   "language": "python",
   "name": "python3"
  },
  "language_info": {
   "codemirror_mode": {
    "name": "ipython",
    "version": 3
   },
   "file_extension": ".py",
   "mimetype": "text/x-python",
   "name": "python",
   "nbconvert_exporter": "python",
   "pygments_lexer": "ipython3",
   "version": "3.9.0"
  }
 },
 "nbformat": 4,
 "nbformat_minor": 4
}
