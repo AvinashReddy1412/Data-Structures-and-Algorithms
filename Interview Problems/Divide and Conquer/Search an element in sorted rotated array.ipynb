{
 "cells": [
  {
   "cell_type": "markdown",
   "metadata": {},
   "source": [
    "# Refer screenshot for clear explanation, approaches and complexity"
   ]
  },
  {
   "cell_type": "markdown",
   "metadata": {},
   "source": [
    "    INPUT : 7 8 9 10 1 2 3 4 5 6 , 8\n",
    "    OUTPUT : 1"
   ]
  },
  {
   "cell_type": "markdown",
   "metadata": {},
   "source": [
    "# Implementation"
   ]
  },
  {
   "cell_type": "code",
   "execution_count": 5,
   "metadata": {},
   "outputs": [],
   "source": [
    "def search_in_sorted_array(arr, start, end, key):\n",
    "    if start > end:\n",
    "        return -1\n",
    "    middle = (start+end)//2\n",
    "    if arr[middle] == key:\n",
    "        return middle\n",
    "    if arr[start] <= arr[middle]:\n",
    "        if key >= arr[start] and key <= arr[middle]:\n",
    "            return search_in_sorted_array(arr, start, middle-1, key)\n",
    "        else:\n",
    "            return search_in_sorted_array(arr, middle+1, end, key)\n",
    "    if key >= arr[middle] and key <= arr[end]:\n",
    "        return search_in_sorted_array(arr, middle+1, end, key)\n",
    "    else:\n",
    "        return search_in_sorted_array(arr, start, middle-1, key)"
   ]
  },
  {
   "cell_type": "markdown",
   "metadata": {},
   "source": [
    "# Test"
   ]
  },
  {
   "cell_type": "code",
   "execution_count": 6,
   "metadata": {},
   "outputs": [
    {
     "data": {
      "text/plain": [
       "3"
      ]
     },
     "execution_count": 6,
     "metadata": {},
     "output_type": "execute_result"
    }
   ],
   "source": [
    "arr = [7,8,9,10,1,2,3,4,5,6]\n",
    "start = 0\n",
    "end = 9\n",
    "key = 10\n",
    "search_in_sorted_array(arr, start, end, key)\n",
    "# ans\n",
    "# 3"
   ]
  },
  {
   "cell_type": "code",
   "execution_count": 7,
   "metadata": {},
   "outputs": [
    {
     "data": {
      "text/plain": [
       "0"
      ]
     },
     "execution_count": 7,
     "metadata": {},
     "output_type": "execute_result"
    }
   ],
   "source": [
    "arr = [7,8,9,10,1,2,3,4,5,6]\n",
    "start = 0\n",
    "end = 9\n",
    "key = 7\n",
    "search_in_sorted_array(arr, start, end, key)\n",
    "# ans\n",
    "# 0"
   ]
  },
  {
   "cell_type": "code",
   "execution_count": 8,
   "metadata": {},
   "outputs": [
    {
     "data": {
      "text/plain": [
       "9"
      ]
     },
     "execution_count": 8,
     "metadata": {},
     "output_type": "execute_result"
    }
   ],
   "source": [
    "arr = [7,8,9,10,1,2,3,4,5,6]\n",
    "start = 0\n",
    "end = 9\n",
    "key = 6\n",
    "search_in_sorted_array(arr, start, end, key)\n",
    "# ans\n",
    "# 9"
   ]
  },
  {
   "cell_type": "code",
   "execution_count": null,
   "metadata": {},
   "outputs": [],
   "source": []
  }
 ],
 "metadata": {
  "kernelspec": {
   "display_name": "Python 3",
   "language": "python",
   "name": "python3"
  },
  "language_info": {
   "codemirror_mode": {
    "name": "ipython",
    "version": 3
   },
   "file_extension": ".py",
   "mimetype": "text/x-python",
   "name": "python",
   "nbconvert_exporter": "python",
   "pygments_lexer": "ipython3",
   "version": "3.9.0"
  }
 },
 "nbformat": 4,
 "nbformat_minor": 4
}
