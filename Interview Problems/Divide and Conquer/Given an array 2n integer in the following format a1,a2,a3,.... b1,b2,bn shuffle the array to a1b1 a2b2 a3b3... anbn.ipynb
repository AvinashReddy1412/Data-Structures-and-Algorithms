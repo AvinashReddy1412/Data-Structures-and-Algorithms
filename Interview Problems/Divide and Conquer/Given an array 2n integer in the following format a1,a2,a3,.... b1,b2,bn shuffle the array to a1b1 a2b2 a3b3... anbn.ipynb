{
 "cells": [
  {
   "cell_type": "markdown",
   "metadata": {},
   "source": [
    "# Refer screenshot for clear explanation, algorithm and complexity"
   ]
  },
  {
   "cell_type": "markdown",
   "metadata": {},
   "source": [
    "    INPUT :  [1, 2, 3, 4, 5, 6, 7, 8]\n",
    "    OUTPUT : [1, 5, 2, 6, 3, 7, 4, 8]"
   ]
  },
  {
   "cell_type": "markdown",
   "metadata": {},
   "source": [
    "# Implementation"
   ]
  },
  {
   "cell_type": "code",
   "execution_count": 3,
   "metadata": {},
   "outputs": [],
   "source": [
    "def shuffle(arr, left, right):\n",
    "    if right - left ==1:\n",
    "        return \n",
    "    mid = (left+right)//2\n",
    "    temp = mid+1\n",
    "    left_mid = (left + mid)//2\n",
    "    for i in range(left_mid+1, mid+1): # remember left_mid+1 instead of left_mid\n",
    "        # swap arr[i] and arr[temp]\n",
    "        temp_val = arr[i]\n",
    "        arr[i] = arr[temp]\n",
    "        arr[temp] = temp_val\n",
    "        temp +=1\n",
    "    shuffle(arr, left, mid)\n",
    "    shuffle(arr, mid+1, right)"
   ]
  },
  {
   "cell_type": "markdown",
   "metadata": {},
   "source": [
    "# Test"
   ]
  },
  {
   "cell_type": "code",
   "execution_count": 6,
   "metadata": {},
   "outputs": [
    {
     "name": "stdout",
     "output_type": "stream",
     "text": [
      "[1, 5, 2, 6, 3, 7, 4, 8]\n"
     ]
    }
   ],
   "source": [
    "arr = [1, 2, 3, 4, 5, 6, 7, 8]\n",
    "left = 0\n",
    "right = len(arr)-1\n",
    "shuffle(arr, left, right)\n",
    "print(arr)\n",
    "# ans\n",
    "# [1, 5, 2, 6, 3, 7, 4, 8]"
   ]
  },
  {
   "cell_type": "code",
   "execution_count": 7,
   "metadata": {},
   "outputs": [
    {
     "name": "stdout",
     "output_type": "stream",
     "text": [
      "['a1', 'b1', 'a2', 'b2', 'a3', 'b3', 'a4', 'b4']\n"
     ]
    }
   ],
   "source": [
    "arr = ['a1', 'a2', 'a3', 'a4', 'b1', 'b2', 'b3', 'b4']\n",
    "left = 0\n",
    "right = len(arr)-1\n",
    "shuffle(arr, left, right)\n",
    "print(arr)\n"
   ]
  },
  {
   "cell_type": "code",
   "execution_count": null,
   "metadata": {},
   "outputs": [],
   "source": []
  }
 ],
 "metadata": {
  "kernelspec": {
   "display_name": "Python 3",
   "language": "python",
   "name": "python3"
  },
  "language_info": {
   "codemirror_mode": {
    "name": "ipython",
    "version": 3
   },
   "file_extension": ".py",
   "mimetype": "text/x-python",
   "name": "python",
   "nbconvert_exporter": "python",
   "pygments_lexer": "ipython3",
   "version": "3.9.0"
  }
 },
 "nbformat": 4,
 "nbformat_minor": 4
}
