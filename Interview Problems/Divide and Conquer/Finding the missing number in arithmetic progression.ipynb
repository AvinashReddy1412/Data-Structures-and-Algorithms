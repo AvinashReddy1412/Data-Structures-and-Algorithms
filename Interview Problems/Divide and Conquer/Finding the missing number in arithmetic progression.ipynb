{
 "cells": [
  {
   "cell_type": "markdown",
   "metadata": {},
   "source": [
    "# Refer screenshot for explanation, approach and complexity"
   ]
  },
  {
   "cell_type": "markdown",
   "metadata": {},
   "source": [
    "    INPUT : -2 0 2 4 6 8 12 14 16 18 20\n",
    "    OUTPUT : 10"
   ]
  },
  {
   "cell_type": "markdown",
   "metadata": {},
   "source": [
    "# Implementation"
   ]
  },
  {
   "cell_type": "code",
   "execution_count": 10,
   "metadata": {},
   "outputs": [],
   "source": [
    "def find_missing(arr, start, end, d):\n",
    "    if end <= start:\n",
    "        return 99999 # INTMAX\n",
    "    middle = (start+end)//2\n",
    "    # instead of just checking middle element, check vicinity as well\n",
    "    if arr[middle+1] - arr[middle] != d:\n",
    "        return arr[middle]+d\n",
    "    if middle > 0 and arr[middle] - arr[middle-1] != d:\n",
    "        return arr[middle-1]+d\n",
    "    if arr[middle] == ( arr[0] + (middle *d)):\n",
    "        return find_missing(arr, middle+1, end, d)\n",
    "    return find_missing(arr, 0, middle-1, d)"
   ]
  },
  {
   "cell_type": "code",
   "execution_count": 11,
   "metadata": {},
   "outputs": [
    {
     "data": {
      "text/plain": [
       "10"
      ]
     },
     "execution_count": 11,
     "metadata": {},
     "output_type": "execute_result"
    }
   ],
   "source": [
    "arr = [-2, 0, 2, 4, 6, 8, 12, 14, 16, 18, 20]\n",
    "size = len(arr)\n",
    "start = 0\n",
    "end = size-1\n",
    "# a + (n+1 -1)d = last element \n",
    "# since n+1th i.e 12th element is last element since 1 element is missing.\n",
    "# a+ nd = last element\n",
    "# d = (last element - a) / n\n",
    "d = int((arr[-1] - arr[0])/ size)\n",
    "find_missing(arr, start, end, d)\n",
    "# ans \n",
    "# 10"
   ]
  },
  {
   "cell_type": "code",
   "execution_count": 12,
   "metadata": {},
   "outputs": [
    {
     "data": {
      "text/plain": [
       "12"
      ]
     },
     "execution_count": 12,
     "metadata": {},
     "output_type": "execute_result"
    }
   ],
   "source": [
    "arr = [4, 8, 16, 20]\n",
    "size = len(arr)\n",
    "start = 0\n",
    "end = size-1\n",
    "# a + (n+1 -1)d = last element \n",
    "# since n+1th i.e 12th element is last element since 1 element is missing.\n",
    "# a+ nd = last element\n",
    "# d = (last element - a) / n\n",
    "d = int((arr[-1] - arr[0])/ size)\n",
    "find_missing(arr, start, end, d)\n",
    "# ans \n",
    "# 12"
   ]
  },
  {
   "cell_type": "code",
   "execution_count": null,
   "metadata": {},
   "outputs": [],
   "source": []
  },
  {
   "cell_type": "code",
   "execution_count": null,
   "metadata": {},
   "outputs": [],
   "source": []
  },
  {
   "cell_type": "code",
   "execution_count": null,
   "metadata": {},
   "outputs": [],
   "source": []
  }
 ],
 "metadata": {
  "kernelspec": {
   "display_name": "Python 3",
   "language": "python",
   "name": "python3"
  },
  "language_info": {
   "codemirror_mode": {
    "name": "ipython",
    "version": 3
   },
   "file_extension": ".py",
   "mimetype": "text/x-python",
   "name": "python",
   "nbconvert_exporter": "python",
   "pygments_lexer": "ipython3",
   "version": "3.9.0"
  }
 },
 "nbformat": 4,
 "nbformat_minor": 4
}
