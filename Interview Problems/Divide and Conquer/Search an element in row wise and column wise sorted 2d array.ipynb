{
 "cells": [
  {
   "cell_type": "markdown",
   "metadata": {},
   "source": [
    "# Refer screenshot for explanation, approach and complexity"
   ]
  },
  {
   "cell_type": "markdown",
   "metadata": {},
   "source": [
    "    INPUT : 1  2  3  4 \n",
    "            6  7  8  9 \n",
    "            11 12 13 14\n",
    "            16 17 18 19\n",
    "            \n",
    "            x = 8\n",
    "            \n",
    "    OUTPUT : 1"
   ]
  },
  {
   "cell_type": "markdown",
   "metadata": {},
   "source": [
    "# Implementation"
   ]
  },
  {
   "cell_type": "code",
   "execution_count": 4,
   "metadata": {},
   "outputs": [],
   "source": [
    "def search_2d(a, n, x):\n",
    "    i = 0\n",
    "    j = n-1\n",
    "    while (i<n and j>=0):\n",
    "        if a[i][j] == x:\n",
    "            print(f'found at {i},{j}')\n",
    "            return 1\n",
    "        elif a[i][j] > x:\n",
    "            j-=1\n",
    "        else :\n",
    "            i+=1\n",
    "    print(\"not found\")\n",
    "    return 0"
   ]
  },
  {
   "cell_type": "code",
   "execution_count": 7,
   "metadata": {},
   "outputs": [
    {
     "name": "stdout",
     "output_type": "stream",
     "text": [
      "not found\n"
     ]
    },
    {
     "data": {
      "text/plain": [
       "0"
      ]
     },
     "execution_count": 7,
     "metadata": {},
     "output_type": "execute_result"
    }
   ],
   "source": [
    "arr = [[1,2,3,4],[6,7,8,9],[11,12,13,14],[16,17,18,19]]\n",
    "n = 4\n",
    "x = 20\n",
    "search_2d(arr, n, x)\n",
    "# ans\n",
    "# not found\n",
    "# 0"
   ]
  },
  {
   "cell_type": "code",
   "execution_count": 8,
   "metadata": {},
   "outputs": [
    {
     "name": "stdout",
     "output_type": "stream",
     "text": [
      "found at 1,2\n"
     ]
    },
    {
     "data": {
      "text/plain": [
       "1"
      ]
     },
     "execution_count": 8,
     "metadata": {},
     "output_type": "execute_result"
    }
   ],
   "source": [
    "arr = [[1,2,3,4],[6,7,8,9],[11,12,13,14],[16,17,18,19]]\n",
    "n = 4\n",
    "x = 8\n",
    "search_2d(arr, n, x)\n",
    "# ans\n",
    "# found at 1,2\n",
    "# 1"
   ]
  },
  {
   "cell_type": "code",
   "execution_count": null,
   "metadata": {},
   "outputs": [],
   "source": []
  }
 ],
 "metadata": {
  "kernelspec": {
   "display_name": "Python 3",
   "language": "python",
   "name": "python3"
  },
  "language_info": {
   "codemirror_mode": {
    "name": "ipython",
    "version": 3
   },
   "file_extension": ".py",
   "mimetype": "text/x-python",
   "name": "python",
   "nbconvert_exporter": "python",
   "pygments_lexer": "ipython3",
   "version": "3.9.0"
  }
 },
 "nbformat": 4,
 "nbformat_minor": 4
}
