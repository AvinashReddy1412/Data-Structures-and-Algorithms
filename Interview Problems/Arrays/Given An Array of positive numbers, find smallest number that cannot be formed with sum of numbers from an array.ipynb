{
 "cells": [
  {
   "cell_type": "markdown",
   "metadata": {},
   "source": [
    "# Understanding the problem statement"
   ]
  },
  {
   "cell_type": "raw",
   "metadata": {},
   "source": [
    "Input : arr = [1,3,4,5,6]\n",
    "output : we have to find the smallest number that cannot be formed by adding the numbers in the input array.\n",
    "    start from 1 . 1 can be formed by 1 \n",
    "    then 2 --> cannot be formed from array number. so answer is 2\n",
    "# ans : 2"
   ]
  },
  {
   "cell_type": "raw",
   "metadata": {},
   "source": [
    "Input : arr = [4,13,2,3,1]\n",
    "output : we have to find the smallest number that cannot be formed by adding the numbers in the input array.\n",
    "    start from 1 . 1 can be formed by 1 \n",
    "    then 2 --> 2 can be formed by 2\n",
    "    3 --> 3\n",
    "    4 --> 4\n",
    "    5 --> 4+1\n",
    "    6 --> 4+2\n",
    "    7 --> 4+3\n",
    "    8 --> 4+3+1\n",
    "    9 --> 4+3+2\n",
    "    10 --> 4+3+2+1\n",
    "    11 --> cannot be formed\n",
    "# ans : 11"
   ]
  },
  {
   "cell_type": "markdown",
   "metadata": {},
   "source": [
    "# Algorithm"
   ]
  },
  {
   "cell_type": "raw",
   "metadata": {},
   "source": [
    "1. Sort the array in increasing order\n",
    "2. Let P be the smallest sum that we cannot make . p = 1\n",
    "3. If the current number is bigger than smallest sum we cannot make so far \n",
    "   i.e a[i] > P\n",
    "   then P is the smallest number we cant make. return P\n",
    "4. else if current number is less than or equal to smallest sum we cannot make so far\n",
    "   i.e a[i] <= P\n",
    "   update p as a[i]+P i.e \n",
    "   P=a[i]+P"
   ]
  },
  {
   "cell_type": "markdown",
   "metadata": {},
   "source": [
    "## Complexity:\n",
    "## Time:\n",
    "          sort takes O(nlogn). Steps 3 and 4 requires traversing the input arr O(n). So total time complexity is\n",
    "          O(nlogn)\n",
    "## Space:\n",
    "          If we use inplace sorting algorithm space complexity is O(1). Algorithm itself doesnt use any extra \n",
    "          space . Space depends on sorting algorithm that we use"
   ]
  },
  {
   "cell_type": "markdown",
   "metadata": {},
   "source": [
    "# Algorithm explanation with example"
   ]
  },
  {
   "cell_type": "raw",
   "metadata": {},
   "source": [
    "input arr : 4,13,2,3,1 \n",
    "sort : 1,2,3,4,13\n",
    "    1. Let P be 1. compare with current element i.e 1\n",
    "    curr_ele<=P so update P to be 1+1 i.e 2 \n",
    "    2. Again compare P with current element i.e 2 \n",
    "    curr_ele<=P so update P to be 2+2 i.e 4\n",
    "    3. Again compare P with current element i.e 3\n",
    "    curr_ele<=P. so update P to be 4+3 i.e 7\n",
    "    That means 7 is the smallest sum that we cannot make with 1,2,3\n",
    "    4. Again compare P with current element i.e 4\n",
    "    curr_ele<=P so update P to be 7+4 i.e 11\n",
    "    That means 11 is the smallest sum that we cannot make with 1,2,3,4\n",
    "    5. Again compare P with current element i.e 13\n",
    "    curr_ele > P . so return P. our required answer is 11.\n",
    "    11 is the smallest sum we cannot make with 4,13,2,3,1.\n"
   ]
  },
  {
   "cell_type": "raw",
   "metadata": {},
   "source": [
    "How is it working?\n",
    "ans : suppose n is the smallest sum we cannot make till now.and curr_ele is x.\n",
    "      so we can make sums of 1,2,3...(n-1).and with x we can further make sums like x+1,x+2...x+(n-1)\n",
    "      now if we have x<n, we should say that n lies between x+1 and x+(n-1)\n",
    "      i.e x+1 <= n <= x+(n-1). refer to screenshot"
   ]
  },
  {
   "cell_type": "markdown",
   "metadata": {},
   "source": [
    "# Implementation"
   ]
  },
  {
   "cell_type": "code",
   "execution_count": 4,
   "metadata": {},
   "outputs": [],
   "source": [
    "def findSmallestSum(arr,size):\n",
    "    arr = sorted(arr)\n",
    "    p = 1\n",
    "    i = 0\n",
    "    curr_ele = arr[i]\n",
    "    while(curr_ele <=p  and i<size):\n",
    "        p = p+curr_ele\n",
    "        i += 1\n",
    "        curr_ele = arr[i]\n",
    "    return p"
   ]
  },
  {
   "cell_type": "code",
   "execution_count": 5,
   "metadata": {},
   "outputs": [
    {
     "name": "stdout",
     "output_type": "stream",
     "text": [
      "2\n"
     ]
    }
   ],
   "source": [
    "arr = [1,3,4,5,6]\n",
    "size = len(arr)\n",
    "print(findSmallestSum(arr,size))\n",
    "# ans 2"
   ]
  },
  {
   "cell_type": "code",
   "execution_count": 7,
   "metadata": {},
   "outputs": [
    {
     "name": "stdout",
     "output_type": "stream",
     "text": [
      "11\n"
     ]
    }
   ],
   "source": [
    "arr = [4,13,2,3,1]\n",
    "size = len(arr)\n",
    "print(findSmallestSum(arr,size))\n",
    "# ans 11"
   ]
  },
  {
   "cell_type": "code",
   "execution_count": null,
   "metadata": {},
   "outputs": [],
   "source": []
  }
 ],
 "metadata": {
  "kernelspec": {
   "display_name": "Python 3",
   "language": "python",
   "name": "python3"
  },
  "language_info": {
   "codemirror_mode": {
    "name": "ipython",
    "version": 3
   },
   "file_extension": ".py",
   "mimetype": "text/x-python",
   "name": "python",
   "nbconvert_exporter": "python",
   "pygments_lexer": "ipython3",
   "version": "3.5.2"
  }
 },
 "nbformat": 4,
 "nbformat_minor": 2
}
