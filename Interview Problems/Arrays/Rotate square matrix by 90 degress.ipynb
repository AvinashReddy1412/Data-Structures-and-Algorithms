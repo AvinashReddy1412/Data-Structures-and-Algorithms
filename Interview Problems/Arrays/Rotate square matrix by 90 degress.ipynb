{
 "cells": [
  {
   "cell_type": "markdown",
   "metadata": {},
   "source": [
    "# Understanding the problem statement"
   ]
  },
  {
   "cell_type": "raw",
   "metadata": {},
   "source": [
    "Input matrix : \n",
    "    \n",
    "     1  2  3  4\n",
    "     5  6  7  8\n",
    "     9 10 11 12\n",
    "    13 14 15 16\n",
    "    \n",
    "Reverse 90 degrees in anticlockwise direction\n",
    "\n",
    "Output :\n",
    "    \n",
    "    4 8 12 16\n",
    "    3 7 11 15\n",
    "    2 6 10 14\n",
    "    1 5  9 13\n",
    "    \n",
    "    "
   ]
  },
  {
   "cell_type": "markdown",
   "metadata": {},
   "source": [
    "# Algorithm"
   ]
  },
  {
   "cell_type": "raw",
   "metadata": {},
   "source": [
    "1. Reverse rows of matrix O(n^2)\n",
    "\n",
    "     4  3  2  1\n",
    "     8  7  6  5\n",
    "    12 11 10  9\n",
    "    16 15 14 13\n",
    "    \n",
    "2. Transpose the above matrix O(n^2)\n",
    "\n",
    "    4 8 12 16\n",
    "    3 7 11 15\n",
    "    2 6 10 14\n",
    "    1 5  9 13"
   ]
  },
  {
   "cell_type": "markdown",
   "metadata": {},
   "source": [
    "# Complexity\n",
    "   ## Time : \n",
    "        O(n^2)\n",
    "   ## Space:\n",
    "        O(1)"
   ]
  },
  {
   "cell_type": "markdown",
   "metadata": {},
   "source": [
    "# Implementation"
   ]
  },
  {
   "cell_type": "code",
   "execution_count": 18,
   "metadata": {},
   "outputs": [],
   "source": [
    "def swap(a,b):\n",
    "    temp = a\n",
    "    a = b\n",
    "    b = temp\n",
    "    return a,b\n",
    "    \n",
    "def reverserow(arr,size):\n",
    "    rows = size\n",
    "    cols = size\n",
    "    for i in range(rows):\n",
    "        k = cols-1\n",
    "        for j in range(cols):\n",
    "            if j>k:\n",
    "                break\n",
    "            arr[i][j],arr[i][k] = swap(arr[i][j],arr[i][k])\n",
    "            k-=1\n",
    "    return arr\n",
    "\n",
    "def transpose(arr,size):\n",
    "    rows = size\n",
    "    cols = size\n",
    "    for i in range(rows):\n",
    "        for j in range(i,cols):\n",
    "            arr[i][j],arr[j][i] = swap(arr[i][j],arr[j][i])\n",
    "    return arr\n",
    "    \n",
    "            \n",
    "def display(arr,size):\n",
    "    rows = size\n",
    "    cols = size\n",
    "    for i in range(rows):\n",
    "        print(\"\\n\")\n",
    "        for j in range(cols):\n",
    "            print(arr[i][j],end=\"\\t\")\n",
    "    return arr\n",
    "\n",
    "    "
   ]
  },
  {
   "cell_type": "code",
   "execution_count": 23,
   "metadata": {},
   "outputs": [],
   "source": [
    "def rotateMatrix(arr,size):\n",
    "    display(arr,size)\n",
    "    print(\"\\n\")\n",
    "    print(\"***************************ROTATED********************\")\n",
    "    arr = reverserow(arr,size)\n",
    "    arr = transpose(arr,size)\n",
    "    display(arr,size)\n",
    "    "
   ]
  },
  {
   "cell_type": "code",
   "execution_count": 24,
   "metadata": {},
   "outputs": [
    {
     "name": "stdout",
     "output_type": "stream",
     "text": [
      "\n",
      "\n",
      "1\t2\t3\t4\t\n",
      "\n",
      "5\t6\t7\t8\t\n",
      "\n",
      "9\t10\t11\t12\t\n",
      "\n",
      "13\t14\t15\t16\t\n",
      "\n",
      "***************************ROTATED********************\n",
      "\n",
      "\n",
      "4\t8\t12\t16\t\n",
      "\n",
      "3\t7\t11\t15\t\n",
      "\n",
      "2\t6\t10\t14\t\n",
      "\n",
      "1\t5\t9\t13\t"
     ]
    }
   ],
   "source": [
    "arr = [[1,2,3,4],[5,6,7,8],[9,10,11,12],[13,14,15,16]]\n",
    "size = 4\n",
    "rotateMatrix(arr,size)"
   ]
  },
  {
   "cell_type": "code",
   "execution_count": null,
   "metadata": {},
   "outputs": [],
   "source": []
  }
 ],
 "metadata": {
  "kernelspec": {
   "display_name": "Python 3",
   "language": "python",
   "name": "python3"
  },
  "language_info": {
   "codemirror_mode": {
    "name": "ipython",
    "version": 3
   },
   "file_extension": ".py",
   "mimetype": "text/x-python",
   "name": "python",
   "nbconvert_exporter": "python",
   "pygments_lexer": "ipython3",
   "version": "3.5.2"
  }
 },
 "nbformat": 4,
 "nbformat_minor": 2
}
