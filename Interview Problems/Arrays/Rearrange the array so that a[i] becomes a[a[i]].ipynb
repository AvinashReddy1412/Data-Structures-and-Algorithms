{
 "cells": [
  {
   "cell_type": "markdown",
   "metadata": {},
   "source": [
    "# Understanding the problem statement"
   ]
  },
  {
   "cell_type": "raw",
   "metadata": {},
   "source": [
    "Make a[i] equal to to a[a[i]] i.e store a[a[i]] in a[i] i.e a[i] = a[a[i]]\n",
    "Assume that elements inside array are in the range of 0,1...(n-1).\n",
    "\n",
    "input : arr=[3,1,0,2,4]\n",
    "output : a[i] = a[a[i]]\n",
    "         a[0] = a[a[0]] = a[3] = 2\n",
    "         a[1] = a[a[1]] = a[1] = 1\n",
    "         a[2] = a[a[2]] = a[0] = 3\n",
    "         a[3] = a[a[3]] = a[2] = 0\n",
    "         a[4] = a[a[4]] = a[4] = 4\n",
    "# ans [2,1,3,0,4]"
   ]
  },
  {
   "cell_type": "markdown",
   "metadata": {},
   "source": [
    "# Algorithm"
   ]
  },
  {
   "cell_type": "markdown",
   "metadata": {},
   "source": [
    "## Approach 1"
   ]
  },
  {
   "cell_type": "markdown",
   "metadata": {},
   "source": [
    "1. If we Iterate through the array and try to make a[i] = a[a[i]], we lose track of elements and cannot replace \n",
    "   further.\n",
    "2. So we maintain a temp array and store answers in temp i.e temp[i] = a[a[i]].\n",
    "3. Then we copy temp array elements to original array."
   ]
  },
  {
   "cell_type": "markdown",
   "metadata": {},
   "source": [
    "## Complexity:\n",
    "  ## Time :\n",
    "      Traverse input array and store results in temp : O(n)\n",
    "      Traverse temp array and copy results to original : O(n)\n",
    "      Total time : O(n)\n",
    "  ## Space :\n",
    "      Create a temp array . so O(n)"
   ]
  },
  {
   "cell_type": "raw",
   "metadata": {},
   "source": [
    "Before discussing approach 2,lets see how we swap elements:\n",
    "    1 way is using temp:\n",
    "        temp = a\n",
    "        a = b \n",
    "        b = temp\n",
    "    2 way is without using temp. we store both a and b inside a only using mathematical operation and can retrive \n",
    "    them by again performing mathematical operations. we take n such that n > a and n > b\n",
    "    swap:\n",
    "        a = a+(b*n)\n",
    "        a = a//n (because a//n is b and we want to store b in a)\n",
    "        b = a%n \n",
    "    \n",
    "    retrieve:    \n",
    "        b = a//n\n",
    "        a = a%n\n",
    "      \n",
    "Lets use this approach and rearrange without using temp array and make space complexity O(1)"
   ]
  },
  {
   "cell_type": "markdown",
   "metadata": {},
   "source": [
    "# Approach 2"
   ]
  },
  {
   "cell_type": "raw",
   "metadata": {},
   "source": [
    "1. Iterate through the elements and store combined values in original array using\n",
    "   a = a+(b*n)\n",
    "   n should be greater than a and b. since we assumed range of elements to be 0,1..(n-1). we can take size i.e n as\n",
    "   n.\n",
    "   a[i] = a[i]+(a[a[i]]%size)*size (%size is done because for first element combined value is stored. but next time\n",
    "                                   we again need original element a. so a = a%n)\n",
    "\n",
    "2. To get b i.e a[a[i]] back traverse the array and perform below operation\n",
    "   b = a//n\n",
    "   a[i] = a[i]//n (since a[i]//n gives a[a[i]] equation becomes a[i]=a[a[i]])\n"
   ]
  },
  {
   "cell_type": "markdown",
   "metadata": {},
   "source": [
    "## Complexity:\n",
    "  ## Time :\n",
    "      Traverse input array and store combined results : O(n)\n",
    "      Traverse input array and retrive a[a[i]] values : O(n)\n",
    "      Total time : O(n)\n",
    "  ## Space :\n",
    "      O(1)"
   ]
  },
  {
   "cell_type": "markdown",
   "metadata": {},
   "source": [
    "# Implementation"
   ]
  },
  {
   "cell_type": "code",
   "execution_count": 4,
   "metadata": {},
   "outputs": [],
   "source": [
    "def rearrange(a,size):\n",
    "    for i in range(size):\n",
    "        a[i] = a[i]+((a[a[i]]%size)*size)\n",
    "    for i in range(size):\n",
    "        a[i] = a[i]//size\n",
    "    return a"
   ]
  },
  {
   "cell_type": "code",
   "execution_count": 6,
   "metadata": {},
   "outputs": [
    {
     "name": "stdout",
     "output_type": "stream",
     "text": [
      "[2, 1, 3, 0, 4]\n"
     ]
    }
   ],
   "source": [
    "a = [3,1,0,2,4]\n",
    "size = len(a)\n",
    "print(rearrange(a,size))\n",
    "# ans [2, 1, 3, 0, 4]"
   ]
  },
  {
   "cell_type": "code",
   "execution_count": null,
   "metadata": {},
   "outputs": [],
   "source": []
  }
 ],
 "metadata": {
  "kernelspec": {
   "display_name": "Python 3",
   "language": "python",
   "name": "python3"
  },
  "language_info": {
   "codemirror_mode": {
    "name": "ipython",
    "version": 3
   },
   "file_extension": ".py",
   "mimetype": "text/x-python",
   "name": "python",
   "nbconvert_exporter": "python",
   "pygments_lexer": "ipython3",
   "version": "3.5.2"
  }
 },
 "nbformat": 4,
 "nbformat_minor": 2
}
