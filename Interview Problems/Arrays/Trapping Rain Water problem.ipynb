{
 "cells": [
  {
   "cell_type": "markdown",
   "metadata": {},
   "source": [
    "![title](reference_screenshots/Trapping_Rain_Water_problem.png)"
   ]
  },
  {
   "cell_type": "markdown",
   "metadata": {},
   "source": [
    "# Understanding the problem statement"
   ]
  },
  {
   "cell_type": "markdown",
   "metadata": {},
   "source": [
    "Given n non negative intergers representing elevation map,where width of each bar is 1, we have to find the amount\n",
    "of water trapped in between these bars.\n",
    "\n",
    "Input : [1,0,2,0,1,0,3,1,0,2]\n",
    "\n",
    "In the image we can see that each integer represents height, and we have to find amount of water trapped on\n",
    "the top of each building. Sum of all these gives total water trapped.\n",
    "\n",
    "Output: Either total sum or water trapped on each building i.e [0,1,0,2,1,2,0,1,2,0]"
   ]
  },
  {
   "cell_type": "markdown",
   "metadata": {},
   "source": [
    "# Approach 1"
   ]
  },
  {
   "cell_type": "markdown",
   "metadata": {},
   "source": [
    "1. From the image we can see that water will be trapped on the building only if there are taller buildings on both\n",
    "sides.\n",
    "2. So we have find the greater number to the right side, and also greater number on the left side.\n",
    "3. Take minimum of these two greater values and substract it with the current number.\n",
    "4. If one of the number either on the left or on the right is lower than current number then no water is stored.\n",
    "5. For finding greater number to right or smaller number to left we have to scan all elements. O(n).\n",
    "6. We have to repeat the above process for n elements.\n",
    "\n",
    "   So total time complexity is O(n) * n = O(n^2)"
   ]
  },
  {
   "cell_type": "markdown",
   "metadata": {},
   "source": [
    "### Time Complexity : O(n^2)\n",
    "### Space Complexity: O(1)"
   ]
  },
  {
   "cell_type": "markdown",
   "metadata": {},
   "source": [
    "# Approach 2"
   ]
  },
  {
   "cell_type": "markdown",
   "metadata": {},
   "source": [
    "1. Maintain two arrays instead of scanning the array everytime to find max to right and max to left.\n",
    "2. Build an array left[] of size n, where left[i] represents maximum height bar that is left to it including \n",
    "   ith bar\n",
    "3. Build an array right[] of size n, where right[i] represents maximum height bar that is right to it including \n",
    "   ith bar\n",
    "4. sum = 0\n",
    "\n",
    "   repeat for every ith bar :\n",
    "\n",
    "        sum = sum + minimum(left[i],right[i])-height[i]\n",
    "5. return sum\n",
    "6. We scan once to build left array --> O(n)\n",
    "\n",
    "   We scan once to build right array --> O(n)\n",
    "\n",
    "   We scan once to build total sum --> O(n)\n",
    "\n",
    "   We maintain two lists left and right of size n --> 2n --> O(n)\n",
    "   \n",
    "   ### Time Complexity : O(n)\n",
    "   ### Space Complexity: O(n)"
   ]
  },
  {
   "cell_type": "raw",
   "metadata": {},
   "source": [
    "Input : [1,0,2,0,1,0,3,1,0,2]\n",
    "Left  : [1,1,2,2,2,2,3,3,3,3]\n",
    "Right : [3,3,3,3,3,3,3,2,2,2]\n",
    "Output: sum([0,1,0,2,1,2,0,1,2,0])"
   ]
  },
  {
   "cell_type": "markdown",
   "metadata": {},
   "source": [
    "# Implementation"
   ]
  },
  {
   "cell_type": "code",
   "execution_count": 13,
   "metadata": {},
   "outputs": [],
   "source": [
    "def trappedRain(arr,size):\n",
    "    left = []\n",
    "    right= [0]*size\n",
    "    max_left = 0\n",
    "    max_right = 0\n",
    "    for i in range(size):\n",
    "        max_left = max(max_left,arr[i])\n",
    "        left.append(max_left)\n",
    "    for i in range(size-1,-1,-1):\n",
    "        max_right = max(max_right,arr[i])\n",
    "        right[i] = max_right\n",
    "    trapped_rain = 0\n",
    "    for i in range(size):\n",
    "        trapped_rain = trapped_rain + (min(left[i],right[i])-arr[i])\n",
    "    return trapped_rain\n",
    "    "
   ]
  },
  {
   "cell_type": "code",
   "execution_count": 14,
   "metadata": {},
   "outputs": [
    {
     "name": "stdout",
     "output_type": "stream",
     "text": [
      "9\n"
     ]
    }
   ],
   "source": [
    "arr = [1,0,2,0,1,0,3,1,0,2]\n",
    "size = len(arr)\n",
    "print(trappedRain(arr,size))\n",
    "# ans\n",
    "# 12"
   ]
  },
  {
   "cell_type": "code",
   "execution_count": null,
   "metadata": {},
   "outputs": [],
   "source": []
  }
 ],
 "metadata": {
  "kernelspec": {
   "display_name": "Python 3",
   "language": "python",
   "name": "python3"
  },
  "language_info": {
   "codemirror_mode": {
    "name": "ipython",
    "version": 3
   },
   "file_extension": ".py",
   "mimetype": "text/x-python",
   "name": "python",
   "nbconvert_exporter": "python",
   "pygments_lexer": "ipython3",
   "version": "3.5.2"
  }
 },
 "nbformat": 4,
 "nbformat_minor": 2
}
