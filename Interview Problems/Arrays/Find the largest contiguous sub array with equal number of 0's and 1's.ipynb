{
 "cells": [
  {
   "cell_type": "markdown",
   "metadata": {},
   "source": [
    "# Understanding the problem Statement\n"
   ]
  },
  {
   "cell_type": "raw",
   "metadata": {},
   "source": [
    "Consider an array which contains only 0's and 1's, we have find the largest sub array with equal number of 0's and\n",
    "1's.\n",
    "array = [1,1,1,0,1,0,0,0,1,1,1,0]\n",
    "                  [0,0,0,1,1,1]\n",
    "            [1,0,1,0,0,0,1,1,1,0] #ans\n",
    "we have many subarrays like above\n",
    "but the largest from index 2 to 11."
   ]
  },
  {
   "cell_type": "markdown",
   "metadata": {},
   "source": [
    "# Approach 1 "
   ]
  },
  {
   "cell_type": "raw",
   "metadata": {},
   "source": [
    "Given an array = [1,1,1,0,1,0,0,0,1,1,1,0], find all the subarrays possible and then find number of 1's and 0's in\n",
    "each subarray by iterating all the elements in sub array.\n",
    "No of sub arrays?\n",
    "if we take first element then we can can have second index any where from 2 to n-1 i.e (n-1) subarrays\n",
    "like [1],[1,1],[1,1,1,0]...\n",
    "if we take second element then (n-2) sub arrays i.e contiguous sub arrays\n",
    "So total number of sub arrays is O(n^2) and then finding number of 1's and 0's takes O(n)\n"
   ]
  },
  {
   "cell_type": "markdown",
   "metadata": {},
   "source": [
    "### Time Complexity : O(n^3)\n",
    "### Space Complexity : O(1)"
   ]
  },
  {
   "cell_type": "raw",
   "metadata": {},
   "source": [
    "By maintaining two extra arrays for cumulative count of 1's and 0's we need not iterate for every sub array to find count of\n",
    "0's and 1's in it. like\n",
    "array = [1,1,1,0,1,0,0,0,1,1,1,0]\n",
    "1's   = [1,2,3,3,4,4,4,4,5,6,7,7]\n",
    "0's   = [0,0,0,1,0,2,3,4,4,4,4,5]\n",
    "subarray              [0,1,1,1]\n",
    "we can count 1's as 7-4 and 0's as 4-3.\n",
    "So we can reduce time for counting 1's and 0's in sub array from O(n) to O(1).So time complexity becomes o(n^2)\n",
    "and space complexity becomes O(1). we are using same two sized arrays for every input size."
   ]
  },
  {
   "cell_type": "markdown",
   "metadata": {},
   "source": [
    "### Time Complexity : O(n^2)\n",
    "### Space Complexity : O(1)"
   ]
  },
  {
   "cell_type": "markdown",
   "metadata": {},
   "source": [
    "# Approach 2"
   ]
  },
  {
   "cell_type": "raw",
   "metadata": {},
   "source": [
    "1. Given an array [1,1,1,0,1,0,0,0,1,1,1,0], replace 0's with -1's.\n",
    "[1,1,1, 0,1, 0, 0, 0,1,1,1, 0]\n",
    "[1,1,1,-1,1,-1,-1,-1,1,1,1,-1]\n",
    "2. Find cumulative sum and whever sum value repeats, that means sub array between those two values is contributing\n",
    "to zero sum and 1's and -1's are equal i.e 1's and 0's are equal.\n",
    "3.        [1,1,1,-1,1,-1,-1,-1,1,1,1,-1]\n",
    "cum_sum = [1,2,3, 2,3, 2, 1, 0,1,2,3, 2]\n",
    "subarrays       [-1,1,-1]\n",
    "largest     [1,1,-1,1,-1,-1,-1,1,1,1,-1]\n",
    "4. Use hash map to store sums, with sum value as key and index as value. And store lower bound, upper bound and\n",
    "size whenver sum repeats\n",
    "5. Whever sum repeats again if size is greater then previous size update lower bound and upper bound.\n",
    "6. Final lower and upper bound gives us largest subarray.\n",
    "7. We scan the entire array once for finding cumulative sum O(n), we insert cumulative sum in hash and search \n",
    "for repeated sum hash, Assuming insertion and searching takes O(1), total time complexity is O(n)\n",
    "8. If all the elements give different sum then we have to store n elements in hash so space complexity is\n",
    "O(n)"
   ]
  },
  {
   "cell_type": "markdown",
   "metadata": {},
   "source": [
    "### Time Complexity   : O(n)\n",
    "### Space Complexity : O(n)"
   ]
  },
  {
   "cell_type": "markdown",
   "metadata": {},
   "source": [
    "# Implementation"
   ]
  },
  {
   "cell_type": "code",
   "execution_count": 15,
   "metadata": {},
   "outputs": [],
   "source": [
    "def largestSubArray(arr,arr_size):\n",
    "    arr_ = [-1 if i==0 else i for i in arr]\n",
    "    hash_ = [None] * (size+1)\n",
    "    curr_sum = 0\n",
    "    lb = 0\n",
    "    ub = 0\n",
    "    subarr_size = 0\n",
    "    for i in range(arr_size):\n",
    "        curr_sum += arr_[i]\n",
    "        if curr_sum == 0 :\n",
    "            if hash_[curr_sum] == None:\n",
    "                hash_[curr_sum] = i\n",
    "            lb = 0\n",
    "            if i-lb > subarr_size:\n",
    "                subarr_size = i - lb\n",
    "                ub = i \n",
    "        if hash_[curr_sum] == None:\n",
    "            hash_[curr_sum] = i\n",
    "        else:\n",
    "            if i-hash_[curr_sum] > subarr_size:\n",
    "                subarr_size = i - hash_[curr_sum]\n",
    "                lb = hash_[curr_sum]+1\n",
    "                ub = i\n",
    "    if subarr_size == 0:\n",
    "        print(\"subarray not found\")\n",
    "    else:\n",
    "        print(\"subarray found from {0} to {1}\".format(lb,ub))\n",
    "        print(arr[lb:ub+1])"
   ]
  },
  {
   "cell_type": "code",
   "execution_count": 9,
   "metadata": {},
   "outputs": [
    {
     "name": "stdout",
     "output_type": "stream",
     "text": [
      "subarray found from 2 to 11\n",
      "[1, 0, 1, 0, 0, 0, 1, 1, 1, 0]\n"
     ]
    }
   ],
   "source": [
    "arr = [1,1,1,0,1,0,0,0,1,1,1,0]\n",
    "size = len(arr)\n",
    "largestSubArray(arr,size)\n",
    "# ans\n",
    "# subarray found from 2 to 11\n",
    "# [1, 0, 1, 0, 0, 0, 1, 1, 1, 0]"
   ]
  },
  {
   "cell_type": "code",
   "execution_count": 10,
   "metadata": {},
   "outputs": [
    {
     "name": "stdout",
     "output_type": "stream",
     "text": [
      "subarray found from 0 to 1\n",
      "[1, 0]\n"
     ]
    }
   ],
   "source": [
    "arr = [1,0]\n",
    "size = len(arr)\n",
    "largestSubArray(arr,size)\n",
    "# ans\n",
    "# subarray found from 0 to 1\n",
    "# [1, 0]"
   ]
  },
  {
   "cell_type": "code",
   "execution_count": 11,
   "metadata": {},
   "outputs": [
    {
     "name": "stdout",
     "output_type": "stream",
     "text": [
      "subarray found from 0 to 5\n",
      "[0, 1, 1, 0, 1, 0]\n"
     ]
    }
   ],
   "source": [
    "arr = [0,1,1,0,1,0]\n",
    "size = len(arr)\n",
    "largestSubArray(arr,size)\n",
    "# ans\n",
    "# subarray found from 0 to 5\n",
    "# [0, 1, 1, 0, 1, 0]"
   ]
  },
  {
   "cell_type": "code",
   "execution_count": 12,
   "metadata": {},
   "outputs": [
    {
     "name": "stdout",
     "output_type": "stream",
     "text": [
      "subarray found from 0 to 3\n",
      "[0, 1, 1, 0]\n"
     ]
    }
   ],
   "source": [
    "arr = [0,1,1,0,1,1]\n",
    "size = len(arr)\n",
    "largestSubArray(arr,size)\n",
    "# ans\n",
    "# subarray found from 0 to 3\n",
    "# [0, 1, 1, 0]"
   ]
  },
  {
   "cell_type": "code",
   "execution_count": 18,
   "metadata": {},
   "outputs": [
    {
     "name": "stdout",
     "output_type": "stream",
     "text": [
      "subarray not found\n"
     ]
    }
   ],
   "source": [
    "arr = [1,1,1,1]\n",
    "size = len(arr)\n",
    "largestSubArray(arr,size)\n",
    "# ans\n",
    "# subarray not found"
   ]
  },
  {
   "cell_type": "markdown",
   "metadata": {},
   "source": [
    "# What if Current Sum is negative ?\n",
    "    Hash_[negative value] throws error as below\n",
    "    (But above code is working in all cases should check why it isnt throwing any error).\n",
    "    So declare hash map of bigger size around 2*array size. And normalize indexes i.e if min sum value is -4 and       max sum value is +4, index 0 in hash map must represent sum of -4 and index 8 should represent sum of +4.\n",
    "    We can also reduce hash map size instead of declaring size around 2* array size by calculating min and max \n",
    "    sum in array. C code for the same is given below."
   ]
  },
  {
   "cell_type": "code",
   "execution_count": 26,
   "metadata": {},
   "outputs": [
    {
     "name": "stdout",
     "output_type": "stream",
     "text": [
      "subarray found from 0 to 9\n",
      "[1, 0, 0, 1, 1, 1, 0, 0, 0, 1]\n"
     ]
    }
   ],
   "source": [
    "arr = [1,0,0,1,1,1,0,0,0,1]\n",
    "size = len(arr)\n",
    "largestSubArray(arr,size)\n",
    "# ans\n",
    "# subarray found from 0 to 9\n",
    "# [1, 0, 0, 1, 1, 1, 0, 0, 0, 1]"
   ]
  },
  {
   "cell_type": "code",
   "execution_count": null,
   "metadata": {},
   "outputs": [],
   "source": []
  },
  {
   "cell_type": "code",
   "execution_count": null,
   "metadata": {},
   "outputs": [],
   "source": []
  },
  {
   "cell_type": "markdown",
   "metadata": {},
   "source": [
    "## C Code"
   ]
  },
  {
   "cell_type": "code",
   "execution_count": 27,
   "metadata": {},
   "outputs": [
    {
     "ename": "SyntaxError",
     "evalue": "invalid syntax (<ipython-input-27-ace9403419ce>, line 3)",
     "output_type": "error",
     "traceback": [
      "\u001b[0;36m  File \u001b[0;32m\"<ipython-input-27-ace9403419ce>\"\u001b[0;36m, line \u001b[0;32m3\u001b[0m\n\u001b[0;31m    void findLargestSubArray(int *arr, int size)\u001b[0m\n\u001b[0m                           ^\u001b[0m\n\u001b[0;31mSyntaxError\u001b[0m\u001b[0;31m:\u001b[0m invalid syntax\n"
     ]
    }
   ],
   "source": [
    "#include <stdio.h>\n",
    "#include <stdlib.h>\n",
    "void findLargestSubArray(int *arr, int size)\n",
    "{\n",
    "int maxSize = -1, startIndex, sumLeft[size], min = arr[0], max = arr[0], index;\n",
    "sumLeft[0] = (arr[0] == 0)? -1: 1;\n",
    "for (index = 1; index < size; index++)\n",
    "{\n",
    "sumLeft[index] = sumLeft[index - 1] + ((arr[index] == 0)?\n",
    "-1: 1);\n",
    "if (sumLeft[index] < min)\n",
    "min = sumLeft[index];\n",
    "if (sumLeft[index] > max)\n",
    "max = sumLeft[index];\n",
    "}\n",
    "int hash[max - min + 1];\n",
    "for(index = 0; index < max - min + 1; index++)\n",
    "hash[index] = -1;\n",
    "for (index = 0; index < size; index++)\n",
    "{\n",
    "if (sumLeft[index] == 0)\n",
    "{\n",
    "maxSize = index + 1;\n",
    "startIndex = 0;\n",
    "}\n",
    "if (hash[sumLeft[index] - min] == -1)\n",
    "hash[sumLeft[index] - min] = index;\n",
    "else\n",
    "{\n",
    "if ((index - hash[sumLeft[index] - min]) > maxSize)\n",
    "{\n",
    "maxSize = index - hash[sumLeft[index] - min];\n",
    "startIndex = hash[sumLeft[index] - min] + 1;\n",
    "}\n",
    "}\n",
    "}\n",
    "if (maxSize == -1)\n",
    "printf(\"No such subarray\");\n",
    "else\n",
    "printf(\"Largest sub array starts from %d to %d\",\n",
    "startIndex, startIndex + maxSize - 1);\n",
    "}\n",
    "int main()\n",
    "{\n",
    "int *arr, size;\n",
    "printf(\"Enter size of the array\\n\");\n",
    "scanf(\"%d\", &size);\n",
    "\n",
    "arr = (int *)malloc(sizeof(int) * size);\n",
    "printf(\"Enter elements in array\\n\");\n",
    "for(int index = 0; index < size; index++)\n",
    "scanf(\"%d\", &arr[index]);\n",
    "findLargestSubArray(arr, size);\n",
    "return 0;\n",
    "}\n",
    "Time complexity: O(n)\n",
    "Space complexity: O(n)"
   ]
  },
  {
   "cell_type": "markdown",
   "metadata": {},
   "source": [
    "min and max in above code are for reducing hash map size"
   ]
  },
  {
   "cell_type": "code",
   "execution_count": null,
   "metadata": {},
   "outputs": [],
   "source": []
  }
 ],
 "metadata": {
  "kernelspec": {
   "display_name": "Python 3",
   "language": "python",
   "name": "python3"
  },
  "language_info": {
   "codemirror_mode": {
    "name": "ipython",
    "version": 3
   },
   "file_extension": ".py",
   "mimetype": "text/x-python",
   "name": "python",
   "nbconvert_exporter": "python",
   "pygments_lexer": "ipython3",
   "version": "3.5.2"
  }
 },
 "nbformat": 4,
 "nbformat_minor": 2
}
