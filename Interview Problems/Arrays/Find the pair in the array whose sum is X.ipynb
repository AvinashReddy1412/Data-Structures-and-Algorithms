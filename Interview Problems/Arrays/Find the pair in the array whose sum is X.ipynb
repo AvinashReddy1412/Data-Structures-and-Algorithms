{
 "cells": [
  {
   "cell_type": "markdown",
   "metadata": {},
   "source": [
    "# First Approach"
   ]
  },
  {
   "cell_type": "markdown",
   "metadata": {},
   "source": [
    "Find all the pairs and check whether sum of pairs is equal to x or not\n"
   ]
  },
  {
   "cell_type": "markdown",
   "metadata": {},
   "source": [
    "Complexity O(n^2)"
   ]
  },
  {
   "cell_type": "code",
   "execution_count": 13,
   "metadata": {},
   "outputs": [],
   "source": [
    "def findPairs(arr,x):\n",
    "    arr_len = len(arr)\n",
    "    for i in range(arr_len):\n",
    "        for j in range(i,arr_len):\n",
    "            if ((arr[i] + arr[j])==x):\n",
    "                print(\"sum {0} is found by {1} and {2}\".format(x,arr[i],arr[j]))\n",
    "    "
   ]
  },
  {
   "cell_type": "code",
   "execution_count": 14,
   "metadata": {},
   "outputs": [
    {
     "name": "stdout",
     "output_type": "stream",
     "text": [
      "sum 12 is found by 7 and 5\n",
      "sum 12 is found by 4 and 8\n"
     ]
    }
   ],
   "source": [
    "arr = [7,5,4,8,1]\n",
    "x = 12\n",
    "findPairs(arr,x)\n",
    "# ans \n",
    "# sum 12 is found by 7 and 5\n",
    "# sum 12 is found by 4 and 8"
   ]
  },
  {
   "cell_type": "markdown",
   "metadata": {},
   "source": [
    "# Second Approach"
   ]
  },
  {
   "cell_type": "markdown",
   "metadata": {},
   "source": [
    "First sort the array. Do the sum of first and last element . If it is equal to x then return 1 and pair. else increment left and right based on condition"
   ]
  },
  {
   "cell_type": "raw",
   "metadata": {},
   "source": [
    "Complexity\n",
    "O(nlogn) \n",
    "nlogn -->sorting"
   ]
  },
  {
   "cell_type": "code",
   "execution_count": 15,
   "metadata": {},
   "outputs": [],
   "source": [
    "def findPairs_BS(arr,left,right,x):\n",
    "#     left = 0\n",
    "#     right = len(arr)-1\n",
    "    result_list = []\n",
    "    arr = sorted(arr) # implement sorting later\n",
    "    while left < right :\n",
    "        pair_sum = arr[left]+arr[right] \n",
    "        if pair_sum == x:\n",
    "            return 1,(arr[left],arr[right])\n",
    "        elif pair_sum < x:\n",
    "            left = left+1\n",
    "        elif pair_sum > x:\n",
    "            right = right -1\n",
    "    return 0,(0,0)\n",
    "        \n",
    "        "
   ]
  },
  {
   "cell_type": "code",
   "execution_count": 16,
   "metadata": {},
   "outputs": [
    {
     "data": {
      "text/plain": [
       "(1, (4, 8))"
      ]
     },
     "execution_count": 16,
     "metadata": {},
     "output_type": "execute_result"
    }
   ],
   "source": [
    "arr = [7,5,4,8,1]\n",
    "x = 12\n",
    "findPairs_BS(arr,left = 0,right = 4, x = x)\n",
    "# ans (1, (4, 8))"
   ]
  },
  {
   "cell_type": "markdown",
   "metadata": {},
   "source": [
    "# Third Approach"
   ]
  },
  {
   "cell_type": "markdown",
   "metadata": {},
   "source": [
    "Use Hash map . X = 8 and a = 2 => b = X-a = 6 .\n",
    "search for b in remaining elements.\n",
    "Complexity\n",
    "Time - O(n)\n",
    "space - O(k) where k is range of elements"
   ]
  },
  {
   "cell_type": "code",
   "execution_count": 17,
   "metadata": {},
   "outputs": [],
   "source": [
    "def findPairs_HM(arr,x):\n",
    "    hash_map = [0]*(max(max(arr),x)+1)\n",
    "    for ix,i in enumerate(arr):\n",
    "        temp = x-i\n",
    "        if hash_map[temp] == 1:\n",
    "            print(\"pair for sum {0} found is {1} and {2}\".format(x,i,temp))\n",
    "        hash_map[i] = 1\n",
    "        \n",
    "        "
   ]
  },
  {
   "cell_type": "code",
   "execution_count": 19,
   "metadata": {},
   "outputs": [
    {
     "name": "stdout",
     "output_type": "stream",
     "text": [
      "pair for sum 12 found is 5 and 7\n",
      "pair for sum 12 found is 8 and 4\n"
     ]
    }
   ],
   "source": [
    "arr = [7,5,4,8,1]\n",
    "x = 12\n",
    "findPairs_HM(arr,x)\n",
    "# ans \n",
    "# pair for sum 12 found is 5 and 7\n",
    "# pair for sum 12 found is 8 and 4"
   ]
  },
  {
   "cell_type": "code",
   "execution_count": null,
   "metadata": {},
   "outputs": [],
   "source": [
    "\n"
   ]
  },
  {
   "cell_type": "code",
   "execution_count": null,
   "metadata": {},
   "outputs": [],
   "source": []
  },
  {
   "cell_type": "code",
   "execution_count": 2,
   "metadata": {},
   "outputs": [],
   "source": []
  },
  {
   "cell_type": "code",
   "execution_count": null,
   "metadata": {},
   "outputs": [],
   "source": []
  }
 ],
 "metadata": {
  "kernelspec": {
   "display_name": "Python 3",
   "language": "python",
   "name": "python3"
  },
  "language_info": {
   "codemirror_mode": {
    "name": "ipython",
    "version": 3
   },
   "file_extension": ".py",
   "mimetype": "text/x-python",
   "name": "python",
   "nbconvert_exporter": "python",
   "pygments_lexer": "ipython3",
   "version": "3.5.2"
  }
 },
 "nbformat": 4,
 "nbformat_minor": 2
}
