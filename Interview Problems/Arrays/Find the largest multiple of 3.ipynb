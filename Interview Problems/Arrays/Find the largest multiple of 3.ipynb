{
 "cells": [
  {
   "cell_type": "markdown",
   "metadata": {},
   "source": [
    "# Understanding the problem statement"
   ]
  },
  {
   "cell_type": "markdown",
   "metadata": {},
   "source": [
    "Given an array, we have to form the largest number possible which is multiple of 3.\n",
    "Suppose we have arr = [6,3,1,9]. \n",
    "Largest number possible is 9631,but it is not multiple of 3. Largest multiple of 3 is 963.\n",
    "ANS: 963"
   ]
  },
  {
   "cell_type": "markdown",
   "metadata": {},
   "source": [
    "# Algorithm"
   ]
  },
  {
   "cell_type": "raw",
   "metadata": {},
   "source": [
    "1. First sort the arr in decreasing order.\n",
    "2. Find the sum of all digits. After finding sum there are three cases\n",
    "      a. If sum of digits is divisible by 3 then that means number is divisible 3. \n",
    "         Therefore return the number as it is. \n",
    "      b. If the sum of digits gives remainder 1 then :\n",
    "            b1. Remove the smallest number which gives remainder 1 when divided by 3.\n",
    "            b2. If there is no number which gives remainder 1 when divided by 3 then remove two smallest numbers\n",
    "            which gives remainder 2 when divided by 3.\n",
    "            b3. If both the above cases are not possible, then return 0\n",
    "      c. If the sum of digits gives remainder 2 then :\n",
    "            c1. Remove the smallest number which gives remainder 2 when divided by 3.\n",
    "            c2. If there is no number which gives remainder 2 when divided by 3 then remove two smallest numbers\n",
    "            which gives remainder 1 when divided by 3.\n",
    "            c3. If both the above cases are not possible, then return 0\n",
    "NOTE : Actual Implementation may be little different but the overlying idea of algorithm is same.\n"
   ]
  },
  {
   "cell_type": "markdown",
   "metadata": {},
   "source": [
    "# Implementation"
   ]
  },
  {
   "cell_type": "code",
   "execution_count": 3,
   "metadata": {},
   "outputs": [],
   "source": [
    "class Queue:\n",
    "    def __init__(self,maxsize):\n",
    "        self.queue = [0]*maxsize\n",
    "        self.front = 0\n",
    "        self.rear = 0\n",
    "        self.maxsize = maxsize\n",
    "    \n",
    "    def enqueue(self,item):\n",
    "        self.rear = (self.rear+1)%self.maxsize\n",
    "        if (self.front == self.rear):\n",
    "            print(\"Overflow\")\n",
    "            if self.rear == 0:\n",
    "                self.rear = self.maxsize - 1\n",
    "            else:\n",
    "                self.rear = self.rear - 1\n",
    "            return\n",
    "        else:\n",
    "            self.queue[self.rear] = item\n",
    "            return\n",
    "    \n",
    "    def dequeue(self):\n",
    "        if (self.front == self.rear):\n",
    "            print(\"Underflow\")\n",
    "            return -1\n",
    "        else:\n",
    "            self.front = (self.front+1)%self.maxsize\n",
    "            item = self.queue[self.front]\n",
    "            return item\n",
    "    \n",
    "    def isempty(self):\n",
    "        if self.front == self.rear:\n",
    "            return 1\n",
    "        return 0\n",
    "\n",
    "    def display(self):\n",
    "        print(self.queue)"
   ]
  },
  {
   "cell_type": "code",
   "execution_count": 7,
   "metadata": {},
   "outputs": [],
   "source": [
    "def maketemp(q0,q1,q2):\n",
    "    temp = []\n",
    "    while(not q0.isempty()):\n",
    "        temp.append(q0.dequeue())\n",
    "    while(not q1.isempty()):\n",
    "        temp.append(q1.dequeue())\n",
    "    while(not q2.isempty()):\n",
    "        temp.append(q2.dequeue())\n",
    "    return temp\n",
    "    \n",
    "def maxMultipleof3(arr,size):\n",
    "    arr = sorted(arr)\n",
    "    q0 = Queue(maxsize=size)\n",
    "    q1 = Queue(maxsize=size)\n",
    "    q2 = Queue(maxsize=size)\n",
    "    arr_sum = 0\n",
    "    for i in range(size):\n",
    "        arr_sum += arr[i]\n",
    "        if arr[i]%3 == 0:\n",
    "            q0.enqueue(arr[i])\n",
    "        elif arr[i]%3 == 1:\n",
    "            q1.enqueue(arr[i])\n",
    "        else:\n",
    "            q2.enqueue(arr[i])\n",
    "    if arr_sum%3 == 1:\n",
    "        if not q1.isempty():\n",
    "            q1.dequeue()\n",
    "        else:\n",
    "            if not q2.isempty():\n",
    "                q2.dequeue()\n",
    "            else:\n",
    "                return 0\n",
    "            if not q2.isempty():\n",
    "                q2.dequeue()\n",
    "            else:\n",
    "                return 0\n",
    "    elif arr_sum%3 == 2:\n",
    "        if not q2.isempty():\n",
    "            q2.dequeue()\n",
    "        else:\n",
    "            if not q1.isempty():\n",
    "                q1.dequeue()\n",
    "            else:\n",
    "                return 0\n",
    "            if not q1.isempty():\n",
    "                q1.dequeue()\n",
    "            else:\n",
    "                return 0\n",
    "    temp = maketemp(q0,q1,q2)\n",
    "    temp = sorted(temp,reverse=True)\n",
    "    return temp\n",
    "        "
   ]
  },
  {
   "cell_type": "code",
   "execution_count": 8,
   "metadata": {},
   "outputs": [
    {
     "data": {
      "text/plain": [
       "[9, 6, 3]"
      ]
     },
     "execution_count": 8,
     "metadata": {},
     "output_type": "execute_result"
    }
   ],
   "source": [
    "arr = [9,1,6,3]\n",
    "size = 4\n",
    "maxMultipleof3(arr,size)\n",
    "# ans\n",
    "# [9,6,3]"
   ]
  },
  {
   "cell_type": "code",
   "execution_count": 9,
   "metadata": {},
   "outputs": [
    {
     "data": {
      "text/plain": [
       "[8, 7, 6, 0]"
      ]
     },
     "execution_count": 9,
     "metadata": {},
     "output_type": "execute_result"
    }
   ],
   "source": [
    "arr = [8, 1, 7, 6, 0]\n",
    "size = 5\n",
    "maxMultipleof3(arr,size)\n",
    "# ans\n",
    "# [8, 7, 6, 0]"
   ]
  },
  {
   "cell_type": "code",
   "execution_count": null,
   "metadata": {},
   "outputs": [],
   "source": []
  }
 ],
 "metadata": {
  "kernelspec": {
   "display_name": "Python 3",
   "language": "python",
   "name": "python3"
  },
  "language_info": {
   "codemirror_mode": {
    "name": "ipython",
    "version": 3
   },
   "file_extension": ".py",
   "mimetype": "text/x-python",
   "name": "python",
   "nbconvert_exporter": "python",
   "pygments_lexer": "ipython3",
   "version": "3.5.2"
  }
 },
 "nbformat": 4,
 "nbformat_minor": 2
}
