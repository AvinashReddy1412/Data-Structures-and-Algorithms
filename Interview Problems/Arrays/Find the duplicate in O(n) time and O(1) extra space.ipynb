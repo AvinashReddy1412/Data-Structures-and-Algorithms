{
 "cells": [
  {
   "cell_type": "markdown",
   "metadata": {},
   "source": [
    "# Understanding the problem statement"
   ]
  },
  {
   "cell_type": "raw",
   "metadata": {},
   "source": [
    "Given an array such that 1<=arr[i]<n, we have to find duplicate elements in array in O(n) time and O(1) extra \n",
    "space.\n",
    "input : [1,2,2,4,4,3]\n",
    "output : 2,4"
   ]
  },
  {
   "cell_type": "markdown",
   "metadata": {},
   "source": [
    "# Approach"
   ]
  },
  {
   "cell_type": "markdown",
   "metadata": {},
   "source": [
    "1. Traverse the array and make number at index i in array arr[i] negative if it is not negative.\n",
    "2. while iterating if you already find the number negative, print index i as duplicate."
   ]
  },
  {
   "cell_type": "markdown",
   "metadata": {},
   "source": [
    "# Implementation"
   ]
  },
  {
   "cell_type": "code",
   "execution_count": 3,
   "metadata": {},
   "outputs": [],
   "source": [
    "def printRepeating(arr,size):\n",
    "    for i in range(size):\n",
    "        if arr[abs(arr[i])] > 0:\n",
    "            arr[abs(arr[i])] = -arr[abs(arr[i])]\n",
    "        else:\n",
    "            print(abs(arr[i]),end=\" \")"
   ]
  },
  {
   "cell_type": "code",
   "execution_count": 4,
   "metadata": {},
   "outputs": [
    {
     "name": "stdout",
     "output_type": "stream",
     "text": [
      "2 4 "
     ]
    }
   ],
   "source": [
    "arr = [1,2,2,4,4,3]\n",
    "size = len(arr)\n",
    "printRepeating(arr,size)\n",
    "# ans \n",
    "# 2 4 "
   ]
  },
  {
   "cell_type": "code",
   "execution_count": 5,
   "metadata": {},
   "outputs": [
    {
     "name": "stdout",
     "output_type": "stream",
     "text": [
      "2 4 3 "
     ]
    }
   ],
   "source": [
    "arr = [1,2,3,2,4,4,3]\n",
    "size = len(arr)\n",
    "printRepeating(arr,size)\n",
    "# ans \n",
    "# 2 4 3  "
   ]
  },
  {
   "cell_type": "markdown",
   "metadata": {},
   "source": [
    "This program does not handle zeros and negative cases. zero can be handled by making little modifications to \n",
    "program"
   ]
  },
  {
   "cell_type": "code",
   "execution_count": null,
   "metadata": {},
   "outputs": [],
   "source": []
  }
 ],
 "metadata": {
  "kernelspec": {
   "display_name": "Python 3",
   "language": "python",
   "name": "python3"
  },
  "language_info": {
   "codemirror_mode": {
    "name": "ipython",
    "version": 3
   },
   "file_extension": ".py",
   "mimetype": "text/x-python",
   "name": "python",
   "nbconvert_exporter": "python",
   "pygments_lexer": "ipython3",
   "version": "3.5.2"
  }
 },
 "nbformat": 4,
 "nbformat_minor": 2
}
