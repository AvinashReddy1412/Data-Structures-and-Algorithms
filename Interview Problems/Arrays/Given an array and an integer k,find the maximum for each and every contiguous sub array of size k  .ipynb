{
 "cells": [
  {
   "cell_type": "markdown",
   "metadata": {},
   "source": [
    "# Understanding the Problem Statement"
   ]
  },
  {
   "cell_type": "markdown",
   "metadata": {},
   "source": [
    "Consider an array [10,4,2,11,3,15,12] and k= 3. Now for every continuous subarrays of size 3, i.e\n",
    "[10,4,2], [4,2,11], [2,11,3], [11,3,15], [3,15,12] we have to find maximum and print them\n",
    "i.e 10,11,11,15,15."
   ]
  },
  {
   "cell_type": "markdown",
   "metadata": {},
   "source": [
    "# Approach 1"
   ]
  },
  {
   "cell_type": "markdown",
   "metadata": {},
   "source": [
    "Find subarray by increasing index and find maximum in the subarray using linear search.\n",
    "If array size is n, then we will have (n-k+1) subarrays of size k. In each subarray of size k, to finding max using\n",
    "linear search takes O(n) time. Therefore O(n-k+1) x O(k) = O(nk)\n",
    "Space Complexity takes O(1) because we are not using any extra space\n",
    "\n",
    "\n"
   ]
  },
  {
   "cell_type": "raw",
   "metadata": {},
   "source": [
    "Time Complexity: O(nk)\n",
    "Space Complexity: O(1)"
   ]
  },
  {
   "cell_type": "markdown",
   "metadata": {},
   "source": [
    "We cannot reduce O(n) i.e no of subarrays but we can reduce O(k) i.e finding max using different datastructure \n",
    "other than array. May be BST or maxheap. "
   ]
  },
  {
   "cell_type": "markdown",
   "metadata": {},
   "source": [
    "# Approach 2"
   ]
  },
  {
   "cell_type": "markdown",
   "metadata": {},
   "source": [
    "Now instead of using array in above approach, if we use Binary Search Tree?\n",
    "When we slide from one window to another window of size k, we have to find maximum, delete an element and\n",
    "insert new element.\n",
    "Now we will have BST of size k. finding maximum takes O(logk),deleting an element takes O(logk) and inserting new\n",
    "element takes O(logk).\n",
    "This is only incase if BST is balanced binary search tree or else delete takes O(n).\n",
    "so O(n) x O(logk+logk+logk)\n",
    "so total complexity is O(nlogk)\n",
    "and space complexity is O(k) because we are using binary search tree of size k.\n"
   ]
  },
  {
   "cell_type": "raw",
   "metadata": {},
   "source": [
    "BST :\n",
    "    Time Complexity : O(nlogk)\n",
    "    Space Complexity : O(n)"
   ]
  },
  {
   "cell_type": "markdown",
   "metadata": {},
   "source": [
    "Now instead of using array and BST if we use Max heap,\n",
    "finding maximum takes O(1), deleting an element takes O(k) because we have to search element first in entire tree\n",
    "of size k and then delete actually it takes O(klogk), and inserting an element takes O(logk).\n",
    "So Total time complexity is O(nk). Space complexity is O(k) for tree."
   ]
  },
  {
   "cell_type": "raw",
   "metadata": {},
   "source": [
    "Max Heap:\n",
    "    Time Complexity : O(nk)\n",
    "    Space Complexity : O(k)"
   ]
  },
  {
   "cell_type": "markdown",
   "metadata": {},
   "source": [
    "# Approach 3"
   ]
  },
  {
   "cell_type": "raw",
   "metadata": {},
   "source": [
    "1.First create Double Linked List with first three elements.\n",
    "2.While inserting element, we have to see whether previously existing elements are still useful\n",
    "or else we have to delete them\n",
    "For example we have 11,2,3 in DLL. Now we are planning to insert 9. If we insert 9, 2 and 3 will no longer be useful\n",
    "so we can delete them . Now DLL will contain only 11 and 9. \n",
    "3.Maximum element will always be the first element in DLL i.e 11.\n",
    "4.Whenever we move to next window, starting element of previous window has to be deleted.\n",
    "i.e 11,2,3,9 if we go to 2,3,9 subarray then 11 should be deleted.\n",
    "Now to findout 11 is present in DLL or not,we store indices of the elements in DLL not the elements themselves\n",
    "5.We repeat this process of removing useless elements from last and removing first element if we move to next\n",
    "window, and printing maximum i.e first element in DLL.\n",
    "6.So each element will be inserted and deleted from DLL once. Insertion and deletion takes O(1).\n",
    "So Total Time Complexity is O(n) and space complexity is O(k) for DLL.\n",
    "\n",
    "Note: we may think that why to maintain all k elements in DLL. just store maximum in window like 10. if new element     is greater than 10, print that or else print 10 and the continue windowwise.\n",
    "    But if we have 10,9,8,2. we just store 10 and compare with 2?\n",
    "    9 can be maximum in 9,8,2. So we have to store all potential maximum elements in window k. Maximum k and           minimum 1. In this case we store 10,9,8 suppose if we have 8,9,10,2 the we store only 10 as per algorithm           because once we have 10,9 and 8 becomes useless.\n"
   ]
  },
  {
   "cell_type": "raw",
   "metadata": {},
   "source": [
    "Time Complexity : O(n)\n",
    "Space Complexity: O(k)"
   ]
  },
  {
   "cell_type": "markdown",
   "metadata": {},
   "source": [
    "# Implementation"
   ]
  },
  {
   "cell_type": "code",
   "execution_count": 1,
   "metadata": {},
   "outputs": [],
   "source": [
    "class Node:\n",
    "    def __init__(self,data):\n",
    "        self.prev = None\n",
    "        self.data = data\n",
    "        self.next = None\n",
    "            \n",
    "    @staticmethod\n",
    "    def createSampleNode(k):\n",
    "        newnode = Node(k)\n",
    "        return newnode"
   ]
  },
  {
   "cell_type": "code",
   "execution_count": 2,
   "metadata": {},
   "outputs": [],
   "source": [
    "def addFirst(data):\n",
    "    global head,tail\n",
    "    temp = Node.createSampleNode(data)\n",
    "    if head==None:\n",
    "        head=tail=temp\n",
    "    else:\n",
    "        temp.next = head\n",
    "        head.prev = temp\n",
    "        head = temp\n",
    "\n",
    "def addLast(data):\n",
    "    global head,tail\n",
    "    temp=Node.createSampleNode(data)\n",
    "    if head==None:\n",
    "        head=tail=temp\n",
    "    else:\n",
    "        tail.next = temp\n",
    "        temp.prev = tail\n",
    "        tail = temp\n",
    "    \n",
    "def removeFirst():\n",
    "    global head,tail\n",
    "    if head==tail:\n",
    "        temp = head\n",
    "        head = tail = None\n",
    "        del(temp)\n",
    "    else:\n",
    "        temp = head\n",
    "        head = head.next\n",
    "        head.prev = None\n",
    "        del(temp)\n",
    "\n",
    "def removeLast():\n",
    "    global head,tail\n",
    "    if head==tail:\n",
    "        temp = head\n",
    "        head = tail = None\n",
    "        del(temp)\n",
    "    else:\n",
    "        temp = tail\n",
    "        tail = tail.prev\n",
    "        tail.next = None\n",
    "        del(temp)\n",
    "        \n",
    "def peekFirst():\n",
    "    global head,tail\n",
    "    return head.data\n",
    "\n",
    "def peekLast():\n",
    "    global head,tail\n",
    "    return tail.data\n",
    "\n",
    "def isListEmpty():\n",
    "    if head==None:\n",
    "        return 1\n",
    "    return 0\n",
    "\n",
    "def printFirst():\n",
    "    global head,tail\n",
    "    if head!=None:\n",
    "        return head.data\n",
    "    \n",
    "def traverseDoubleLinkedList(a):\n",
    "    temp = a\n",
    "    while(temp):\n",
    "        print(temp.data)\n",
    "        temp = temp.next"
   ]
  },
  {
   "cell_type": "code",
   "execution_count": 3,
   "metadata": {},
   "outputs": [],
   "source": [
    "head = tail = None\n",
    "\n",
    "def slidingWindowMax(arr,n,k=3):\n",
    "    addFirst(0)\n",
    "    for i in range(1,k):\n",
    "        while( not isListEmpty() and arr[i]>=arr[peekLast()]):\n",
    "            removeLast()\n",
    "        addLast(i)\n",
    "    for i in range(k,n):\n",
    "        print(arr[printFirst()],end=\",\")\n",
    "        if peekFirst() == i-k:\n",
    "            removeFirst()\n",
    "        while( not isListEmpty() and arr[i]>=arr[peekLast()]):\n",
    "            removeLast()\n",
    "        addLast(i)\n",
    "    print(arr[printFirst()])"
   ]
  },
  {
   "cell_type": "code",
   "execution_count": 4,
   "metadata": {},
   "outputs": [
    {
     "name": "stdout",
     "output_type": "stream",
     "text": [
      "10,11,11,15,15\n"
     ]
    }
   ],
   "source": [
    "arr = [10,4,2,11,3,15,12] \n",
    "slidingWindowMax(arr,7,3)\n",
    "# ans 10,11,11,15,15"
   ]
  },
  {
   "cell_type": "code",
   "execution_count": 5,
   "metadata": {},
   "outputs": [
    {
     "name": "stdout",
     "output_type": "stream",
     "text": [
      "17,18,18,18,26,27,27,27,27,16,21,35,35\n"
     ]
    }
   ],
   "source": [
    "arr=[15,9,4,17,18,12,6,26,27,16,1,12,14,21,35,29]\n",
    "slidingWindowMax(arr,16,4)\n",
    "# ans 17,18,18,18,26,27,27,27,27,16,21,35,35"
   ]
  },
  {
   "cell_type": "code",
   "execution_count": null,
   "metadata": {},
   "outputs": [],
   "source": []
  }
 ],
 "metadata": {
  "kernelspec": {
   "display_name": "Python 3",
   "language": "python",
   "name": "python3"
  },
  "language_info": {
   "codemirror_mode": {
    "name": "ipython",
    "version": 3
   },
   "file_extension": ".py",
   "mimetype": "text/x-python",
   "name": "python",
   "nbconvert_exporter": "python",
   "pygments_lexer": "ipython3",
   "version": "3.5.2"
  }
 },
 "nbformat": 4,
 "nbformat_minor": 2
}
