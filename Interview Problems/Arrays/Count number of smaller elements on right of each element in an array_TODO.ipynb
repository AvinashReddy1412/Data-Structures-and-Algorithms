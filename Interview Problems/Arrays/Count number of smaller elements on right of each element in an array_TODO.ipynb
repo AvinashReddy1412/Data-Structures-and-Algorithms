{
 "cells": [
  {
   "cell_type": "markdown",
   "metadata": {},
   "source": [
    "![title](reference_screenshots/count_no_of_smaller_elements_to_right.png)"
   ]
  },
  {
   "cell_type": "markdown",
   "metadata": {},
   "source": [
    "# Approach 1\n",
    "Explanation and complexity in reference_screenshots"
   ]
  },
  {
   "cell_type": "code",
   "execution_count": 8,
   "metadata": {},
   "outputs": [],
   "source": [
    "def count_smaller(arr,n):\n",
    "    for i in range(n):\n",
    "        count = 0\n",
    "        for j in range(i+1,n):\n",
    "            if arr[i]> arr[j]:\n",
    "                count+=1\n",
    "        print(count,end=\" \")"
   ]
  },
  {
   "cell_type": "code",
   "execution_count": 9,
   "metadata": {},
   "outputs": [
    {
     "name": "stdout",
     "output_type": "stream",
     "text": [
      "7 0 3 3 3 0 1 0 "
     ]
    }
   ],
   "source": [
    "arr = [10,0,4,5,7,1,3,2]\n",
    "n = 8\n",
    "count_smaller(arr,n)\n",
    "# ans \n",
    "# 7 0 3 3 3 0 1 0 "
   ]
  },
  {
   "cell_type": "markdown",
   "metadata": {},
   "source": [
    "# Approach 2\n",
    "Explanation and complexity in reference_screenshots\n"
   ]
  },
  {
   "cell_type": "code",
   "execution_count": 10,
   "metadata": {},
   "outputs": [],
   "source": [
    "#TODO Implementation uses AVL tree. so lets do if later"
   ]
  },
  {
   "cell_type": "code",
   "execution_count": null,
   "metadata": {},
   "outputs": [],
   "source": []
  }
 ],
 "metadata": {
  "kernelspec": {
   "display_name": "Python 3",
   "language": "python",
   "name": "python3"
  },
  "language_info": {
   "codemirror_mode": {
    "name": "ipython",
    "version": 3
   },
   "file_extension": ".py",
   "mimetype": "text/x-python",
   "name": "python",
   "nbconvert_exporter": "python",
   "pygments_lexer": "ipython3",
   "version": "3.5.2"
  }
 },
 "nbformat": 4,
 "nbformat_minor": 2
}
