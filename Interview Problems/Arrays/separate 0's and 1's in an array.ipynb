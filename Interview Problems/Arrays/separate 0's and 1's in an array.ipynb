{
 "cells": [
  {
   "cell_type": "markdown",
   "metadata": {},
   "source": [
    "# Approach 1"
   ]
  },
  {
   "cell_type": "markdown",
   "metadata": {},
   "source": [
    "Use count sort method. Count the number of 0s and 1s in an array.\n",
    "Replace required no of 0s in the left side and 1s in the right side of the array"
   ]
  },
  {
   "cell_type": "markdown",
   "metadata": {},
   "source": [
    "Complexity :\n",
    "    Time : O(n)\n",
    "    Space : O(1)\n"
   ]
  },
  {
   "cell_type": "code",
   "execution_count": 3,
   "metadata": {},
   "outputs": [],
   "source": [
    "def sep_01(arr):\n",
    "    count_0 = 0\n",
    "    count_1 = 0\n",
    "    for i in arr:\n",
    "        if i==0:\n",
    "            count_0+=1\n",
    "        else:\n",
    "            count_1+=1\n",
    "    for i in range(len(arr)):\n",
    "        if count_0 > 0:\n",
    "            arr[i] = 0\n",
    "            count_0 -=1\n",
    "        else:\n",
    "            arr[i] = 1\n",
    "    return arr\n",
    "        "
   ]
  },
  {
   "cell_type": "code",
   "execution_count": 5,
   "metadata": {},
   "outputs": [
    {
     "data": {
      "text/plain": [
       "[0, 0, 0, 0, 1, 1, 1, 1, 1]"
      ]
     },
     "execution_count": 5,
     "metadata": {},
     "output_type": "execute_result"
    }
   ],
   "source": [
    "arr = [0,0,1,1,1,0,1,0,1]\n",
    "sep_01(arr)\n",
    "#ans [0, 0, 0, 0, 1, 1, 1, 1, 1]"
   ]
  },
  {
   "cell_type": "code",
   "execution_count": 6,
   "metadata": {},
   "outputs": [
    {
     "data": {
      "text/plain": [
       "[0, 0, 0, 1, 1]"
      ]
     },
     "execution_count": 6,
     "metadata": {},
     "output_type": "execute_result"
    }
   ],
   "source": [
    "arr = [0,0,1,1,0]\n",
    "sep_01(arr)\n",
    "#ans [0, 0, 0, 1, 1]"
   ]
  },
  {
   "cell_type": "markdown",
   "metadata": {},
   "source": [
    "# Approach 2"
   ]
  },
  {
   "cell_type": "raw",
   "metadata": {},
   "source": [
    "Use 2 pointer technique. place l pointer to left side and r pointer to right side.\n",
    "Increment l pointer until you find 0 and decrement r pointer until you find 1.\n",
    "Swap elements if l ==0 and r ==1\n",
    "Repeat the process until l>r"
   ]
  },
  {
   "cell_type": "markdown",
   "metadata": {},
   "source": [
    "Complexity:\n",
    "    Time : O(n)\n",
    "    Space : O(1)\n",
    "    "
   ]
  },
  {
   "cell_type": "code",
   "execution_count": 13,
   "metadata": {},
   "outputs": [],
   "source": [
    "def sep_0_1(arr):\n",
    "    l = 0\n",
    "    r = len(arr)-1\n",
    "    while(l<=r):\n",
    "        if arr[l] == 1 and arr[r]==0:\n",
    "            arr[l] = 0\n",
    "            arr[r] = 1\n",
    "            l+=1\n",
    "            r-=1\n",
    "        if arr[l] == 0:\n",
    "            l+=1\n",
    "        if arr[r] == 1:\n",
    "            r-=1\n",
    "    return arr\n",
    "# Not good idea to increment only one at a time. We can increment until we find required condition. See Code below"
   ]
  },
  {
   "cell_type": "code",
   "execution_count": 14,
   "metadata": {},
   "outputs": [
    {
     "data": {
      "text/plain": [
       "[0, 0, 0, 0, 1, 1, 1, 1, 1]"
      ]
     },
     "execution_count": 14,
     "metadata": {},
     "output_type": "execute_result"
    }
   ],
   "source": [
    "arr = [0,0,1,1,1,0,1,0,1]\n",
    "sep_0_1(arr)\n",
    "#ans [0, 0, 0, 0, 1, 1, 1, 1, 1]"
   ]
  },
  {
   "cell_type": "code",
   "execution_count": 15,
   "metadata": {},
   "outputs": [
    {
     "data": {
      "text/plain": [
       "[0, 0, 0, 1, 1]"
      ]
     },
     "execution_count": 15,
     "metadata": {},
     "output_type": "execute_result"
    }
   ],
   "source": [
    "arr = [0,0,1,1,0]\n",
    "sep_0_1(arr)\n",
    "#ans [0, 0, 0, 1, 1]"
   ]
  },
  {
   "cell_type": "code",
   "execution_count": 16,
   "metadata": {},
   "outputs": [
    {
     "data": {
      "text/plain": [
       "[0, 0, 1, 1]"
      ]
     },
     "execution_count": 16,
     "metadata": {},
     "output_type": "execute_result"
    }
   ],
   "source": [
    "arr = [0,0,1,1]\n",
    "sep_0_1(arr)\n",
    "#ans [0, 0, 1, 1]"
   ]
  },
  {
   "cell_type": "raw",
   "metadata": {},
   "source": [
    "Approach 2 can also be used to separate even and odd numbers . In this case we have to just see Least Significant bit.\n",
    "LSB can be found using %2.\n",
    "Approach 1 cannot be used for this purpose.\n"
   ]
  },
  {
   "cell_type": "code",
   "execution_count": 17,
   "metadata": {},
   "outputs": [],
   "source": [
    "def sep_0_1_enhance(arr):\n",
    "    l = 0\n",
    "    r = len(arr)-1\n",
    "    while(l<r):\n",
    "        while(arr[l] == 0 and l < r ):\n",
    "            l +=1\n",
    "        while(arr[r] == 1 and l < r):\n",
    "            r -=1\n",
    "        if(l < r):\n",
    "            arr[l] = 0\n",
    "            arr[r] = 1\n",
    "            l +=1\n",
    "            r -=1\n",
    "    return arr\n",
    "        \n",
    "        "
   ]
  },
  {
   "cell_type": "code",
   "execution_count": 18,
   "metadata": {},
   "outputs": [
    {
     "data": {
      "text/plain": [
       "[0, 0, 0, 0, 1, 1, 1, 1, 1]"
      ]
     },
     "execution_count": 18,
     "metadata": {},
     "output_type": "execute_result"
    }
   ],
   "source": [
    "arr = [0,0,1,1,1,0,1,0,1]\n",
    "sep_0_1_enhance(arr)\n",
    "#ans [0, 0, 0, 0, 1, 1, 1, 1, 1]"
   ]
  },
  {
   "cell_type": "code",
   "execution_count": 19,
   "metadata": {},
   "outputs": [
    {
     "data": {
      "text/plain": [
       "[0, 0, 0, 1, 1]"
      ]
     },
     "execution_count": 19,
     "metadata": {},
     "output_type": "execute_result"
    }
   ],
   "source": [
    "arr = [0,0,1,1,0]\n",
    "sep_0_1_enhance(arr)\n",
    "#ans [0, 0, 0, 1, 1]"
   ]
  },
  {
   "cell_type": "code",
   "execution_count": 20,
   "metadata": {},
   "outputs": [
    {
     "data": {
      "text/plain": [
       "[0, 0, 1, 1]"
      ]
     },
     "execution_count": 20,
     "metadata": {},
     "output_type": "execute_result"
    }
   ],
   "source": [
    "arr = [0,0,1,1]\n",
    "sep_0_1_enhance(arr)\n",
    "#ans [0, 0, 1, 1]"
   ]
  },
  {
   "cell_type": "code",
   "execution_count": null,
   "metadata": {},
   "outputs": [],
   "source": []
  }
 ],
 "metadata": {
  "kernelspec": {
   "display_name": "Python 3",
   "language": "python",
   "name": "python3"
  },
  "language_info": {
   "codemirror_mode": {
    "name": "ipython",
    "version": 3
   },
   "file_extension": ".py",
   "mimetype": "text/x-python",
   "name": "python",
   "nbconvert_exporter": "python",
   "pygments_lexer": "ipython3",
   "version": "3.5.2"
  }
 },
 "nbformat": 4,
 "nbformat_minor": 2
}
