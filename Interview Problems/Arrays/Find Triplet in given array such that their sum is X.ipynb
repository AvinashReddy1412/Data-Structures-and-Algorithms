{
 "cells": [
  {
   "cell_type": "markdown",
   "metadata": {},
   "source": [
    "# Approach 1"
   ]
  },
  {
   "cell_type": "raw",
   "metadata": {},
   "source": [
    "Take all combinations of elements and check whether sum is X.\n",
    "Total Combinations : nC3 (Use three for loops)\n",
    "Complexity:\n",
    "    Time : O(n^3)\n",
    "    Space : O(1)\n",
    "        \n"
   ]
  },
  {
   "cell_type": "markdown",
   "metadata": {},
   "source": [
    "# Approach 2"
   ]
  },
  {
   "cell_type": "raw",
   "metadata": {},
   "source": [
    "The third for loop can be optimized.\n",
    "First sort the array(O(nlogn))\n",
    "Then after finding two elements using for loops, in the third loop use binary search to find required third element\n",
    "Required third element = X-(arr[1]+arr[2])\n",
    "Complexity:\n",
    "    Time : O(n^2*logn) + O(nlogn) = O(n^2*logn)\n",
    "    Space : O(1)"
   ]
  },
  {
   "cell_type": "markdown",
   "metadata": {},
   "source": [
    "# Approach 3 "
   ]
  },
  {
   "cell_type": "markdown",
   "metadata": {},
   "source": [
    "Sort the array. Fix one element(i th index) and then take l(i+1) and r(n-1) pointers . Find initial sum .\n",
    "If initial sum is > X then decrement r. If sum < X increment l .\n",
    "If sum == X return True."
   ]
  },
  {
   "cell_type": "raw",
   "metadata": {},
   "source": [
    "Complexity:\n",
    "    For every fixed element we scan remaining array -- > (n-1) + (n-2) + ..... 2\n",
    "    Time : O(n^2)\n",
    "    Space : O(1)"
   ]
  },
  {
   "cell_type": "code",
   "execution_count": 26,
   "metadata": {},
   "outputs": [],
   "source": [
    "def findTriplet(arr,X):\n",
    "    arr = sorted(arr)\n",
    "    for i in range(len(arr)-2):\n",
    "        l = i\n",
    "        r = len(arr)-1\n",
    "        while(l < r):\n",
    "            curr_sum = arr[i]+arr[l]+arr[r]\n",
    "            if curr_sum == X:\n",
    "                return True\n",
    "            elif curr_sum > X:\n",
    "                r-=1\n",
    "            elif curr_sum < X:\n",
    "                l+=1\n",
    "    return False"
   ]
  },
  {
   "cell_type": "code",
   "execution_count": 27,
   "metadata": {},
   "outputs": [
    {
     "data": {
      "text/plain": [
       "True"
      ]
     },
     "execution_count": 27,
     "metadata": {},
     "output_type": "execute_result"
    }
   ],
   "source": [
    "arr = [1,5,7,9,2,4]\n",
    "X = 15\n",
    "findTriplet(arr,X)\n",
    "#ans True"
   ]
  },
  {
   "cell_type": "code",
   "execution_count": 28,
   "metadata": {},
   "outputs": [
    {
     "data": {
      "text/plain": [
       "False"
      ]
     },
     "execution_count": 28,
     "metadata": {},
     "output_type": "execute_result"
    }
   ],
   "source": [
    "X = 5\n",
    "findTriplet(arr,X)\n",
    "#ans False"
   ]
  },
  {
   "cell_type": "code",
   "execution_count": 19,
   "metadata": {},
   "outputs": [],
   "source": [
    "def findTripletWithElements(arr,X):\n",
    "    arr = sorted(arr)\n",
    "    for i in range(len(arr)-2):\n",
    "        l = i\n",
    "        r = len(arr)-1\n",
    "        while(l < r):\n",
    "            curr_sum = arr[i]+arr[l]+arr[r]\n",
    "            if curr_sum == X:\n",
    "                return True,(arr[i],arr[l],arr[r])\n",
    "            elif curr_sum > X:\n",
    "                r-=1\n",
    "            elif curr_sum < X:\n",
    "                l+=1\n",
    "    return False,()"
   ]
  },
  {
   "cell_type": "code",
   "execution_count": 25,
   "metadata": {},
   "outputs": [
    {
     "name": "stdout",
     "output_type": "stream",
     "text": [
      "Triplet found 1,5,9\n"
     ]
    }
   ],
   "source": [
    "arr = [1,5,7,9,2,4]\n",
    "X = 15\n",
    "res = findTripletWithElements(arr,X)\n",
    "if res[0] == True:\n",
    "    print(\"Triplet found {0},{1},{2}\".format(res[1][0],res[1][1],res[1][2]))\n",
    "else:\n",
    "    print(\"Triplet not found\")\n",
    "#ans Triplet found 1,5,9"
   ]
  },
  {
   "cell_type": "code",
   "execution_count": 24,
   "metadata": {},
   "outputs": [
    {
     "name": "stdout",
     "output_type": "stream",
     "text": [
      "Triplet not found\n"
     ]
    }
   ],
   "source": [
    "arr = [1,5,7,9,2,4]\n",
    "X = 5\n",
    "res = findTripletWithElements(arr,X)\n",
    "if res[0] == True:\n",
    "    print(\"Triplet found {0},{1},{2}\".format(res[1][0],res[1][1],res[1][2]))\n",
    "else:\n",
    "    print(\"Triplet not found\")\n",
    "#ans Triplet not found"
   ]
  },
  {
   "cell_type": "code",
   "execution_count": null,
   "metadata": {},
   "outputs": [],
   "source": []
  }
 ],
 "metadata": {
  "kernelspec": {
   "display_name": "Python 3",
   "language": "python",
   "name": "python3"
  },
  "language_info": {
   "codemirror_mode": {
    "name": "ipython",
    "version": 3
   },
   "file_extension": ".py",
   "mimetype": "text/x-python",
   "name": "python",
   "nbconvert_exporter": "python",
   "pygments_lexer": "ipython3",
   "version": "3.5.2"
  }
 },
 "nbformat": 4,
 "nbformat_minor": 2
}
