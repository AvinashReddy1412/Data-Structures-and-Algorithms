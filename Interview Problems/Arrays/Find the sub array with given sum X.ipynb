{
 "cells": [
  {
   "cell_type": "markdown",
   "metadata": {},
   "source": [
    "# Understanding the problem statement"
   ]
  },
  {
   "cell_type": "markdown",
   "metadata": {},
   "source": [
    "Given an array arr=[5,4,6,7,9,8,3,1,2] and integer X, we should find the continuous sub array such that sum of all\n",
    "elements in that sub array should be equal to X.\n",
    "If X= 21, sub array is [9,8,3,1]\n",
    "#### ans = [9,8,3,1]"
   ]
  },
  {
   "cell_type": "markdown",
   "metadata": {},
   "source": [
    "# Approach 1"
   ]
  },
  {
   "cell_type": "raw",
   "metadata": {},
   "source": [
    "Find all continuous sub arrays and check whether their sum is equal to X or not.\n",
    "With first number 5 there are (n) continuous sub arrays possible like [5],[5,4],[5,4,6].....[5,4,6,7,9,8,3,1,2]\n",
    "With second number 4 there are (n-1) continuous sub arrays possible like [4],[4,6],[4,67]...\n",
    "So total sub arrays will be O(n^2) \n",
    "So for every i ranging from 0 to n-1\n",
    "we take j ranging from i+1 to n;\n",
    "then arr[i:j] will be sub array.\n",
    "No extra space is used so space is O(1)"
   ]
  },
  {
   "cell_type": "markdown",
   "metadata": {},
   "source": [
    "### Time Complexity   : O(n^2)\n",
    "### Space Complexity : O(1)"
   ]
  },
  {
   "cell_type": "markdown",
   "metadata": {},
   "source": [
    "# Implementation"
   ]
  },
  {
   "cell_type": "code",
   "execution_count": 12,
   "metadata": {},
   "outputs": [],
   "source": [
    "def subArraySum(arr,size,reqsum):\n",
    "    for i in range(size):\n",
    "        curr_sum = 0\n",
    "        for j in range(i,size):\n",
    "            curr_sum = curr_sum+arr[j]\n",
    "            if curr_sum == reqsum:\n",
    "                print(\"subarray is index is from {0} to {1}\".format(i,j))\n",
    "                return 1\n",
    "    return 0"
   ]
  },
  {
   "cell_type": "code",
   "execution_count": 13,
   "metadata": {},
   "outputs": [
    {
     "name": "stdout",
     "output_type": "stream",
     "text": [
      "subarray is index is from 4 to 7\n"
     ]
    },
    {
     "data": {
      "text/plain": [
       "1"
      ]
     },
     "execution_count": 13,
     "metadata": {},
     "output_type": "execute_result"
    }
   ],
   "source": [
    "arr = [5,4,6,7,9,8,3,1,2]\n",
    "reqsum = 21\n",
    "subArraySum(arr,9,reqsum)\n",
    "# ans \n",
    "# subarray is index is from 4 to 7\n",
    "# 1"
   ]
  },
  {
   "cell_type": "code",
   "execution_count": 14,
   "metadata": {},
   "outputs": [
    {
     "name": "stdout",
     "output_type": "stream",
     "text": [
      "subarray is index is from 0 to 2\n"
     ]
    },
    {
     "data": {
      "text/plain": [
       "1"
      ]
     },
     "execution_count": 14,
     "metadata": {},
     "output_type": "execute_result"
    }
   ],
   "source": [
    "arr = [5,4,6,7,9,8,3,1,2]\n",
    "reqsum = 15\n",
    "subArraySum(arr,9,reqsum)\n",
    "# ans\n",
    "# subarray is index is from 0 to 2\n",
    "# 1"
   ]
  },
  {
   "cell_type": "code",
   "execution_count": 15,
   "metadata": {},
   "outputs": [
    {
     "name": "stdout",
     "output_type": "stream",
     "text": [
      "subarray is index is from 0 to 8\n"
     ]
    },
    {
     "data": {
      "text/plain": [
       "1"
      ]
     },
     "execution_count": 15,
     "metadata": {},
     "output_type": "execute_result"
    }
   ],
   "source": [
    "arr = [5,4,6,7,9,8,3,1,2]\n",
    "reqsum = 45\n",
    "subArraySum(arr,9,reqsum)\n",
    "# ans\n",
    "# subarray is index is from 0 to 8\n",
    "# 1"
   ]
  },
  {
   "cell_type": "markdown",
   "metadata": {},
   "source": [
    "# Approach 2"
   ]
  },
  {
   "cell_type": "markdown",
   "metadata": {},
   "source": [
    "1. Use two pointers\n",
    "2. Let first pointer point to index 0 and second pointer point to index 1.\n",
    "3. curr_sum = sum(arr[firstpointer : secondpointer-1])\n",
    "4. If curr_sum is greater than reqsum, we have to remove elements. If we decrement secondpointer and remove element\n",
    "then that sub array we have already see, so we increment leftpointer and then remove element\n",
    "5. If curr_sum is less than reqsum, we have to add elements. We increment right pointer and add elements.\n",
    "6. If curr_sum is equal to reqsum, then arr[firstpointer : secondpointer-1] is the required sub array.\n"
   ]
  },
  {
   "cell_type": "markdown",
   "metadata": {},
   "source": [
    "At max we scan each element twice, so complexity is 2n i.e O(n).\n",
    "And we use two pointers extra. This is independent of size of input. So space complexity is O(1)"
   ]
  },
  {
   "cell_type": "markdown",
   "metadata": {},
   "source": [
    "### Time Complexity : O(n)\n",
    "### Space Complexity : O(1)"
   ]
  },
  {
   "cell_type": "raw",
   "metadata": {},
   "source": [
    "Let us see how our no of sub arrays to test got reduced with this logic.\n",
    "Now in the above array arr=[5,4,6,7,9,8,3,1,2], using first approach we tested all sub arrays\n",
    "like [5],[5,4],[5,4,6],[5,4,6,7],[5,4,6,7,9],[5,4,6,7,9,8].....[5,4,6,7,9,8,3,1,2].\n",
    "But using second approach after testing [5],[5,4],[5,4,6],[5,4,6,7].. out curr_sum becomes 22 which is greater\n",
    "than reqsum 21. So we increment left pointer and then start testing [4],[4,6],[4,67].....\n",
    "we skipped testing [5,4,6,7,9],[5,4,6,7,9,8].....[5,4,6,7,9,8,3,1,2].\n",
    "Thus our testing sub arrays got reduces and our time complexity got reduced."
   ]
  },
  {
   "cell_type": "markdown",
   "metadata": {},
   "source": [
    "# Implementation"
   ]
  },
  {
   "cell_type": "code",
   "execution_count": 16,
   "metadata": {},
   "outputs": [],
   "source": [
    "def subArraySum(arr,size,reqsum):\n",
    "    lp = 0\n",
    "    curr_sum = arr[0]\n",
    "    for rp in range(1,size+1):\n",
    "        while(curr_sum > reqsum and lp < rp-1 ):\n",
    "            curr_sum -= arr[lp]\n",
    "            lp += 1\n",
    "        if curr_sum == reqsum:\n",
    "            print(\"subarray is index is from {0} to {1}\".format(lp,rp-1))\n",
    "            return 1\n",
    "        if rp < size:\n",
    "            curr_sum += arr[rp]\n",
    "    print(\"No subarray found\")\n",
    "    return 0"
   ]
  },
  {
   "cell_type": "code",
   "execution_count": 17,
   "metadata": {},
   "outputs": [
    {
     "name": "stdout",
     "output_type": "stream",
     "text": [
      "subarray is index is from 4 to 7\n"
     ]
    },
    {
     "data": {
      "text/plain": [
       "1"
      ]
     },
     "execution_count": 17,
     "metadata": {},
     "output_type": "execute_result"
    }
   ],
   "source": [
    "arr = [5,4,6,7,9,8,3,1,2]\n",
    "reqsum = 21\n",
    "subArraySum(arr,9,reqsum)\n",
    "# ans \n",
    "# subarray is index is from 4 to 7\n",
    "# 1"
   ]
  },
  {
   "cell_type": "code",
   "execution_count": 18,
   "metadata": {},
   "outputs": [
    {
     "name": "stdout",
     "output_type": "stream",
     "text": [
      "subarray is index is from 0 to 2\n"
     ]
    },
    {
     "data": {
      "text/plain": [
       "1"
      ]
     },
     "execution_count": 18,
     "metadata": {},
     "output_type": "execute_result"
    }
   ],
   "source": [
    "arr = [5,4,6,7,9,8,3,1,2]\n",
    "reqsum = 15\n",
    "subArraySum(arr,9,reqsum)\n",
    "# ans\n",
    "# subarray is index is from 0 to 2\n",
    "# 1\n"
   ]
  },
  {
   "cell_type": "code",
   "execution_count": 19,
   "metadata": {},
   "outputs": [
    {
     "name": "stdout",
     "output_type": "stream",
     "text": [
      "subarray is index is from 0 to 8\n"
     ]
    },
    {
     "data": {
      "text/plain": [
       "1"
      ]
     },
     "execution_count": 19,
     "metadata": {},
     "output_type": "execute_result"
    }
   ],
   "source": [
    "arr = [5,4,6,7,9,8,3,1,2]\n",
    "reqsum = 45\n",
    "subArraySum(arr,9,reqsum)\n",
    "# ans\n",
    "# subarray is index is from 0 to 8\n",
    "# 1"
   ]
  },
  {
   "cell_type": "markdown",
   "metadata": {},
   "source": [
    "# Approach 3"
   ]
  },
  {
   "cell_type": "markdown",
   "metadata": {},
   "source": [
    "In approach 2, we are incrementing left pointer to reduce sum and incrementing right pointer to increase sum.\n",
    "This approach does not work if we have negative elements in the array.\n",
    "For example, if we have -5,6,7,8 subarray,curr_sum is 16 [-5+6+7+8] and lp is at 0 i.e -5. To reduce sum if we \n",
    "increment lp to 1 the sum becomes 6+7+8 = 21. So this logic does not work if we have negative elements in array.\n",
    "We should use below approach in case of negative elements array."
   ]
  },
  {
   "cell_type": "raw",
   "metadata": {},
   "source": [
    "1. Given an array [7,6,-3,4,8] and X= 12. We should store all sums of sub_arrays to hash.\n",
    "2. first subarray is [7], sum is 7 store sum to hash H=[7]\n",
    "3. next subarray is [7,6]. sum is 13. Now subtract X from curr_sum. 13-12 = 1. check whether 1 is present in H\n",
    "or not. If it is present then we got subarray.or else repeat process till end of array.\n",
    "H becomes [7,13]\n",
    "[.....hash_sum_index.....curr_sum_index]\n",
    "if curr_sum - req_sum is in hash at hash_index that means [hash_sum_index+1 ... curr_sum_index] is our\n",
    "required sub_array.\n",
    "4. next subarray is [7,6,-3]. sum is 13-3=10 . 10-12 = -2 not in H. H becomes [7,13,10]\n",
    "5. next subarray is [7,6,-3,4]. sum is 14. 14-12 = 2 not in H. H becomes [7,13,10,14]\n",
    "6. next subarray is [7,6,-3,4,8]. sum is 22. 22-12 = 10. 10 is in H at index 2.\n",
    "so our subarray should be from index 3 to current_index 4 i.e [4,8] \n",
    "# ans [4,8].\n",
    "\n",
    "we got this because we are substracting whole array sum till current_index - required_sum, and checking if we have\n",
    "already got this sum somewhere till some index. If we already got it , then from that index onwards till\n",
    "current index gives our required_sum.\n",
    "current_index_sum - required_sum = old_sum means\n",
    "current_index_sum - old_sum = required_sum\n",
    "that is why answer is from old_sum_index+1 to current_index_sum."
   ]
  },
  {
   "cell_type": "markdown",
   "metadata": {},
   "source": [
    "For find the sub array with given sum X=0 also we can use approach 3."
   ]
  },
  {
   "cell_type": "code",
   "execution_count": null,
   "metadata": {},
   "outputs": [],
   "source": []
  }
 ],
 "metadata": {
  "kernelspec": {
   "display_name": "Python 3",
   "language": "python",
   "name": "python3"
  },
  "language_info": {
   "codemirror_mode": {
    "name": "ipython",
    "version": 3
   },
   "file_extension": ".py",
   "mimetype": "text/x-python",
   "name": "python",
   "nbconvert_exporter": "python",
   "pygments_lexer": "ipython3",
   "version": "3.5.2"
  }
 },
 "nbformat": 4,
 "nbformat_minor": 2
}
