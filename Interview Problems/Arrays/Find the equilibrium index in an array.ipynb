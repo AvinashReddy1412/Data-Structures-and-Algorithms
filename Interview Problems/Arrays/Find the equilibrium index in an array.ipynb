{
 "cells": [
  {
   "cell_type": "markdown",
   "metadata": {},
   "source": [
    "# EQUILIBRIUM INDEX:\n",
    "        Index such that sum of elements till the index(including it) is equal to the sum of remaining elements. "
   ]
  },
  {
   "cell_type": "markdown",
   "metadata": {},
   "source": [
    "## Approach 1"
   ]
  },
  {
   "cell_type": "raw",
   "metadata": {},
   "source": [
    "For each index test whether it is equilibrium index or not. For each i check sum till that index and sum of remaining elements and check\n",
    "whether both sums are equal or not.\n",
    "For checking each index - O(n)\n",
    "For finding sum we have to scan the array - O(n)\n",
    "Complexity:\n",
    "    Time : O(n^2)\n",
    "    Space : O(1)"
   ]
  },
  {
   "cell_type": "markdown",
   "metadata": {},
   "source": [
    "## Approach 2"
   ]
  },
  {
   "cell_type": "raw",
   "metadata": {},
   "source": [
    "First find the cumulative sum list of the array elements. Then for each index check sum till the point and compare it with other sum like below:\n",
    "    cum_sum[i] == cum_sum[-1]-cum_sum[i]\n",
    "if condition is satisfied equilibrium index is i\n",
    "Complexity:\n",
    "    finding cum_sum - O(n). Scanning it O(n)\n",
    "    Time : O(n)\n",
    "    Space: O(n)"
   ]
  },
  {
   "cell_type": "code",
   "execution_count": 2,
   "metadata": {},
   "outputs": [],
   "source": [
    "def findEquilibriumIndex(arr):\n",
    "    cum_sum = []\n",
    "    curr_sum = 0\n",
    "    for i in arr:\n",
    "        curr_sum+=i\n",
    "        cum_sum.append(curr_sum)\n",
    "    for ix,ele in enumerate(cum_sum):\n",
    "        if ele == cum_sum[-1] - ele:\n",
    "            return ix\n",
    "    return -1"
   ]
  },
  {
   "cell_type": "code",
   "execution_count": 19,
   "metadata": {},
   "outputs": [
    {
     "data": {
      "text/plain": [
       "2"
      ]
     },
     "execution_count": 19,
     "metadata": {},
     "output_type": "execute_result"
    }
   ],
   "source": [
    "arr = [1,5,10,9,1,2,4]\n",
    "findEquilibriumIndex(arr)\n",
    "#ans 2"
   ]
  },
  {
   "cell_type": "code",
   "execution_count": 20,
   "metadata": {},
   "outputs": [
    {
     "data": {
      "text/plain": [
       "-1"
      ]
     },
     "execution_count": 20,
     "metadata": {},
     "output_type": "execute_result"
    }
   ],
   "source": [
    "arr = [1,5,10,9,1,2]\n",
    "findEquilibriumIndex(arr)\n",
    "#ans -1"
   ]
  },
  {
   "cell_type": "code",
   "execution_count": 21,
   "metadata": {},
   "outputs": [
    {
     "data": {
      "text/plain": [
       "3"
      ]
     },
     "execution_count": 21,
     "metadata": {},
     "output_type": "execute_result"
    }
   ],
   "source": [
    "arr = [1,1,5,10,9,1,2,5]\n",
    "findEquilibriumIndex(arr)\n",
    "#ans 3"
   ]
  },
  {
   "cell_type": "markdown",
   "metadata": {},
   "source": [
    "You can also do this approach by reducing space complexity to O(1) as below:\n",
    "    "
   ]
  },
  {
   "cell_type": "code",
   "execution_count": 26,
   "metadata": {},
   "outputs": [],
   "source": [
    "def findEquilibriumIndex_opt(arr):\n",
    "    total_sum = 0\n",
    "    curr_sum = 0\n",
    "    for i in arr:\n",
    "        total_sum+=i\n",
    "    for ix in range(len(arr)):\n",
    "        curr_sum += arr[ix]\n",
    "        if curr_sum == total_sum - curr_sum:\n",
    "            return ix\n",
    "    return -1"
   ]
  },
  {
   "cell_type": "code",
   "execution_count": 27,
   "metadata": {},
   "outputs": [
    {
     "data": {
      "text/plain": [
       "-1"
      ]
     },
     "execution_count": 27,
     "metadata": {},
     "output_type": "execute_result"
    }
   ],
   "source": [
    "arr = [1,5,10,9,1,2]\n",
    "findEquilibriumIndex_opt(arr)\n",
    "#ans -1"
   ]
  },
  {
   "cell_type": "code",
   "execution_count": 28,
   "metadata": {},
   "outputs": [
    {
     "data": {
      "text/plain": [
       "3"
      ]
     },
     "execution_count": 28,
     "metadata": {},
     "output_type": "execute_result"
    }
   ],
   "source": [
    "arr = [1,1,5,10,9,1,2,5]\n",
    "findEquilibriumIndex_opt(arr)\n",
    "#ans 3"
   ]
  },
  {
   "cell_type": "code",
   "execution_count": null,
   "metadata": {},
   "outputs": [],
   "source": []
  }
 ],
 "metadata": {
  "kernelspec": {
   "display_name": "Python 3",
   "language": "python",
   "name": "python3"
  },
  "language_info": {
   "codemirror_mode": {
    "name": "ipython",
    "version": 3
   },
   "file_extension": ".py",
   "mimetype": "text/x-python",
   "name": "python",
   "nbconvert_exporter": "python",
   "pygments_lexer": "ipython3",
   "version": "3.5.2"
  }
 },
 "nbformat": 4,
 "nbformat_minor": 2
}
