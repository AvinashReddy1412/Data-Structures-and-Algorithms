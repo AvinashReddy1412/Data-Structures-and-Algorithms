{
 "cells": [
  {
   "cell_type": "markdown",
   "metadata": {},
   "source": [
    "# Understanding Problem Statement"
   ]
  },
  {
   "cell_type": "markdown",
   "metadata": {},
   "source": [
    "Given an array of n-integers, construct product array such that prod[i] is equal to product of all elements\n",
    "except arr[i] without using division operator.\n",
    "Consider array [10,20,30,40]. Now prod[0] should be product of arr[1],arr[2],arr[3].we should not include arr[0]\n",
    "And prod[1] should be product of arr[0],arr[1] and arr[2]\n",
    "prod_arr = [24000,12000,8000,6000] #ans"
   ]
  },
  {
   "cell_type": "markdown",
   "metadata": {},
   "source": [
    "# Approach 1"
   ]
  },
  {
   "cell_type": "markdown",
   "metadata": {},
   "source": [
    "1. First we can find the product of all elements. all_prod\n",
    "2. while finding product array, we can add prod[i] by dividing all_prod with arr[i].\n",
    "3. But condition is we should not use division operator.So we cannot use this approach"
   ]
  },
  {
   "cell_type": "markdown",
   "metadata": {},
   "source": [
    "# Approach 2"
   ]
  },
  {
   "cell_type": "markdown",
   "metadata": {},
   "source": [
    "1. Find left product array i.e product of elements starting from left till that element.\n",
    "left prod[i] = arr[0] x arr[1] x .. arr[i-1] x arr[i]\n",
    "leftprod = [10,200,6000,24000]\n",
    "2. Similarly find right product array i.e product of elements starting from right till that elements\n",
    "right prod[i] =  arr[n] x arr[n-1] x ... arr[i+1] x arr[i]\n",
    "3. Now to find actual prod[i] we can make use of left prod and right prod.\n",
    "prod[i] = left prod[i-1] x right prod[i+1]\n",
    "4. To find left prod we have to scan array once. O(n)\n",
    "To find right prod we have to scan array once. O(n)\n",
    "To find actual prod we have to iterate and make use of left prod and right prod. O(n)\n",
    "5. We use three arrays of space n i.e 3n i.e O(n)"
   ]
  },
  {
   "cell_type": "markdown",
   "metadata": {},
   "source": [
    "### Time Complexity   : O(n) \n",
    "### Space Complexity : O(n)"
   ]
  },
  {
   "cell_type": "markdown",
   "metadata": {},
   "source": [
    "# Implementation"
   ]
  },
  {
   "cell_type": "code",
   "execution_count": 15,
   "metadata": {},
   "outputs": [],
   "source": [
    "def prod_array(arr,size):\n",
    "    if size == 1:\n",
    "        return []\n",
    "    prod_arr = [0]* size\n",
    "    left_prod = []\n",
    "    right_prod = [0]* size\n",
    "    lprd = 1\n",
    "    for i in range(size):\n",
    "        lprd *= arr[i]\n",
    "        left_prod.append(lprd)\n",
    "    rprd = 1\n",
    "    for i in range(size-1,-1,-1):\n",
    "        rprd *= arr[i]\n",
    "        right_prod[i]= rprd\n",
    "    prod_arr[0] = right_prod[1]\n",
    "    prod_arr[-1] = left_prod[size-2]\n",
    "    if size == 2:\n",
    "        return prod_arr\n",
    "    for i in range(1,size-1):\n",
    "        prod_arr[i] = left_prod[i-1]* right_prod[i+1]\n",
    "    return prod_arr\n",
    "    "
   ]
  },
  {
   "cell_type": "code",
   "execution_count": 16,
   "metadata": {},
   "outputs": [
    {
     "name": "stdout",
     "output_type": "stream",
     "text": [
      "[24000, 12000, 8000, 6000]\n"
     ]
    }
   ],
   "source": [
    "arr = [10,20,30,40]\n",
    "size = len(arr)\n",
    "print(prod_array(arr,size))\n",
    "# ans\n",
    "# [24000, 12000, 8000, 6000]"
   ]
  },
  {
   "cell_type": "code",
   "execution_count": 17,
   "metadata": {},
   "outputs": [
    {
     "name": "stdout",
     "output_type": "stream",
     "text": [
      "[]\n"
     ]
    }
   ],
   "source": [
    "arr = [10]\n",
    "size = len(arr)\n",
    "print(prod_array(arr,size))\n",
    "# ans\n",
    "# []"
   ]
  },
  {
   "cell_type": "code",
   "execution_count": 28,
   "metadata": {},
   "outputs": [
    {
     "name": "stdout",
     "output_type": "stream",
     "text": [
      "[20, 10]\n"
     ]
    }
   ],
   "source": [
    "arr = [10,20]\n",
    "size = len(arr)\n",
    "print(prod_array(arr,size))\n",
    "# ans\n",
    "# [20, 10]"
   ]
  },
  {
   "cell_type": "markdown",
   "metadata": {},
   "source": [
    "# Optimized logic\n",
    "    Instead of using different left prod, right prod and actual prod, we can use single array to directly \n",
    "    compute result.\n",
    "    Given array [10,20,30,40]. First compute left such that element is not included i.e [1,10,200,6000]\n",
    "    Then iterate from right and update the same list."
   ]
  },
  {
   "cell_type": "code",
   "execution_count": 29,
   "metadata": {},
   "outputs": [],
   "source": [
    "def prod_arr_opt(arr,size):\n",
    "    prod_arr = [None]*size\n",
    "    temp = 1\n",
    "    for i in range(size):\n",
    "        prod_arr[i] = temp\n",
    "        temp = temp* arr[i]\n",
    "    temp = 1\n",
    "    for i in range(size-1,-1,-1):\n",
    "        prod_arr[i] = prod_arr[i] * temp\n",
    "        temp = temp* arr[i]\n",
    "    return prod_arr"
   ]
  },
  {
   "cell_type": "code",
   "execution_count": 30,
   "metadata": {},
   "outputs": [
    {
     "name": "stdout",
     "output_type": "stream",
     "text": [
      "[24000, 12000, 8000, 6000]\n"
     ]
    }
   ],
   "source": [
    "arr = [10,20,30,40]\n",
    "size = len(arr)\n",
    "print(prod_arr_opt(arr,size))\n",
    "# ans\n",
    "# [24000, 12000, 8000, 6000]"
   ]
  },
  {
   "cell_type": "code",
   "execution_count": 31,
   "metadata": {},
   "outputs": [
    {
     "name": "stdout",
     "output_type": "stream",
     "text": [
      "[1]\n"
     ]
    }
   ],
   "source": [
    "arr = [10]\n",
    "size = len(arr)\n",
    "print(prod_arr_opt(arr,size))\n",
    "# ans\n",
    "# [1]"
   ]
  },
  {
   "cell_type": "code",
   "execution_count": 32,
   "metadata": {},
   "outputs": [
    {
     "name": "stdout",
     "output_type": "stream",
     "text": [
      "[20, 10]\n"
     ]
    }
   ],
   "source": [
    "arr = [10,20]\n",
    "size = len(arr)\n",
    "print(prod_arr_opt(arr,size))\n",
    "# ans\n",
    "# [20, 10]"
   ]
  },
  {
   "cell_type": "code",
   "execution_count": null,
   "metadata": {},
   "outputs": [],
   "source": []
  }
 ],
 "metadata": {
  "kernelspec": {
   "display_name": "Python 3",
   "language": "python",
   "name": "python3"
  },
  "language_info": {
   "codemirror_mode": {
    "name": "ipython",
    "version": 3
   },
   "file_extension": ".py",
   "mimetype": "text/x-python",
   "name": "python",
   "nbconvert_exporter": "python",
   "pygments_lexer": "ipython3",
   "version": "3.5.2"
  }
 },
 "nbformat": 4,
 "nbformat_minor": 2
}
