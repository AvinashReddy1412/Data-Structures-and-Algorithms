{
 "cells": [
  {
   "cell_type": "markdown",
   "metadata": {},
   "source": [
    "# Refer screenshot for explanation, algorithm and complexity"
   ]
  },
  {
   "cell_type": "markdown",
   "metadata": {},
   "source": [
    "    INPUT : GLGLGLG\n",
    "    OUTPUT : True\n",
    "    \n",
    "    INPUT : GLGLGRG\n",
    "    OUTPUT : False"
   ]
  },
  {
   "cell_type": "markdown",
   "metadata": {},
   "source": [
    "# Implementation"
   ]
  },
  {
   "cell_type": "code",
   "execution_count": 6,
   "metadata": {},
   "outputs": [],
   "source": [
    "NORTH = 0\n",
    "EAST = 1\n",
    "SOUTH = 2\n",
    "WEST = 3\n",
    "\n",
    "def is_circular(path):\n",
    "    x = 0\n",
    "    y = 0\n",
    "    direction = NORTH\n",
    "    for move in path:\n",
    "        if move == 'R':\n",
    "            direction = (direction+1)%4\n",
    "        elif move == 'L':\n",
    "            direction = (direction+3)%4 \n",
    "        else: #(move == 'G')\n",
    "            if direction == NORTH :\n",
    "                y+=1\n",
    "            elif direction == EAST:\n",
    "                x+=1\n",
    "            elif direction == SOUTH:\n",
    "                y-=1\n",
    "            elif direction == WEST:\n",
    "                x-=1\n",
    "    if x == 0 and y==0:\n",
    "        return True\n",
    "    return False\n",
    "    "
   ]
  },
  {
   "cell_type": "code",
   "execution_count": 7,
   "metadata": {},
   "outputs": [
    {
     "data": {
      "text/plain": [
       "True"
      ]
     },
     "execution_count": 7,
     "metadata": {},
     "output_type": "execute_result"
    }
   ],
   "source": [
    "path = \"GLGLGLG\"\n",
    "is_circular(path)\n",
    "# ans\n",
    "# True"
   ]
  },
  {
   "cell_type": "code",
   "execution_count": 8,
   "metadata": {},
   "outputs": [
    {
     "data": {
      "text/plain": [
       "False"
      ]
     },
     "execution_count": 8,
     "metadata": {},
     "output_type": "execute_result"
    }
   ],
   "source": [
    "path = \"GLGLGRG\" \n",
    "is_circular(path)\n",
    "# ans \n",
    "# False"
   ]
  },
  {
   "cell_type": "code",
   "execution_count": null,
   "metadata": {},
   "outputs": [],
   "source": []
  }
 ],
 "metadata": {
  "kernelspec": {
   "display_name": "Python 3",
   "language": "python",
   "name": "python3"
  },
  "language_info": {
   "codemirror_mode": {
    "name": "ipython",
    "version": 3
   },
   "file_extension": ".py",
   "mimetype": "text/x-python",
   "name": "python",
   "nbconvert_exporter": "python",
   "pygments_lexer": "ipython3",
   "version": "3.9.0"
  }
 },
 "nbformat": 4,
 "nbformat_minor": 4
}
