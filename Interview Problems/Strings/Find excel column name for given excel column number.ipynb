{
 "cells": [
  {
   "cell_type": "markdown",
   "metadata": {},
   "source": [
    "# Refer screenshot for explanation, algorithm and complexity"
   ]
  },
  {
   "cell_type": "markdown",
   "metadata": {},
   "source": [
    "    INPUT : 26\n",
    "    OUTPUT : Z\n",
    "        \n",
    "    INPUT : 27\n",
    "    OUTPUT : AA\n",
    "    \n",
    "    INPUT : 26*26+2\n",
    "    OUTPUT : ZB"
   ]
  },
  {
   "cell_type": "markdown",
   "metadata": {},
   "source": [
    "# Implementation"
   ]
  },
  {
   "cell_type": "code",
   "execution_count": 6,
   "metadata": {},
   "outputs": [],
   "source": [
    "def print_excel_col_name(n):\n",
    "    name = \"\"\n",
    "    while(n > 0):\n",
    "        rem = n%26\n",
    "        if rem == 0: # since 26 remainder cannot be obtained when we divide with 26, we assign 0 to 'Z'\n",
    "            name += 'Z'\n",
    "            n = n//26 - 1 # To handle 26 * 26\n",
    "        else:\n",
    "            name += chr((rem - 1) + ord('A')) # rem -1 since we are starting with 'A'\n",
    "            n = n//26\n",
    "    name_len = len(name)\n",
    "    for i in range(name_len-1,-1,-1):\n",
    "        print(name[i])\n",
    "        "
   ]
  },
  {
   "cell_type": "code",
   "execution_count": 7,
   "metadata": {},
   "outputs": [
    {
     "name": "stdout",
     "output_type": "stream",
     "text": [
      "Z\n"
     ]
    }
   ],
   "source": [
    "n = 26\n",
    "print_excel_col_name(n)\n",
    "# ans \n",
    "# Z"
   ]
  },
  {
   "cell_type": "code",
   "execution_count": 8,
   "metadata": {},
   "outputs": [
    {
     "name": "stdout",
     "output_type": "stream",
     "text": [
      "A\n",
      "A\n"
     ]
    }
   ],
   "source": [
    "n = 27\n",
    "print_excel_col_name(n)\n",
    "# ans \n",
    "# AA"
   ]
  },
  {
   "cell_type": "code",
   "execution_count": 10,
   "metadata": {},
   "outputs": [
    {
     "name": "stdout",
     "output_type": "stream",
     "text": [
      "Z\n",
      "B\n"
     ]
    }
   ],
   "source": [
    "n = (26*26) + 2\n",
    "print_excel_col_name(n)\n",
    "# ans \n",
    "# ZB"
   ]
  },
  {
   "cell_type": "code",
   "execution_count": null,
   "metadata": {},
   "outputs": [],
   "source": []
  }
 ],
 "metadata": {
  "kernelspec": {
   "display_name": "Python 3",
   "language": "python",
   "name": "python3"
  },
  "language_info": {
   "codemirror_mode": {
    "name": "ipython",
    "version": 3
   },
   "file_extension": ".py",
   "mimetype": "text/x-python",
   "name": "python",
   "nbconvert_exporter": "python",
   "pygments_lexer": "ipython3",
   "version": "3.9.0"
  }
 },
 "nbformat": 4,
 "nbformat_minor": 4
}
