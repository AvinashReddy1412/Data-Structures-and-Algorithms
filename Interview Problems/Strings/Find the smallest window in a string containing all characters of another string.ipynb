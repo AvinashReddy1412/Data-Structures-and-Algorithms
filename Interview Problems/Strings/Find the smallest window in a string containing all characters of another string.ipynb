{
 "cells": [
  {
   "cell_type": "markdown",
   "metadata": {},
   "source": [
    "# Refer both explanation and implementation screenshots"
   ]
  },
  {
   "cell_type": "markdown",
   "metadata": {},
   "source": [
    "    INPUT : smallest window in a string, swi\n",
    "    OUTPUT : st wi"
   ]
  },
  {
   "cell_type": "code",
   "execution_count": 1,
   "metadata": {},
   "outputs": [],
   "source": [
    "def find_sub_string(input_str, pattern):\n",
    "    str_len = len(input_str)\n",
    "    pattern_len = len(pattern)\n",
    "    if str_len < pattern_len:\n",
    "        print(\"No window exists\")\n",
    "        return\n",
    "    hash_pattern = [0] * 256\n",
    "    hash_str = [0] * 256\n",
    "    for char in pattern:\n",
    "        hash_pattern[ord(char)] +=1\n",
    "    start = 0\n",
    "    min_window_len = 1000\n",
    "    start_index = -1\n",
    "    count = 0\n",
    "    for j in range(str_len):\n",
    "        hash_str[ord(input_str[j])] +=1\n",
    "        if hash_pattern[ord(input_str[j])] !=0 and hash_str[ord(input_str[j])] <= hash_pattern[ord(input_str[j])] :\n",
    "        # checking if its needed character and also checking is it present required number of times. If it is\n",
    "        # present more than required number of times need not increment count.\n",
    "            count +=1\n",
    "        if count == pattern_len:\n",
    "            while(hash_str[ord(input_str[start])] > hash_pattern[ord(input_str[start])] or hash_pattern[ord(input_str[start])] == 0):\n",
    "                hash_str[ord(input_str[start])] -=1\n",
    "                start += 1\n",
    "            curr_window_len = j - start +1\n",
    "            if curr_window_len < min_window_len:\n",
    "                min_window_len = curr_window_len\n",
    "                start_index = start            \n",
    "    if start_index == -1:\n",
    "        print(\"No window exists\")\n",
    "        return\n",
    "    for i in range(start_index, start_index+min_window_len):\n",
    "        print(input_str[i], end=\"\")\n",
    "    \n",
    "                \n",
    "        "
   ]
  },
  {
   "cell_type": "markdown",
   "metadata": {},
   "source": [
    "# Test"
   ]
  },
  {
   "cell_type": "code",
   "execution_count": 3,
   "metadata": {},
   "outputs": [
    {
     "name": "stdout",
     "output_type": "stream",
     "text": [
      "st wi"
     ]
    }
   ],
   "source": [
    "input_str = \"smallest window in a string\"\n",
    "pattern = \"swi\"\n",
    "find_sub_string(input_str, pattern)\n",
    "# ans\n",
    "# stwi"
   ]
  },
  {
   "cell_type": "code",
   "execution_count": 4,
   "metadata": {},
   "outputs": [
    {
     "name": "stdout",
     "output_type": "stream",
     "text": [
      "ash R"
     ]
    }
   ],
   "source": [
    "input_str = \"Avinash Reddy\"\n",
    "pattern = \"ahR\"\n",
    "find_sub_string(input_str, pattern)\n",
    "# ans\n",
    "# ash R"
   ]
  },
  {
   "cell_type": "code",
   "execution_count": 5,
   "metadata": {},
   "outputs": [
    {
     "name": "stdout",
     "output_type": "stream",
     "text": [
      "aining"
     ]
    }
   ],
   "source": [
    "input_str = \"a string containing\"\n",
    "pattern = \"aig\"\n",
    "find_sub_string(input_str, pattern)\n",
    "# ans\n",
    "# aining"
   ]
  },
  {
   "cell_type": "code",
   "execution_count": null,
   "metadata": {},
   "outputs": [],
   "source": []
  }
 ],
 "metadata": {
  "kernelspec": {
   "display_name": "Python 3",
   "language": "python",
   "name": "python3"
  },
  "language_info": {
   "codemirror_mode": {
    "name": "ipython",
    "version": 3
   },
   "file_extension": ".py",
   "mimetype": "text/x-python",
   "name": "python",
   "nbconvert_exporter": "python",
   "pygments_lexer": "ipython3",
   "version": "3.9.0"
  }
 },
 "nbformat": 4,
 "nbformat_minor": 4
}
