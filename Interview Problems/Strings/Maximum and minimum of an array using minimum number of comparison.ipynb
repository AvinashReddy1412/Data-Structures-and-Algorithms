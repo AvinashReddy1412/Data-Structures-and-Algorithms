{
 "cells": [
  {
   "cell_type": "markdown",
   "metadata": {},
   "source": [
    "# Refer screenshot for explanation, different approaches and their complexities"
   ]
  },
  {
   "cell_type": "markdown",
   "metadata": {},
   "source": [
    "    INPUT : [1, 10, 9, 15, 20, 25]\n",
    "    OUTPUT : [1, 25]"
   ]
  },
  {
   "cell_type": "code",
   "execution_count": 14,
   "metadata": {},
   "outputs": [],
   "source": [
    "def min_max_with_less_comparisons(arr, arr_len):\n",
    "    curr_min = None\n",
    "    curr_max = None\n",
    "    if not arr:\n",
    "        return [curr_min, curr_max]\n",
    "    if arr_len % 2 == 0: # intially 1 comparison if length is even\n",
    "        if arr[0] < arr[1]:\n",
    "            curr_min = arr[0]\n",
    "            curr_max = arr[1]\n",
    "        else:\n",
    "            curr_min = arr[1]\n",
    "            curr_max = arr[0]\n",
    "        i = 2\n",
    "    else: # initially no comparison if length is odd\n",
    "        curr_min = arr[0]\n",
    "        curr_max = arr[0]\n",
    "        i = 1 \n",
    "    while i < arr_len-1:   # 3 comparisons for every pair\n",
    "        if arr[i] < arr[i+1]:  # 1\n",
    "            if arr[i] < curr_min:  # 2\n",
    "                curr_min = arr[i]\n",
    "            if arr[i+1] > curr_max: #3\n",
    "                curr_max = arr[i+1]\n",
    "        else:\n",
    "            if arr[i] > curr_max: # 2\n",
    "                curr_max = arr[i]\n",
    "            if arr[i+1] < curr_min: # 3\n",
    "                curr_min = arr[i+1]\n",
    "        i +=2\n",
    "    return [curr_min, curr_max]\n",
    "        \n",
    "        "
   ]
  },
  {
   "cell_type": "code",
   "execution_count": 15,
   "metadata": {},
   "outputs": [
    {
     "data": {
      "text/plain": [
       "[1, 25]"
      ]
     },
     "execution_count": 15,
     "metadata": {},
     "output_type": "execute_result"
    }
   ],
   "source": [
    "arr = [1, 10, 9, 15, 20, 25]\n",
    "arr_len = len(arr)\n",
    "min_max_with_less_comparisons(arr, arr_len)\n",
    "# ans\n",
    "# [1, 25]"
   ]
  },
  {
   "cell_type": "code",
   "execution_count": 16,
   "metadata": {},
   "outputs": [
    {
     "data": {
      "text/plain": [
       "[6, 25]"
      ]
     },
     "execution_count": 16,
     "metadata": {},
     "output_type": "execute_result"
    }
   ],
   "source": [
    "arr = [21, 25, 9, 8, 6]\n",
    "arr_len = len(arr)\n",
    "min_max_with_less_comparisons(arr, arr_len)\n",
    "# ans\n",
    "# [6, 25]"
   ]
  },
  {
   "cell_type": "code",
   "execution_count": 17,
   "metadata": {},
   "outputs": [
    {
     "data": {
      "text/plain": [
       "[6, 25]"
      ]
     },
     "execution_count": 17,
     "metadata": {},
     "output_type": "execute_result"
    }
   ],
   "source": [
    "arr = [21, 25, 9, 8, 6, 10]\n",
    "arr_len = len(arr)\n",
    "min_max_with_less_comparisons(arr, arr_len)\n",
    "# ans\n",
    "# [6, 25]"
   ]
  },
  {
   "cell_type": "code",
   "execution_count": null,
   "metadata": {},
   "outputs": [],
   "source": []
  }
 ],
 "metadata": {
  "kernelspec": {
   "display_name": "Python 3",
   "language": "python",
   "name": "python3"
  },
  "language_info": {
   "codemirror_mode": {
    "name": "ipython",
    "version": 3
   },
   "file_extension": ".py",
   "mimetype": "text/x-python",
   "name": "python",
   "nbconvert_exporter": "python",
   "pygments_lexer": "ipython3",
   "version": "3.9.0"
  }
 },
 "nbformat": 4,
 "nbformat_minor": 4
}
