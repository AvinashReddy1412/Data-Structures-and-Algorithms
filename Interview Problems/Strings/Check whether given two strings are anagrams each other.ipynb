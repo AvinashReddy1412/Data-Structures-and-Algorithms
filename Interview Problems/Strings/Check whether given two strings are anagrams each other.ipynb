{
 "cells": [
  {
   "cell_type": "markdown",
   "metadata": {},
   "source": [
    "# Refer screenshot for explanation, algorithm and complexity"
   ]
  },
  {
   "cell_type": "markdown",
   "metadata": {},
   "source": [
    "    INPUT : angle, glean\n",
    "    OUTPUT : True\n",
    "    \n",
    "    INPUT : heater, reheat\n",
    "    OUTPUT : True"
   ]
  },
  {
   "cell_type": "markdown",
   "metadata": {},
   "source": [
    "# Implementation"
   ]
  },
  {
   "cell_type": "code",
   "execution_count": 5,
   "metadata": {},
   "outputs": [],
   "source": [
    "def are_anagrams(s1, s2):\n",
    "    hash_table_s1 = [0] * 256\n",
    "    hash_table_s2 = [0] * 256\n",
    "    s1_len = len(s1)\n",
    "    s2_len = len(s2)\n",
    "    if s1_len != s2_len:\n",
    "        return False\n",
    "    for i in range(s1_len):\n",
    "        hash_table_s1[ord(s1[i])] +=1\n",
    "        hash_table_s2[ord(s2[i])] +=1\n",
    "    for i in range(256):\n",
    "        if hash_table_s1[i] != hash_table_s2[i]:\n",
    "            return False\n",
    "    return True"
   ]
  },
  {
   "cell_type": "code",
   "execution_count": 6,
   "metadata": {},
   "outputs": [
    {
     "data": {
      "text/plain": [
       "True"
      ]
     },
     "execution_count": 6,
     "metadata": {},
     "output_type": "execute_result"
    }
   ],
   "source": [
    "s1 = \"angle\"\n",
    "s2 = \"glean\"\n",
    "are_anagrams(s1, s2)\n",
    "# True"
   ]
  },
  {
   "cell_type": "code",
   "execution_count": 7,
   "metadata": {},
   "outputs": [
    {
     "data": {
      "text/plain": [
       "True"
      ]
     },
     "execution_count": 7,
     "metadata": {},
     "output_type": "execute_result"
    }
   ],
   "source": [
    "s1 = \"heater\"\n",
    "s2 = \"reheat\"\n",
    "are_anagrams(s1, s2)\n",
    "# True"
   ]
  },
  {
   "cell_type": "code",
   "execution_count": 8,
   "metadata": {},
   "outputs": [
    {
     "data": {
      "text/plain": [
       "False"
      ]
     },
     "execution_count": 8,
     "metadata": {},
     "output_type": "execute_result"
    }
   ],
   "source": [
    "s1 = \"angle\"\n",
    "s2 = \"aglan\"\n",
    "are_anagrams(s1, s2)\n",
    "# False"
   ]
  },
  {
   "cell_type": "code",
   "execution_count": null,
   "metadata": {},
   "outputs": [],
   "source": []
  }
 ],
 "metadata": {
  "kernelspec": {
   "display_name": "Python 3",
   "language": "python",
   "name": "python3"
  },
  "language_info": {
   "codemirror_mode": {
    "name": "ipython",
    "version": 3
   },
   "file_extension": ".py",
   "mimetype": "text/x-python",
   "name": "python",
   "nbconvert_exporter": "python",
   "pygments_lexer": "ipython3",
   "version": "3.9.0"
  }
 },
 "nbformat": 4,
 "nbformat_minor": 4
}
