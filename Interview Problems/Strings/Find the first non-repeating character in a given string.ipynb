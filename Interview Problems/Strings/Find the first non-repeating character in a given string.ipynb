{
 "cells": [
  {
   "cell_type": "markdown",
   "metadata": {},
   "source": [
    "# Refer screenshot for explanation, algorithm and complexity"
   ]
  },
  {
   "cell_type": "markdown",
   "metadata": {},
   "source": [
    "    INPUT : RAVINDRA\n",
    "    OUTPUT : V"
   ]
  },
  {
   "cell_type": "markdown",
   "metadata": {},
   "source": [
    "# Implementation"
   ]
  },
  {
   "cell_type": "code",
   "execution_count": 52,
   "metadata": {},
   "outputs": [],
   "source": [
    "def get_count_hash(input_str, str_len): \n",
    "    hash_table = []\n",
    "    for i in range(256):\n",
    "        hash_table.append({'count':0 , 'index':0})\n",
    "    for i in range(str_len):\n",
    "        hash_table[ord(input_str[i])]['count'] +=1\n",
    "        if hash_table[ord(input_str[i])]['count'] == 1:\n",
    "            hash_table[ord(input_str[i])]['index']  = i\n",
    "    return hash_table\n",
    "\n",
    "def find_first_non_rep_char(input_str, str_len):\n",
    "    hash_table = get_count_hash(input_str, str_len)\n",
    "    min_index= 10000 #INT_MAX\n",
    "    for i in hash_table:\n",
    "        if i['count'] == 1 and i['index'] < min_index:\n",
    "            min_index = i['index']\n",
    "    if min_index !=10000:\n",
    "        return input_str[min_index]\n",
    "    return None"
   ]
  },
  {
   "cell_type": "markdown",
   "metadata": {},
   "source": [
    "# Test"
   ]
  },
  {
   "cell_type": "code",
   "execution_count": 53,
   "metadata": {},
   "outputs": [
    {
     "data": {
      "text/plain": [
       "'V'"
      ]
     },
     "execution_count": 53,
     "metadata": {},
     "output_type": "execute_result"
    }
   ],
   "source": [
    "input_str = \"RAVINDRA\"\n",
    "str_len = len(input_str)\n",
    "find_first_non_rep_char(input_str, str_len)"
   ]
  },
  {
   "cell_type": "code",
   "execution_count": 54,
   "metadata": {},
   "outputs": [
    {
     "data": {
      "text/plain": [
       "'V'"
      ]
     },
     "execution_count": 54,
     "metadata": {},
     "output_type": "execute_result"
    }
   ],
   "source": [
    "input_str = \"AVINASH\"\n",
    "str_len = len(input_str)\n",
    "find_first_non_rep_char(input_str, str_len)"
   ]
  },
  {
   "cell_type": "code",
   "execution_count": 55,
   "metadata": {},
   "outputs": [
    {
     "data": {
      "text/plain": [
       "'B'"
      ]
     },
     "execution_count": 55,
     "metadata": {},
     "output_type": "execute_result"
    }
   ],
   "source": [
    "input_str = \"ABHINAV\"\n",
    "str_len = len(input_str)\n",
    "find_first_non_rep_char(input_str, str_len)"
   ]
  },
  {
   "cell_type": "code",
   "execution_count": null,
   "metadata": {},
   "outputs": [],
   "source": []
  }
 ],
 "metadata": {
  "kernelspec": {
   "display_name": "Python 3",
   "language": "python",
   "name": "python3"
  },
  "language_info": {
   "codemirror_mode": {
    "name": "ipython",
    "version": 3
   },
   "file_extension": ".py",
   "mimetype": "text/x-python",
   "name": "python",
   "nbconvert_exporter": "python",
   "pygments_lexer": "ipython3",
   "version": "3.9.0"
  }
 },
 "nbformat": 4,
 "nbformat_minor": 4
}
