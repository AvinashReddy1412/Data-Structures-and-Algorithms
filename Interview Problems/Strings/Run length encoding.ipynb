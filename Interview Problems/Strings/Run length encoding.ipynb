{
 "cells": [
  {
   "cell_type": "markdown",
   "metadata": {},
   "source": [
    "# Refer screenshot for explanation, algorithm and complexity"
   ]
  },
  {
   "cell_type": "markdown",
   "metadata": {},
   "source": [
    "    INPUT : aaaabbcccd\n",
    "    \n",
    "    OUTPUT : a4b2c3d1"
   ]
  },
  {
   "cell_type": "markdown",
   "metadata": {},
   "source": [
    "# Implementation"
   ]
  },
  {
   "cell_type": "code",
   "execution_count": 23,
   "metadata": {},
   "outputs": [],
   "source": [
    "def check_adjacent(input_str,str_len, i):\n",
    "    if i < str_len-1 and input_str[i+1] == input_str[i]: # or use i+1 < strlen as RRR used\n",
    "        return True\n",
    "    return False\n",
    "    \n",
    "def run_length_encoding(input_str, str_len):\n",
    "    final_str = \"\"\n",
    "    i = 0\n",
    "    while i < str_len:\n",
    "        print(i)\n",
    "        final_str+=input_str[i]\n",
    "        count = 1\n",
    "        while check_adjacent(input_str, str_len, i):\n",
    "            print(i)\n",
    "            count+=1\n",
    "            i+=1\n",
    "        final_str+=str(count)\n",
    "        i +=1\n",
    "    return final_str"
   ]
  },
  {
   "cell_type": "code",
   "execution_count": 24,
   "metadata": {},
   "outputs": [
    {
     "name": "stdout",
     "output_type": "stream",
     "text": [
      "0\n",
      "0\n",
      "1\n",
      "2\n",
      "4\n",
      "4\n",
      "6\n",
      "6\n",
      "7\n",
      "9\n"
     ]
    },
    {
     "data": {
      "text/plain": [
       "'a4b2c3d1'"
      ]
     },
     "execution_count": 24,
     "metadata": {},
     "output_type": "execute_result"
    }
   ],
   "source": [
    "input_str = \"aaaabbcccd\"\n",
    "str_len = len(input_str)\n",
    "run_length_encoding(input_str, str_len)\n",
    "# ans\n",
    "# a4b2c3d1\n",
    "# printed count as well inorder to ensure we are scanning expression only once"
   ]
  },
  {
   "cell_type": "code",
   "execution_count": 25,
   "metadata": {},
   "outputs": [],
   "source": [
    "# Did not use for loops. since we cannot maintain inner increment count if we use for i in range(). It iterates through\n",
    "# range object irrespective of inner count that we have incremented. "
   ]
  },
  {
   "cell_type": "code",
   "execution_count": 26,
   "metadata": {},
   "outputs": [
    {
     "name": "stdout",
     "output_type": "stream",
     "text": [
      "0\n",
      "0\n",
      "2\n",
      "2\n",
      "3\n",
      "5\n",
      "5\n",
      "6\n",
      "8\n",
      "8\n",
      "9\n",
      "10\n",
      "12\n",
      "12\n"
     ]
    },
    {
     "data": {
      "text/plain": [
       "'S2M3A3R4T2'"
      ]
     },
     "execution_count": 26,
     "metadata": {},
     "output_type": "execute_result"
    }
   ],
   "source": [
    "input_str = \"SSMMMAAARRRRTT\"\n",
    "str_len = len(input_str)\n",
    "run_length_encoding(input_str, str_len)\n",
    "# ans\n",
    "# S2M3A3R4T2\n",
    "# printed count as well inorder to ensure we are scanning expression only once"
   ]
  },
  {
   "cell_type": "code",
   "execution_count": null,
   "metadata": {},
   "outputs": [],
   "source": []
  }
 ],
 "metadata": {
  "kernelspec": {
   "display_name": "Python 3",
   "language": "python",
   "name": "python3"
  },
  "language_info": {
   "codemirror_mode": {
    "name": "ipython",
    "version": 3
   },
   "file_extension": ".py",
   "mimetype": "text/x-python",
   "name": "python",
   "nbconvert_exporter": "python",
   "pygments_lexer": "ipython3",
   "version": "3.9.0"
  }
 },
 "nbformat": 4,
 "nbformat_minor": 4
}
