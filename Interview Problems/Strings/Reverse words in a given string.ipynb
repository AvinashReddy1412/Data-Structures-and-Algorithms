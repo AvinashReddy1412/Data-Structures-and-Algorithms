{
 "cells": [
  {
   "cell_type": "markdown",
   "metadata": {},
   "source": [
    "# Refer screenshot for explanation, algorithm and complexity"
   ]
  },
  {
   "cell_type": "markdown",
   "metadata": {},
   "source": [
    "    Input : This is a class\n",
    "    Output : class a is This"
   ]
  },
  {
   "cell_type": "code",
   "execution_count": 20,
   "metadata": {},
   "outputs": [],
   "source": [
    "def reverse_str(input_str, begin, end):\n",
    "    while begin < end:\n",
    "        temp = input_str[begin]\n",
    "        input_str[begin] = input_str[end]\n",
    "        input_str[end] = temp\n",
    "        begin +=1\n",
    "        end -=1\n",
    "    return input_str\n",
    "\n",
    "def reverse_words(input_str):\n",
    "    begin = 0\n",
    "    end = 0\n",
    "    for i in range(len(input_str)-1):\n",
    "        if input_str[i] == \" \" and input_str[i+1] != \" \":\n",
    "            begin = i+1\n",
    "        if input_str[i]!=\" \" and input_str[i+1] == \" \": # checking i to support multiple places as well\n",
    "            end = i\n",
    "            reverse_str(input_str,begin,end)\n",
    "    reverse_str(input_str,begin, i+1) # To reverse last word\n",
    "    reverse_str(input_str,0 , i+1) # To reverse entire sentence"
   ]
  },
  {
   "cell_type": "code",
   "execution_count": 21,
   "metadata": {},
   "outputs": [
    {
     "data": {
      "text/plain": [
       "'class  a is  This'"
      ]
     },
     "execution_count": 21,
     "metadata": {},
     "output_type": "execute_result"
    }
   ],
   "source": [
    "input_str = [\"T\",\"h\",\"i\",\"s\",\" \",\" \",\"i\",\"s\",\" \",\"a\",\" \",\" \", \"c\",\"l\",\"a\",\"s\",\"s\"]\n",
    "reverse_words(input_str)\n",
    "''.join(input_str)"
   ]
  },
  {
   "cell_type": "code",
   "execution_count": null,
   "metadata": {},
   "outputs": [],
   "source": []
  }
 ],
 "metadata": {
  "kernelspec": {
   "display_name": "Python 3",
   "language": "python",
   "name": "python3"
  },
  "language_info": {
   "codemirror_mode": {
    "name": "ipython",
    "version": 3
   },
   "file_extension": ".py",
   "mimetype": "text/x-python",
   "name": "python",
   "nbconvert_exporter": "python",
   "pygments_lexer": "ipython3",
   "version": "3.9.0"
  }
 },
 "nbformat": 4,
 "nbformat_minor": 4
}
