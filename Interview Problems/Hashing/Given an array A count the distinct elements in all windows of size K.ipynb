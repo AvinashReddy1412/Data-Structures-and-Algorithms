{
 "cells": [
  {
   "cell_type": "markdown",
   "metadata": {},
   "source": [
    "# Understanding the problem statement"
   ]
  },
  {
   "cell_type": "raw",
   "metadata": {},
   "source": [
    "Given an array A, and window size k, we have to print number of distinct elements for each window.\n",
    "\n",
    "Input : 10 10 20 30 30 40 10\n",
    "k     : 3\n",
    "    \n",
    "There are 7 elements and k=3, therefore number of windows possible is (n-k+1) = 7-3+1 = 5\n",
    "        \n",
    "          windows      distinct\n",
    "        \n",
    "          10 10 20 -->    1 \n",
    "          10 20 30 -->    3\n",
    "          20 30 30 -->    1\n",
    "          30 30 40 -->    1\n",
    "          30 40 10 -->    3\n",
    "            \n",
    "Output : 1 3 1 1 3"
   ]
  },
  {
   "cell_type": "markdown",
   "metadata": {},
   "source": [
    "# Algorithm"
   ]
  },
  {
   "cell_type": "markdown",
   "metadata": {},
   "source": [
    "# Approach 1"
   ]
  },
  {
   "cell_type": "markdown",
   "metadata": {},
   "source": [
    "1. Take one window at a time.In each window compare one element with every other element. If no match is \n",
    "    found then count it as distinct element.\n",
    "2. For each window of size k, we need O(k^2) comparisons.\n",
    "3. Number of windows is (n-k+1) --> (n-k+1) * O(k^2)"
   ]
  },
  {
   "cell_type": "markdown",
   "metadata": {},
   "source": [
    "# Complexity :\n",
    "# Time : O(n * k^2)\n",
    "    since in (n-k+1) * O(k^2), as n is always greater than k leading term is n*k^2\n",
    "# Space : O(1)\n",
    "    since no extra space is used"
   ]
  },
  {
   "cell_type": "markdown",
   "metadata": {},
   "source": [
    "# Approach 2"
   ]
  },
  {
   "cell_type": "markdown",
   "metadata": {},
   "source": [
    "1. Take one window at a time. In each window instead of comparing one element with every other element, we can \n",
    "find distinct element in one parse by sorting elements in window.\n",
    "2. Sort elements in window. O(klogk)\n",
    "3. Traverse elements in window and count distinct elements in window. If elements are same they will be adjacent\n",
    "to each other and we can find distinct elements by one parse --> O(k)\n",
    "4. For each window, we have to sort and then parse to find distinct --> (n-k+1) * (O(k*logk)+O(k))"
   ]
  },
  {
   "cell_type": "markdown",
   "metadata": {},
   "source": [
    "# Complexity :\n",
    "# Time : O(n * klogk)\n",
    "    since in (n-k+1) * (O(k*logk)+O(k)), leading term is n * (klogk)\n",
    "# Space : O(1)\n",
    "    since no extra space is used"
   ]
  },
  {
   "cell_type": "markdown",
   "metadata": {},
   "source": [
    "# Approach 3"
   ]
  },
  {
   "cell_type": "markdown",
   "metadata": {},
   "source": [
    "1. For each window, traverse the window and insert in hash map with frequencies. Insertion in hash takes O(1) --> O(k)\n",
    "2. Traverse window again search for element get frequency and count distinct elements. search in hash takes\n",
    "O(1). --> O(k)\n",
    "3. Repeat step 1 and 2 for each window. Total windows (n-k+1) --> (n-k+1) * (O(k)+O(k))"
   ]
  },
  {
   "cell_type": "markdown",
   "metadata": {},
   "source": [
    "# Complexity :\n",
    "# Time : O(n * k)\n",
    "    (n-k+1) * (O(k)+O(k)) = O(nk) since n>k\n",
    "# Space : O(k)\n",
    "    hash map contains elements equal to window size."
   ]
  },
  {
   "cell_type": "markdown",
   "metadata": {},
   "source": [
    "# Approach 4"
   ]
  },
  {
   "cell_type": "markdown",
   "metadata": {},
   "source": [
    "1. We can also get distinct elements in one parsing.\n",
    "2. Let input array be 10,10,20,30,30,40,10.\n",
    "3. Use hash map and count variable.\n",
    "4. Initially in hash map [(10,2),(20,1)] is present for first window, and count of distinct elements is 1.\n",
    "5. print count after each window.\n",
    "6. Now when we slide window we have to remove 10 and add 20. Once we delete 10 its frequency(fetched from hash map) becomes 1 from 2 and we increment our count from 1 to 2. Now we add 30 and again increment count from 2 to 3.\n",
    "window is parsed and count is printed.\n",
    "7. Now we delete 10 and its frequency is reduced to 0 and count is decremented to 2. Now we add 30 and its frequency is fetched from hash map\n",
    "is increased from 1 to 2, so count is reduced and printed.\n",
    "8. The above process is repeated and count is printed after each window.\n",
    "9. Thus we could get distinct elements in array of window size k in one parse.\n",
    "10. Refer screenshot to get clear understanding."
   ]
  },
  {
   "cell_type": "markdown",
   "metadata": {},
   "source": [
    "# Complexity :\n",
    "# Time : O(n)\n",
    "    one parse\n",
    "# Space : O(n)\n",
    "    since hash map is used"
   ]
  },
  {
   "cell_type": "markdown",
   "metadata": {},
   "source": [
    "# Implementation"
   ]
  },
  {
   "cell_type": "code",
   "execution_count": 5,
   "metadata": {},
   "outputs": [],
   "source": [
    "# Implementing as per geek for geeks and RBR code\n",
    "# i.e [1,2,2] distinct elements is 2 and not 1.\n",
    "# Can modify explanation or implement as per explanation later.\n",
    "\n",
    "def getDistinctCount(arr,n,k):\n",
    "    hash_map = {}\n",
    "    count = 0\n",
    "    # Initialize hashmap with first window\n",
    "    for ix in range(k):\n",
    "        freq = hash_map.get(arr[ix],0)\n",
    "        if freq==0:\n",
    "            count+=1\n",
    "        hash_map[arr[ix]] = freq+1\n",
    "        \n",
    "    print(count,end=',')\n",
    "    \n",
    "    for ix in range(k,n):\n",
    "        freq = hash_map.get(arr[ix-k],0)\n",
    "        # if only one occurence is present decrement count\n",
    "        if freq == 1:\n",
    "            count-=1\n",
    "        hash_map[arr[ix-k]] = freq-1\n",
    "        # slide window and add new element, if its being entered first time increment count\n",
    "        \n",
    "        freq = hash_map.get(arr[ix],0)\n",
    "        if freq == 0:\n",
    "            count +=1\n",
    "            \n",
    "        hash_map[arr[ix]] = freq+1\n",
    "        \n",
    "        print(count,end=',')\n",
    "        # can avoid using freq variable and directly get count by accessing.(geek for geeks)"
   ]
  },
  {
   "cell_type": "code",
   "execution_count": 6,
   "metadata": {},
   "outputs": [
    {
     "name": "stdout",
     "output_type": "stream",
     "text": [
      "3,4,4,3,"
     ]
    }
   ],
   "source": [
    "arr = [1, 2, 1, 3, 4, 2, 3]\n",
    "n = len(arr)\n",
    "k = 4\n",
    "getDistinctCount(arr,n,k)\n",
    "# ans\n",
    "# 3,4,4,3"
   ]
  },
  {
   "cell_type": "code",
   "execution_count": 7,
   "metadata": {},
   "outputs": [
    {
     "name": "stdout",
     "output_type": "stream",
     "text": [
      "2,2,1,"
     ]
    }
   ],
   "source": [
    "arr = [1, 2, 4, 4]\n",
    "n = len(arr)\n",
    "k = 2\n",
    "getDistinctCount(arr,n,k)\n",
    "# ans\n",
    "# 2,2,1,"
   ]
  },
  {
   "cell_type": "code",
   "execution_count": null,
   "metadata": {},
   "outputs": [],
   "source": []
  }
 ],
 "metadata": {
  "kernelspec": {
   "display_name": "Python 3",
   "language": "python",
   "name": "python3"
  },
  "language_info": {
   "codemirror_mode": {
    "name": "ipython",
    "version": 3
   },
   "file_extension": ".py",
   "mimetype": "text/x-python",
   "name": "python",
   "nbconvert_exporter": "python",
   "pygments_lexer": "ipython3",
   "version": "3.5.2"
  }
 },
 "nbformat": 4,
 "nbformat_minor": 2
}
