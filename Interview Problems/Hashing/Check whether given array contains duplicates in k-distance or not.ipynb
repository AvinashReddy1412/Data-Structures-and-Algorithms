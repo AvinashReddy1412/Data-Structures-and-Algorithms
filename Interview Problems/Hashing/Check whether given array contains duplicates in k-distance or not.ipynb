{
 "cells": [
  {
   "cell_type": "markdown",
   "metadata": {},
   "source": [
    "# Understanding the problem statement"
   ]
  },
  {
   "cell_type": "raw",
   "metadata": {},
   "source": [
    "Given input array, we should check if any duplicate element is present in k-distance from it.\n",
    "\n",
    "distance is the number of elements present in between two elements\n",
    "\n",
    "In the array [a,b,c,d,e] distance between a and b is 0 and distance between a and c is 1.\n",
    "\n",
    "Input: k = 2, arr[] = {1, 2, 3, 4, 1, 2, 3, 4}\n",
    "Output: false\n",
    "All duplicates are more than k distance away.\n",
    "\n",
    "Input: k = 3, arr[] = {1, 2, 3, 1, 4, 5}\n",
    "Output: true\n",
    "1 is repeated at distance 2.\n",
    "\n",
    "Input: k = 3, arr[] = {1, 2, 3, 4, 5}\n",
    "Output: false\n",
    "\n",
    "Input: k = 3, arr[] = {1, 2, 3, 4, 4}\n",
    "Output: true"
   ]
  },
  {
   "cell_type": "markdown",
   "metadata": {},
   "source": [
    "# Algorithm"
   ]
  },
  {
   "cell_type": "markdown",
   "metadata": {},
   "source": [
    "# Approach 1"
   ]
  },
  {
   "cell_type": "markdown",
   "metadata": {},
   "source": [
    "1. For each element, check till k+1 elements if element is repeated or not.\n",
    "2. If element is present return True or else false.\n",
    "3. For each of n elements we are checking k elements. so total n*O(k) comparisons"
   ]
  },
  {
   "cell_type": "markdown",
   "metadata": {},
   "source": [
    "# Complexity :\n",
    "# Time : O(nk)\n",
    "# Space : O(1)"
   ]
  },
  {
   "cell_type": "markdown",
   "metadata": {},
   "source": [
    "# Approach 2"
   ]
  },
  {
   "cell_type": "markdown",
   "metadata": {},
   "source": [
    "1. Use Hash Table instead of comparing k elements. so O(k) can be reduced to O(1)\n",
    "2. Maintain a Hash Table of k elements prior to the current element. If element is already in Hash Table\n",
    "then return True or else return False.\n",
    "3. Searching in Hash Table takes O(1).\n",
    "4. We are traversing the given array once and searching in Hash Table. O(n)"
   ]
  },
  {
   "cell_type": "markdown",
   "metadata": {},
   "source": [
    "# Complexity :\n",
    "# Time : O(n)\n",
    "    since we are traversing the given array once\n",
    "# Space : O(k)\n",
    "    Hash table is used and Hash Table at any time contains k elements prior to current element"
   ]
  },
  {
   "cell_type": "markdown",
   "metadata": {},
   "source": [
    "# Implementation"
   ]
  },
  {
   "cell_type": "code",
   "execution_count": 9,
   "metadata": {},
   "outputs": [],
   "source": [
    "def checkDuplicatesAtDistanceK(arr,n,k):\n",
    "    hash_table = []\n",
    "    for i in range(n):\n",
    "        if arr[i] in hash_table:\n",
    "            return True\n",
    "        hash_table.append(arr[i])\n",
    "        if i > k: # >= depends on how distance is considered \n",
    "            hash_table.remove(arr[i-(k+1)]) # k,k+1 depends on how distance is considered\n",
    "    return False\n"
   ]
  },
  {
   "cell_type": "markdown",
   "metadata": {},
   "source": [
    "# Test"
   ]
  },
  {
   "cell_type": "code",
   "execution_count": 17,
   "metadata": {},
   "outputs": [
    {
     "data": {
      "text/plain": [
       "False"
      ]
     },
     "execution_count": 17,
     "metadata": {},
     "output_type": "execute_result"
    }
   ],
   "source": [
    "arr = [1, 2, 3, 4, 1, 2, 3, 4]\n",
    "n = len(arr)\n",
    "k = 2\n",
    "checkDuplicatesAtDistanceK(arr,n,k)\n",
    "# ans \n",
    "# False"
   ]
  },
  {
   "cell_type": "code",
   "execution_count": 13,
   "metadata": {},
   "outputs": [
    {
     "data": {
      "text/plain": [
       "True"
      ]
     },
     "execution_count": 13,
     "metadata": {},
     "output_type": "execute_result"
    }
   ],
   "source": [
    "arr = [1, 2, 3, 1, 4, 5]\n",
    "n = len(arr)\n",
    "k = 3\n",
    "checkDuplicatesAtDistanceK(arr,n,k)\n",
    "# ans \n",
    "# True"
   ]
  },
  {
   "cell_type": "code",
   "execution_count": 14,
   "metadata": {},
   "outputs": [
    {
     "data": {
      "text/plain": [
       "False"
      ]
     },
     "execution_count": 14,
     "metadata": {},
     "output_type": "execute_result"
    }
   ],
   "source": [
    "arr = [1, 2, 3, 4, 5]\n",
    "n = len(arr)\n",
    "k = 3\n",
    "checkDuplicatesAtDistanceK(arr,n,k)\n",
    "# ans \n",
    "# False"
   ]
  },
  {
   "cell_type": "code",
   "execution_count": 15,
   "metadata": {},
   "outputs": [
    {
     "data": {
      "text/plain": [
       "True"
      ]
     },
     "execution_count": 15,
     "metadata": {},
     "output_type": "execute_result"
    }
   ],
   "source": [
    "arr = [1, 2, 3, 4, 4]\n",
    "n = len(arr)\n",
    "k = 3\n",
    "checkDuplicatesAtDistanceK(arr,n,k)\n",
    "# ans \n",
    "# True"
   ]
  },
  {
   "cell_type": "markdown",
   "metadata": {},
   "source": [
    "NOTES : In geek for geeks distance is considered in different way\n",
    "    [1,2,3,4,5]\n",
    "    distance between 1 and 3 is 2 as per geekforgeeks"
   ]
  },
  {
   "cell_type": "code",
   "execution_count": null,
   "metadata": {},
   "outputs": [],
   "source": []
  }
 ],
 "metadata": {
  "kernelspec": {
   "display_name": "Python 3",
   "language": "python",
   "name": "python3"
  },
  "language_info": {
   "codemirror_mode": {
    "name": "ipython",
    "version": 3
   },
   "file_extension": ".py",
   "mimetype": "text/x-python",
   "name": "python",
   "nbconvert_exporter": "python",
   "pygments_lexer": "ipython3",
   "version": "3.5.2"
  }
 },
 "nbformat": 4,
 "nbformat_minor": 2
}
