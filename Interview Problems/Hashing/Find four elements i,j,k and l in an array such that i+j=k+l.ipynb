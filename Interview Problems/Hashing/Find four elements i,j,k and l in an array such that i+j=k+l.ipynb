{
 "cells": [
  {
   "cell_type": "markdown",
   "metadata": {},
   "source": [
    "# Understanding the problem statement"
   ]
  },
  {
   "cell_type": "markdown",
   "metadata": {},
   "source": [
    "Given an array, we have to find four elements in the array such that they satisy the condition \n",
    "i+j = k+l\n",
    "\n",
    "Input : [6,2,3,4,5,10,1]\n",
    "\n",
    "Output: i=6,j=3,k=4,l=5 \n",
    "    \n",
    "    multiple answers are possible. either find all or atleast one."
   ]
  },
  {
   "cell_type": "markdown",
   "metadata": {},
   "source": [
    "# Algorithm"
   ]
  },
  {
   "cell_type": "markdown",
   "metadata": {},
   "source": [
    "# Approach 1"
   ]
  },
  {
   "cell_type": "markdown",
   "metadata": {},
   "source": [
    "1. Find all combination of 4 numbers. No. of possible combinations is nc4 --> O(n^4) since we find by using four for loops\n",
    "      for i=1..n : for j=i+1 .. n : for k=j+1..n : for l=k+1..n\n",
    "2. Check whether each combinations satisfy condition. i+j =  k+l . O(1)"
   ]
  },
  {
   "cell_type": "markdown",
   "metadata": {},
   "source": [
    "# Complexity:\n",
    "# Time : O(n^4)\n",
    "# Space : O(1)"
   ]
  },
  {
   "cell_type": "markdown",
   "metadata": {},
   "source": [
    "# Approach 2"
   ]
  },
  {
   "cell_type": "markdown",
   "metadata": {},
   "source": [
    "1. Find all combination pairs . And their sums\n",
    "    \n",
    "    Input : 6,2,3,4,5\n",
    "    \n",
    "    pairs : (6,2)--8\n",
    "            (6,3)--9 ... etc\n",
    "2. Total combination pairs nc2 --> O(n^2) since we use two for loops.\n",
    "3. Now build a balanced binary search tree using combination pairs and their sums. --> O(n^2 * logn^2) --> O(n^2 * 2logn)\n",
    " \n",
    "         sum should be key. frequency and pair should be value \n",
    "    \n",
    "       like (8) --> freq: 2 ,pairs:[(6,2),(3,5)]\n",
    "4. Iterate through combination pairs and keep on building binary search tree. If frequency becomes more than \n",
    "1, it means we got a combination of four elements like above example.print the combination\n",
    "5. refer screenshot for clear understanding "
   ]
  },
  {
   "cell_type": "markdown",
   "metadata": {},
   "source": [
    "# Complexity :\n",
    "# Time : O(n^2 * logn)\n",
    "# Space : O(n^2)\n",
    "    since balanced binary search tree is used"
   ]
  },
  {
   "cell_type": "markdown",
   "metadata": {},
   "source": [
    "# Approach 3"
   ]
  },
  {
   "cell_type": "markdown",
   "metadata": {},
   "source": [
    "1. Use the above approach but instead of using balanced binary search tree, use hashing as insertion \n",
    "and search takes O(1).\n",
    "2. Find all combination pairs . And their sums\n",
    "    \n",
    "    Input : 6,2,3,4,5\n",
    "    \n",
    "    pairs : (6,2)--8\n",
    "            (6,3)--9 ... etc\n",
    "3. Total combination pairs nc2 --> O(n^2) since we use two for loops.\n",
    "4. While finding combination pairs insert them in hash as below.Insertion in hash takes O(1).Also while inserting\n",
    "check frequency. If frequency is two then we got one combination which satisy the condition. print it.\n",
    "         sum should be key. frequency and pair should be value \n",
    "    \n",
    "       like (8) --> freq: 2 ,pairs:[(6,2),(3,5)]\n",
    "5. Insertion and search in hash takes O(1)"
   ]
  },
  {
   "cell_type": "markdown",
   "metadata": {},
   "source": [
    "# Complexity :\n",
    "# Time : O(n^2)\n",
    "# Space : O(n^2)\n",
    "    since hash map is used"
   ]
  },
  {
   "cell_type": "markdown",
   "metadata": {},
   "source": [
    "# Implementation"
   ]
  },
  {
   "cell_type": "code",
   "execution_count": 8,
   "metadata": {},
   "outputs": [],
   "source": [
    "def findFour(arr,n):\n",
    "    hash_map = {}\n",
    "    for i in range(n):\n",
    "        for j in range(i+1,n):\n",
    "            pair_sum = arr[i]+arr[j]\n",
    "            meta = hash_map.get(pair_sum,{'freq':0,'pairs':[]})\n",
    "            freq = meta['freq']\n",
    "            pairs = meta['pairs']\n",
    "            if freq>=1:\n",
    "                for pair in pairs:\n",
    "                    print(pair[0],pair[1],arr[i],arr[j])\n",
    "            pairs.append([arr[i],arr[j]])\n",
    "            hash_map[pair_sum] = {'freq':freq+1,'pairs':pairs}"
   ]
  },
  {
   "cell_type": "code",
   "execution_count": 9,
   "metadata": {},
   "outputs": [
    {
     "name": "stdout",
     "output_type": "stream",
     "text": [
      "6 1 2 5\n",
      "6 1 3 4\n",
      "2 5 3 4\n",
      "6 2 3 5\n",
      "6 3 4 5\n",
      "2 3 4 1\n",
      "2 4 5 1\n",
      "6 5 10 1\n"
     ]
    }
   ],
   "source": [
    "arr = [6,2,3,4,5,10,1]\n",
    "n = len(arr)\n",
    "findFour(arr,n)\n",
    "# ans\n",
    "# 6 1 2 5\n",
    "# 6 1 3 4\n",
    "# 2 5 3 4\n",
    "# 6 2 3 5\n",
    "# 6 3 4 5\n",
    "# 2 3 4 1\n",
    "# 2 4 5 1\n",
    "# 6 5 10 1"
   ]
  },
  {
   "cell_type": "code",
   "execution_count": null,
   "metadata": {},
   "outputs": [],
   "source": []
  }
 ],
 "metadata": {
  "kernelspec": {
   "display_name": "Python 3",
   "language": "python",
   "name": "python3"
  },
  "language_info": {
   "codemirror_mode": {
    "name": "ipython",
    "version": 3
   },
   "file_extension": ".py",
   "mimetype": "text/x-python",
   "name": "python",
   "nbconvert_exporter": "python",
   "pygments_lexer": "ipython3",
   "version": "3.5.2"
  }
 },
 "nbformat": 4,
 "nbformat_minor": 2
}
