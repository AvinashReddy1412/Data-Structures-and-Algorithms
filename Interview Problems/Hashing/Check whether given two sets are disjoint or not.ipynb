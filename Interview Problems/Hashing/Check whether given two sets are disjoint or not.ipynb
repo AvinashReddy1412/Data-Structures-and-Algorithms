{
 "cells": [
  {
   "cell_type": "markdown",
   "metadata": {},
   "source": [
    "# Understanding the problem statement"
   ]
  },
  {
   "cell_type": "raw",
   "metadata": {},
   "source": [
    "Two sets are said to be disjoint if there are no common elements between them. Given two inputs sets, we have\n",
    "to check whether they are disjoint or not.\n",
    "\n",
    "Input: [7,6,3,4,8]\n",
    "       [1,2,9,5,0]\n",
    "\n",
    "Output : Disjoint"
   ]
  },
  {
   "cell_type": "markdown",
   "metadata": {},
   "source": [
    "# Algorithm"
   ]
  },
  {
   "cell_type": "markdown",
   "metadata": {},
   "source": [
    "# Approach 1"
   ]
  },
  {
   "cell_type": "markdown",
   "metadata": {},
   "source": [
    "1. Assume there are m elements in first set and n elements in second set.\n",
    "2. Take each element in first set and check whether it is present in second set by traversing all n elements.\n",
    "3. For each element we check n elements in second set. so we do this m times. Therefore m*n comparisons."
   ]
  },
  {
   "cell_type": "markdown",
   "metadata": {},
   "source": [
    "# Complexity :\n",
    "# Time : O(m*n)\n",
    "# Space : O(1)"
   ]
  },
  {
   "cell_type": "markdown",
   "metadata": {},
   "source": [
    "# Approach 2"
   ]
  },
  {
   "cell_type": "markdown",
   "metadata": {},
   "source": [
    "1. Assume there are m elements in first set and n elements in second set.\n",
    "2. Sort elements of first set --> O(mlogm)\n",
    "3. Take each element from second set and search in first set using binary search O(logm). If element is found then they are not disjoint. For n elements do binary search --> n * O(logm)"
   ]
  },
  {
   "cell_type": "markdown",
   "metadata": {},
   "source": [
    "# Complexity :\n",
    "# Time : O(m * logm) + O(n * logm)\n",
    "# Space : O(1)"
   ]
  },
  {
   "cell_type": "markdown",
   "metadata": {},
   "source": [
    "# Approach 3"
   ]
  },
  {
   "cell_type": "markdown",
   "metadata": {},
   "source": [
    "1. Assume there are m elements in first set and n elements in second set.\n",
    "2. Sort elements of first set --> O(mlogm)\n",
    "3. Sort elements of second set --> O(nlogn)\n",
    "4. Like merge function, use two pointers at beginning for two sets. Compare two pointers and increment the small \n",
    "pointer. If two pointers are equal then they are disjoint. we repeat this till one pointer reaches end\n",
    "of set. In worst case we traverse both sets --> O(m+n)"
   ]
  },
  {
   "cell_type": "markdown",
   "metadata": {},
   "source": [
    "# Complexity :\n",
    "# Time : O(m * logm) + O(n * logn) + O(m+n)\n",
    "# Space : O(1)"
   ]
  },
  {
   "cell_type": "markdown",
   "metadata": {},
   "source": [
    "# Approach 4"
   ]
  },
  {
   "cell_type": "markdown",
   "metadata": {},
   "source": [
    "1. Assume there are m elements in first set and n elements in second set.\n",
    "2. Form balanced binary search tree using first set. O(mlogm)\n",
    "3. Take each element from second set and search in balanced binary search tree O(logm). If element is found then they are not disjoint. repeat the search process for n elements --> n * O(logm)"
   ]
  },
  {
   "cell_type": "markdown",
   "metadata": {},
   "source": [
    "# Complexity :\n",
    "# Time : O(m * logm) + O(n * logm)\n",
    "# Space : O(m)\n",
    "    since balanced binary search tree is used"
   ]
  },
  {
   "cell_type": "markdown",
   "metadata": {},
   "source": [
    "# Approach 5"
   ]
  },
  {
   "cell_type": "markdown",
   "metadata": {},
   "source": [
    "1. Assume there are m elements in first set and n elements in second set.\n",
    "2. Use Hash Table.\n",
    "3. Traverse first set and insert elements in Hash Table. Insertion takes O(1). --> O(m)\n",
    "4. Traverse second set and search if element is in Hash Table. If element if found then they are not\n",
    "disjoint. searching takes O(1). --> O(n)"
   ]
  },
  {
   "cell_type": "markdown",
   "metadata": {},
   "source": [
    "# Complexity :\n",
    "# Time : O(m) + O(n)\n",
    "# Space : O(m)\n",
    "    since Hash Table is used"
   ]
  },
  {
   "cell_type": "markdown",
   "metadata": {},
   "source": [
    "# Implementation"
   ]
  },
  {
   "cell_type": "code",
   "execution_count": 7,
   "metadata": {},
   "outputs": [],
   "source": [
    "def checkDisjoint(set1,set2):\n",
    "    hash_table = []\n",
    "    for ele in set1:\n",
    "        hash_table.append(ele)\n",
    "    for ele in set2:\n",
    "        if ele in hash_table:\n",
    "            print(\"Not Disjoint\")\n",
    "            return\n",
    "    print(\"Disjoint\")\n",
    "    return"
   ]
  },
  {
   "cell_type": "markdown",
   "metadata": {},
   "source": [
    "# Test"
   ]
  },
  {
   "cell_type": "code",
   "execution_count": 11,
   "metadata": {},
   "outputs": [
    {
     "name": "stdout",
     "output_type": "stream",
     "text": [
      "Disjoint\n"
     ]
    }
   ],
   "source": [
    "set1 = [7,6,3,4,8]\n",
    "set2 = [1,2,9,5,0]\n",
    "checkDisjoint(set1,set2)\n",
    "# ans\n",
    "# Disjoint"
   ]
  },
  {
   "cell_type": "code",
   "execution_count": 12,
   "metadata": {},
   "outputs": [
    {
     "name": "stdout",
     "output_type": "stream",
     "text": [
      "Not Disjoint\n"
     ]
    }
   ],
   "source": [
    "set1 = [7,6,3,4,0]\n",
    "set2 = [1,2,9,5,0]\n",
    "checkDisjoint(set1,set2)\n",
    "# ans\n",
    "# Not Disjoint"
   ]
  },
  {
   "cell_type": "code",
   "execution_count": null,
   "metadata": {},
   "outputs": [],
   "source": []
  }
 ],
 "metadata": {
  "kernelspec": {
   "display_name": "Python 3",
   "language": "python",
   "name": "python3"
  },
  "language_info": {
   "codemirror_mode": {
    "name": "ipython",
    "version": 3
   },
   "file_extension": ".py",
   "mimetype": "text/x-python",
   "name": "python",
   "nbconvert_exporter": "python",
   "pygments_lexer": "ipython3",
   "version": "3.5.2"
  }
 },
 "nbformat": 4,
 "nbformat_minor": 2
}
