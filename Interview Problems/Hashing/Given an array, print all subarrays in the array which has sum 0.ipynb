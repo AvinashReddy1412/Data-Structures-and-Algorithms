{
 "cells": [
  {
   "cell_type": "markdown",
   "metadata": {},
   "source": [
    "# Understanding the problem statement"
   ]
  },
  {
   "cell_type": "markdown",
   "metadata": {},
   "source": [
    "Given an array, we have to print all subarrays such that sum of subarray should be zero.\n",
    "subarrays are contiguous smaller arrays.\n",
    "\n",
    "Input  : [11,10,-5,-3,-2,10,5,-1,-6]\n",
    "\n",
    "Output : [10,-5,-3,-2] \n",
    "\n",
    "    one of the subarrays. we have to print all such subarrays"
   ]
  },
  {
   "cell_type": "markdown",
   "metadata": {},
   "source": [
    "# Algorithm"
   ]
  },
  {
   "cell_type": "markdown",
   "metadata": {},
   "source": [
    "# Approach 1"
   ]
  },
  {
   "cell_type": "markdown",
   "metadata": {},
   "source": [
    "1. Get all subarrays. \n",
    "2. for first element n subarrays are possible. index1 to index2,index1 to index3 etc --> [(1,1),(1,2),(1,3)....(1,n)]\n",
    "3. for second element (n-1) subarrays are possible.\n",
    "4. for nth elements 1 subarray is possible.\n",
    "5. so total subarrays are 1+2+..n = O(n^2)\n",
    "6. To find sum of subarray we have to traverse it. In worst case we traverse n elements --> O(n)\n",
    "7. we traverse each subarray and for each subarray we are considering worst case O(n) --> n^2 * O(n)\n",
    "8. If sum is 0 then print the subarray"
   ]
  },
  {
   "cell_type": "markdown",
   "metadata": {},
   "source": [
    "# Complexity :\n",
    "# Time : O(n^3)\n",
    "\n",
    "# Space: O(1)"
   ]
  },
  {
   "cell_type": "markdown",
   "metadata": {},
   "source": [
    "# Approach 2"
   ]
  },
  {
   "cell_type": "markdown",
   "metadata": {},
   "source": [
    "1. Complexity of previous algorithm was n^2 * O(n).\n",
    "2. for n^2 subarrays, in each subarray to find sum we are traversing entire array. O(n). We can find\n",
    "    sum by maintaining cumulative sum array in O(1).There is no need to traverse entire array.So complexity can\n",
    "    be bought down to O(n^2).\n",
    "3. First traverse the given array and form cumulative sum array.\n",
    "\n",
    "    input     : [11,10,-5,-3,-2,10,5,-1,-6]\n",
    "\n",
    "    cum_sum   : [11,21,16,13,11,21,26,25,19]\n",
    "\n",
    "4. To find the sum of subarray [10,-5,-3] with start_index 1 and end_index 3 we can substract \n",
    "    cum_sum[3]-cum_sum[0] i.e 13-11 = 2.\n",
    "5. cum_sum[endindex] - cum_sum[startindex-1]\n"
   ]
  },
  {
   "cell_type": "markdown",
   "metadata": {},
   "source": [
    "# Complexity :\n",
    "# Time : O(n^2)\n",
    "\n",
    "# Space: O(n)\n",
    "    since we are using cumulative sum array"
   ]
  },
  {
   "cell_type": "markdown",
   "metadata": {},
   "source": [
    "# Approach 3"
   ]
  },
  {
   "cell_type": "markdown",
   "metadata": {},
   "source": [
    "1. Traverse the given array and form cumulative sum array --> O(n)\n",
    "2. Now traverse the cumulative sum array and keep on inserting elements with ele as key and index as value\n",
    "   in hashtable. If hash table already has that element then subarray with sum zero is found. subarray will be from stored index in hash to current index. --> O(n) \n",
    "   \n",
    "   O(n) since we are traversing cumulative sum array. insertion and search takes O(1) in hashmap"
   ]
  },
  {
   "cell_type": "markdown",
   "metadata": {},
   "source": [
    "# Complexity :\n",
    "# Time : O(n)\n",
    "    O(n)+O(n) = O(2n)\n",
    "# Space: O(n)\n",
    "    since we are using cumulative sum array and also hashmap"
   ]
  },
  {
   "cell_type": "code",
   "execution_count": 35,
   "metadata": {},
   "outputs": [],
   "source": [
    "def printSubArrayWithZeroSum(arr,n):\n",
    "    hash_map = {}\n",
    "    cum_sum = 0\n",
    "#     hash_map[cum_sum] = [-1] # This is mandatory to handle edge case of subarray being entire array as in output of 0 to 10\n",
    "    for ix in range(n):\n",
    "        cum_sum+=arr[ix]\n",
    "        # alternative to initializing hash_map with 0 cum_sum is below step\n",
    "        # if cum_sum is zero then subarray starting from 0 index till ix is required subarray\n",
    "        if cum_sum == 0:\n",
    "                print(\"********** subarray indices ************\")\n",
    "                print(0,ix)\n",
    "                print(\"********** subarray ********************\")\n",
    "                print(arr[:ix+1])\n",
    "                \n",
    "        start_indices = hash_map.get(cum_sum,None)\n",
    "        if start_indices:\n",
    "            for start_ix in start_indices:\n",
    "                print(\"********** subarray indices ************\")\n",
    "                print(start_ix+1,ix)\n",
    "                print(\"********** subarray ********************\")\n",
    "                print(arr[start_ix+1:ix+1])\n",
    "        else:\n",
    "            start_indices = []\n",
    "        start_indices.append(ix)\n",
    "        hash_map[cum_sum] = start_indices"
   ]
  },
  {
   "cell_type": "code",
   "execution_count": 36,
   "metadata": {},
   "outputs": [
    {
     "name": "stdout",
     "output_type": "stream",
     "text": [
      "********** subarray indices ************\n",
      "2 4\n",
      "********** subarray ********************\n",
      "[-1, -3, 4]\n",
      "********** subarray indices ************\n",
      "2 6\n",
      "********** subarray ********************\n",
      "[-1, -3, 4, -2, 2]\n",
      "********** subarray indices ************\n",
      "5 6\n",
      "********** subarray ********************\n",
      "[-2, 2]\n",
      "********** subarray indices ************\n",
      "6 9\n",
      "********** subarray ********************\n",
      "[2, 4, 6, -12]\n",
      "********** subarray indices ************\n",
      "0 10\n",
      "********** subarray ********************\n",
      "[6, 3, -1, -3, 4, -2, 2, 4, 6, -12, -7]\n"
     ]
    }
   ],
   "source": [
    "arr = [6, 3, -1, -3, 4, -2, 2, 4, 6, -12, -7]\n",
    "n = len(arr)\n",
    "printSubArrayWithZeroSum(arr,n)"
   ]
  },
  {
   "cell_type": "code",
   "execution_count": null,
   "metadata": {},
   "outputs": [],
   "source": []
  }
 ],
 "metadata": {
  "kernelspec": {
   "display_name": "Python 3",
   "language": "python",
   "name": "python3"
  },
  "language_info": {
   "codemirror_mode": {
    "name": "ipython",
    "version": 3
   },
   "file_extension": ".py",
   "mimetype": "text/x-python",
   "name": "python",
   "nbconvert_exporter": "python",
   "pygments_lexer": "ipython3",
   "version": "3.5.2"
  }
 },
 "nbformat": 4,
 "nbformat_minor": 2
}
