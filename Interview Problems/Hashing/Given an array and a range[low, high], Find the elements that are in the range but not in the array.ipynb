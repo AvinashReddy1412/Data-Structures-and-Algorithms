{
 "cells": [
  {
   "cell_type": "markdown",
   "metadata": {},
   "source": [
    "# Understanding the problem statement"
   ]
  },
  {
   "cell_type": "raw",
   "metadata": {},
   "source": [
    "Given an array and range, we need to find all elements that are in range but not in array.\n",
    "\n",
    "Input : \n",
    "arr  : [52,9,10,3,5,50,15,51,45,32]\n",
    "range: [low,high] = [48,53] --> (48,49,50,51,52,53)\n",
    "\n",
    "Output : 48,49,53\n",
    "since 48,49,53 are in range but not in array"
   ]
  },
  {
   "cell_type": "markdown",
   "metadata": {},
   "source": [
    "# Algorithm"
   ]
  },
  {
   "cell_type": "markdown",
   "metadata": {},
   "source": [
    "# Approach 1"
   ]
  },
  {
   "cell_type": "markdown",
   "metadata": {},
   "source": [
    "1. Take one element from range array and check whether it is present in array or not by traversing the \n",
    "array --> O(n)\n",
    "2. Repeat this for every element in range array. No of elements in range are (high-low+1). so complexity becomes\n",
    "(high-low+1)*O(n)\n",
    "3. If 'm' elements are present in range then m*O(n)"
   ]
  },
  {
   "cell_type": "markdown",
   "metadata": {},
   "source": [
    "# Complexity :\n",
    "# Time : O(mn)\n",
    "    m = (high-low+1)\n",
    "# Space : O(1)\n",
    "    since no extra space is used"
   ]
  },
  {
   "cell_type": "markdown",
   "metadata": {},
   "source": [
    "# Approach 2"
   ]
  },
  {
   "cell_type": "markdown",
   "metadata": {},
   "source": [
    "1. Sort the elements in the array. --> O(nlogn)\n",
    "\n",
    "    [52,9,10,3,5,50,15,51,45,32]\n",
    "\n",
    "    range - (48,53)\n",
    "\n",
    "    sorted --> [3,5,9,10,15,32,45,50,51,52]\n",
    "\n",
    "2. Now use binary search to find from which part of array we should start searching. we should search for element\n",
    "immediately greater/equal than low. we are interested in [50,51,52] --> O(logn)\n",
    "3. Now use merging type algorithm with two pointers. p1 at range element, p2 at array .increment p2 till \n",
    "we find greater/equal element,then increment p1. print p1 if we dont find it.\n",
    "Use this process to find elements that are in range but not in array --> O(m+n) \n",
    "since in worst case we will get low at start and should traverse entire array and range."
   ]
  },
  {
   "cell_type": "markdown",
   "metadata": {},
   "source": [
    "# Complexity :\n",
    "# Time : O(nlogn)+O(logn)+O(m+n)\n",
    "    if m is very high leading term can be O(m) or else O(nlogn). Better to provide entire complexity \n",
    "# Space : O(1)\n",
    "    since no extra space is used but use inplace sorting"
   ]
  },
  {
   "cell_type": "markdown",
   "metadata": {},
   "source": [
    "# Approach 3"
   ]
  },
  {
   "cell_type": "markdown",
   "metadata": {},
   "source": [
    "1. Use Hash Table\n",
    "2. Traverse given array and insert all elements in Hash Table. Insertion in Hash takes O(1) --> O(n)\n",
    "3. Now traverse range array (high-low = m) and search for the element in Hash Table. Searching in Hash table\n",
    "    takes O(1) --> O(m)\n",
    "4. If element is not in hash table print it."
   ]
  },
  {
   "cell_type": "markdown",
   "metadata": {},
   "source": [
    "# Complexity :\n",
    "# Time : O(m)+O(n)\n",
    "    \n",
    "# Space : O(n)\n",
    "    since Hash table is used"
   ]
  },
  {
   "cell_type": "markdown",
   "metadata": {},
   "source": [
    "# Implementation"
   ]
  },
  {
   "cell_type": "code",
   "execution_count": 10,
   "metadata": {},
   "outputs": [],
   "source": [
    "def getRangeElementsNotInArray(arr,low,high):\n",
    "    hash_table = []\n",
    "    for ele in arr:\n",
    "        hash_table.append(ele)\n",
    "    # we can treat given arr as hash_table here i.e hash_table = set(arr)\n",
    "    for ele in range(low,high+1):\n",
    "        if ele not in hash_table:\n",
    "            print(ele,end=\" \")"
   ]
  },
  {
   "cell_type": "markdown",
   "metadata": {},
   "source": [
    "# Test"
   ]
  },
  {
   "cell_type": "code",
   "execution_count": 11,
   "metadata": {},
   "outputs": [
    {
     "name": "stdout",
     "output_type": "stream",
     "text": [
      "48 49 53 "
     ]
    }
   ],
   "source": [
    "arr = [52,9,10,3,5,50,15,51,45,32]\n",
    "low = 48\n",
    "high = 53\n",
    "getRangeElementsNotInArray(arr,low,high)\n",
    "# ans \n",
    "# 48 49 53 "
   ]
  },
  {
   "cell_type": "code",
   "execution_count": null,
   "metadata": {},
   "outputs": [],
   "source": []
  }
 ],
 "metadata": {
  "kernelspec": {
   "display_name": "Python 3",
   "language": "python",
   "name": "python3"
  },
  "language_info": {
   "codemirror_mode": {
    "name": "ipython",
    "version": 3
   },
   "file_extension": ".py",
   "mimetype": "text/x-python",
   "name": "python",
   "nbconvert_exporter": "python",
   "pygments_lexer": "ipython3",
   "version": "3.5.2"
  }
 },
 "nbformat": 4,
 "nbformat_minor": 2
}
