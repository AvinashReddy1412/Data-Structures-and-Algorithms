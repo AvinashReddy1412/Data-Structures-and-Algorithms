{
 "cells": [
  {
   "cell_type": "markdown",
   "metadata": {},
   "source": [
    "# Understanding the problem statement"
   ]
  },
  {
   "cell_type": "raw",
   "metadata": {},
   "source": [
    "Given an input array, we have to group all the elements together preserving their order of occurrence.\n",
    "\n",
    "Input  : [3,2,4,5,6,2,5,4,3]\n",
    "Output : [3,3,2,2,4,4,5,5,6]"
   ]
  },
  {
   "cell_type": "markdown",
   "metadata": {},
   "source": [
    "# Algorithm"
   ]
  },
  {
   "cell_type": "markdown",
   "metadata": {},
   "source": [
    "# Approach 1"
   ]
  },
  {
   "cell_type": "markdown",
   "metadata": {},
   "source": [
    "1. Take first element and keep on comparing with remaining elements on the right. If we encounter same element\n",
    "    then place it beside first element and shift all the remaining elements towards right. Do not swap because\n",
    "    it will disturb order of occurence of remaining elements.\n",
    "   \n",
    "   3,2,4,5,6,2,5,4,3\n",
    "   \n",
    "   3,3,2,4,5,6,2,5,4\n",
    "   \n",
    "   \n",
    "2. Repeat the process again for the first element only, because we might have mutiple occurences of first element.\n",
    "   Repeat the process for first element till we dont encounter the same element.\n",
    "3. If we do not encounter the same element, then go to second element and repeat steps 1 and 2.\n",
    "4. Lets take amortized analysis. For first element we do n comparisons, and n movements in worst case. O(n)+O(n).\n",
    "5. We have do the same process for n elements --> n * (O(n)+O(n))"
   ]
  },
  {
   "cell_type": "markdown",
   "metadata": {},
   "source": [
    "# Complexity :\n",
    "# Time : O(n^2)\n",
    "# Space : O(1)"
   ]
  },
  {
   "cell_type": "markdown",
   "metadata": {},
   "source": [
    "# Approach 2"
   ]
  },
  {
   "cell_type": "markdown",
   "metadata": {},
   "source": [
    "1. Traverse the given array and count the element frequencies. --> O(n)\n",
    "    \n",
    "    3,2,4,5,6,2,5,4,3\n",
    "    \n",
    "    [(3,3),(4,2),(2,2),(5,2)]\n",
    "    \n",
    "    \n",
    "2. Form a balance binary search tree like AVL with element as key and frequencies as values. In worst case if \n",
    "   all elements are distinct then complexity will be --> O(nlogn)\n",
    "3. Now traverse the given array again, search element in binary search tree O(logn) , get the frequency ,\n",
    "   store/print element equal to frequency, delete the element from binary search tree O(logn) and move to next \n",
    "   element --> O(logn)+O(logn)\n",
    "4. We repeat step 3 for n elements in worst case if all elements are distinct --> n*O(2logn)\n",
    "5. Deleting element from BST is essential because we might encounter element again in given array and again\n",
    "   search and print frequency. If we do not want to delete element, we should update frequency to 0 after\n",
    "   printing/storing\n"
   ]
  },
  {
   "cell_type": "markdown",
   "metadata": {},
   "source": [
    "# Complexity :\n",
    "# Time : O(nlogn) \n",
    "    O(n)+O(nlogn)+O(nlogn)\n",
    "# Space : O(n)\n",
    "    since BST is used and also we are using extra output array. we are not grouping them in place. If we \n",
    "    want to group them inplace complexity becomes n^2 for movements"
   ]
  },
  {
   "cell_type": "markdown",
   "metadata": {},
   "source": [
    "# Approach 3"
   ]
  },
  {
   "cell_type": "markdown",
   "metadata": {},
   "source": [
    "1. Use Hash Map.\n",
    "2. Traverse the given array and count the element frequencies. --> O(n)\n",
    "    \n",
    "    3,2,4,5,6,2,5,4,3\n",
    "    \n",
    "    [(3,3),(4,2),(2,2),(5,2)]\n",
    "    \n",
    "3. Store the element frequencies in Hash Map with element as key and frequency as value. Insertion in Hash Map\n",
    "   takes O(1).\n",
    "4. Now traverse the given array, search the Hash Map for frequency, print/store the element equal to frequency.\n",
    "   Searching Hash Map takes O(1) --> O(n)\n",
    "5. After print/store do not forget to update frequency to zero.If we do not update frequency there might be \n",
    "   chance to again print/store."
   ]
  },
  {
   "cell_type": "markdown",
   "metadata": {},
   "source": [
    "# Complexity :\n",
    "# Time : O(n) \n",
    "    O(n)+O(n)\n",
    "# Space : O(n)\n",
    "    since Hash Map is used and also we are using extra output array. we are not grouping them in place. If we \n",
    "    want to group them inplace complexity becomes n^2 for movements"
   ]
  },
  {
   "cell_type": "markdown",
   "metadata": {},
   "source": [
    "# Implementation"
   ]
  },
  {
   "cell_type": "code",
   "execution_count": 9,
   "metadata": {},
   "outputs": [],
   "source": [
    "def groupByOccurence(input_arr):\n",
    "    hash_map = {}\n",
    "    for ele in input_arr:\n",
    "        hash_map[ele] = hash_map.get(ele,0)+1\n",
    "    for ele in input_arr:\n",
    "        freq = hash_map.get(ele,0)\n",
    "        if freq > 0:\n",
    "            for i in range(freq):\n",
    "                print(ele,end=\" \")\n",
    "        hash_map[ele] = 0        "
   ]
  },
  {
   "cell_type": "markdown",
   "metadata": {},
   "source": [
    "# Test"
   ]
  },
  {
   "cell_type": "code",
   "execution_count": 10,
   "metadata": {},
   "outputs": [
    {
     "name": "stdout",
     "output_type": "stream",
     "text": [
      "3 3 2 2 4 4 5 5 6 "
     ]
    }
   ],
   "source": [
    "input_arr = [3,2,4,5,6,2,5,4,3]\n",
    "groupByOccurence(input_arr)\n",
    "# ans\n",
    "# 3 3 2 2 4 4 5 5 6"
   ]
  },
  {
   "cell_type": "code",
   "execution_count": 11,
   "metadata": {},
   "outputs": [
    {
     "name": "stdout",
     "output_type": "stream",
     "text": [
      "4 4 4 6 6 9 9 2 3 10 "
     ]
    }
   ],
   "source": [
    "input_arr = [4, 6, 9, 2, 3, 4, 9, 6, 10, 4]\n",
    "groupByOccurence(input_arr)\n",
    "# ans\n",
    "# 4, 4, 4, 6, 6, 9, 9, 2, 3, 10"
   ]
  },
  {
   "cell_type": "code",
   "execution_count": null,
   "metadata": {},
   "outputs": [],
   "source": []
  }
 ],
 "metadata": {
  "kernelspec": {
   "display_name": "Python 3",
   "language": "python",
   "name": "python3"
  },
  "language_info": {
   "codemirror_mode": {
    "name": "ipython",
    "version": 3
   },
   "file_extension": ".py",
   "mimetype": "text/x-python",
   "name": "python",
   "nbconvert_exporter": "python",
   "pygments_lexer": "ipython3",
   "version": "3.5.2"
  }
 },
 "nbformat": 4,
 "nbformat_minor": 2
}
