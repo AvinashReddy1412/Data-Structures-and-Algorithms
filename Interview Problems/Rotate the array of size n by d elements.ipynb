{
 "cells": [
  {
   "cell_type": "markdown",
   "metadata": {},
   "source": [
    "# Understanding the problem statement"
   ]
  },
  {
   "cell_type": "raw",
   "metadata": {},
   "source": [
    "Given an array, we have to rotate the array of size n by d elements. We need to perform left rotation.\n",
    "\n",
    "For example given an arr=[1,2,3,4,5,6] and d=2, rotated array should look like\n",
    "output : [3,4,5,6,1,2]"
   ]
  },
  {
   "cell_type": "markdown",
   "metadata": {},
   "source": [
    "# Approach 1"
   ]
  },
  {
   "cell_type": "markdown",
   "metadata": {},
   "source": [
    "1. Create a temporary array of size d.\n",
    "2. Copy first d elements from given array to temporary array.\n",
    "3. Shift remaining (n-d) elements to beginning of array\n",
    "    arr[0] = arr[d+1]\n",
    "    arr[1] = arr[d+2] ...\n",
    "4. Then copy elements from temporary array to given array at end.\n",
    "    arr[d+1] = temp_arr[0]\n",
    "    arr[d+2] = temp_arr[1] ..\n",
    "5. We are iterating the entire array once and temporary array of size d once.\n",
    "   Time Complexity : O(n)\n",
    "   Space Complexity : O(d) for temporary array"
   ]
  },
  {
   "cell_type": "markdown",
   "metadata": {},
   "source": [
    "### Time Complexity : O(n)\n",
    "### Space Complexity : O(d)"
   ]
  },
  {
   "cell_type": "markdown",
   "metadata": {},
   "source": [
    "# Implementation"
   ]
  },
  {
   "cell_type": "code",
   "execution_count": 3,
   "metadata": {},
   "outputs": [],
   "source": [
    "def rotateArray(arr,size,d):\n",
    "    temp_arr = []\n",
    "    for i in range(d):\n",
    "        temp_arr.append(arr[i])\n",
    "    pos = 0\n",
    "    for i in range(d,size):\n",
    "        arr[pos] = arr[i]\n",
    "        pos+=1\n",
    "    pos = 0\n",
    "    for i in range(size-d,size):\n",
    "        arr[i] = temp_arr[pos]\n",
    "        pos+=1\n",
    "    return arr"
   ]
  },
  {
   "cell_type": "code",
   "execution_count": 13,
   "metadata": {},
   "outputs": [
    {
     "name": "stdout",
     "output_type": "stream",
     "text": [
      "[2, 3, 4, 5, 6, 1]\n"
     ]
    }
   ],
   "source": [
    "arr = [1,2,3,4,5,6]\n",
    "size = len(arr)\n",
    "d = 1\n",
    "print(rotateArray(arr,size,d))\n",
    "# ans\n",
    "# [2, 3, 4, 5, 6, 1]"
   ]
  },
  {
   "cell_type": "markdown",
   "metadata": {},
   "source": [
    "# Approach 2"
   ]
  },
  {
   "cell_type": "markdown",
   "metadata": {},
   "source": [
    "1. Copy first element to temporary variable \n",
    "2. Shift all the elements of given array by one position left.\n",
    "3. Copy element from temporary variable to the end of given array.\n",
    "4. Repeat the process for d times to rotate the array by d elements.\n",
    "5. We rotate the n elements, O(n) and repeat this d times. So total time complexity is O(nd). We are using only \n",
    "   one variable irrespective of the size of array. So Space Complexity is O(1)"
   ]
  },
  {
   "cell_type": "markdown",
   "metadata": {},
   "source": [
    "### Time Complexity : O(n * d)\n",
    "### Space Complexity : O(1)"
   ]
  },
  {
   "cell_type": "markdown",
   "metadata": {},
   "source": [
    "# Implementation"
   ]
  },
  {
   "cell_type": "code",
   "execution_count": 10,
   "metadata": {},
   "outputs": [],
   "source": [
    "def rotateArrOnce(arr,size):\n",
    "    temp = arr[0]\n",
    "    for i in range(1,size):\n",
    "        arr[i-1] = arr[i]\n",
    "    arr[size-1] = temp\n",
    "    return arr\n",
    "\n",
    "def rotateArray2(arr,size,d):\n",
    "    for i in range(d):\n",
    "        arr = rotateArrOnce(arr,size)\n",
    "    return arr\n",
    "        "
   ]
  },
  {
   "cell_type": "code",
   "execution_count": 14,
   "metadata": {},
   "outputs": [
    {
     "name": "stdout",
     "output_type": "stream",
     "text": [
      "[3, 4, 5, 6, 1, 2]\n"
     ]
    }
   ],
   "source": [
    "arr = [1,2,3,4,5,6]\n",
    "size = len(arr)\n",
    "d = 2\n",
    "print(rotateArray2(arr,size,d))\n",
    "# ans\n",
    "# [3, 4, 5, 6, 1, 2]"
   ]
  },
  {
   "cell_type": "markdown",
   "metadata": {},
   "source": [
    "# Approach 3\n",
    "    This is also called juggling algorithm for array rotation"
   ]
  },
  {
   "cell_type": "markdown",
   "metadata": {},
   "source": [
    "1. Find the gcd of size and d i.e g\n",
    "   size = 6, d = 2, gcd(6,2) = 2\n",
    "2. Divide the given array into multiple blocks of size g.\n",
    "   blocks [1,2] [3,4] [5,6]\n",
    "3. From first block copy first element to temporary variable.\n",
    "   temp = 1\n",
    "4. From second block copy first element to first element of first block. Copy first element from third block\n",
    "   to first element of second block repeat the process for all blocks. Copy temp to first element of \n",
    "   last block\n",
    "   [3,2] [5,4] [1,6]\n",
    "5. Similarly repeat the process for other elements of blocks i.e second element\n",
    "   temp = 2\n",
    "   [3,4] [5,6] [1,2]\n",
    "6. We are scanning each element once, so time complexity becomes O(n). We are using only one variable irrespective\n",
    "   of size of array, so space complexity is O(1)\n"
   ]
  },
  {
   "cell_type": "markdown",
   "metadata": {},
   "source": [
    "### Time Complexity : O(n)\n",
    "### Space Complexity : O(1)"
   ]
  },
  {
   "cell_type": "markdown",
   "metadata": {},
   "source": [
    "# Implementation"
   ]
  },
  {
   "cell_type": "code",
   "execution_count": 20,
   "metadata": {},
   "outputs": [],
   "source": [
    "def gcd(size,d):\n",
    "    if d == 0:\n",
    "        return size\n",
    "    else:\n",
    "        return gcd(d,size%d)\n",
    "    \n",
    "def rotateArray3(arr,size,d):\n",
    "    block_size = gcd(size,d)\n",
    "    for i in range(block_size):\n",
    "        temp = arr[i]\n",
    "        j = i\n",
    "        while(1):\n",
    "            k = (j+d)%size # for cyclic increment\n",
    "            if k == i:\n",
    "                break # break when d reaches i. cycle done\n",
    "            arr[j] = arr[k]\n",
    "            j = k\n",
    "        arr[j] = temp\n",
    "    return arr\n"
   ]
  },
  {
   "cell_type": "code",
   "execution_count": 21,
   "metadata": {},
   "outputs": [
    {
     "name": "stdout",
     "output_type": "stream",
     "text": [
      "[3, 4, 5, 6, 1, 2]\n"
     ]
    }
   ],
   "source": [
    "arr = [1,2,3,4,5,6]\n",
    "size = len(arr)\n",
    "d = 2\n",
    "print(rotateArray3(arr,size,d))\n",
    "# ans\n",
    "# [3, 4, 5, 6, 1, 2]"
   ]
  },
  {
   "cell_type": "code",
   "execution_count": 22,
   "metadata": {},
   "outputs": [
    {
     "name": "stdout",
     "output_type": "stream",
     "text": [
      "[4, 5, 6, 1, 2, 3]\n"
     ]
    }
   ],
   "source": [
    "arr = [1,2,3,4,5,6]\n",
    "size = len(arr)\n",
    "d = 3\n",
    "print(rotateArray3(arr,size,d))\n",
    "# ans\n",
    "# [4, 5, 6, 1, 2, 3]"
   ]
  },
  {
   "cell_type": "code",
   "execution_count": 24,
   "metadata": {},
   "outputs": [
    {
     "name": "stdout",
     "output_type": "stream",
     "text": [
      "[3, 4, 5, 6, 7, 1, 2]\n"
     ]
    }
   ],
   "source": [
    "arr = [1,2,3,4,5,6,7]\n",
    "size = len(arr)\n",
    "d = 2\n",
    "print(rotateArray3(arr,size,d))\n",
    "# ans\n",
    "# [3, 4, 5, 6, 7, 1, 2]"
   ]
  },
  {
   "cell_type": "markdown",
   "metadata": {},
   "source": [
    "# Approach 4"
   ]
  },
  {
   "cell_type": "markdown",
   "metadata": {},
   "source": [
    "1. First reverse the first d elements\n",
    "[1,2,3,4,5,6] --> [2,1,3,4,5,6]\n",
    "2. Next reverse the remaining (n-d) elements\n",
    "[2,1,3,4,5,6] --> [2,1,6,5,4,3]\n",
    "3. Reverse the complete resulting array\n",
    "[3,4,5,6,1,2]\n",
    "4. We are scanning the entire array twice. O(2n) and we are not using any extra space O(1)\n"
   ]
  },
  {
   "cell_type": "markdown",
   "metadata": {},
   "source": [
    "### Time Complexity : O(n)\n",
    "### Space Complexity : O(1)"
   ]
  },
  {
   "cell_type": "markdown",
   "metadata": {},
   "source": [
    "# Implementation"
   ]
  },
  {
   "cell_type": "code",
   "execution_count": 34,
   "metadata": {},
   "outputs": [],
   "source": [
    "def revr_list(arr,index1,index2):\n",
    "    while(index1<=index2):\n",
    "        temp = arr[index1]\n",
    "        arr[index1] = arr[index2]\n",
    "        arr[index2] = temp\n",
    "        index1+=1\n",
    "        index2-=1\n",
    "    return arr\n",
    "\n",
    "def rotateArray4(arr,size,d):\n",
    "    arr = revr_list(arr,0,d-1)\n",
    "    arr = revr_list(arr,d,size-1)\n",
    "    arr = revr_list(arr,0,size-1)\n",
    "    return arr"
   ]
  },
  {
   "cell_type": "code",
   "execution_count": 35,
   "metadata": {},
   "outputs": [
    {
     "name": "stdout",
     "output_type": "stream",
     "text": [
      "[3, 4, 5, 6, 7, 1, 2]\n"
     ]
    }
   ],
   "source": [
    "arr = [1,2,3,4,5,6,7]\n",
    "size = len(arr)\n",
    "d = 2\n",
    "print(rotateArray4(arr,size,d))\n",
    "# ans\n",
    "# [3, 4, 5, 6, 7, 1, 2]"
   ]
  },
  {
   "cell_type": "code",
   "execution_count": 36,
   "metadata": {},
   "outputs": [
    {
     "name": "stdout",
     "output_type": "stream",
     "text": [
      "[4, 5, 6, 1, 2, 3]\n"
     ]
    }
   ],
   "source": [
    "arr = [1,2,3,4,5,6]\n",
    "size = len(arr)\n",
    "d = 3\n",
    "print(rotateArray4(arr,size,d))\n",
    "# ans\n",
    "# [4, 5, 6, 1, 2, 3]"
   ]
  },
  {
   "cell_type": "code",
   "execution_count": 38,
   "metadata": {},
   "outputs": [
    {
     "name": "stdout",
     "output_type": "stream",
     "text": [
      "[2, 3, 4, 5, 6, 1]\n"
     ]
    }
   ],
   "source": [
    "arr = [1,2,3,4,5,6]\n",
    "size = len(arr)\n",
    "d = 1\n",
    "print(rotateArray4(arr,size,d))\n",
    "# ans\n",
    "# [2, 3, 4, 5, 6, 1]"
   ]
  },
  {
   "cell_type": "code",
   "execution_count": null,
   "metadata": {},
   "outputs": [],
   "source": []
  }
 ],
 "metadata": {
  "kernelspec": {
   "display_name": "Python 3",
   "language": "python",
   "name": "python3"
  },
  "language_info": {
   "codemirror_mode": {
    "name": "ipython",
    "version": 3
   },
   "file_extension": ".py",
   "mimetype": "text/x-python",
   "name": "python",
   "nbconvert_exporter": "python",
   "pygments_lexer": "ipython3",
   "version": "3.5.2"
  }
 },
 "nbformat": 4,
 "nbformat_minor": 2
}
