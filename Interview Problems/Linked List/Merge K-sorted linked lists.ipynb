{
 "cells": [
  {
   "cell_type": "markdown",
   "metadata": {},
   "source": [
    "# Understanding the problem statement"
   ]
  },
  {
   "cell_type": "raw",
   "metadata": {},
   "source": [
    "Given k sorted linked lists of length N, we have to merge these lists into single sorted linked list.\n",
    "\n",
    "Input : \n",
    "    list1 :     Node2 --> Node4 --> Node5 --> None\n",
    "    list2 :     Node1 --> Node6 --> Node8 --> None\n",
    "        .\n",
    "        .\n",
    "    listk :     Node100 --> None\n",
    "\n",
    "Output:\n",
    "                Node1 --> Node2 --> Node4 --> Node5 --> Node6 --> Node8 --> .... Node100 --> None"
   ]
  },
  {
   "cell_type": "markdown",
   "metadata": {},
   "source": [
    "# Algorithm"
   ]
  },
  {
   "cell_type": "markdown",
   "metadata": {},
   "source": [
    "# Approach 1"
   ]
  },
  {
   "cell_type": "markdown",
   "metadata": {},
   "source": [
    "1. Take each node from second list, identify at what position it should be filled in first node.\n",
    "2. To identify position traverse through the first list till greater node is encountered and fill it before greater\n",
    "    node. After filling node in first list, delete this node from second list. so in worst case we will be making\n",
    "    n comparisons if n nodes are present in first list.\n",
    "3. Similarly repeat the procedure for each node in third list, fourth list till k list.\n",
    "4. Calculating exact time complexity is little bit difficult because the size of first list keeps on changing \n",
    "    as we keep on adding nodes to first list and as a result no of comparisons also changes.\n",
    "5. At last KN nodes will be present in first list.\n",
    "6. So we calculate worst case complexity assuming KN/2 nodes is present in first list and we iterate them to fill\n",
    "    remaining KN/2 nodes. so complexity becomes KN/2 * KN/2"
   ]
  },
  {
   "cell_type": "markdown",
   "metadata": {},
   "source": [
    "# Complexity :\n",
    "# Time : O(k^2 * N^2)\n",
    "# Space : O(1)\n",
    "    No extra space is used"
   ]
  },
  {
   "cell_type": "markdown",
   "metadata": {},
   "source": [
    "# Approach 2"
   ]
  },
  {
   "cell_type": "markdown",
   "metadata": {},
   "source": [
    "1. This approach is similar to merging two lists. There we used temp to keep track of tail of single merged list.\n",
    "    To get next minimum element we compared two elements in two lists using two pointers. But here we have k lists\n",
    "    and we have to compare k elements to get next min element. Therefore we use min heap to store k elements.\n",
    "2. Construct min heap from the first elements of each list. O(k)\n",
    "3. Delete min from heap and add the next node from one of the k lists to the heap if it exists. 2*O(logk)\n",
    "4. Append the deleted node to the merge list. O(1)\n",
    "     Repeat step2 and 3 until heap becomes empty\n",
    "    \n",
    "    \n",
    "    NOTE : As long as k linked lists have nodes to be visited, min heap will have k nodes in it. As linked lists become completely visited then nodes starts decreasing from heap and finally heap becomes empty.\n",
    "    Form heap from pointer nodes, delete min element ,add min node to single merge list, increase respective   pointernode and again form heap,delete and repeat until all pointer nodes becomes none."
   ]
  },
  {
   "cell_type": "markdown",
   "metadata": {},
   "source": [
    "# Complexity :\n",
    "# Time :  O(kNlogk)\n",
    "    Form heap from first elements --> O(k)\n",
    "    for remaining kN-k elements, continue deleting O(logk) and inserting O(logk) into heap --> (kN-k) * 2*O(logk)\n",
    "    Append deleted node to merge list --> O(1)\n",
    "    so O(k)+ (kN-k) * 2*O(logk) + O(1)\n",
    "    \n",
    "# Space : O(k)\n",
    "    since min heap is used and maximum k elements will be in heap"
   ]
  },
  {
   "cell_type": "markdown",
   "metadata": {},
   "source": [
    "# Approach 3"
   ]
  },
  {
   "cell_type": "markdown",
   "metadata": {},
   "source": [
    "1. Use Divide and Conquer approach.\n",
    "2. Take 2 lists out of k-lists at a time and use merging 2 sorted lists algorithm to merge 2 lists.\n",
    "3. Repeat the process till we have single sorted list.\n",
    "4. Refer screenshot for clear image."
   ]
  },
  {
   "cell_type": "markdown",
   "metadata": {},
   "source": [
    "# Complexity :\n",
    "# Time :  O(Nklogk)\n",
    "    see screenshot.\n",
    "    we are making k lists of length N to one list of length KN.\n",
    "    For each level we are getting lists of length 2^level * N.\n",
    "    if there are x levels then we have list of 2^x * N . this must be equal to KN. --> kN = (2^x) * N \n",
    "    hence there are x=logk levels\n",
    "    At each level we are using merging 2 sorted lists algorithm which has complexity of O(number of nodes) since\n",
    "    each node is visted once.\n",
    "    at each level we have kN nodes so complexity is O(kN) and we have logk levels. so total time complexity is\n",
    "    O(kN) * logk\n",
    "    \n",
    "    \n",
    "# Space : O(1)\n",
    "    No extra space is used"
   ]
  },
  {
   "cell_type": "markdown",
   "metadata": {},
   "source": [
    "# Implementation"
   ]
  },
  {
   "cell_type": "markdown",
   "metadata": {},
   "source": [
    "### Linked List Creation"
   ]
  },
  {
   "cell_type": "code",
   "execution_count": 3,
   "metadata": {},
   "outputs": [],
   "source": [
    "class Node:\n",
    "    def __init__(self,data):\n",
    "        self.data = data\n",
    "        self.next = None\n",
    "    \n",
    "    @staticmethod\n",
    "    def createSampleLinkedList():\n",
    "        head = Node(7)\n",
    "        a = Node(6)\n",
    "        b = Node(3)\n",
    "        c = Node(4)\n",
    "        d = Node(8)\n",
    "        head.next = a\n",
    "        a.next = b\n",
    "        b.next = c\n",
    "        c.next = d\n",
    "        return head\n",
    "\n",
    "    \n",
    "    @staticmethod\n",
    "    def create5SortedLinkedLists():\n",
    "        head = Node(2)\n",
    "        a = Node(3)\n",
    "        b = Node(6)\n",
    "        c = Node(7)\n",
    "        d = Node(8)\n",
    "        e = Node(9)\n",
    "        \n",
    "        f = Node(1)\n",
    "        g = Node(5)\n",
    "\n",
    "        h = Node(10)\n",
    "        i = Node(20)\n",
    "\n",
    "        j = Node(15)\n",
    "        k = Node(51)        \n",
    "        \n",
    "        l = Node(16)\n",
    "        m = Node(85)\n",
    "\n",
    "\n",
    "        head.next = a\n",
    "        a.next = b\n",
    "        b.next = c\n",
    "        c.next = d\n",
    "        d.next = e\n",
    "        \n",
    "        f.next = g\n",
    "        \n",
    "        h.next = i\n",
    "        \n",
    "        j.next = k\n",
    "        \n",
    "        l.next = m\n",
    "        \n",
    "        return [head,f,h,j,l]\n",
    "\n",
    "    @staticmethod\n",
    "    def createEmptyNode(value):\n",
    "        newnode = Node(value)\n",
    "        return newnode"
   ]
  },
  {
   "cell_type": "code",
   "execution_count": 4,
   "metadata": {},
   "outputs": [],
   "source": [
    "def traverseSingleLinkedList(a):\n",
    "    temp = a\n",
    "    while(temp):\n",
    "        print(temp.data)\n",
    "        temp = temp.next"
   ]
  },
  {
   "cell_type": "code",
   "execution_count": 5,
   "metadata": {},
   "outputs": [],
   "source": [
    "def mergeSorted(list1,list2):\n",
    "    if list1.data <= list2.data:\n",
    "        merged_head = list1\n",
    "        list1 = list1.next\n",
    "    else:\n",
    "        merged_head = list2\n",
    "        list2 = list2.next\n",
    "        \n",
    "    temp = merged_head\n",
    "    while(list1 and list2):\n",
    "        if list1.data <= list2.data:\n",
    "            temp.next = list1\n",
    "            temp = temp.next\n",
    "            list1 = list1.next\n",
    "        else:\n",
    "            temp.next = list2\n",
    "            temp = temp.next\n",
    "            list2 = list2.next\n",
    "    \n",
    "    if not list1:         # if we reach end of one list, remaining part of other list should be appended to merged \n",
    "        temp.next = list2\n",
    "    else:\n",
    "        temp.next = list1\n",
    "    \n",
    "    return merged_head"
   ]
  },
  {
   "cell_type": "code",
   "execution_count": 6,
   "metadata": {},
   "outputs": [],
   "source": [
    "def mergeKLists(ptr_arr,k):\n",
    "    last = k-1\n",
    "    while(last):\n",
    "        start = 0\n",
    "        end = last\n",
    "        while(start < end):\n",
    "            ptr_arr[start] = mergeSorted(ptr_arr[start],ptr_arr[end])\n",
    "            start+=1\n",
    "            end-=1\n",
    "            if start>=end :\n",
    "                last = end\n",
    "    return ptr_arr[0]\n",
    "    "
   ]
  },
  {
   "cell_type": "markdown",
   "metadata": {},
   "source": [
    "# Test"
   ]
  },
  {
   "cell_type": "code",
   "execution_count": 8,
   "metadata": {},
   "outputs": [
    {
     "name": "stdout",
     "output_type": "stream",
     "text": [
      "k lists\n",
      "***********input sorted list*************\n",
      "2\n",
      "3\n",
      "6\n",
      "7\n",
      "8\n",
      "9\n",
      "***********input sorted list*************\n",
      "1\n",
      "5\n",
      "***********input sorted list*************\n",
      "10\n",
      "20\n",
      "***********input sorted list*************\n",
      "15\n",
      "51\n",
      "***********input sorted list*************\n",
      "16\n",
      "85\n",
      "***********merged single sorted list*******************\n",
      "1\n",
      "2\n",
      "3\n",
      "5\n",
      "6\n",
      "7\n",
      "8\n",
      "9\n",
      "10\n",
      "15\n",
      "16\n",
      "20\n",
      "51\n",
      "85\n"
     ]
    }
   ],
   "source": [
    "ptr_arr = Node.create5SortedLinkedLists()\n",
    "print(\"k lists\")\n",
    "for ptr in ptr_arr:\n",
    "    print(\"***********input sorted list*************\")\n",
    "    traverseSingleLinkedList(ptr)\n",
    "print(\"***********merged single sorted list*******************\")\n",
    "merged_head = mergeKLists(ptr_arr,5)\n",
    "traverseSingleLinkedList(merged_head)"
   ]
  },
  {
   "cell_type": "markdown",
   "metadata": {},
   "source": [
    "# Merge k-sorted linked lists ( Binary Search Tree Approach)"
   ]
  },
  {
   "cell_type": "markdown",
   "metadata": {},
   "source": [
    "comparison of heap and binary tree is given in screenshot.\n",
    "\n",
    "In case of BST, if tree becomes skewed insertion and deletion takes O(k) and total complexity becomes\n",
    "O(n*k^2).\n",
    "\n",
    "In case if we try to balance BST, balancing algorithms themselves take more time. so better to go with heap"
   ]
  },
  {
   "cell_type": "markdown",
   "metadata": {},
   "source": [
    "# Merge sort on linked list"
   ]
  },
  {
   "cell_type": "markdown",
   "metadata": {},
   "source": [
    "1. Divide the list into two halves . O(n) \n",
    "[since we have to first traverse count the number of nodes and then traverse again or use two pointer technique]\n",
    "\n",
    "2. Sort the first half using merge sort. T(n/2)\n",
    "3. Sort the second half using merge sort. T(n/2)\n",
    "\n",
    "4. merge the first half and second half. O(n) \n",
    "[since each node has to be visited once for merging]\n",
    "\n",
    "so T(n) = 2*T(n/2)+ kn\n",
    "\n",
    "so T(n) = O(nlogn)"
   ]
  },
  {
   "cell_type": "markdown",
   "metadata": {},
   "source": [
    "NOTE : Asymptotically merge sort on arrays and merge sort on linked list have same complexity \n",
    "    but first step of division takes O(1) in arrays whereas O(n) in linkedlist"
   ]
  },
  {
   "cell_type": "code",
   "execution_count": null,
   "metadata": {},
   "outputs": [],
   "source": []
  }
 ],
 "metadata": {
  "kernelspec": {
   "display_name": "Python 3",
   "language": "python",
   "name": "python3"
  },
  "language_info": {
   "codemirror_mode": {
    "name": "ipython",
    "version": 3
   },
   "file_extension": ".py",
   "mimetype": "text/x-python",
   "name": "python",
   "nbconvert_exporter": "python",
   "pygments_lexer": "ipython3",
   "version": "3.5.2"
  }
 },
 "nbformat": 4,
 "nbformat_minor": 2
}
