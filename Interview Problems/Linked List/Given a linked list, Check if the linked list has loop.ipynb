{
 "cells": [
  {
   "cell_type": "markdown",
   "metadata": {},
   "source": [
    "# Understanding the problem statement"
   ]
  },
  {
   "cell_type": "raw",
   "metadata": {},
   "source": [
    "A Linked list is said to have a loop if one of the nodes is again connected back to already visited node.\n",
    "\n",
    "Node 1 --> Node 2 --> Node 3 --> Node 4 --> Node2(same node2)\n",
    "\n",
    "If we traverse a linked list having loop, then we will enter to infinite loop.\n",
    "While performing operations on linked list we may unintentionally create a loop in linked list.\n",
    "So we have to test for loop occasionally or in testing phase before we deploy in production."
   ]
  },
  {
   "cell_type": "markdown",
   "metadata": {},
   "source": [
    "# Algorithm"
   ]
  },
  {
   "cell_type": "markdown",
   "metadata": {},
   "source": [
    "# Approach 1"
   ]
  },
  {
   "cell_type": "markdown",
   "metadata": {},
   "source": [
    "1. Use a Hash Table.\n",
    "2. While traversing the linked list, check whether node address exists in Hash Table.\n",
    "3. If it does not exist, store the address of node in Hash Table.\n",
    "4. If it already exists then it means node is already visited. So we can say that linked list has loop.\n",
    "\n",
    "NOTE : We assume insertion and searching takes O(1) using Hash Table. Amortized analysis.\n",
    "    If collision occurs insertion and search complexity may increase. Using hash table is optimal if we store once\n",
    "    and use many times"
   ]
  },
  {
   "cell_type": "markdown",
   "metadata": {},
   "source": [
    "# Complexity\n",
    "# Time :\n",
    "    In worst case, we traverse entire linked list if loop is at last node. so O(n)\n",
    "   ##                                  O(n)\n",
    "# Space:\n",
    "    In worst case, we have to store addresses of all nodes if loop is at last node. we have to maintain Hash \n",
    "    Table of size equal to size of linked list . so O(n)\n",
    "   ##                                  O(n)"
   ]
  },
  {
   "cell_type": "markdown",
   "metadata": {},
   "source": [
    "# Approach 2"
   ]
  },
  {
   "cell_type": "markdown",
   "metadata": {},
   "source": [
    "1. Use visited flag at each node.\n",
    "2. In languages like C, this has be implemented at design phase itself.\n",
    "3. Traverse linked list and check whether node is already visited.\n",
    "4. If none of the nodes are already visited then linkedlist does not have loop.\n",
    "5. If a node is already visited then loop exists.\n",
    "6. We can also find the first node of loop using this technique and number of nodes in loop as well.\n",
    "7. In case if in design phase we have not implemented visited flag then, we have to create new copy of this \n",
    "   linkedlist and it may be not feasible if linked list is of size > Mbs"
   ]
  },
  {
   "cell_type": "markdown",
   "metadata": {},
   "source": [
    "# Complexity\n",
    "# Time :\n",
    "    In worst case, we traverse entire linked list if loop is at last node. so O(n)\n",
    "   ##                                  O(n)\n",
    "# Space:\n",
    "    If one bit is used for visited flag in each node then we need n extra bits. "
   ]
  },
  {
   "cell_type": "markdown",
   "metadata": {},
   "source": [
    "# Approach 3 (Floyd's Cycle-Finding Algorithm)"
   ]
  },
  {
   "cell_type": "markdown",
   "metadata": {},
   "source": [
    "1. Use two pointers, fast pointer and slow pointer. This technique is also called heir and tortoise technique.\n",
    "2. Initialize fast and slow pointer to head .\n",
    "3. Move fast pointer by two nodes and slow pointer by one node.\n",
    "4. If fast pointer and slow pointer meet, then linked list has loop\n",
    "5. If fast pointer reaches end, without meeting slow pointer then linked list has no loop.\n",
    "\n",
    "NOTE: sometimes fast pointer becomes null without going to last node as its moving by two nodes.\n",
    "    so check fast_ptr == NULL and fast_ptr.next == NULL"
   ]
  },
  {
   "cell_type": "markdown",
   "metadata": {},
   "source": [
    "Explanation of why this approach works is in reference screenshot folder"
   ]
  },
  {
   "cell_type": "markdown",
   "metadata": {},
   "source": [
    "# Complexity\n",
    "# Time :\n",
    "    In worst case, we traverse entire linked list before fast pointer and slow pointer meet. so O(n)\n",
    "   ##                                  O(n)\n",
    "# Space:\n",
    "    No extra space is used. so O(1)\n",
    "   ## O(1)"
   ]
  },
  {
   "cell_type": "markdown",
   "metadata": {},
   "source": [
    "# Implementation"
   ]
  },
  {
   "cell_type": "markdown",
   "metadata": {},
   "source": [
    "### Linked List creation"
   ]
  },
  {
   "cell_type": "code",
   "execution_count": 13,
   "metadata": {},
   "outputs": [],
   "source": [
    "class Node:\n",
    "    def __init__(self,data):\n",
    "        self.data = data\n",
    "        self.next = None\n",
    "    \n",
    "    @staticmethod\n",
    "    def createSampleLinkedList():\n",
    "        head = Node(7)\n",
    "        a = Node(6)\n",
    "        b = Node(3)\n",
    "        c = Node(4)\n",
    "        d = Node(8)\n",
    "#          e = Node(1)\n",
    "        head.next = a\n",
    "        a.next = b\n",
    "        b.next = c\n",
    "        c.next = d\n",
    "#         d.next = e\n",
    "        return head\n",
    "\n",
    "    @staticmethod\n",
    "    def createSampleLinkedListWithLoop():\n",
    "        head = Node(7)\n",
    "        a = Node(6)\n",
    "        b = Node(3)\n",
    "        c = Node(4)\n",
    "        d = Node(8)\n",
    "        e = Node(1)\n",
    "        head.next = a\n",
    "        a.next = b\n",
    "        b.next = c\n",
    "        c.next = d\n",
    "        d.next = e\n",
    "        e.next = c\n",
    "        return head\n",
    "\n",
    "    @staticmethod\n",
    "    def createEmptyNode(value):\n",
    "        newnode = Node(value)\n",
    "        return newnode"
   ]
  },
  {
   "cell_type": "code",
   "execution_count": 14,
   "metadata": {},
   "outputs": [],
   "source": [
    "def traverseSingleLinkedList(a):\n",
    "    temp = a\n",
    "    while(temp):\n",
    "        print(temp.data)\n",
    "        temp = temp.next"
   ]
  },
  {
   "cell_type": "code",
   "execution_count": 18,
   "metadata": {},
   "outputs": [],
   "source": [
    "def checkLoop(head):\n",
    "    fast_ptr = head\n",
    "    slow_ptr = head\n",
    "    while(fast_ptr and fast_ptr.next and slow_ptr): # checking slow_ptr is optional\n",
    "        fast_ptr = fast_ptr.next.next\n",
    "        slow_ptr = slow_ptr.next\n",
    "        if fast_ptr == slow_ptr:\n",
    "            print(\"Loop Exists\")\n",
    "            return\n",
    "    print(\"Loop Does Not Exist\")"
   ]
  },
  {
   "cell_type": "markdown",
   "metadata": {},
   "source": [
    "# Test"
   ]
  },
  {
   "cell_type": "code",
   "execution_count": 19,
   "metadata": {},
   "outputs": [
    {
     "name": "stdout",
     "output_type": "stream",
     "text": [
      "7\n",
      "6\n",
      "3\n",
      "4\n",
      "8\n",
      "****************** checking **************************\n",
      "Loop Does Not Exist\n"
     ]
    }
   ],
   "source": [
    "head = Node.createSampleLinkedList()\n",
    "traverseSingleLinkedList(head)\n",
    "print(\"****************** checking **************************\")\n",
    "checkLoop(head) \n",
    "# ans \n",
    "# Loop Does Not Exist"
   ]
  },
  {
   "cell_type": "code",
   "execution_count": 12,
   "metadata": {},
   "outputs": [
    {
     "name": "stdout",
     "output_type": "stream",
     "text": [
      "7\n",
      "6\n",
      "3\n",
      "4\n",
      "8\n",
      "1\n",
      "****************** checking **************************\n",
      "Loop Does Not Exist\n"
     ]
    }
   ],
   "source": [
    "head = Node.createSampleLinkedList() # create even nodes and test\n",
    "traverseSingleLinkedList(head)\n",
    "print(\"****************** checking **************************\")\n",
    "checkLoop(head)\n",
    "# ans\n",
    "# Loop Does Not Exist"
   ]
  },
  {
   "cell_type": "code",
   "execution_count": 20,
   "metadata": {},
   "outputs": [
    {
     "name": "stdout",
     "output_type": "stream",
     "text": [
      "****************** checking **************************\n",
      "Loop Exists\n"
     ]
    }
   ],
   "source": [
    "head = Node.createSampleLinkedListWithLoop() # create even nodes and test\n",
    "# traverseSingleLinkedList(head) # Do not traverse linked list with loop as it enters infinite loop\n",
    "print(\"****************** checking **************************\")\n",
    "checkLoop(head)\n",
    "# ans\n",
    "# Loop Exists"
   ]
  },
  {
   "cell_type": "code",
   "execution_count": null,
   "metadata": {},
   "outputs": [],
   "source": []
  }
 ],
 "metadata": {
  "kernelspec": {
   "display_name": "Python 3",
   "language": "python",
   "name": "python3"
  },
  "language_info": {
   "codemirror_mode": {
    "name": "ipython",
    "version": 3
   },
   "file_extension": ".py",
   "mimetype": "text/x-python",
   "name": "python",
   "nbconvert_exporter": "python",
   "pygments_lexer": "ipython3",
   "version": "3.5.2"
  }
 },
 "nbformat": 4,
 "nbformat_minor": 2
}
