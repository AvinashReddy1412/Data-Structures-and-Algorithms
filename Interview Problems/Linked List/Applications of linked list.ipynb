{
 "cells": [
  {
   "cell_type": "markdown",
   "metadata": {},
   "source": [
    "# Applications of linked list"
   ]
  },
  {
   "cell_type": "markdown",
   "metadata": {},
   "source": [
    "1. Standard int takes 2 bytes or 16 bits memory. So maximum number represented by int is 65535 [(2^16)-1]\n",
    "   So inorder to store greater number than 65536, then we can either use array or linkedlist.\n",
    "   To store using array we can store each digit in different index. To store 765535 we can store like\n",
    "   [7,6,5,5,3,5]\n",
    "   Inorder to use array we have to know the size of the number before hand so we can declare size of array. In many\n",
    "   programming languages dynamic arrays are not possible. \n",
    "   So we use linkedlist to store greater numbers.\n",
    "   Each digit can be stored as node.\n",
    "   But inorder to add, substract or perform any operation we have to come up with our own algorithms.\n",
    "   ADD: we can reverse then linked lists , and then approach addition\n",
    "2. We can also use linkedlist for storing polynomial expressions line x^3-10x^2+12x-20.\n",
    "   we can create node to have three attributes.\n",
    "    1. coefficient \n",
    "    2. power\n",
    "    3. next\n",
    "   x^3 can be represented as \n",
    "    coefficient = 1 ,power =3 , next = addr"
   ]
  },
  {
   "cell_type": "code",
   "execution_count": null,
   "metadata": {},
   "outputs": [],
   "source": []
  }
 ],
 "metadata": {
  "kernelspec": {
   "display_name": "Python 3",
   "language": "python",
   "name": "python3"
  },
  "language_info": {
   "codemirror_mode": {
    "name": "ipython",
    "version": 3
   },
   "file_extension": ".py",
   "mimetype": "text/x-python",
   "name": "python",
   "nbconvert_exporter": "python",
   "pygments_lexer": "ipython3",
   "version": "3.5.2"
  }
 },
 "nbformat": 4,
 "nbformat_minor": 2
}
