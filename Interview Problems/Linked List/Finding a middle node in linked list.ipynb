{
 "cells": [
  {
   "cell_type": "markdown",
   "metadata": {},
   "source": [
    "## Understanding the problem statement\n",
    "    If there are five nodes in linked list like below\n",
    "    \n",
    "    node1 --> node2 --> node3 --> node4 --> node5 --> NULL\n",
    "    \n",
    "    then we have to find the middle node. In this case third node or node3.\n",
    "    "
   ]
  },
  {
   "cell_type": "markdown",
   "metadata": {},
   "source": [
    "# Approach 1"
   ]
  },
  {
   "cell_type": "markdown",
   "metadata": {},
   "source": [
    "1. Traverse the complete linked list and count the number of nodes. O(n)\n",
    "2. Find the middle node(M) i.e (n//2)+1\n",
    "3. Now traverse till M node i.e n//2 nodes to reach n//2+1 node. O(n//2)"
   ]
  },
  {
   "cell_type": "markdown",
   "metadata": {},
   "source": [
    "## Complexity\n",
    "## Time : O(n)+O(n//2) = O(n)\n",
    "## Space : O(1)"
   ]
  },
  {
   "cell_type": "markdown",
   "metadata": {},
   "source": [
    "## Approach 2"
   ]
  },
  {
   "cell_type": "markdown",
   "metadata": {},
   "source": [
    "1. Traverse the complete linked list and store the address of nodes in Hash Table and count the number of nodes.O(n)\n",
    "2. Find the middle node(M) i.e (n//2)+1\n",
    "3. Retrive the middle node(M) from Hash Table. H(M)=H(n//2+1). O(1)"
   ]
  },
  {
   "cell_type": "markdown",
   "metadata": {},
   "source": [
    "## Complexity\n",
    "## Time : O(n)+O(1) = O(n)\n",
    "## Space : O(n) (Hash Table)"
   ]
  },
  {
   "cell_type": "markdown",
   "metadata": {},
   "source": [
    "## Approach 3"
   ]
  },
  {
   "cell_type": "markdown",
   "metadata": {},
   "source": [
    "1. Maintain two pointers. Fast pointer and slow pointer. This fast and slow pointer approach is also known \n",
    "   heir and tortoise approach. \n",
    "   NOTE: Instead of two pointers we can even use one pointer and increment for every second count. \n",
    "   As count starts with 0, increment node for counts 1,3,5 etc.\n",
    "2. Increment Fast pointer by two nodes and slow pointer by one node.\n",
    "3. By the time fast pointer reaches the end, slow pointer will be at middle node."
   ]
  },
  {
   "cell_type": "markdown",
   "metadata": {},
   "source": [
    "## Complexity\n",
    "## Time : O(n)\n",
    "## Space : O(1)"
   ]
  },
  {
   "cell_type": "markdown",
   "metadata": {},
   "source": [
    "# Implementation"
   ]
  },
  {
   "cell_type": "markdown",
   "metadata": {},
   "source": [
    "### Linked List Creation"
   ]
  },
  {
   "cell_type": "code",
   "execution_count": 24,
   "metadata": {},
   "outputs": [],
   "source": [
    "class Node:\n",
    "    def __init__(self,data):\n",
    "        self.data = data\n",
    "        self.next = None\n",
    "    \n",
    "    @staticmethod\n",
    "    def createSampleLinkedList():\n",
    "        head = Node(7)\n",
    "        a = Node(6)\n",
    "        b = Node(3)\n",
    "        c = Node(4)\n",
    "        d = Node(8)\n",
    "#         e = Node(1)\n",
    "        head.next = a\n",
    "        a.next = b\n",
    "        b.next = c\n",
    "        c.next = d\n",
    "#         d.next = e\n",
    "        return head\n",
    "\n",
    "    @staticmethod\n",
    "    def createEmptyNode(value):\n",
    "        newnode = Node(value)\n",
    "        return newnode"
   ]
  },
  {
   "cell_type": "code",
   "execution_count": 25,
   "metadata": {},
   "outputs": [],
   "source": [
    "def traverseSingleLinkedList(a):\n",
    "    temp = a\n",
    "    while(temp):\n",
    "        print(temp.data)\n",
    "        temp = temp.next"
   ]
  },
  {
   "cell_type": "code",
   "execution_count": 22,
   "metadata": {},
   "outputs": [],
   "source": [
    "# using two pointers\n",
    "def findMiddleNode_2(head):\n",
    "    fast_ptr = head\n",
    "    slow_ptr = head\n",
    "    while(fast_ptr and fast_ptr.next): # when there are even no of nodes fast_ptr directly reaches None before reaching last node. So check both conditions\n",
    "        slow_ptr = slow_ptr.next\n",
    "        fast_ptr = fast_ptr.next.next\n",
    "    return slow_ptr\n",
    "\n",
    "# using one pointer\n",
    "def findMiddleNode_1(head):\n",
    "    temp = head\n",
    "    mid = head\n",
    "    count = 0\n",
    "    while(temp):\n",
    "        if (count&1):\n",
    "            mid= mid.next\n",
    "        temp = temp.next\n",
    "        count+=1\n",
    "    return mid\n",
    "        "
   ]
  },
  {
   "cell_type": "markdown",
   "metadata": {},
   "source": [
    "# Test"
   ]
  },
  {
   "cell_type": "code",
   "execution_count": 18,
   "metadata": {},
   "outputs": [
    {
     "name": "stdout",
     "output_type": "stream",
     "text": [
      "7\n",
      "6\n",
      "3\n",
      "4\n",
      "8\n",
      "****** answers *******\n",
      "3\n",
      "3\n"
     ]
    }
   ],
   "source": [
    "head = Node.createSampleLinkedList()\n",
    "traverseSingleLinkedList(head) \n",
    "mid1 = findMiddleNode_1(head)\n",
    "mid2 = findMiddleNode_2(head)\n",
    "print(\"****** answers *******\")\n",
    "print(mid1.data) # ans 3\n",
    "print(mid2.data) # ans 3"
   ]
  },
  {
   "cell_type": "code",
   "execution_count": 23,
   "metadata": {},
   "outputs": [
    {
     "name": "stdout",
     "output_type": "stream",
     "text": [
      "7\n",
      "6\n",
      "3\n",
      "4\n",
      "8\n",
      "1\n",
      "****** answers *******\n",
      "4\n",
      "4\n"
     ]
    }
   ],
   "source": [
    "head = Node.createSampleLinkedList() # add even nodes and test\n",
    "traverseSingleLinkedList(head) \n",
    "mid1 = findMiddleNode_1(head)\n",
    "mid2 = findMiddleNode_2(head)\n",
    "print(\"****** answers *******\")\n",
    "print(mid1.data) # ans 4\n",
    "print(mid2.data) # ans 4"
   ]
  },
  {
   "cell_type": "code",
   "execution_count": null,
   "metadata": {},
   "outputs": [],
   "source": []
  }
 ],
 "metadata": {
  "kernelspec": {
   "display_name": "Python 3",
   "language": "python",
   "name": "python3"
  },
  "language_info": {
   "codemirror_mode": {
    "name": "ipython",
    "version": 3
   },
   "file_extension": ".py",
   "mimetype": "text/x-python",
   "name": "python",
   "nbconvert_exporter": "python",
   "pygments_lexer": "ipython3",
   "version": "3.5.2"
  }
 },
 "nbformat": 4,
 "nbformat_minor": 2
}
