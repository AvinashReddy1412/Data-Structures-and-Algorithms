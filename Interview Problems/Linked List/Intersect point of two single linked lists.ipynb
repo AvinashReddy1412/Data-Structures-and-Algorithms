{
 "cells": [
  {
   "cell_type": "markdown",
   "metadata": {},
   "source": [
    "# Understanding the problem statement"
   ]
  },
  {
   "cell_type": "raw",
   "metadata": {},
   "source": [
    "Suppose there are two singly linked lists both of which merge at some and become a single linked list. Then we \n",
    "should find the node at which they merge\n",
    "\n",
    "Node1 --> Node2 --> Node3 --> Node4\n",
    "                                    --> Node8 --> Node9 --> None\n",
    "          Node5 --> Node6 --> Node7\n",
    "        \n",
    "Pointers to two singly linked lists are given.Head1 is at Node1 and Head2 is at Node5\n",
    "\n",
    "Output : Both merge at Node8. So Node8 is answer. "
   ]
  },
  {
   "cell_type": "markdown",
   "metadata": {},
   "source": [
    "# Approach 1 :"
   ]
  },
  {
   "cell_type": "markdown",
   "metadata": {},
   "source": [
    "1. This is brute force approach.\n",
    "2. For each node in first list, check whether this node is present in second list also.\n",
    "3. Take node1 check each node in second list. Not present then move to Node2. At Node8 we find Node8 in \n",
    "second list also. So Node 8 is answer.\n",
    "4. During program pointer move from Node4 to Node8 and Node8 is also present in second linked list. So\n",
    "this approach works"
   ]
  },
  {
   "cell_type": "markdown",
   "metadata": {},
   "source": [
    "# Complexity:\n",
    "# Time: \n",
    "    If m nodes are present in first linked list and n nodes are present in second linked list. For each node in\n",
    "    first list we are iterating through every node in second list. Therefore m * O(n).\n",
    "   ### O(mn)\n",
    "# Space : \n",
    "   ### O(1)\n",
    "    No extra space is used"
   ]
  },
  {
   "cell_type": "markdown",
   "metadata": {},
   "source": [
    "# Approach 2"
   ]
  },
  {
   "cell_type": "raw",
   "metadata": {},
   "source": [
    "1. Use Hash Table\n",
    "2. Iterate through every node in first linked list and insert node addresses in Hash Table. --> O(m)\n",
    "   Insertion in Hash table takes O(1) (amortized analysis) --> may take more if collision occurs.\n",
    "3. Now Iterate through every node in second linked list and search whether it is present in Hash Table or not->O(n)\n",
    "   Searching in Hash table takes O(1) (amortized analysis) --> may take more if collision occurs.\n",
    "4. The first node which is present in Hash table is the node where two lists merge. Return it.\n",
    "   All the nodes from merge node remains same in both linked lists."
   ]
  },
  {
   "cell_type": "markdown",
   "metadata": {},
   "source": [
    "# Complexity :\n",
    "# Time:\n",
    "    If there are m nodes in first list and n nodes in second list. we traverse first list and store in Hash O(m). we traverse second list and search in Hash O(n). In worst case we traverse till end of second array.\n",
    "    so O(m)+O(n) \n",
    "   ### O(max(m,n))\n",
    "# Space:\n",
    "    we use hash table to either store nodes of first list or store nodes of second list.In worst case we may store\n",
    "    nodes of larger list.\n",
    "   ### O(max(m,n))"
   ]
  },
  {
   "cell_type": "markdown",
   "metadata": {},
   "source": [
    "# Approach 3: "
   ]
  },
  {
   "cell_type": "raw",
   "metadata": {},
   "source": [
    "1. Use two stacks.s1 and s2\n",
    "2. Traverse the first linked list and store node addresses in s1.\n",
    "3. Traverse the second linked list and store node addresses in s2.\n",
    "Node1 --> Node2 --> Node3 --> Node4\n",
    "                                    --> Node8 --> Node9 --> None\n",
    "          Node5 --> Node6 --> Node7\n",
    "4. Upper portion of two stacks remains same since tail end of two linked lists remains same. Node8 and Node9\n",
    "addresses in both s1 and s2 remains same.\n",
    "5. Pop one element at once in s1 and s2 and check if they are same. \n",
    "6. If they are same, pop one more element.\n",
    "7. If they are not same return previous element when they were same. This previous element is the Node where\n",
    "two single linked lists merge.\n",
    "8. refer screenshot for image.\n"
   ]
  },
  {
   "cell_type": "markdown",
   "metadata": {},
   "source": [
    "# Complexity\n",
    "# Time :\n",
    "    If there are m nodes in first list and n nodes in second list. we traverse both and insert node addresses in stack.insertion takes O(1). O(m)+O(n)\n",
    "    Now we pop both stacks till we encounter different elements. In worst case we pop all elements of smaller\n",
    "    list. O(min(m,n)). pop takes O(1).\n",
    "    so total is O(m)+O(n)+O(min(m,n))\n",
    "### O(max(m,n))\n",
    "\n",
    "# Space:\n",
    "    we have two stacks of O(m) and O(n). so total is O(max(m,n))\n",
    "### O(max(m,n))"
   ]
  },
  {
   "cell_type": "markdown",
   "metadata": {},
   "source": [
    "# Approach 4"
   ]
  },
  {
   "cell_type": "markdown",
   "metadata": {},
   "source": [
    "1. Traverse first linked list and count the number of nodes in it. (L1)\n",
    "2. Traverse second linked list and count the number of nodes in it. (L2)\n",
    "3. Find the difference.(d) abs(L1-L2).\n",
    "4. Initialize two pointers p and q at heads of linked lists.\n",
    "5. Move bigger list pointer by d nodes.\n",
    "6. Now both the list pointers are equidistant from the merging/intersect node.\n",
    "7. Now Increment both pointers p and q one node each and check if they are equal or not.\n",
    "8. If they are equal return that node. That node is merge/intersect node.\n",
    "9. For graphical view, see screenshot."
   ]
  },
  {
   "cell_type": "markdown",
   "metadata": {},
   "source": [
    "# Complexity:\n",
    "# Time:\n",
    "        If first list has m nodes and second list has n nodes. We are traversing both the lists to count number \n",
    "        of nodes. O(m) + O(n). Now in the worst case we need to traverse the bigger list again to \n",
    "        find the intersection node. so O(max(m,n))\n",
    "### O(max(m,n))\n",
    "\n",
    "# Space:\n",
    "    No extra space is needed\n",
    "### O(1)\n",
    "        This algorithm is better than above mentioned approaches."
   ]
  },
  {
   "cell_type": "markdown",
   "metadata": {},
   "source": [
    "# Approach 5"
   ]
  },
  {
   "cell_type": "markdown",
   "metadata": {},
   "source": [
    "1. Take the last node and make its link/next pointer point to head of one of the lists.\n",
    "2. Now a loop is formed.\n",
    "3. Take the head of the other list and follow the approach to find the start node of the loop.\n",
    "4. Start node of the loop becomes merge/intersect node of two single linked lists.\n",
    "   Start node of the loop can be found as below.\n",
    "5. Initialize fast and slow ptr to head of the other list.\n",
    "6. Increment fast ptr by two nodes and slow ptr by one node.\n",
    "7. If two pointers meet, then we have a loop. \n",
    "8. Now move slow ptr to beginning of list.\n",
    "9. From now, move slow ptr and fast ptr both by one node.\n",
    "10. They meet at start node of loop."
   ]
  },
  {
   "cell_type": "markdown",
   "metadata": {},
   "source": [
    "# Complexity:\n",
    "# Time :\n",
    "    To form loop we have to iterate one of the lists completely and make last node point to first node.To find start node of loop, we iterate all the nodes in both lists. Given n is total number of nodes in both the lists, time complexity is O(n)\n",
    "### O(n)\n",
    "# Space:\n",
    "    No extra space is needed.\n",
    "### O(1)"
   ]
  },
  {
   "cell_type": "markdown",
   "metadata": {},
   "source": [
    "# Implementation"
   ]
  },
  {
   "cell_type": "markdown",
   "metadata": {},
   "source": [
    "## Linked List Creation"
   ]
  },
  {
   "cell_type": "code",
   "execution_count": 15,
   "metadata": {},
   "outputs": [],
   "source": [
    "class Node:\n",
    "    def __init__(self,data):\n",
    "        self.data = data\n",
    "        self.next = None\n",
    "    \n",
    "    @staticmethod\n",
    "    def createSampleLinkedList():\n",
    "        head = Node(7)\n",
    "        a = Node(6)\n",
    "        b = Node(3)\n",
    "        c = Node(4)\n",
    "        d = Node(8)\n",
    "#          e = Node(1)\n",
    "        head.next = a\n",
    "        a.next = b\n",
    "        b.next = c\n",
    "        c.next = d\n",
    "#         d.next = e\n",
    "        return head\n",
    "\n",
    "    @staticmethod\n",
    "    def createSampleLinkedListWithLoop():\n",
    "        head = Node(7)\n",
    "        a = Node(6)\n",
    "        b = Node(3)\n",
    "        c = Node(4)\n",
    "        d = Node(8)\n",
    "        e = Node(1)\n",
    "        head.next = a\n",
    "        a.next = b\n",
    "        b.next = c\n",
    "        c.next = d\n",
    "        d.next = e\n",
    "        e.next = c\n",
    "        return head\n",
    "    \n",
    "    @staticmethod\n",
    "    def create2LinkedListsThatMerge():\n",
    "        head = Node(7)\n",
    "        a = Node(6)\n",
    "        b = Node(3)\n",
    "        c = Node(4)\n",
    "        d = Node(8)\n",
    "        e = Node(1)\n",
    "        f = Node(9)\n",
    "        g = Node(5)\n",
    "        head.next = a\n",
    "        a.next = b\n",
    "        b.next = c\n",
    "        c.next = d\n",
    "        d.next = e\n",
    "        f.next = g\n",
    "        g.next = c\n",
    "        return head,f\n",
    "    \n",
    "    @staticmethod\n",
    "    def create2LinkedListsThatMerge2():\n",
    "        head = Node(7)\n",
    "        a = Node(6)\n",
    "        b = Node(3)\n",
    "        c = Node(4)\n",
    "        d = Node(8)\n",
    "        e = Node(1)\n",
    "        f = Node(9)\n",
    "        g = Node(5)\n",
    "        head.next = a\n",
    "        a.next = b\n",
    "        b.next = c\n",
    "        c.next = d\n",
    "        d.next = e\n",
    "        f.next = g\n",
    "        g.next = b\n",
    "        return head,f\n",
    "\n",
    "    @staticmethod\n",
    "    def createEmptyNode(value):\n",
    "        newnode = Node(value)\n",
    "        return newnode"
   ]
  },
  {
   "cell_type": "code",
   "execution_count": 5,
   "metadata": {},
   "outputs": [],
   "source": [
    "def traverseSingleLinkedList(a):\n",
    "    temp = a\n",
    "    while(temp):\n",
    "        print(temp.data)\n",
    "        temp = temp.next"
   ]
  },
  {
   "cell_type": "code",
   "execution_count": 13,
   "metadata": {},
   "outputs": [],
   "source": [
    "def countNodes(head):\n",
    "    count = 0\n",
    "    while(head.next!=None):\n",
    "        head = head.next\n",
    "        count+=1\n",
    "    return count\n",
    "    \n",
    "def getIntersectNode(d,head1,head2):\n",
    "    for i in range(d):\n",
    "        if (not head1):\n",
    "            return -1\n",
    "        head1 = head1.next\n",
    "    while(head1 and head2):\n",
    "        if head1 == head2:\n",
    "            return head1.data\n",
    "        head1 = head1.next\n",
    "        head2 = head2.next\n",
    "    return -1\n",
    "    \n",
    "    \n",
    "def findMergeNode(head1,head2):\n",
    "    h1 = head1\n",
    "    h2 = head2\n",
    "    L1 = countNodes(head1)\n",
    "    L2 = countNodes(head2)\n",
    "    d = abs(L1-L2)\n",
    "    if L1 > L2:\n",
    "        return getIntersectNode(d,head1,head2)\n",
    "    else:\n",
    "        return getIntersectNode(d,head2,head1)"
   ]
  },
  {
   "cell_type": "markdown",
   "metadata": {},
   "source": [
    "# Test"
   ]
  },
  {
   "cell_type": "code",
   "execution_count": 14,
   "metadata": {},
   "outputs": [
    {
     "name": "stdout",
     "output_type": "stream",
     "text": [
      "***************first list*******************\n",
      "7\n",
      "6\n",
      "3\n",
      "4\n",
      "8\n",
      "1\n",
      "***************second list******************\n",
      "9\n",
      "5\n",
      "4\n",
      "8\n",
      "1\n",
      "***************Merge Node*******************\n"
     ]
    },
    {
     "data": {
      "text/plain": [
       "4"
      ]
     },
     "execution_count": 14,
     "metadata": {},
     "output_type": "execute_result"
    }
   ],
   "source": [
    "head1,head2 = Node.create2LinkedListsThatMerge()\n",
    "print(\"***************first list*******************\")\n",
    "traverseSingleLinkedList(head1)\n",
    "print(\"***************second list******************\")\n",
    "traverseSingleLinkedList(head2)\n",
    "print(\"***************Merge Node*******************\")\n",
    "findMergeNode(head1,head2)\n",
    "# ans 4"
   ]
  },
  {
   "cell_type": "code",
   "execution_count": 16,
   "metadata": {},
   "outputs": [
    {
     "name": "stdout",
     "output_type": "stream",
     "text": [
      "***************first list*******************\n",
      "7\n",
      "6\n",
      "3\n",
      "4\n",
      "8\n",
      "1\n",
      "***************second list******************\n",
      "9\n",
      "5\n",
      "3\n",
      "4\n",
      "8\n",
      "1\n",
      "***************Merge Node*******************\n"
     ]
    },
    {
     "data": {
      "text/plain": [
       "3"
      ]
     },
     "execution_count": 16,
     "metadata": {},
     "output_type": "execute_result"
    }
   ],
   "source": [
    "head1,head2 = Node.create2LinkedListsThatMerge2()\n",
    "print(\"***************first list*******************\")\n",
    "traverseSingleLinkedList(head1)\n",
    "print(\"***************second list******************\")\n",
    "traverseSingleLinkedList(head2)\n",
    "print(\"***************Merge Node*******************\")\n",
    "findMergeNode(head1,head2)\n",
    "# ans 3"
   ]
  },
  {
   "cell_type": "code",
   "execution_count": null,
   "metadata": {},
   "outputs": [],
   "source": []
  }
 ],
 "metadata": {
  "kernelspec": {
   "display_name": "Python 3",
   "language": "python",
   "name": "python3"
  },
  "language_info": {
   "codemirror_mode": {
    "name": "ipython",
    "version": 3
   },
   "file_extension": ".py",
   "mimetype": "text/x-python",
   "name": "python",
   "nbconvert_exporter": "python",
   "pygments_lexer": "ipython3",
   "version": "3.5.2"
  }
 },
 "nbformat": 4,
 "nbformat_minor": 2
}
