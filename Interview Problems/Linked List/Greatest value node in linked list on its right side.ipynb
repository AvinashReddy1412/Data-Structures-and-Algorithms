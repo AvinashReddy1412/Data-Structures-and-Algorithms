{
 "cells": [
  {
   "cell_type": "markdown",
   "metadata": {},
   "source": [
    "# Understanding the problem statement"
   ]
  },
  {
   "cell_type": "raw",
   "metadata": {},
   "source": [
    "Consider a single linked list with each node having an arbitrary pointer with initial value NULL. Give an algorithm\n",
    "to make the arbitrary pointer point to the greatest value node in a linked list on its right side\n",
    "\n",
    "Input :         Node5 --> Node3 --> Node10 --> Node1 --> None\n",
    "                  |         |         |          |    \n",
    "arbitrary:      None      None      None       None\n",
    "    \n",
    "Output:         Node5 --> Node3 --> Node10 --> Node1 --> None\n",
    "                  |         |         |          |    \n",
    "arbitrary:      Node10    Node10    Node1      None\n",
    "\n",
    "    Point arbitrary/random pointer to greatest node on its right side"
   ]
  },
  {
   "cell_type": "markdown",
   "metadata": {},
   "source": [
    "# Algorithm"
   ]
  },
  {
   "cell_type": "markdown",
   "metadata": {},
   "source": [
    "# Approach 1"
   ]
  },
  {
   "cell_type": "markdown",
   "metadata": {},
   "source": [
    "1. Take first node, traverse all the nodes on its right and identify max node on the right and point the random\n",
    "    pointer to max node. (n-1) comparisons.\n",
    "2. For second node,repeat same process and we get (n-2) comparisons.\n",
    "3. Total comparisons will be (n-1)+(n-2)+(n-3)....1 = n(n-1)/2 [sum of first n-1 natural numbers]"
   ]
  },
  {
   "cell_type": "markdown",
   "metadata": {},
   "source": [
    "# Complexity :\n",
    "# Time : O(n^2)\n",
    "    since n(n-1)/2 comparisons.\n",
    "# Space : O(1)\n",
    "    No extra space is used."
   ]
  },
  {
   "cell_type": "markdown",
   "metadata": {},
   "source": [
    "# Approach 2"
   ]
  },
  {
   "cell_type": "markdown",
   "metadata": {},
   "source": [
    "1. This approach is based on logic -- Max node on its right will be Max node seen so far on its left after reversal.\n",
    "2. Reverse the linked list --> O(n)\n",
    "3. Traverse the list by maintaining the max element seen so far --> O(n)\n",
    "4. Reverse --> O(n)"
   ]
  },
  {
   "cell_type": "markdown",
   "metadata": {},
   "source": [
    "# Complexity :\n",
    "# Time : O(n)\n",
    "\n",
    "# Space : O(1)\n",
    "    No extra space is used."
   ]
  },
  {
   "cell_type": "markdown",
   "metadata": {},
   "source": [
    "# Implementation"
   ]
  },
  {
   "cell_type": "markdown",
   "metadata": {},
   "source": [
    "### Linked List Creation"
   ]
  },
  {
   "cell_type": "code",
   "execution_count": 26,
   "metadata": {},
   "outputs": [],
   "source": [
    "class Node:\n",
    "    def __init__(self,data):\n",
    "        self.data = data\n",
    "        self.next = None\n",
    "        self.random = None\n",
    "    \n",
    "    @staticmethod\n",
    "    def createSampleLinkedListWithNextAndRandom(): # create linked list with random pointer as None\n",
    "        head = Node(7)\n",
    "        a = Node(9)\n",
    "        b = Node(3)\n",
    "        c = Node(6)\n",
    "        d = Node(4)\n",
    "        head.next = a \n",
    "        a.next = b\n",
    "        b.next = c\n",
    "        c.next = d\n",
    "        return head\n",
    "\n",
    "    @staticmethod\n",
    "    def createEmptyNode(value):\n",
    "        newnode = Node(value)\n",
    "        return newnode"
   ]
  },
  {
   "cell_type": "code",
   "execution_count": 27,
   "metadata": {},
   "outputs": [],
   "source": [
    "def traverseSingleLinkedList(a):\n",
    "    temp = a\n",
    "    while(temp):\n",
    "        print(temp.data)\n",
    "        temp = temp.next\n",
    "        \n",
    "def printSingleLinkedListRandomPointers(a):\n",
    "    temp = a\n",
    "    while(temp.random):\n",
    "        print(temp.random.data)\n",
    "        temp = temp.next"
   ]
  },
  {
   "cell_type": "code",
   "execution_count": 28,
   "metadata": {},
   "outputs": [],
   "source": [
    "def reverseLinkedList(curr_node):\n",
    "    prev_node = None\n",
    "    next_node = None\n",
    "    while(curr_node):\n",
    "        next_node = curr_node.next\n",
    "        curr_node.next = prev_node\n",
    "        prev_node = curr_node\n",
    "        curr_node = next_node\n",
    "    return prev_node"
   ]
  },
  {
   "cell_type": "code",
   "execution_count": 29,
   "metadata": {},
   "outputs": [],
   "source": [
    "def setRandomToGreatest(head):\n",
    "    head = reverseLinkedList(head)\n",
    "    temp = head.next\n",
    "    maxnode = head\n",
    "    while(temp):\n",
    "        temp.random = maxnode\n",
    "        if maxnode.data < temp.data:\n",
    "            maxnode = temp\n",
    "        temp = temp.next\n",
    "    head = reverseLinkedList(head)\n",
    "    return head"
   ]
  },
  {
   "cell_type": "markdown",
   "metadata": {},
   "source": [
    "# Test"
   ]
  },
  {
   "cell_type": "code",
   "execution_count": 30,
   "metadata": {},
   "outputs": [
    {
     "name": "stdout",
     "output_type": "stream",
     "text": [
      "****************************  Linked list ******************************************************\n",
      "7\n",
      "9\n",
      "3\n",
      "6\n",
      "4\n",
      "********  Linked list random pointers after setting them to greatest nodes on right *************\n",
      "9\n",
      "6\n",
      "6\n",
      "4\n",
      "****** check whether random pointers are highest by comparing with original linked list *********\n"
     ]
    }
   ],
   "source": [
    "head = Node.createSampleLinkedListWithNextAndRandom()\n",
    "print(\"****************************  Linked list ******************************************************\")\n",
    "traverseSingleLinkedList(head)\n",
    "head = setRandomToGreatest(head)\n",
    "print(\"********  Linked list random pointers after setting them to greatest nodes on right *************\")\n",
    "printSingleLinkedListRandomPointers(head)\n",
    "print(\"****** check whether random pointers are highest by comparing with original linked list *********\")"
   ]
  },
  {
   "cell_type": "code",
   "execution_count": null,
   "metadata": {},
   "outputs": [],
   "source": []
  }
 ],
 "metadata": {
  "kernelspec": {
   "display_name": "Python 3",
   "language": "python",
   "name": "python3"
  },
  "language_info": {
   "codemirror_mode": {
    "name": "ipython",
    "version": 3
   },
   "file_extension": ".py",
   "mimetype": "text/x-python",
   "name": "python",
   "nbconvert_exporter": "python",
   "pygments_lexer": "ipython3",
   "version": "3.5.2"
  }
 },
 "nbformat": 4,
 "nbformat_minor": 2
}
