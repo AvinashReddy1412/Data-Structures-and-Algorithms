{
 "cells": [
  {
   "cell_type": "markdown",
   "metadata": {},
   "source": [
    "# Understanding the problem statement"
   ]
  },
  {
   "cell_type": "raw",
   "metadata": {},
   "source": [
    "Each node of a linked list consists of data,next pointer and also a random pointer which points to a random node \n",
    "in the list. We have to clone the linked list.\n",
    "\n",
    "Input :  Node1 --> Node2 --> Node3 --> Node4 --> None\n",
    "          |          |         |         |\n",
    "random    |          |         |         |  \n",
    "pointer  Node3     Node1     Node4     Node2"
   ]
  },
  {
   "cell_type": "markdown",
   "metadata": {},
   "source": [
    "# Application :\n",
    "    In creation of snake and ladder game. Random pointer is used for either snake or ladder. If there is no \n",
    "    snake or ladder then we use next pointer to move forward. If there is snake or ladder we use random pointer \n",
    "    to either jump backward or forward."
   ]
  },
  {
   "cell_type": "markdown",
   "metadata": {},
   "source": [
    "# Algorithm"
   ]
  },
  {
   "cell_type": "markdown",
   "metadata": {},
   "source": [
    "# Approach 1"
   ]
  },
  {
   "cell_type": "markdown",
   "metadata": {},
   "source": [
    "1. Traverse the given linked list and create copies of nodes and connect them to next nodes. O(n)\n",
    "2. Now we have nodes with data and next pointers cloned.\n",
    "3. To clone random pointers, we traverse original linked list and see first node is connected to which node?\n",
    "   we note down the data present in the random node. Now we traverse the cloned list O(n) and connect the first    \n",
    "   node to the node which has that particular data. Similarly for each node in the original linked list (n) we \n",
    "   we see the random node, note down the data , now traverse the cloned list O(n) and connect corresponding node to\n",
    "   random node which has that particular data. [n*O(n)]\n",
    "   \n",
    "NOTE: This method is based on data in nodes. This does not work if there are duplicates in linked list.\n",
    "    "
   ]
  },
  {
   "cell_type": "markdown",
   "metadata": {},
   "source": [
    "# Time Complexity : O(n^2)\n",
    "    For each node in original list we traverse the cloned list to connect random pointer. [n*O(n)]\n",
    "# Space Complexity : O(1)\n",
    "    No extra space is used. cloned list is not intermediate space. we store the output it. so its not counted"
   ]
  },
  {
   "cell_type": "markdown",
   "metadata": {},
   "source": [
    "# Approach 2"
   ]
  },
  {
   "cell_type": "markdown",
   "metadata": {},
   "source": [
    "1. Use Hash Table.\n",
    "2. Traverse the original linked list and create copies of nodes and connect them to next nodes. O(n)\n",
    "3. While traversing, store addresses of nodes in original linked list and their corresponding nodes in cloned list\n",
    "   in Hash table.\n",
    "4. Now traverse the cloned list, Use hash table to get random pointers of cloned list and connect them. O(n)\n",
    "5. Refer screenshot for image.\n",
    "6. We Assume insertion and search in Hash Table takes O(1). If collision occurs it may increase."
   ]
  },
  {
   "cell_type": "markdown",
   "metadata": {},
   "source": [
    "# Time Complexity : O(n)\n",
    "   Traverse original list once and insert in Hash Table. O(n). \n",
    "   Traverse cloned list once and search in Hash Table to get random pointers. O(n)\n",
    "   O(n)+O(n) = O(n)\n",
    "# Space Complexity : O(n)\n",
    "    Hash table is used."
   ]
  },
  {
   "cell_type": "markdown",
   "metadata": {},
   "source": [
    "# Approach 3"
   ]
  },
  {
   "cell_type": "markdown",
   "metadata": {},
   "source": [
    "1. Traverse the original linked list.\n",
    "2. For each node in original linked list, create a node in cloned list, point next pointer of orginal node \n",
    "to node in cloned list,and point random pointer of cloned node to node in original linked list.This way we can traverse from original to\n",
    "cloned and cloned to original. And point next pointers of cloned list to next nodes.\n",
    "3.Before pointing next pointer of orginal node to node in cloned list,store address of next node in temp to keep\n",
    "track of further nodes in original linked list.\n",
    "Refer screenshot for clear picture. \n",
    "3. Do this for all nodes in original linked list.\n",
    "4. Now traverse the cloned list, and for each node perform the below step to connect random pointers\n",
    "5. From random pointer of cloned node, we can get corresponding node in original linked list, from there go to\n",
    "random node and then identify random node in cloned list. point random pointer to this identified random node\n",
    "in cloned list.\n",
    "6. Disadvantage with this method is it destroys the original linked list beyond repair."
   ]
  },
  {
   "cell_type": "markdown",
   "metadata": {},
   "source": [
    "# Time Complexity : O(n)\n",
    "   Traverse original list once. O(n). \n",
    "   Traverse cloned list once to get random pointers. O(n)\n",
    "   O(n)+O(n) = O(n)\n",
    "# Space Complexity : O(1)"
   ]
  },
  {
   "cell_type": "markdown",
   "metadata": {},
   "source": [
    "# Approach 4"
   ]
  },
  {
   "cell_type": "markdown",
   "metadata": {},
   "source": [
    "1. Traverse priginal linked list,clone each node and insert between original nodes in such a way that clone\n",
    "node is immediatelt after original node.\n",
    "2. Now a single list is formed which have both original nodes and clone nodes one after other.\n",
    "3. Now connect random pointers of clone nodes by iterating over original nodes in single list using\n",
    "    q.random = p.random.next.\n",
    "    p is at original node and q is at clone node\n",
    "4. Now separate single list by alternate split into original list and clone list\n",
    "5. Refer screenshot for doubts"
   ]
  },
  {
   "cell_type": "markdown",
   "metadata": {},
   "source": [
    "# Time Complexity : O(n)\n",
    "   Traverse original list once while cloning. O(n). \n",
    "   Traverse original list once to get random pointers. O(n)\n",
    "   Traverse complete list to split alternatively. O(n)\n",
    "   O(n)+O(n)+O(n) = O(n)\n",
    "# Space Complexity : O(1)"
   ]
  },
  {
   "cell_type": "markdown",
   "metadata": {},
   "source": [
    "# Implementation"
   ]
  },
  {
   "cell_type": "markdown",
   "metadata": {},
   "source": [
    "### Linked List Creation"
   ]
  },
  {
   "cell_type": "code",
   "execution_count": 4,
   "metadata": {},
   "outputs": [],
   "source": [
    "class Node:\n",
    "    def __init__(self,data):\n",
    "        self.data = data\n",
    "        self.next = None\n",
    "        self.random = None\n",
    "    \n",
    "    @staticmethod\n",
    "    def createSampleLinkedListWithNextAndRandom():\n",
    "        head = Node(7)\n",
    "        a = Node(6)\n",
    "        b = Node(3)\n",
    "        c = Node(4)\n",
    "        d = Node(8)\n",
    "        head.next = a\n",
    "        head.random = c \n",
    "        a.next = b\n",
    "        a.random = d\n",
    "        b.next = c\n",
    "        b.random = a\n",
    "        c.next = d\n",
    "        c.random = b\n",
    "        d.random = head\n",
    "        return head\n",
    "\n",
    "    @staticmethod\n",
    "    def createEmptyNode(value):\n",
    "        newnode = Node(value)\n",
    "        return newnode"
   ]
  },
  {
   "cell_type": "code",
   "execution_count": 5,
   "metadata": {},
   "outputs": [],
   "source": [
    "def traverseSingleLinkedList(a):\n",
    "    temp = a\n",
    "    while(temp):\n",
    "        print(temp.data)\n",
    "        temp = temp.next\n",
    "        \n",
    "def printSingleLinkedListRandomPointers(a):\n",
    "    temp = a\n",
    "    while(temp):\n",
    "        print(temp.random.data)\n",
    "        temp = temp.next"
   ]
  },
  {
   "cell_type": "code",
   "execution_count": 9,
   "metadata": {},
   "outputs": [],
   "source": [
    "def splitAlternate(head):\n",
    "    h1 = head\n",
    "    h2 = None\n",
    "    if head==None or head.next==None:\n",
    "        print(\"cannot split\")\n",
    "        return h1,h2\n",
    "    h2 = head.next\n",
    "    p = head\n",
    "    while(p):\n",
    "        temp = p.next\n",
    "        if temp:\n",
    "            p.next = temp.next\n",
    "        else:\n",
    "            p.next = temp\n",
    "        p = temp\n",
    "    return h1,h2\n",
    "    \n",
    "def setRandomPointers(head):\n",
    "    curr_node = head\n",
    "    while(curr_node):\n",
    "        curr_node.next.random = curr_node.random.next\n",
    "        curr_node = curr_node.next.next\n",
    "    return head\n",
    "\n",
    "def cloneLinkedList(head):\n",
    "    temp = head\n",
    "    while(temp):\n",
    "        newnode = Node.createEmptyNode(temp.data)\n",
    "        newnode.next = temp.next\n",
    "        temp.next = newnode\n",
    "        temp = newnode.next\n",
    "    head = setRandomPointers(head)\n",
    "    _,head2 = splitAlternate(head)\n",
    "    return head2"
   ]
  },
  {
   "cell_type": "markdown",
   "metadata": {},
   "source": [
    "# Test"
   ]
  },
  {
   "cell_type": "code",
   "execution_count": 13,
   "metadata": {},
   "outputs": [
    {
     "name": "stdout",
     "output_type": "stream",
     "text": [
      "********* original linked list data in sequence ***********************\n",
      "7\n",
      "6\n",
      "3\n",
      "4\n",
      "8\n",
      "********* original linked list random pointers in sequence ************\n",
      "4\n",
      "8\n",
      "6\n",
      "3\n",
      "7\n",
      "*********** cloned linked list data in sequence ***********************\n",
      "7\n",
      "6\n",
      "3\n",
      "4\n",
      "8\n",
      "*********** cloned linked list random pointers in sequence ************\n",
      "4\n",
      "8\n",
      "6\n",
      "3\n",
      "7\n",
      "*********** check if both lists are same ******************************\n",
      "False\n"
     ]
    }
   ],
   "source": [
    "head = Node.createSampleLinkedListWithNextAndRandom()\n",
    "print(\"********* original linked list data in sequence ***********************\")\n",
    "traverseSingleLinkedList(head)\n",
    "print(\"********* original linked list random pointers in sequence ************\")\n",
    "printSingleLinkedListRandomPointers(head)\n",
    "# get cloned list\n",
    "cloned_head = cloneLinkedList(head)\n",
    "print(\"*********** cloned linked list data in sequence ***********************\")\n",
    "traverseSingleLinkedList(cloned_head)\n",
    "print(\"*********** cloned linked list random pointers in sequence ************\")\n",
    "printSingleLinkedListRandomPointers(cloned_head)\n",
    "print(\"*********** check if both lists are same ******************************\")\n",
    "print(head == cloned_head)\n",
    "# print(head == head)"
   ]
  },
  {
   "cell_type": "code",
   "execution_count": null,
   "metadata": {},
   "outputs": [],
   "source": []
  }
 ],
 "metadata": {
  "kernelspec": {
   "display_name": "Python 3",
   "language": "python",
   "name": "python3"
  },
  "language_info": {
   "codemirror_mode": {
    "name": "ipython",
    "version": 3
   },
   "file_extension": ".py",
   "mimetype": "text/x-python",
   "name": "python",
   "nbconvert_exporter": "python",
   "pygments_lexer": "ipython3",
   "version": "3.5.2"
  }
 },
 "nbformat": 4,
 "nbformat_minor": 2
}
