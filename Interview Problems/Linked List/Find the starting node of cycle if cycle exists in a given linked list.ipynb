{
 "cells": [
  {
   "cell_type": "markdown",
   "metadata": {},
   "source": [
    "# Understanding the problem statement"
   ]
  },
  {
   "cell_type": "markdown",
   "metadata": {},
   "source": [
    "A Linked list is said to have a loop if one of the nodes is again connected back to already visited node.\n",
    "\n",
    "Node 1 --> Node 2 --> Node 3 --> Node 4 --> Node2(same node2)\n",
    "\n",
    "If we traverse a linked list having loop, then we will enter to infinite loop.\n",
    "While performing operations on linked list we may unintentionally create a loop in linked list.\n",
    "So we have to test for loop occasionally or in testing phase before we deploy in production.\n",
    "\n",
    "In the above example we have a loop and start node in the loop is Node2.\n",
    "\n",
    "output: Node2"
   ]
  },
  {
   "cell_type": "markdown",
   "metadata": {},
   "source": [
    "# Algorithm "
   ]
  },
  {
   "cell_type": "markdown",
   "metadata": {},
   "source": [
    "1. Take two pointers.fast ptr and slow ptr. Initialize them to head.\n",
    "2. Move fast ptr by two nodes and slow ptr by one node\n",
    "3. If both of them meet before fast ptr reaches end then cycle is present.\n",
    "4. If cycle is present and both of them meet at y from start node of loop.\n",
    "5. Then move one pointer to beginning.\n",
    "6. Now one pointer is at beginning and other pointer is at y from start node of loop or (x+y) from beginning.\n",
    "7. Now move both the pointers one node at a time.\n",
    "8. They meet at start node of the loop.\n",
    "9. Return meeting point or start node.\n",
    "\n",
    "NOTE: How this algorithm works? check reference screenshot"
   ]
  },
  {
   "cell_type": "markdown",
   "metadata": {},
   "source": [
    "# Complexity\n",
    "# Time : O(n)\n",
    "# Space : O(1)"
   ]
  },
  {
   "cell_type": "markdown",
   "metadata": {},
   "source": [
    "# Implementation"
   ]
  },
  {
   "cell_type": "markdown",
   "metadata": {},
   "source": [
    "### Linked List Creation"
   ]
  },
  {
   "cell_type": "code",
   "execution_count": 9,
   "metadata": {},
   "outputs": [],
   "source": [
    "class Node:\n",
    "    def __init__(self,data):\n",
    "        self.data = data\n",
    "        self.next = None\n",
    "    \n",
    "    @staticmethod\n",
    "    def createSampleLinkedList():\n",
    "        head = Node(7)\n",
    "        a = Node(6)\n",
    "        b = Node(3)\n",
    "        c = Node(4)\n",
    "        d = Node(8)\n",
    "#          e = Node(1)\n",
    "        head.next = a\n",
    "        a.next = b\n",
    "        b.next = c\n",
    "        c.next = d\n",
    "#         d.next = e\n",
    "        return head\n",
    "\n",
    "    @staticmethod\n",
    "    def createSampleLinkedListWithLoop():\n",
    "        head = Node(7)\n",
    "        a = Node(6)\n",
    "        b = Node(3)\n",
    "        c = Node(4)\n",
    "        d = Node(8)\n",
    "#         e = Node(1)\n",
    "        head.next = a\n",
    "        a.next = b\n",
    "        b.next = c\n",
    "        c.next = d\n",
    "        d.next = b\n",
    "#         d.next = e\n",
    "#         e.next = c\n",
    "        return head\n",
    "\n",
    "    @staticmethod\n",
    "    def createEmptyNode(value):\n",
    "        newnode = Node(value)\n",
    "        return newnode"
   ]
  },
  {
   "cell_type": "code",
   "execution_count": 3,
   "metadata": {},
   "outputs": [],
   "source": [
    "def traverseSingleLinkedList(a):\n",
    "    temp = a\n",
    "    while(temp):\n",
    "        print(temp.data)\n",
    "        temp = temp.next"
   ]
  },
  {
   "cell_type": "code",
   "execution_count": 4,
   "metadata": {},
   "outputs": [],
   "source": [
    "def checkLoop(head):\n",
    "    fast_ptr = head\n",
    "    slow_ptr = head\n",
    "    while(fast_ptr and fast_ptr.next and slow_ptr): # checking slow_ptr is optional\n",
    "        fast_ptr = fast_ptr.next.next\n",
    "        slow_ptr = slow_ptr.next\n",
    "        if fast_ptr == slow_ptr:\n",
    "            print(\"Loop Exists\")\n",
    "            return 1,fast_ptr\n",
    "    print(\"Loop Does Not Exist\")\n",
    "    return 0,fast_ptr\n",
    "\n",
    "\n",
    "def findLoopStartNode(head):\n",
    "    is_loop_present,fast_ptr = checkLoop(head)\n",
    "    if is_loop_present:\n",
    "        slow_ptr = head\n",
    "        while(slow_ptr != fast_ptr):\n",
    "            slow_ptr = slow_ptr.next\n",
    "            fast_ptr = fast_ptr.next\n",
    "        print(\"Start Node {0}\".format(slow_ptr.data))\n"
   ]
  },
  {
   "cell_type": "markdown",
   "metadata": {},
   "source": [
    "# Test"
   ]
  },
  {
   "cell_type": "code",
   "execution_count": 6,
   "metadata": {},
   "outputs": [
    {
     "name": "stdout",
     "output_type": "stream",
     "text": [
      "7\n",
      "6\n",
      "3\n",
      "4\n",
      "8\n",
      "Loop Does Not Exist\n"
     ]
    }
   ],
   "source": [
    "head = Node.createSampleLinkedList()\n",
    "traverseSingleLinkedList(head)\n",
    "findLoopStartNode(head)\n",
    "# ans \n",
    "# Loop Does Not Exist"
   ]
  },
  {
   "cell_type": "code",
   "execution_count": 10,
   "metadata": {},
   "outputs": [
    {
     "name": "stdout",
     "output_type": "stream",
     "text": [
      "Loop Exists\n",
      "Start Node 3\n"
     ]
    }
   ],
   "source": [
    "head = Node.createSampleLinkedListWithLoop() # create even nodes and test\n",
    "# traverseSingleLinkedList(head) # Do not traverse linkedlist with loop, enters infinite loop\n",
    "findLoopStartNode(head)\n",
    "# ans \n",
    "# Loop Exists\n",
    "# Start Node 3"
   ]
  },
  {
   "cell_type": "code",
   "execution_count": 8,
   "metadata": {},
   "outputs": [
    {
     "name": "stdout",
     "output_type": "stream",
     "text": [
      "Loop Exists\n",
      "Start Node 4\n"
     ]
    }
   ],
   "source": [
    "head = Node.createSampleLinkedListWithLoop()\n",
    "# traverseSingleLinkedList(head) # Do not traverse linkedlist with loop, enters infinite loop\n",
    "findLoopStartNode(head)\n",
    "# ans \n",
    "# Loop Exists\n",
    "# Start Node 4"
   ]
  },
  {
   "cell_type": "code",
   "execution_count": null,
   "metadata": {},
   "outputs": [],
   "source": []
  }
 ],
 "metadata": {
  "kernelspec": {
   "display_name": "Python 3",
   "language": "python",
   "name": "python3"
  },
  "language_info": {
   "codemirror_mode": {
    "name": "ipython",
    "version": 3
   },
   "file_extension": ".py",
   "mimetype": "text/x-python",
   "name": "python",
   "nbconvert_exporter": "python",
   "pygments_lexer": "ipython3",
   "version": "3.5.2"
  }
 },
 "nbformat": 4,
 "nbformat_minor": 2
}
