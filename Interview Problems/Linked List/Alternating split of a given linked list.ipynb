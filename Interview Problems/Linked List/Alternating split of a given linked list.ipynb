{
 "cells": [
  {
   "cell_type": "markdown",
   "metadata": {},
   "source": [
    "# Understanding the problem statement"
   ]
  },
  {
   "cell_type": "markdown",
   "metadata": {},
   "source": [
    "We have a linked list and we need to separate even nodes and odd nodes.\n",
    "\n",
    "Input : Node1 --> Node2 --> Node3 --> Node4 --> Node5 --> None\n",
    "\n",
    "Output :\n",
    "    Node1 --> Node3 --> Node5 --> None\n",
    "    Node2 --> Node4 --> None\n",
    "    \n",
    "NOTE : Address of nodes should remain same. We have to operate on given linked list only. Cannot create new nodes\n",
    "    and append them to different linked lists."
   ]
  },
  {
   "cell_type": "raw",
   "metadata": {},
   "source": [
    "If condition was not given, we would have traversed the input linked list and based on count we\n",
    "could have appended node to two different linked lists.\n",
    "But condition is that address of nodes should remain same and we should operate on given linked list only\n",
    "\n",
    "if count == even:\n",
    "    ll1.addNode(key=)\n",
    "else:\n",
    "    ll2.addNode(key=)"
   ]
  },
  {
   "cell_type": "markdown",
   "metadata": {},
   "source": [
    "# Algorithm"
   ]
  },
  {
   "cell_type": "markdown",
   "metadata": {},
   "source": [
    "1. Assign head to h1\n",
    "2. Assign head.next to h2. Because when we separate linked lists we need pointers to heads of both lists to keep\n",
    "   track of them.\n",
    "3. Iterate through the nodes(p) and keep on assigning\n",
    "    p.next = p.next.next\n",
    "4. But when we do this step we will lose track of p.next, so assign p.next to temp."
   ]
  },
  {
   "cell_type": "markdown",
   "metadata": {},
   "source": [
    "# Complexity:\n",
    "# Time :\n",
    "    O(n) since we traverse entire linked list once\n",
    "# Space :\n",
    "    O(1)"
   ]
  },
  {
   "cell_type": "markdown",
   "metadata": {},
   "source": [
    "# Implementation"
   ]
  },
  {
   "cell_type": "markdown",
   "metadata": {},
   "source": [
    "### Linked List Creation"
   ]
  },
  {
   "cell_type": "code",
   "execution_count": 7,
   "metadata": {},
   "outputs": [],
   "source": [
    "class Node:\n",
    "    def __init__(self,data):\n",
    "        self.data = data\n",
    "        self.next = None\n",
    "    \n",
    "    @staticmethod\n",
    "    def createSampleLinkedList():\n",
    "        head = Node(7)\n",
    "        a = Node(6)\n",
    "        b = Node(3)\n",
    "        c = Node(4)\n",
    "        d = Node(8)\n",
    "#         e = Node(1)\n",
    "        head.next = a\n",
    "        a.next = b\n",
    "        b.next = c\n",
    "        c.next = d\n",
    "#         d.next = e\n",
    "        return head\n",
    "\n",
    "    @staticmethod\n",
    "    def createEmptyNode(value):\n",
    "        newnode = Node(value)\n",
    "        return newnode"
   ]
  },
  {
   "cell_type": "code",
   "execution_count": 4,
   "metadata": {},
   "outputs": [],
   "source": [
    "def traverseSingleLinkedList(a):\n",
    "    temp = a\n",
    "    while(temp):\n",
    "        print(temp.data)\n",
    "        temp = temp.next"
   ]
  },
  {
   "cell_type": "code",
   "execution_count": 5,
   "metadata": {},
   "outputs": [],
   "source": [
    "def splitAlternate(head):\n",
    "    h1 = head\n",
    "    h2 = None\n",
    "    if head==None or head.next==None:\n",
    "        print(\"cannot split\")\n",
    "        return h1,h2\n",
    "    h2 = head.next\n",
    "    p = head\n",
    "    while(p):\n",
    "        temp = p.next\n",
    "        if temp:\n",
    "            p.next = temp.next\n",
    "        else:\n",
    "            p.next = temp\n",
    "        p = temp\n",
    "    return h1,h2\n",
    "    "
   ]
  },
  {
   "cell_type": "code",
   "execution_count": 6,
   "metadata": {},
   "outputs": [
    {
     "name": "stdout",
     "output_type": "stream",
     "text": [
      "*************original list*************\n",
      "7\n",
      "6\n",
      "3\n",
      "4\n",
      "8\n",
      "*************after split***************\n",
      "**************list1********************\n",
      "7\n",
      "3\n",
      "8\n",
      "**************list2********************\n",
      "6\n",
      "4\n"
     ]
    }
   ],
   "source": [
    "head = Node.createSampleLinkedList() # create even nodes and test\n",
    "print(\"*************original list*************\")\n",
    "traverseSingleLinkedList(head)\n",
    "head1,head2 = splitAlternate(head)\n",
    "print(\"*************after split***************\")\n",
    "print(\"**************list1********************\")\n",
    "traverseSingleLinkedList(head1)\n",
    "print(\"**************list2********************\")\n",
    "traverseSingleLinkedList(head2)"
   ]
  },
  {
   "cell_type": "code",
   "execution_count": 8,
   "metadata": {},
   "outputs": [
    {
     "name": "stdout",
     "output_type": "stream",
     "text": [
      "*************original list*************\n",
      "7\n",
      "6\n",
      "3\n",
      "4\n",
      "8\n",
      "1\n",
      "*************after split***************\n",
      "**************list1********************\n",
      "7\n",
      "3\n",
      "8\n",
      "**************list2********************\n",
      "6\n",
      "4\n",
      "1\n"
     ]
    }
   ],
   "source": [
    "head = Node.createSampleLinkedList() # create even nodes and test\n",
    "print(\"*************original list*************\")\n",
    "traverseSingleLinkedList(head)\n",
    "head1,head2 = splitAlternate(head)\n",
    "print(\"*************after split***************\")\n",
    "print(\"**************list1********************\")\n",
    "traverseSingleLinkedList(head1)\n",
    "print(\"**************list2********************\")\n",
    "traverseSingleLinkedList(head2)"
   ]
  },
  {
   "cell_type": "code",
   "execution_count": null,
   "metadata": {},
   "outputs": [],
   "source": []
  }
 ],
 "metadata": {
  "kernelspec": {
   "display_name": "Python 3",
   "language": "python",
   "name": "python3"
  },
  "language_info": {
   "codemirror_mode": {
    "name": "ipython",
    "version": 3
   },
   "file_extension": ".py",
   "mimetype": "text/x-python",
   "name": "python",
   "nbconvert_exporter": "python",
   "pygments_lexer": "ipython3",
   "version": "3.5.2"
  }
 },
 "nbformat": 4,
 "nbformat_minor": 2
}
