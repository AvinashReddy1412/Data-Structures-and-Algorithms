{
 "cells": [
  {
   "cell_type": "markdown",
   "metadata": {},
   "source": [
    "# Understanding the problem statement"
   ]
  },
  {
   "cell_type": "raw",
   "metadata": {},
   "source": [
    "Number 95999 is represent in linked list like below and we have to add 1 to it\n",
    "\n",
    "Input :  9     -->    5    -->    9   -->   9   -->   9   --> None\n",
    "add   :                                           +   1\n",
    "carry :               1           1         1 \n",
    "Output:  9     -->    6    -->    0   -->   0   -->   0   --> None"
   ]
  },
  {
   "cell_type": "markdown",
   "metadata": {},
   "source": [
    "# Algorithm"
   ]
  },
  {
   "cell_type": "markdown",
   "metadata": {},
   "source": [
    "# Approach 1"
   ]
  },
  {
   "cell_type": "raw",
   "metadata": {},
   "source": [
    "1. Reverse the linked list, because we will be able to traverse forward.\n",
    "2. Initially carry is 1 and add 1 to head i.e carry is added to head.\n",
    "3. If sum is 10, then carry is 1 and set sum%10 to head.\n",
    "4. Add this carry to next node and again is sum is 10 carry is forwarded and sum%10 is set to current node.\n",
    "5. Repeat this process and if carry is still 1 at the end of linked list, add a new node at the end.\n",
    "6. At last reverse the linked list to get result."
   ]
  },
  {
   "cell_type": "markdown",
   "metadata": {},
   "source": [
    "# Implementation"
   ]
  },
  {
   "cell_type": "markdown",
   "metadata": {},
   "source": [
    "### Linked List Creation"
   ]
  },
  {
   "cell_type": "code",
   "execution_count": 1,
   "metadata": {},
   "outputs": [],
   "source": [
    "class Node:\n",
    "    def __init__(self,data):\n",
    "        self.data = data\n",
    "        self.next = None\n",
    "    \n",
    "    @staticmethod\n",
    "    def createSampleLinkedList():\n",
    "        head = Node(9)\n",
    "        a = Node(9)\n",
    "        b = Node(9)\n",
    "        c = Node(9)\n",
    "        d = Node(9)\n",
    "        head.next = a\n",
    "        a.next = b\n",
    "        b.next = c\n",
    "        c.next = d\n",
    "        return head\n",
    "\n",
    "    @staticmethod\n",
    "    def createEmptyNode(value):\n",
    "        newnode = Node(value)\n",
    "        return newnode"
   ]
  },
  {
   "cell_type": "code",
   "execution_count": 2,
   "metadata": {},
   "outputs": [],
   "source": [
    "def traverseSingleLinkedList(a):\n",
    "    temp = a\n",
    "    while(temp):\n",
    "        print(temp.data)\n",
    "        temp = temp.next"
   ]
  },
  {
   "cell_type": "code",
   "execution_count": 3,
   "metadata": {},
   "outputs": [],
   "source": [
    "def reverseList(curr_node):\n",
    "    prev_node = None\n",
    "    next_node = None\n",
    "    while(curr_node):\n",
    "        next_node = curr_node.next\n",
    "        curr_node.next = prev_node\n",
    "        prev_node = curr_node\n",
    "        curr_node = next_node\n",
    "    return prev_node"
   ]
  },
  {
   "cell_type": "code",
   "execution_count": 4,
   "metadata": {},
   "outputs": [],
   "source": [
    "def addOneToSLL(head):\n",
    "    head = reverseList(head)\n",
    "    temp = head\n",
    "    carry = 1\n",
    "    while(temp):\n",
    "        prev = temp\n",
    "        sum_val = temp.data + carry\n",
    "        if sum_val == 10:\n",
    "            carry = 1\n",
    "        else:\n",
    "            carry = 0\n",
    "        temp.data = sum_val % 10\n",
    "        temp = temp.next\n",
    "    if carry == 1:\n",
    "        prev.next = Node.createEmptyNode(1)\n",
    "    head = reverseList(head)\n",
    "    return head"
   ]
  },
  {
   "cell_type": "markdown",
   "metadata": {},
   "source": [
    "# Test"
   ]
  },
  {
   "cell_type": "code",
   "execution_count": 5,
   "metadata": {},
   "outputs": [
    {
     "name": "stdout",
     "output_type": "stream",
     "text": [
      "************** Input Linked List ***************************\n",
      "9\n",
      "9\n",
      "9\n",
      "9\n",
      "9\n",
      "************** After adding one  ***************************\n",
      "1\n",
      "0\n",
      "0\n",
      "0\n",
      "0\n",
      "0\n"
     ]
    }
   ],
   "source": [
    "head = Node.createSampleLinkedList()\n",
    "print(\"************** Input Linked List ***************************\")\n",
    "traverseSingleLinkedList(head)\n",
    "head = addOneToSLL(head)\n",
    "print(\"************** After adding one  ***************************\")\n",
    "traverseSingleLinkedList(head)\n"
   ]
  },
  {
   "cell_type": "code",
   "execution_count": null,
   "metadata": {},
   "outputs": [],
   "source": []
  }
 ],
 "metadata": {
  "kernelspec": {
   "display_name": "Python 3",
   "language": "python",
   "name": "python3"
  },
  "language_info": {
   "codemirror_mode": {
    "name": "ipython",
    "version": 3
   },
   "file_extension": ".py",
   "mimetype": "text/x-python",
   "name": "python",
   "nbconvert_exporter": "python",
   "pygments_lexer": "ipython3",
   "version": "3.5.2"
  }
 },
 "nbformat": 4,
 "nbformat_minor": 2
}
