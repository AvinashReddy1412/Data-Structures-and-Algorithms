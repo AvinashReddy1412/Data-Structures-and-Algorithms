{
 "cells": [
  {
   "cell_type": "markdown",
   "metadata": {},
   "source": [
    "# Understanding the problem statement"
   ]
  },
  {
   "cell_type": "markdown",
   "metadata": {},
   "source": [
    "String is said to be palindrome if it reads same in both directions.\n",
    "example : radar,abcba,12321\n",
    "\n",
    "A linked list is said to be palindrome, if its data reads same in both directions\n",
    "\n",
    "example : Node1 --> Node2 --> Node3 --> Node2 --> Node1 --> None\n"
   ]
  },
  {
   "cell_type": "markdown",
   "metadata": {},
   "source": [
    "# Algorithm"
   ]
  },
  {
   "cell_type": "markdown",
   "metadata": {},
   "source": [
    "# Approach 1"
   ]
  },
  {
   "cell_type": "markdown",
   "metadata": {},
   "source": [
    "1. Traverse and Clone the given linked list. O(n)\n",
    "2. Reverse the cloned list. O(n)\n",
    "3. Compare the original list and cloned list.O(n) \n",
    "    If they are same, given linked list is palindrome. \n",
    "\n",
    "NOTE : Instead of comparing the entire linked list, even if we compare half of the original linked list with\n",
    "    reversed cloned list that would be sufficient.\n",
    "    abcba \n",
    "    reversed cloned list: abcba\n",
    "    if we compare till n//2 that would be sufficient since we are comparing indirectly first half with second half"
   ]
  },
  {
   "cell_type": "markdown",
   "metadata": {},
   "source": [
    "# Complexity\n",
    "# Time : O(n)\n",
    "    O(n)+O(n)+O(n) = O(n)\n",
    "    compare can be reduced to O(n/2) but still complexity remains same\n",
    "# Space : O(n)\n",
    "    We are cloning list and using intermediate space."
   ]
  },
  {
   "cell_type": "markdown",
   "metadata": {},
   "source": [
    "# Approach 2"
   ]
  },
  {
   "cell_type": "markdown",
   "metadata": {},
   "source": [
    "1. Use stack\n",
    "2. Traverse given linked list and push elements to stack. O(n) (since push takes O(1))\n",
    "3. Traverse given linked list, for each element in given linked list pop element from stack and compare. O(n) (since pop takes O(1))\n",
    "   By popping we get elements in reverse order, so this method works.\n",
    "   \n",
    "   If all elements match then given linked list is palindrome.\n",
    "\n",
    "NOTE : we can even compare half elements to check if linked list is palindrome. so comparison takes O(n/2)"
   ]
  },
  {
   "cell_type": "markdown",
   "metadata": {},
   "source": [
    "# Complexity\n",
    "# Time : O(n)\n",
    "    O(n)+O(n) = O(n)\n",
    "    compare can be reduced to O(n/2) but still complexity remains same\n",
    "# Space : O(n)\n",
    "    We are using stack as intermediate space."
   ]
  },
  {
   "cell_type": "markdown",
   "metadata": {},
   "source": [
    "# Approach 3"
   ]
  },
  {
   "cell_type": "markdown",
   "metadata": {},
   "source": [
    "1. Inorder to check if given linked list is palindrome or not, every element has to be visited atleast once. so\n",
    "time complexity cannot be reduced below O(n). But we can reduce space complexity. This approach reduces\n",
    "space complexity.\n",
    "2. Find the middle element. count the number of nodes and middle element will be n/2 . ----> O(n)\n",
    "3. Reverse the second half. second half starts after middle node. ----> O(n/2)\n",
    "4. Compare first half i.e till middle element and second half. ----> O(n/2)\n",
    "   If they match given linked list is palindrome.\n",
    "5. To bring back original linked list, reverse again second half. "
   ]
  },
  {
   "cell_type": "markdown",
   "metadata": {},
   "source": [
    "# Complexity\n",
    "# Time : O(n)\n",
    "    O(n)+O(n/2)+O(n/2)+O(n/2) = O(n)\n",
    "# Space : O(1)\n",
    "    no extra space is used. second half is reversed in its place."
   ]
  },
  {
   "cell_type": "markdown",
   "metadata": {},
   "source": [
    "# Implementation"
   ]
  },
  {
   "cell_type": "markdown",
   "metadata": {},
   "source": [
    "### Linked List Creation"
   ]
  },
  {
   "cell_type": "code",
   "execution_count": 60,
   "metadata": {},
   "outputs": [],
   "source": [
    "class Node:\n",
    "    def __init__(self,data):\n",
    "        self.data = data\n",
    "        self.next = None\n",
    "    \n",
    "    @staticmethod\n",
    "    def createSampleLinkedList():\n",
    "        head = Node(7)\n",
    "        a = Node(6)\n",
    "        b = Node(3)\n",
    "#         c = Node(1) # test for not palindrome\n",
    "        c = Node(6)\n",
    "        d = Node(7)\n",
    "        head.next = a\n",
    "        a.next = b\n",
    "        b.next = c\n",
    "        c.next = d\n",
    "        return head\n",
    "\n",
    "    @staticmethod\n",
    "    def createEmptyNode(value):\n",
    "        newnode = Node(value)\n",
    "        return newnode"
   ]
  },
  {
   "cell_type": "code",
   "execution_count": 61,
   "metadata": {},
   "outputs": [],
   "source": [
    "def traverseSingleLinkedList(a):\n",
    "    temp = a\n",
    "    while(temp):\n",
    "        print(temp.data)\n",
    "        temp = temp.next"
   ]
  },
  {
   "cell_type": "code",
   "execution_count": 65,
   "metadata": {},
   "outputs": [],
   "source": [
    "# using two pointers\n",
    "def findMiddleNode(head):\n",
    "    fast_ptr = head\n",
    "    slow_ptr = head\n",
    "    while(fast_ptr and fast_ptr.next): # when there are even no of nodes fast_ptr directly reaches None before reaching last node. So check both conditions\n",
    "        slow_ptr = slow_ptr.next\n",
    "        fast_ptr = fast_ptr.next.next\n",
    "    return slow_ptr\n",
    "\n",
    "def reverseList(curr_node):\n",
    "    prev_node = None\n",
    "    next_node = None\n",
    "    while(curr_node):\n",
    "        next_node = curr_node.next\n",
    "        curr_node.next = prev_node\n",
    "        prev_node = curr_node\n",
    "        curr_node = next_node\n",
    "    return prev_node\n",
    "\n",
    "def compare_halves(list1,list2):\n",
    "    while(list2 and list1.data == list2.data): # if linked list has odd no of elements, first list will have one node more than second and second reaches null soon. so checking list2 only\n",
    "        list1 = list1.next\n",
    "        list2 = list2.next\n",
    "    if list2 == None:\n",
    "        return 1\n",
    "    return 0"
   ]
  },
  {
   "cell_type": "code",
   "execution_count": 66,
   "metadata": {},
   "outputs": [],
   "source": [
    "def isPalindrome(head):\n",
    "    middle_node = findMiddleNode(head)\n",
    "    second_half = middle_node.next\n",
    "    middle_node.next = None\n",
    "    second_half = reverseList(second_half)\n",
    "    res = compare_halves(head,second_half)\n",
    "    second_half = reverseList(second_half) # restoring original linked list\n",
    "    middle_node.next = second_half\n",
    "    return res"
   ]
  },
  {
   "cell_type": "markdown",
   "metadata": {},
   "source": [
    "# Test"
   ]
  },
  {
   "cell_type": "code",
   "execution_count": 67,
   "metadata": {},
   "outputs": [
    {
     "name": "stdout",
     "output_type": "stream",
     "text": [
      "original list\n",
      "7\n",
      "6\n",
      "3\n",
      "6\n",
      "7\n",
      "is palindrome\n",
      "1\n",
      "original list restored?\n",
      "7\n",
      "6\n",
      "3\n",
      "6\n",
      "7\n"
     ]
    }
   ],
   "source": [
    "head = Node.createSampleLinkedList()\n",
    "print(\"original list\")\n",
    "traverseSingleLinkedList(head)\n",
    "print(\"is palindrome\")\n",
    "print(isPalindrome(head))\n",
    "print(\"original list restored?\")\n",
    "traverseSingleLinkedList(head)\n",
    "# ans\n",
    "# original list\n",
    "# 7\n",
    "# 6\n",
    "# 3\n",
    "# 6\n",
    "# 7\n",
    "# is palindrome\n",
    "# 7\n",
    "# 1\n",
    "# original list restored?\n",
    "# 7\n",
    "# 6\n",
    "# 3\n",
    "# 6\n",
    "# 7"
   ]
  },
  {
   "cell_type": "markdown",
   "metadata": {},
   "source": [
    "NOTE : original list is restored. if we return at middle.next = None you can see the difference"
   ]
  },
  {
   "cell_type": "code",
   "execution_count": null,
   "metadata": {},
   "outputs": [],
   "source": []
  }
 ],
 "metadata": {
  "kernelspec": {
   "display_name": "Python 3",
   "language": "python",
   "name": "python3"
  },
  "language_info": {
   "codemirror_mode": {
    "name": "ipython",
    "version": 3
   },
   "file_extension": ".py",
   "mimetype": "text/x-python",
   "name": "python",
   "nbconvert_exporter": "python",
   "pygments_lexer": "ipython3",
   "version": "3.5.2"
  }
 },
 "nbformat": 4,
 "nbformat_minor": 2
}
