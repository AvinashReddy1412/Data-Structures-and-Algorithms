{
 "cells": [
  {
   "cell_type": "markdown",
   "metadata": {},
   "source": [
    "# Understanding the problem statement"
   ]
  },
  {
   "cell_type": "raw",
   "metadata": {},
   "source": [
    "Given two sorted linked list, we have to merge these lists into single sorted linked list.\n",
    "\n",
    "Input : \n",
    "    list1 :     Node2 --> Node4 --> Node5 --> None\n",
    "    list2 :     Node1 --> Node6 --> Node8 --> None\n",
    "\n",
    "Output:\n",
    "                Node1 --> Node2 --> Node4 --> Node5 --> Node6 --> Node8 --> None"
   ]
  },
  {
   "cell_type": "markdown",
   "metadata": {},
   "source": [
    "# Algorithm"
   ]
  },
  {
   "cell_type": "markdown",
   "metadata": {},
   "source": [
    "# Approach 1"
   ]
  },
  {
   "cell_type": "markdown",
   "metadata": {},
   "source": [
    "1. Take first node from list1 and compare it with every node in list2.\n",
    "2. compare it till a greater or equal node is encountered. \n",
    "3. When greater node or equal node is encountered, insert node from list1 just before this greater node in list2 and delete that node from list1.\n",
    "4. repeat the process for all nodes in list1 till list1 becomes empty and all nodes are inserted at their correct places in list2.\n",
    "5. Now list2 becomes single sorted linked list."
   ]
  },
  {
   "cell_type": "markdown",
   "metadata": {},
   "source": [
    "# Complexity :\n",
    "# Time :\n",
    "    If there are n nodes in list1 and m nodes in list2, then for every node in list2 we are checking every node\n",
    "    in list2 in worst case. so complexity is n * O(m) = O(mn)\n",
    "    Actually complexity will be more than mn because once first element is inserted into second list, \n",
    "    no of elements in second list becomes m+1 and for the other element in list1 we need to compare (m+n-1)  \n",
    "    elements.But leading term is mn so complexity is O(mn)\n",
    "### O(mn)\n",
    "\n",
    "# Space :\n",
    "    No extra space is used. \n",
    "### O(1)"
   ]
  },
  {
   "cell_type": "markdown",
   "metadata": {},
   "source": [
    "# Approach 2"
   ]
  },
  {
   "cell_type": "markdown",
   "metadata": {},
   "source": [
    "1. Use two pointers l1 and l2 to point to heads of two lists. Once we have encountered one node and added it to\n",
    "our single sorted list, we increment l1 and l2. But we do not create a new single sorted list. we keep temp\n",
    "and will be creating links between list1 and list2 and will be forming our single sorted list as below.\n",
    "2. compare first element of list1 and first element of list2. whichever is smaller will be the head of the\n",
    "single sorted list.\n",
    "3. After we have found out head, make temp point to head. This temp keeps track of last node of the single\n",
    "sorted list we will be forming.\n",
    "4. Now find second element by finding which ever is smaller between l1 and l2. if l1 is small add it to temp\n",
    "and increment l1 or else add l2 to temp and increment l2.\n",
    "5. As temp moves our single sorted list will be forming.\n",
    "6. once l1 or l2 becomes null, then attached the remaining part of one list to temp."
   ]
  },
  {
   "cell_type": "markdown",
   "metadata": {},
   "source": [
    "# Complexity :\n",
    "# Time :\n",
    "    We visit each element once and add it to temp to create single sorted list. Its not min(m,n) because\n",
    "    if list1 contains 100 and list2 contains 1,10,15,20 ,trace how algorithm visits 1,10,15,20 and then at last 100.\n",
    "##   O(m+n)\n",
    "# Space:\n",
    "    No extra space is used. single sorted list is formed by changing links between list1 and list2 only.\n",
    "## O(1)"
   ]
  },
  {
   "cell_type": "markdown",
   "metadata": {},
   "source": [
    "# Implementation"
   ]
  },
  {
   "cell_type": "markdown",
   "metadata": {},
   "source": [
    "### Linked List Creation"
   ]
  },
  {
   "cell_type": "code",
   "execution_count": 2,
   "metadata": {},
   "outputs": [],
   "source": [
    "class Node:\n",
    "    def __init__(self,data):\n",
    "        self.data = data\n",
    "        self.next = None\n",
    "    \n",
    "    @staticmethod\n",
    "    def createSampleLinkedList():\n",
    "        head = Node(7)\n",
    "        a = Node(6)\n",
    "        b = Node(3)\n",
    "        c = Node(4)\n",
    "        d = Node(8)\n",
    "        head.next = a\n",
    "        a.next = b\n",
    "        b.next = c\n",
    "        c.next = d\n",
    "        return head\n",
    "\n",
    "    \n",
    "    @staticmethod\n",
    "    def create2SortedLinkedLists():\n",
    "        head = Node(2)\n",
    "        a = Node(3)\n",
    "        b = Node(6)\n",
    "        c = Node(7)\n",
    "        d = Node(8)\n",
    "        e = Node(9)\n",
    "        f = Node(1)\n",
    "        g = Node(5)\n",
    "        head.next = a\n",
    "        a.next = b\n",
    "        b.next = c\n",
    "        c.next = d\n",
    "        d.next = e\n",
    "        f.next = g\n",
    "        return head,f\n",
    "\n",
    "    @staticmethod\n",
    "    def createEmptyNode(value):\n",
    "        newnode = Node(value)\n",
    "        return newnode"
   ]
  },
  {
   "cell_type": "code",
   "execution_count": 3,
   "metadata": {},
   "outputs": [],
   "source": [
    "def traverseSingleLinkedList(a):\n",
    "    temp = a\n",
    "    while(temp):\n",
    "        print(temp.data)\n",
    "        temp = temp.next"
   ]
  },
  {
   "cell_type": "code",
   "execution_count": 8,
   "metadata": {},
   "outputs": [],
   "source": [
    "def mergeSorted(list1,list2):\n",
    "    if list1.data <= list2.data:\n",
    "        merged_head = list1\n",
    "        list1 = list1.next\n",
    "    else:\n",
    "        merged_head = list2\n",
    "        list2 = list2.next\n",
    "        \n",
    "    temp = merged_head\n",
    "    while(list1 and list2):\n",
    "        if list1.data <= list2.data:\n",
    "            temp.next = list1\n",
    "            temp = temp.next\n",
    "            list1 = list1.next\n",
    "        else:\n",
    "            temp.next = list2\n",
    "            temp = temp.next\n",
    "            list2 = list2.next\n",
    "    \n",
    "    if not list1:         # if we reach end of one list, remaining part of other list should be appended to merged \n",
    "        temp.next = list2\n",
    "    else:\n",
    "        temp.next = list1\n",
    "    \n",
    "    return merged_head"
   ]
  },
  {
   "cell_type": "markdown",
   "metadata": {},
   "source": [
    "# Test"
   ]
  },
  {
   "cell_type": "code",
   "execution_count": 10,
   "metadata": {},
   "outputs": [
    {
     "name": "stdout",
     "output_type": "stream",
     "text": [
      "******************** First sorted list ********************\n",
      "2\n",
      "3\n",
      "6\n",
      "7\n",
      "8\n",
      "9\n",
      "******************** Second sorted list ********************\n",
      "1\n",
      "5\n",
      "******************** Merged single sorted list ********************\n",
      "1\n",
      "2\n",
      "3\n",
      "5\n",
      "6\n",
      "7\n",
      "8\n",
      "9\n"
     ]
    }
   ],
   "source": [
    "list1,list2 = Node.create2SortedLinkedLists()\n",
    "print(\"******************** First sorted list ********************\")\n",
    "traverseSingleLinkedList(list1)\n",
    "print(\"******************** Second sorted list ********************\")\n",
    "traverseSingleLinkedList(list2)\n",
    "print(\"******************** Merged single sorted list ********************\")\n",
    "merged_head = mergeSorted(list1,list2)\n",
    "traverseSingleLinkedList(merged_head)\n",
    "\n"
   ]
  },
  {
   "cell_type": "code",
   "execution_count": null,
   "metadata": {},
   "outputs": [],
   "source": []
  }
 ],
 "metadata": {
  "kernelspec": {
   "display_name": "Python 3",
   "language": "python",
   "name": "python3"
  },
  "language_info": {
   "codemirror_mode": {
    "name": "ipython",
    "version": 3
   },
   "file_extension": ".py",
   "mimetype": "text/x-python",
   "name": "python",
   "nbconvert_exporter": "python",
   "pygments_lexer": "ipython3",
   "version": "3.5.2"
  }
 },
 "nbformat": 4,
 "nbformat_minor": 2
}
