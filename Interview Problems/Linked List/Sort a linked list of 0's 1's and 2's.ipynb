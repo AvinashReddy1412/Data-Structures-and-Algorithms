{
 "cells": [
  {
   "cell_type": "markdown",
   "metadata": {},
   "source": [
    "# Understanding the problem statement"
   ]
  },
  {
   "cell_type": "raw",
   "metadata": {},
   "source": [
    "Given a linked list containing 0's,1's and 2's we have to sort the linked list\n",
    "\n",
    "Input : Node2 --> Node2 --> Node0 --> Node0 --> Node2 --> Node1 --> None\n",
    "\n",
    "Output : Node0 --> Node0 --> Node1 --> Node2 --> Node2 --> Node2 --> None\n",
    "\n",
    "NOTE : There are two ways it can be done, shift complete Node or just replace data."
   ]
  },
  {
   "cell_type": "markdown",
   "metadata": {},
   "source": [
    "# Algorithm"
   ]
  },
  {
   "cell_type": "markdown",
   "metadata": {},
   "source": [
    "# Approach 1 - just replace data"
   ]
  },
  {
   "cell_type": "markdown",
   "metadata": {},
   "source": [
    "1. Traverse the linked list and maintain count of 0 nodes,1 nodes and 2 nodes in count array. --> O(n)\n",
    "2. 0 nodes count placed at index 0 , 1 nodes count place at index 1 and 2 nodes count placed at index 2 in count\n",
    "    array.\n",
    "3. Now traverse the linked list again and replace the data in linked list as per count at indices. Like if the count at index 0 is 2 then first 2 nodes must be replaced with value 0. --> O(n)"
   ]
  },
  {
   "cell_type": "markdown",
   "metadata": {},
   "source": [
    "# Complexity :\n",
    "# Time : O(n)\n",
    "# Space : O(1)"
   ]
  },
  {
   "cell_type": "markdown",
   "metadata": {},
   "source": [
    "# Approach 2 - shift complete node as is to its position"
   ]
  },
  {
   "cell_type": "raw",
   "metadata": {},
   "source": [
    "1.  This approach is useful if we have some other data in the node along with key value and it must be shifted\n",
    "    with key\n",
    "2.  Use two pointers start and end. end pointer is just used to keep track of end but not to traverse.\n",
    "3.  Node1 --> Node2 --> Node0 --> Node0 --> Node2 --> Node1 --> None\n",
    "      |                                                 |\n",
    "    start                                              end \n",
    "4.  use start and traverse, if you come across 2 place it at end, if you come across 0 place it at first\n",
    "    and if you come across 1, leave it at its position.\n",
    "5.  Node1 --> Node2 --> Node0 --> Node0 --> Node2 --> Node1 --> None\n",
    "      |                                                 |\n",
    "    start                                              end \n",
    "6.  Node1 --> Node2 --> Node0 --> Node0 --> Node2 --> Node1 --> None\n",
    "                |                                       |\n",
    "              start                                    end \n",
    "7.  Node1 --> Node0 --> Node0 --> Node2 --> Node1 --> Node2 --> None\n",
    "                |                             |\n",
    "              start                          end \n",
    "8.  Node0 --> Node1 --> Node0 --> Node2 --> Node1 --> Node2 --> None\n",
    "                          |                   |\n",
    "                        start                end \n",
    "\n",
    "        continue ..... and stop when start touches end\n",
    "9.  Node0 --> Node0 --> Node1 --> Node1 --> Node2 --> Node2 --> None\n",
    "                                    |\n",
    "                                start/end"
   ]
  },
  {
   "cell_type": "markdown",
   "metadata": {},
   "source": [
    "# Implementation of approach 1"
   ]
  },
  {
   "cell_type": "markdown",
   "metadata": {},
   "source": [
    "### Linked List Creation"
   ]
  },
  {
   "cell_type": "code",
   "execution_count": 1,
   "metadata": {},
   "outputs": [],
   "source": [
    "class Node:\n",
    "    def __init__(self,data):\n",
    "        self.data = data\n",
    "        self.next = None\n",
    "    \n",
    "    @staticmethod\n",
    "    def createSampleLinkedList():\n",
    "        head = Node(2)\n",
    "        a = Node(2)\n",
    "        b = Node(0)\n",
    "        c = Node(0)\n",
    "        d = Node(2)\n",
    "        e = Node(1)\n",
    "        head.next = a\n",
    "        a.next = b\n",
    "        b.next = c\n",
    "        c.next = d\n",
    "        d.next = e\n",
    "        return head\n",
    "\n",
    "    @staticmethod\n",
    "    def createEmptyNode(value):\n",
    "        newnode = Node(value)\n",
    "        return newnode"
   ]
  },
  {
   "cell_type": "code",
   "execution_count": 2,
   "metadata": {},
   "outputs": [],
   "source": [
    "def traverseSingleLinkedList(a):\n",
    "    temp = a\n",
    "    while(temp):\n",
    "        print(temp.data)\n",
    "        temp = temp.next"
   ]
  },
  {
   "cell_type": "code",
   "execution_count": 5,
   "metadata": {},
   "outputs": [],
   "source": [
    "def sortSLL(head):\n",
    "    count_arr = [0]*3\n",
    "    temp = head\n",
    "    while(temp):\n",
    "        count_arr[temp.data]+=1\n",
    "        temp = temp.next\n",
    "    temp = head\n",
    "    i = 0\n",
    "    while(temp):\n",
    "        if count_arr[i]==0:\n",
    "            i+=1\n",
    "        else:\n",
    "            temp.data = i\n",
    "            temp = temp.next\n",
    "            count_arr[i]-=1\n",
    "    return head\n",
    "    "
   ]
  },
  {
   "cell_type": "markdown",
   "metadata": {},
   "source": [
    "# Test"
   ]
  },
  {
   "cell_type": "code",
   "execution_count": 6,
   "metadata": {},
   "outputs": [
    {
     "name": "stdout",
     "output_type": "stream",
     "text": [
      "*************** Linked List before sorting *************************\n",
      "2\n",
      "2\n",
      "0\n",
      "0\n",
      "2\n",
      "1\n",
      "*************** Linked List after sorting  *************************\n",
      "0\n",
      "0\n",
      "1\n",
      "2\n",
      "2\n",
      "2\n"
     ]
    }
   ],
   "source": [
    "head = Node.createSampleLinkedList()\n",
    "print(\"*************** Linked List before sorting *************************\")\n",
    "traverseSingleLinkedList(head)\n",
    "head = sortSLL(head)\n",
    "print(\"*************** Linked List after sorting  *************************\")\n",
    "traverseSingleLinkedList(head)"
   ]
  },
  {
   "cell_type": "code",
   "execution_count": null,
   "metadata": {},
   "outputs": [],
   "source": []
  }
 ],
 "metadata": {
  "kernelspec": {
   "display_name": "Python 3",
   "language": "python",
   "name": "python3"
  },
  "language_info": {
   "codemirror_mode": {
    "name": "ipython",
    "version": 3
   },
   "file_extension": ".py",
   "mimetype": "text/x-python",
   "name": "python",
   "nbconvert_exporter": "python",
   "pygments_lexer": "ipython3",
   "version": "3.5.2"
  }
 },
 "nbformat": 4,
 "nbformat_minor": 2
}
