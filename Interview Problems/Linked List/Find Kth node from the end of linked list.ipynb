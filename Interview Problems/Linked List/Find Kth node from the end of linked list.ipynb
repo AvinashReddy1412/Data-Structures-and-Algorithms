{
 "cells": [
  {
   "cell_type": "markdown",
   "metadata": {},
   "source": [
    "## Understanding the problem statement\n",
    "    If there are five nodes in linked list like below\n",
    "    \n",
    "    node1 --> node2 --> node3 --> node4 --> node5 --> NULL\n",
    "    \n",
    "    then we have to find the Kth node from the end. If k=3, In this case third node or node3 will be the answer.\n",
    "    \n",
    "    k=2, then node4 will be answer\n",
    "    "
   ]
  },
  {
   "cell_type": "markdown",
   "metadata": {},
   "source": [
    "# Approach 1"
   ]
  },
  {
   "cell_type": "markdown",
   "metadata": {},
   "source": [
    "1. Traverse the complete linked list and count the number of nodes(n). --> O(n)\n",
    "2. Compute the placement of required node from the starting i.e n-k+1. --> O(1)\n",
    "3. Now traverse till required node i.e in worst case required node can be at end --> O(n)"
   ]
  },
  {
   "cell_type": "markdown",
   "metadata": {},
   "source": [
    "## Complexity\n",
    "## Time : O(n)+O(n) = O(n)\n",
    "## Space : O(1)"
   ]
  },
  {
   "cell_type": "markdown",
   "metadata": {},
   "source": [
    "# Approach 2"
   ]
  },
  {
   "cell_type": "markdown",
   "metadata": {},
   "source": [
    "1. Use Hash table\n",
    "2. Traverse the complete linked list and store the address of nodes in Hash Table and count the number of nodes.O(n)\n",
    "3. Compute the placement of required node from the starting i.e n-k+1. --> O(1)\n",
    "4. Retrieve the required node from Hash Table. H(M)=H(n-k+1). O(1)\n",
    "5. In approach 1, we are traversing linked list twice, but only once in this approach.However complexity still\n",
    "remains O(n)\n",
    "\n",
    "NOTES :\n",
    "    1. Insertion and Search takes 0(1) in Hash table. When we say O(1) it is amortized analysis.\n",
    "    2. Collisions may occur and complexity may change. So this is not better approach. And moreover we are using\n",
    "    extra space as well for Hash Table. O(n)\n",
    "    3. If we use Hash table only once then it is not useful. If we traverse and store once\n",
    "    and keep on using, i.e find 3rd node from end, find 4th node from end... then this may be optimal solution.\n",
    "    "
   ]
  },
  {
   "cell_type": "markdown",
   "metadata": {},
   "source": [
    "## Complexity\n",
    "## Time : O(n)+O(1)+O(1) = O(n)\n",
    "## Space : O(n) (Hash Table)"
   ]
  },
  {
   "cell_type": "markdown",
   "metadata": {},
   "source": [
    "# Approach 3"
   ]
  },
  {
   "cell_type": "markdown",
   "metadata": {},
   "source": [
    "1. Use two pointers. (p and q)\n",
    "2. Initialize two pointers to head. And move only one pointer(q) till kth node from beginning.\n",
    "3. Now move both p and q one node at a time till q reaches the last node.\n",
    "4. Now p will be pointing to kth node from the end.\n",
    "5. As we have traversed the entire linked list once, complexity is O(1)\n",
    "6. We have not use extra space and traversed list only once. So better than both the above approaches"
   ]
  },
  {
   "cell_type": "markdown",
   "metadata": {},
   "source": [
    "## Complexity\n",
    "## Time : O(n)\n",
    "## Space : O(1)"
   ]
  },
  {
   "cell_type": "markdown",
   "metadata": {},
   "source": [
    "# Implementation"
   ]
  },
  {
   "cell_type": "markdown",
   "metadata": {},
   "source": [
    "### Linked List Creation"
   ]
  },
  {
   "cell_type": "code",
   "execution_count": 13,
   "metadata": {},
   "outputs": [],
   "source": [
    "class Node:\n",
    "    def __init__(self,data):\n",
    "        self.data = data\n",
    "        self.next = None\n",
    "    \n",
    "    @staticmethod\n",
    "    def createSampleLinkedList():\n",
    "        head = Node(7)\n",
    "        a = Node(6)\n",
    "        b = Node(3)\n",
    "        c = Node(4)\n",
    "        d = Node(8)\n",
    "#         e = Node(1)\n",
    "        head.next = a\n",
    "        a.next = b\n",
    "        b.next = c\n",
    "        c.next = d\n",
    "#         d.next = e\n",
    "        return head\n",
    "\n",
    "    @staticmethod\n",
    "    def createEmptyNode(value):\n",
    "        newnode = Node(value)\n",
    "        return newnode"
   ]
  },
  {
   "cell_type": "code",
   "execution_count": 6,
   "metadata": {},
   "outputs": [],
   "source": [
    "def traverseSingleLinkedList(a):\n",
    "    temp = a\n",
    "    while(temp):\n",
    "        print(temp.data)\n",
    "        temp = temp.next"
   ]
  },
  {
   "cell_type": "code",
   "execution_count": 8,
   "metadata": {},
   "outputs": [],
   "source": [
    "def findKthnode(head,k):\n",
    "    if (k<0 or not head):\n",
    "        return -1\n",
    "    p = head\n",
    "    q = head\n",
    "    for i in range(1,k): # already at node 1, to reach kth node increment k-1 times\n",
    "        if q == None:\n",
    "            return -1  # handles if k > n\n",
    "        q = q.next\n",
    "    while(q.next != None): # Move both till q reaches last node (handles k=n)\n",
    "        q = q.next\n",
    "        p = p.next\n",
    "    return p\n",
    "    "
   ]
  },
  {
   "cell_type": "code",
   "execution_count": 12,
   "metadata": {},
   "outputs": [
    {
     "name": "stdout",
     "output_type": "stream",
     "text": [
      "7\n",
      "6\n",
      "3\n",
      "4\n",
      "8\n",
      "********************* Kth node ********************\n",
      "3\n",
      "4\n",
      "7\n",
      "-1\n",
      "-1\n"
     ]
    }
   ],
   "source": [
    "head = Node.createSampleLinkedList()\n",
    "traverseSingleLinkedList(head)\n",
    "print(\"********************* Kth node ********************\")\n",
    "kth = findKthnode(head,k=3)\n",
    "print(kth.data) # ans 3\n",
    "kth = findKthnode(head,k=2)\n",
    "print(kth.data) # ans 4\n",
    "kth = findKthnode(head,k=5)\n",
    "print(kth.data) # ans 7\n",
    "kth = findKthnode(None,k=2)\n",
    "print(kth) # ans -1\n",
    "kth = findKthnode(None,k=10)\n",
    "print(kth) # ans -1"
   ]
  },
  {
   "cell_type": "code",
   "execution_count": 14,
   "metadata": {},
   "outputs": [
    {
     "name": "stdout",
     "output_type": "stream",
     "text": [
      "7\n",
      "6\n",
      "3\n",
      "4\n",
      "8\n",
      "1\n",
      "********************* Kth node ********************\n",
      "4\n",
      "8\n",
      "6\n",
      "-1\n",
      "-1\n"
     ]
    }
   ],
   "source": [
    "head = Node.createSampleLinkedList() # add even nodes and test\n",
    "traverseSingleLinkedList(head)\n",
    "print(\"********************* Kth node ********************\")\n",
    "kth = findKthnode(head,k=3)\n",
    "print(kth.data) # ans 4\n",
    "kth = findKthnode(head,k=2)\n",
    "print(kth.data) # ans 8\n",
    "kth = findKthnode(head,k=5)\n",
    "print(kth.data) # ans 6\n",
    "kth = findKthnode(None,k=2)\n",
    "print(kth) # ans -1\n",
    "kth = findKthnode(None,k=10)\n",
    "print(kth) # ans -1"
   ]
  },
  {
   "cell_type": "code",
   "execution_count": null,
   "metadata": {},
   "outputs": [],
   "source": []
  }
 ],
 "metadata": {
  "kernelspec": {
   "display_name": "Python 3",
   "language": "python",
   "name": "python3"
  },
  "language_info": {
   "codemirror_mode": {
    "name": "ipython",
    "version": 3
   },
   "file_extension": ".py",
   "mimetype": "text/x-python",
   "name": "python",
   "nbconvert_exporter": "python",
   "pygments_lexer": "ipython3",
   "version": "3.5.2"
  }
 },
 "nbformat": 4,
 "nbformat_minor": 2
}
