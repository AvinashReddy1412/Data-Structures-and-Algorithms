{
 "cells": [
  {
   "cell_type": "markdown",
   "metadata": {},
   "source": [
    "# Refer screenshot for explanation, time complexity and implementation"
   ]
  },
  {
   "cell_type": "markdown",
   "metadata": {},
   "source": [
    "# Implementation"
   ]
  },
  {
   "cell_type": "code",
   "execution_count": 4,
   "metadata": {},
   "outputs": [],
   "source": [
    "def build_min_heap(arr,size):\n",
    "    for i in range(size//2-1,-1,-1): # -1 since we are considering index from 0\n",
    "        min_heapify(arr, size, i)\n",
    "\n",
    "def min_heapify(arr, size, index):\n",
    "    left = 2*index + 1\n",
    "    right = 2*index + 2\n",
    "    smallest = index\n",
    "    if left < size and arr[left] < arr[smallest]:\n",
    "        smallest = left\n",
    "    if right < size and arr[right] < arr[smallest]:\n",
    "        smallest = right\n",
    "    if smallest != index:\n",
    "        # swap\n",
    "        temp = arr[smallest]\n",
    "        arr[smallest] = arr[index]\n",
    "        arr[index] = temp\n",
    "        min_heapify(arr, size, smallest)\n",
    "        \n",
    "def replace_min_and_heapify(min_heap, heap_size, root):\n",
    "    min_heap[0] = root\n",
    "    min_heapify(min_heap, heap_size, 0)   \n",
    "\n",
    "def extract_min(heap_arr, heap_size):\n",
    "    if heap_size <= 0:\n",
    "        return -1, heap_size\n",
    "    if heap_size == 1:\n",
    "        heap_size-=1\n",
    "        root = heap_arr.pop()\n",
    "        return root, heap_size\n",
    "    root = heap_arr[0]\n",
    "    heap_arr[0] = heap_arr[-1]\n",
    "    heap_size-=1\n",
    "    heap_arr.pop()\n",
    "    min_heapify(heap_arr, heap_size, 0)\n",
    "    return root, heap_size"
   ]
  },
  {
   "cell_type": "code",
   "execution_count": 15,
   "metadata": {},
   "outputs": [],
   "source": [
    "def sortNearly(arr, k, n):\n",
    "    min_heap_arr = []\n",
    "    for i in range(k+1):\n",
    "        min_heap_arr.append(arr[i])\n",
    "    heap_size = k+1\n",
    "    build_min_heap(min_heap_arr,heap_size)\n",
    "    j = k+1\n",
    "    for i in range(len(arr)):\n",
    "        if j < n:\n",
    "            arr[i] = min_heap_arr[0]\n",
    "            replace_min_and_heapify(min_heap_arr, heap_size, arr[j])\n",
    "            j+=1\n",
    "        else:\n",
    "            arr[i], heap_size = extract_min(min_heap_arr, heap_size)"
   ]
  },
  {
   "cell_type": "code",
   "execution_count": 16,
   "metadata": {},
   "outputs": [
    {
     "name": "stdout",
     "output_type": "stream",
     "text": [
      "[2, 3, 5, 6, 8, 9, 10]\n"
     ]
    }
   ],
   "source": [
    "arr = [6, 5, 3, 2, 8, 10, 9]\n",
    "k = 3\n",
    "n = len(arr)\n",
    "sortNearly(arr, k, n)\n",
    "print(arr)"
   ]
  },
  {
   "cell_type": "code",
   "execution_count": 17,
   "metadata": {},
   "outputs": [
    {
     "name": "stdout",
     "output_type": "stream",
     "text": [
      "[4, 7, 8, 9, 10, 50, 60, 70]\n"
     ]
    }
   ],
   "source": [
    "arr = [10, 9, 8, 7, 4, 70, 60, 50]\n",
    "k = 4\n",
    "n = len(arr)\n",
    "sortNearly(arr, k, n)\n",
    "print(arr)"
   ]
  },
  {
   "cell_type": "code",
   "execution_count": null,
   "metadata": {},
   "outputs": [],
   "source": []
  }
 ],
 "metadata": {
  "kernelspec": {
   "display_name": "Python 3",
   "language": "python",
   "name": "python3"
  },
  "language_info": {
   "codemirror_mode": {
    "name": "ipython",
    "version": 3
   },
   "file_extension": ".py",
   "mimetype": "text/x-python",
   "name": "python",
   "nbconvert_exporter": "python",
   "pygments_lexer": "ipython3",
   "version": "3.9.0"
  }
 },
 "nbformat": 4,
 "nbformat_minor": 4
}
