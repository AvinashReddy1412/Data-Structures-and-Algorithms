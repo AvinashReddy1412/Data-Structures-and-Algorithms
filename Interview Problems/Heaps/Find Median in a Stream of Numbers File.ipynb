{
 "cells": [
  {
   "cell_type": "markdown",
   "metadata": {},
   "source": [
    "# Understanding the problem statement"
   ]
  },
  {
   "cell_type": "markdown",
   "metadata": {},
   "source": [
    "    Refer screenshot for clear understanding"
   ]
  },
  {
   "cell_type": "markdown",
   "metadata": {},
   "source": [
    "# Algorithm"
   ]
  },
  {
   "cell_type": "markdown",
   "metadata": {},
   "source": [
    "1. Implementation algorithm is based on min heap and max heap explanation. \n",
    "2. Logic is slightly different. we do not compute condition value here.\n",
    "3. get median is heart function\n",
    "4. If left heap size is greater than right heap size it means left heap has more elements.\n",
    "and again if new element is less than median it means we again have to insert in left heap where there are more   elements we know it violates condition, so we first extract max and insert it in right heap and create space for new element and then do maxinsert in left heap\n",
    "5. If both heaps have equal size then insertion does not violate condition. so no need for extraction, we can directly\n",
    "insert based on condition\n",
    "6. If right heap has more elements then follow the similar logic mentioned in step 4"
   ]
  },
  {
   "cell_type": "markdown",
   "metadata": {},
   "source": [
    "# Implementation"
   ]
  },
  {
   "cell_type": "code",
   "execution_count": 33,
   "metadata": {},
   "outputs": [],
   "source": [
    "def parent(i):\n",
    "    return (i-1)//2\n",
    "\n",
    "def left(i):\n",
    "    return 2*i+1\n",
    "\n",
    "def right(i):\n",
    "    return 2*i+2\n",
    "\n",
    "def getMax(heap_arr):\n",
    "    return heap_arr[0]\n",
    "\n",
    "def getMin(heap_arr):\n",
    "    return heap_arr[0]\n",
    "\n",
    "def min_heapify(arr, size, index):\n",
    "    left = 2*index + 1\n",
    "    right = 2*index + 2\n",
    "    smallest = index\n",
    "    if left < size and arr[left] < arr[smallest]:\n",
    "        smallest = left\n",
    "    if right < size and arr[right] < arr[smallest]:\n",
    "        smallest = right\n",
    "    if smallest != index:\n",
    "        # swap\n",
    "        temp = arr[smallest]\n",
    "        arr[smallest] = arr[index]\n",
    "        arr[index] = temp\n",
    "        min_heapify(arr, size, smallest)\n",
    "        \n",
    "def max_heapify(arr, size, index):\n",
    "    left = 2*index + 1\n",
    "    right = 2*index + 2\n",
    "    largest = index\n",
    "    if left < size and arr[left] > arr[largest]:\n",
    "        largest = left\n",
    "    if right < size and arr[right] > arr[largest]:\n",
    "        largest = right\n",
    "    if largest != index:\n",
    "        # swap\n",
    "        temp = arr[largest]\n",
    "        arr[largest] = arr[index]\n",
    "        arr[index] = temp\n",
    "        min_heapify(arr, size, largest)\n",
    "        \n",
    "def extract_max(heap_arr, heap_size):\n",
    "    if heap_size <= 0:\n",
    "        return -1, heap_size\n",
    "    if heap_size == 1:\n",
    "        heap_size-=1\n",
    "        root = heap_arr.pop()\n",
    "        return root, heap_size\n",
    "    root = heap_arr[0]\n",
    "    heap_arr[0] = heap_arr[-1]\n",
    "    heap_size-=1\n",
    "    heap_arr.pop()\n",
    "    max_heapify(heap_arr, heap_size, 0)\n",
    "    return root, heap_size\n",
    "\n",
    "def extract_min(heap_arr, heap_size):\n",
    "    if heap_size <= 0:\n",
    "        return -1, heap_size\n",
    "    if heap_size == 1:\n",
    "        heap_size-=1\n",
    "        root = heap_arr.pop()\n",
    "        return root, heap_size\n",
    "    root = heap_arr[0]\n",
    "    heap_arr[0] = heap_arr[-1]\n",
    "    heap_size-=1\n",
    "    heap_arr.pop()\n",
    "    min_heapify(heap_arr, heap_size, 0)\n",
    "    return root, heap_size\n",
    "\n",
    "def maxheap_insert(heap_arr, k, heap_size):\n",
    "    # First insert key at the end\n",
    "    heap_size +=1\n",
    "    heap_arr.append(k)\n",
    "    # Fix the max heap property if it is violated\n",
    "    i = heap_size-1\n",
    "    while (i!=0 and heap_arr[parent(i)] < heap_arr[i]):\n",
    "        # swap them\n",
    "        temp = heap_arr[parent(i)]\n",
    "        heap_arr[parent(i)] = heap_arr[i]\n",
    "        heap_arr[i] = temp\n",
    "        i = parent(i)\n",
    "    return heap_size\n",
    "\n",
    "def minheap_insert(heap_arr, k, heap_size):\n",
    "    # First insert key at the end\n",
    "    heap_size +=1\n",
    "    heap_arr.append(k)\n",
    "    # Fix the min heap property if it is violated\n",
    "    i = heap_size-1\n",
    "    while (i!=0 and heap_arr[parent(i)] > heap_arr[i]):\n",
    "        # swap them\n",
    "        temp = heap_arr[parent(i)]\n",
    "        heap_arr[parent(i)] = heap_arr[i]\n",
    "        heap_arr[i] = temp\n",
    "        i = parent(i)\n",
    "    return heap_size\n",
    "\n",
    "    \n",
    "def getmedian(new_element, old_median):\n",
    "    global left_heap, right_heap, left_heap_size, right_heap_size\n",
    "    if left_heap_size > right_heap_size:\n",
    "        if new_element < old_median:\n",
    "            left_max, left_heap_size = extract_max(left_heap, left_heap_size)\n",
    "            right_heap_size = minheap_insert(right_heap, left_max, right_heap_size)\n",
    "            left_heap_size = maxheap_insert(left_heap, new_element, left_heap_size)\n",
    "        else:\n",
    "            right_heap_size = minheap_insert(right_heap, new_element, right_heap_size)\n",
    "        \n",
    "        new_median = (getMax(left_heap)+ getMin(right_heap))/2\n",
    "        return new_median\n",
    "    elif left_heap_size == right_heap_size:\n",
    "        if new_element < old_median:\n",
    "            left_heap_size = maxheap_insert(left_heap, new_element, left_heap_size)\n",
    "            new_median = getMax(left_heap)\n",
    "        else:\n",
    "            right_heap_size = minheap_insert(right_heap, new_element, right_heap_size)\n",
    "            new_median = getMin(right_heap)\n",
    "        return new_median\n",
    "    else:\n",
    "        if new_element < old_median:\n",
    "            left_heap_size = maxheap_insert(left_heap, new_element, left_heap_size)\n",
    "        else:\n",
    "            right_min, right_heap_size = extract_min(right_heap, right_heap_size)\n",
    "            left_heap_size = maxheap_insert(left_heap, right_min, left_heap_size)\n",
    "            right_heap_size = minheap_insert(right_heap, new_element, right_heap_size)\n",
    "        \n",
    "        new_median = (getMax(left_heap)+ getMin(right_heap))/2\n",
    "        return new_median\n",
    "        \n",
    "        "
   ]
  },
  {
   "cell_type": "markdown",
   "metadata": {},
   "source": [
    "# Test"
   ]
  },
  {
   "cell_type": "code",
   "execution_count": 34,
   "metadata": {},
   "outputs": [
    {
     "name": "stdout",
     "output_type": "stream",
     "text": [
      "Median After adding 5 is 5\n",
      "Median After adding 15 is 10.0\n",
      "Median After adding 1 is 5\n",
      "Median After adding 3 is 4.0\n",
      "Median After adding 2 is 3\n",
      "Median After adding 8 is 4.0\n",
      "Median After adding 7 is 5\n",
      "Median After adding 9 is 6.0\n",
      "Median After adding 10 is 7\n",
      "Median After adding 6 is 6.5\n",
      "Median After adding 11 is 7\n",
      "Median After adding 4 is 6.5\n"
     ]
    }
   ],
   "source": [
    "A = [5, 15, 1, 3, 2, 8, 7, 9, 10, 6, 11, 4]\n",
    "current_median = 0\n",
    "left_heap_size = 0\n",
    "right_heap_size = 0\n",
    "left_heap = []\n",
    "right_heap = []\n",
    "for i in A:\n",
    "    next_median = getmedian(i, current_median)\n",
    "    current_median = next_median\n",
    "    print(f\"Median After adding {i} is {next_median}\")\n",
    "#     print(left_heap)\n",
    "#     print(right_heap)\n",
    "#     print(left_heap_size)\n",
    "#     print(right_heap_size)"
   ]
  },
  {
   "cell_type": "code",
   "execution_count": 35,
   "metadata": {},
   "outputs": [
    {
     "name": "stdout",
     "output_type": "stream",
     "text": [
      "[1]\n",
      "0\n"
     ]
    }
   ],
   "source": [
    "## returning sizes because they are immutable, so call by value\n",
    "## no need to return list because they are mutable, so call by reference\n",
    "## below example clarifies the reason\n",
    "def func(arr,j):\n",
    "    arr.pop()\n",
    "    j+=10\n",
    "ar = [1,10]\n",
    "j = 0\n",
    "func(ar,j)\n",
    "print(ar)\n",
    "print(j)"
   ]
  },
  {
   "cell_type": "code",
   "execution_count": null,
   "metadata": {},
   "outputs": [],
   "source": []
  },
  {
   "cell_type": "code",
   "execution_count": null,
   "metadata": {},
   "outputs": [],
   "source": []
  }
 ],
 "metadata": {
  "kernelspec": {
   "display_name": "Python 3",
   "language": "python",
   "name": "python3"
  },
  "language_info": {
   "codemirror_mode": {
    "name": "ipython",
    "version": 3
   },
   "file_extension": ".py",
   "mimetype": "text/x-python",
   "name": "python",
   "nbconvert_exporter": "python",
   "pygments_lexer": "ipython3",
   "version": "3.9.0"
  }
 },
 "nbformat": 4,
 "nbformat_minor": 4
}
