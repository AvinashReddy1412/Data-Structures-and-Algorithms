{
 "cells": [
  {
   "cell_type": "markdown",
   "metadata": {},
   "source": [
    "##### REFER SCREENSHOTS\n",
    "##### REFER BOTH EXPLANATION AND IMPLEMENTATION SCREENSHOTS FOR CLEAR UNDERSTANDING\n",
    "##### THIS ALGO HELPS IN IMAGE -  SORTING HOCR WORDS "
   ]
  },
  {
   "cell_type": "markdown",
   "metadata": {},
   "source": [
    "# Implementation"
   ]
  },
  {
   "cell_type": "code",
   "execution_count": 1,
   "metadata": {},
   "outputs": [],
   "source": [
    "def build_min_heap(arr,size):\n",
    "    for i in range(size//2-1,-1,-1): # -1 since we are considering index from 0\n",
    "        min_heapify(arr, size, i)\n",
    "\n",
    "def min_heapify(arr, size, index):\n",
    "    left = 2*index + 1\n",
    "    right = 2*index + 2\n",
    "    smallest = index\n",
    "    if left < size and arr[left]['element'] < arr[smallest]['element']:\n",
    "        smallest = left\n",
    "    if right < size and arr[right]['element'] < arr[smallest]['element']:\n",
    "        smallest = right\n",
    "    if smallest != index:\n",
    "        # swap\n",
    "        temp = arr[smallest]\n",
    "        arr[smallest] = arr[index]\n",
    "        arr[index] = temp\n",
    "        min_heapify(arr, size, smallest)\n",
    "        \n",
    "def replace_min_and_heapify(min_heap, heap_size, root):\n",
    "    min_heap[0] = root\n",
    "    min_heapify(min_heap, heap_size, 0)    "
   ]
  },
  {
   "cell_type": "code",
   "execution_count": 4,
   "metadata": {},
   "outputs": [],
   "source": [
    "def printSorted(n):\n",
    "    min_heap_arr = []\n",
    "    for i in range(n+1):\n",
    "        heap_arr_obj = {}\n",
    "        heap_arr_obj['element'] = i*i*i # since in first column j will be 0\n",
    "        heap_arr_obj['i'] = i\n",
    "        heap_arr_obj['j'] = 1 # since next element to insert will be at index 1 in each row\n",
    "        min_heap_arr.append(heap_arr_obj)\n",
    "    heap_size = n+1\n",
    "    build_min_heap(min_heap_arr, heap_size)\n",
    "    for count in range((n+1)*(n+1)):\n",
    "        root = min_heap_arr[0]\n",
    "        print(root['element'])\n",
    "        if root['j'] <= n:\n",
    "            i = root['i']\n",
    "            j = root['j']\n",
    "            root['element'] = (i*i*i)+(j*j*j)\n",
    "            root['j']+=1\n",
    "        else:\n",
    "            root['element'] = 10000000\n",
    "        replace_min_and_heapify(min_heap_arr, heap_size, root)\n",
    "    "
   ]
  },
  {
   "cell_type": "code",
   "execution_count": 5,
   "metadata": {},
   "outputs": [
    {
     "name": "stdout",
     "output_type": "stream",
     "text": [
      "0\n",
      "1\n",
      "1\n",
      "2\n",
      "8\n",
      "8\n",
      "9\n",
      "9\n",
      "16\n"
     ]
    }
   ],
   "source": [
    "printSorted(2)"
   ]
  },
  {
   "cell_type": "code",
   "execution_count": 6,
   "metadata": {},
   "outputs": [
    {
     "name": "stdout",
     "output_type": "stream",
     "text": [
      "0\n",
      "1\n",
      "1\n",
      "2\n",
      "8\n",
      "8\n",
      "9\n",
      "9\n",
      "16\n",
      "27\n",
      "27\n",
      "28\n",
      "28\n",
      "35\n",
      "35\n",
      "54\n"
     ]
    }
   ],
   "source": [
    "printSorted(3)"
   ]
  },
  {
   "cell_type": "code",
   "execution_count": null,
   "metadata": {},
   "outputs": [],
   "source": []
  }
 ],
 "metadata": {
  "kernelspec": {
   "display_name": "Python 3",
   "language": "python",
   "name": "python3"
  },
  "language_info": {
   "codemirror_mode": {
    "name": "ipython",
    "version": 3
   },
   "file_extension": ".py",
   "mimetype": "text/x-python",
   "name": "python",
   "nbconvert_exporter": "python",
   "pygments_lexer": "ipython3",
   "version": "3.9.0"
  }
 },
 "nbformat": 4,
 "nbformat_minor": 4
}
