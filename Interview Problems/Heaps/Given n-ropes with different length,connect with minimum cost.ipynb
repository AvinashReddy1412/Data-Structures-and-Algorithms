{
 "cells": [
  {
   "cell_type": "markdown",
   "metadata": {},
   "source": [
    "# refer screenshot for explanation, time complexity and implementation"
   ]
  },
  {
   "cell_type": "markdown",
   "metadata": {},
   "source": [
    "# Implementation"
   ]
  },
  {
   "cell_type": "code",
   "execution_count": 20,
   "metadata": {},
   "outputs": [],
   "source": [
    "def parent(i):\n",
    "    return (i-1)//2\n",
    "\n",
    "def build_min_heap(arr,size):\n",
    "    for i in range(size//2-1,-1,-1): # -1 since we are considering index from 0\n",
    "        min_heapify(arr, size, i)\n",
    "\n",
    "def min_heapify(arr, size, index):\n",
    "    left = 2*index + 1\n",
    "    right = 2*index + 2\n",
    "    smallest = index\n",
    "    if left < size and arr[left] < arr[smallest]:\n",
    "        smallest = left\n",
    "    if right < size and arr[right] < arr[smallest]:\n",
    "        smallest = right\n",
    "    if smallest != index:\n",
    "        # swap\n",
    "        temp = arr[smallest]\n",
    "        arr[smallest] = arr[index]\n",
    "        arr[index] = temp\n",
    "        min_heapify(arr, size, smallest)\n",
    "\n",
    "def extract_min(heap_arr, heap_size):\n",
    "    if heap_size <= 0:\n",
    "        return -1, heap_size\n",
    "    if heap_size == 1:\n",
    "        heap_size-=1\n",
    "        root = heap_arr.pop()\n",
    "        return root, heap_size\n",
    "    root = heap_arr[0]\n",
    "    heap_arr[0] = heap_arr[-1]\n",
    "    heap_size-=1\n",
    "    heap_arr.pop()\n",
    "    min_heapify(heap_arr, heap_size, 0)\n",
    "    return root, heap_size\n",
    "\n",
    "def minheap_insert(heap_arr, k, heap_size):\n",
    "    # First insert key at the end\n",
    "    heap_size +=1\n",
    "    heap_arr.append(k)\n",
    "    # Fix the min heap property if it is violated\n",
    "    i = heap_size-1\n",
    "    while (i!=0 and heap_arr[parent(i)] > heap_arr[i]):\n",
    "        # swap them\n",
    "        temp = heap_arr[parent(i)]\n",
    "        heap_arr[parent(i)] = heap_arr[i]\n",
    "        heap_arr[i] = temp\n",
    "        i = parent(i)\n",
    "    return heap_size\n",
    "\n",
    "def issizeone(heap_arr):\n",
    "    if len(heap_arr) == 1:\n",
    "        return True\n",
    "    return False"
   ]
  },
  {
   "cell_type": "code",
   "execution_count": 21,
   "metadata": {},
   "outputs": [],
   "source": [
    "def mergeRopes(ropes, n):\n",
    "    cost = 0\n",
    "    heap_size = n\n",
    "    build_min_heap(ropes, heap_size)\n",
    "    while(not issizeone(ropes)):\n",
    "        first_min, heap_size = extract_min(ropes, heap_size)\n",
    "        second_min, heap_size = extract_min(ropes, heap_size)\n",
    "        cost += first_min+second_min\n",
    "        heap_size = minheap_insert(ropes, first_min+second_min, heap_size)\n",
    "    return cost\n",
    "        "
   ]
  },
  {
   "cell_type": "code",
   "execution_count": 22,
   "metadata": {},
   "outputs": [
    {
     "data": {
      "text/plain": [
       "163"
      ]
     },
     "execution_count": 22,
     "metadata": {},
     "output_type": "execute_result"
    }
   ],
   "source": [
    "ropes = [10, 15, 13, 22, 11]\n",
    "n = len(ropes)\n",
    "mergeRopes(ropes, n)"
   ]
  },
  {
   "cell_type": "code",
   "execution_count": 23,
   "metadata": {},
   "outputs": [
    {
     "data": {
      "text/plain": [
       "29"
      ]
     },
     "execution_count": 23,
     "metadata": {},
     "output_type": "execute_result"
    }
   ],
   "source": [
    "ropes = [4, 3, 2, 6]\n",
    "n = len(ropes)\n",
    "mergeRopes(ropes, n)"
   ]
  },
  {
   "cell_type": "code",
   "execution_count": null,
   "metadata": {},
   "outputs": [],
   "source": []
  }
 ],
 "metadata": {
  "kernelspec": {
   "display_name": "Python 3",
   "language": "python",
   "name": "python3"
  },
  "language_info": {
   "codemirror_mode": {
    "name": "ipython",
    "version": 3
   },
   "file_extension": ".py",
   "mimetype": "text/x-python",
   "name": "python",
   "nbconvert_exporter": "python",
   "pygments_lexer": "ipython3",
   "version": "3.9.0"
  }
 },
 "nbformat": 4,
 "nbformat_minor": 4
}
