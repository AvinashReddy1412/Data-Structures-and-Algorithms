{
 "cells": [
  {
   "cell_type": "markdown",
   "metadata": {},
   "source": [
    "### Refer screenshots for various approaches and their time complexities "
   ]
  },
  {
   "cell_type": "markdown",
   "metadata": {},
   "source": [
    "# Implementation"
   ]
  },
  {
   "cell_type": "code",
   "execution_count": 8,
   "metadata": {},
   "outputs": [],
   "source": [
    "def build_min_heap(arr,size):\n",
    "    for i in range(size//2-1,-1,-1): # -1 since we are considering index from 0\n",
    "        min_heapify(arr, size, i)\n",
    "\n",
    "def min_heapify(arr, size, index):\n",
    "    left = 2*index + 1\n",
    "    right = 2*index + 2\n",
    "    smallest = index\n",
    "    if left < size and arr[left] < arr[smallest]:\n",
    "        smallest = left\n",
    "    if right < size and arr[right] < arr[smallest]:\n",
    "        smallest = right\n",
    "    if smallest != index:\n",
    "        # swap\n",
    "        temp = arr[smallest]\n",
    "        arr[smallest] = arr[index]\n",
    "        arr[index] = temp\n",
    "        min_heapify(arr, size, smallest)\n",
    "        \n",
    "def replace_min_and_heapify(min_heap, heap_size, root):\n",
    "    min_heap[0] = root\n",
    "    min_heapify(min_heap, heap_size, 0)    \n",
    "\n",
    "def get_min(heap):\n",
    "    if len(heap) == 0:\n",
    "        return -1\n",
    "    return heap[0]"
   ]
  },
  {
   "cell_type": "code",
   "execution_count": 17,
   "metadata": {},
   "outputs": [],
   "source": [
    "def get_k_largest(k):\n",
    "    count = 0\n",
    "    flag = True\n",
    "    min_heap = []\n",
    "    while(flag):\n",
    "        print(\"Enter element\")\n",
    "        ele = int(input())        \n",
    "        if count < k-1:\n",
    "            min_heap.append(ele)\n",
    "        else:\n",
    "            if count==k-1:\n",
    "                min_heap.append(ele)\n",
    "                build_min_heap(min_heap,k)\n",
    "            root = get_min(min_heap)\n",
    "            if count >= k:\n",
    "                if ele > root:\n",
    "                    root = ele\n",
    "                    replace_min_and_heapify(min_heap,k,root)\n",
    "            print(f'{k}th largest element is {get_min(min_heap)}')\n",
    "\n",
    "        count+=1\n",
    "        if count == 10:\n",
    "            flag = False\n",
    "        \n",
    "        "
   ]
  },
  {
   "cell_type": "markdown",
   "metadata": {},
   "source": [
    "# Test"
   ]
  },
  {
   "cell_type": "code",
   "execution_count": 18,
   "metadata": {},
   "outputs": [
    {
     "name": "stdout",
     "output_type": "stream",
     "text": [
      "Enter element\n",
      "1\n",
      "Enter element\n",
      "2\n",
      "Enter element\n",
      "3\n",
      "Enter element\n",
      "4\n",
      "4th largest element is 1\n",
      "Enter element\n",
      "0\n",
      "4th largest element is 1\n",
      "Enter element\n",
      "0\n",
      "4th largest element is 1\n",
      "Enter element\n",
      "10\n",
      "4th largest element is 2\n",
      "Enter element\n",
      "1\n",
      "4th largest element is 2\n",
      "Enter element\n",
      "13\n",
      "4th largest element is 3\n",
      "Enter element\n",
      "100\n",
      "4th largest element is 4\n"
     ]
    }
   ],
   "source": [
    "get_k_largest(4)"
   ]
  },
  {
   "cell_type": "code",
   "execution_count": null,
   "metadata": {},
   "outputs": [],
   "source": []
  }
 ],
 "metadata": {
  "kernelspec": {
   "display_name": "Python 3",
   "language": "python",
   "name": "python3"
  },
  "language_info": {
   "codemirror_mode": {
    "name": "ipython",
    "version": 3
   },
   "file_extension": ".py",
   "mimetype": "text/x-python",
   "name": "python",
   "nbconvert_exporter": "python",
   "pygments_lexer": "ipython3",
   "version": "3.9.0"
  }
 },
 "nbformat": 4,
 "nbformat_minor": 4
}
