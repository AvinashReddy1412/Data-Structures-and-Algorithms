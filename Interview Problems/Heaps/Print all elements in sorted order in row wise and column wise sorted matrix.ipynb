{
 "cells": [
  {
   "cell_type": "markdown",
   "metadata": {},
   "source": [
    "##### REFER SCREENSHOTS\n",
    "##### REFER BOTH EXPLANATION AND IMPLEMENTATION SCREENSHOTS FOR CLEAR UNDERSTANDING\n",
    "##### THIS ALGO HELPS IN IMAGE -  SORTING HOCR WORDS "
   ]
  },
  {
   "cell_type": "markdown",
   "metadata": {},
   "source": [
    "# Implementation"
   ]
  },
  {
   "cell_type": "code",
   "execution_count": 1,
   "metadata": {},
   "outputs": [],
   "source": [
    "def build_min_heap(arr,size):\n",
    "    for i in range(size//2-1,-1,-1): # -1 since we are considering index from 0\n",
    "        min_heapify(arr, size, i)\n",
    "\n",
    "def min_heapify(arr, size, index):\n",
    "    left = 2*index + 1\n",
    "    right = 2*index + 2\n",
    "    smallest = index\n",
    "    if left < size and arr[left]['element'] < arr[smallest]['element']:\n",
    "        smallest = left\n",
    "    if right < size and arr[right]['element'] < arr[smallest]['element']:\n",
    "        smallest = right\n",
    "    if smallest != index:\n",
    "        # swap\n",
    "        temp = arr[smallest]\n",
    "        arr[smallest] = arr[index]\n",
    "        arr[index] = temp\n",
    "        min_heapify(arr, size, smallest)\n",
    "        \n",
    "def replace_min_and_heapify(min_heap, heap_size, root):\n",
    "    min_heap[0] = root\n",
    "    min_heapify(min_heap, heap_size, 0)    "
   ]
  },
  {
   "cell_type": "code",
   "execution_count": 10,
   "metadata": {},
   "outputs": [],
   "source": [
    "def printSorted(matrix):\n",
    "    min_heap_arr = []\n",
    "    n = len(matrix)\n",
    "    for i in range(n):\n",
    "        heap_arr_obj = {}\n",
    "        heap_arr_obj['element'] = matrix[i][0] # since in first column j will be 0\n",
    "        heap_arr_obj['i'] = i\n",
    "        heap_arr_obj['j'] = 1 # since next element to insert will be at index 1 in each row\n",
    "        min_heap_arr.append(heap_arr_obj)\n",
    "    heap_size = n\n",
    "    build_min_heap(min_heap_arr, heap_size)\n",
    "    for count in range((n)*(n)):\n",
    "        root = min_heap_arr[0]\n",
    "        print(root['element'])\n",
    "        if root['j'] < n:\n",
    "            i = root['i']\n",
    "            j = root['j']\n",
    "            root['element'] = matrix[i][j]\n",
    "            root['j']+=1\n",
    "        else:\n",
    "            root['element'] = 10000000\n",
    "        replace_min_and_heapify(min_heap_arr, heap_size, root)\n",
    "    "
   ]
  },
  {
   "cell_type": "code",
   "execution_count": 11,
   "metadata": {},
   "outputs": [
    {
     "name": "stdout",
     "output_type": "stream",
     "text": [
      "10\n",
      "11\n",
      "15\n",
      "20\n",
      "25\n",
      "29\n",
      "30\n",
      "36\n",
      "40\n",
      "45\n",
      "78\n",
      "99\n",
      "100\n",
      "234\n",
      "567\n",
      "983\n"
     ]
    }
   ],
   "source": [
    "matrix = [[10, 20, 30, 40],\n",
    "         [15, 25, 36, 78],\n",
    "         [11, 29, 45, 99],\n",
    "         [100, 234, 567, 983]]\n",
    "printSorted(matrix)"
   ]
  },
  {
   "cell_type": "code",
   "execution_count": null,
   "metadata": {},
   "outputs": [],
   "source": []
  }
 ],
 "metadata": {
  "kernelspec": {
   "display_name": "Python 3",
   "language": "python",
   "name": "python3"
  },
  "language_info": {
   "codemirror_mode": {
    "name": "ipython",
    "version": 3
   },
   "file_extension": ".py",
   "mimetype": "text/x-python",
   "name": "python",
   "nbconvert_exporter": "python",
   "pygments_lexer": "ipython3",
   "version": "3.9.0"
  }
 },
 "nbformat": 4,
 "nbformat_minor": 4
}
