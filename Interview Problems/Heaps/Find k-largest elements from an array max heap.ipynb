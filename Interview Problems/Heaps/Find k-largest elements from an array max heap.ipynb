{
 "cells": [
  {
   "cell_type": "markdown",
   "metadata": {},
   "source": [
    "# Understanding the problem statement\n",
    "\n",
    "Given an array, we have to find out first k largest elements in it\n",
    "\n",
    "Input : [10,2,30,25,60,100,50,1000] , k=3\n",
    "\n",
    "Output: 1000,100,60"
   ]
  },
  {
   "cell_type": "markdown",
   "metadata": {},
   "source": [
    "# Algorithm\n",
    "\n",
    "1. Multiple Algorithms have been explained clearly in screenshots folder along with complexities.\n",
    "2. Algorithms include brute force, using max heap, using BST, using min heap\n",
    "3. Lets implement the optimized approach using min heap now but before that we shall implement all the heap helper    functions like min_heapify, max_heapify, build_max_heap and build_min_heap"
   ]
  },
  {
   "cell_type": "markdown",
   "metadata": {},
   "source": [
    "# Implementation"
   ]
  },
  {
   "cell_type": "code",
   "execution_count": 20,
   "metadata": {},
   "outputs": [],
   "source": [
    "def build_min_heap(arr,size):\n",
    "    for i in range(size//2-1,-1,-1): # -1 since we are considering index from 0\n",
    "        min_heapify(arr, size, i)\n",
    "\n",
    "def min_heapify(arr, size, index):\n",
    "    left = 2*index + 1\n",
    "    right = 2*index + 2\n",
    "    smallest = index\n",
    "    if left < size and arr[left] < arr[smallest]:\n",
    "        smallest = left\n",
    "    if right < size and arr[right] < arr[smallest]:\n",
    "        smallest = right\n",
    "    if smallest != index:\n",
    "        # swap\n",
    "        temp = arr[smallest]\n",
    "        arr[smallest] = arr[index]\n",
    "        arr[index] = temp\n",
    "        min_heapify(arr, size, smallest)\n",
    "\n",
    "def build_max_heap(arr,size):\n",
    "    for i in range(size//2-1,-1,-1):\n",
    "        max_heapify(arr, size, i)\n",
    "\n",
    "def max_heapify(arr, size, index):\n",
    "    left = 2*index + 1\n",
    "    right = 2*index + 2\n",
    "    largest = index\n",
    "    if left < size and arr[left] > arr[largest]:\n",
    "        largest = left\n",
    "    if right < size and arr[right] > arr[largest]:\n",
    "        largest = right\n",
    "    if largest != index:\n",
    "        # swap\n",
    "        temp = arr[largest]\n",
    "        arr[largest] = arr[index]\n",
    "        arr[index] = temp\n",
    "        min_heapify(arr, size, largest)"
   ]
  },
  {
   "cell_type": "code",
   "execution_count": 21,
   "metadata": {},
   "outputs": [],
   "source": [
    "def get_k_largest(arr, size, k):\n",
    "    build_min_heap(arr,k)\n",
    "    for i in range(k,size):\n",
    "        if arr[i] > arr[0]: # comparing with min heap root\n",
    "            # swap since greater element is found outside min heap\n",
    "            temp = arr[0]\n",
    "            arr[0] = arr[i]\n",
    "            arr[i] = temp\n",
    "            min_heapify(arr, k, 0)\n",
    "    return arr[:k]"
   ]
  },
  {
   "cell_type": "markdown",
   "metadata": {},
   "source": [
    "# Test"
   ]
  },
  {
   "cell_type": "code",
   "execution_count": 22,
   "metadata": {},
   "outputs": [
    {
     "data": {
      "text/plain": [
       "[60, 1000, 100]"
      ]
     },
     "execution_count": 22,
     "metadata": {},
     "output_type": "execute_result"
    }
   ],
   "source": [
    "arr = [10,2,30,25,60,100,50,1000]\n",
    "k = 3\n",
    "size = len(arr)\n",
    "get_k_largest(arr, size, k)\n",
    "# ans\n",
    "# [60, 1000, 100]"
   ]
  },
  {
   "cell_type": "code",
   "execution_count": 23,
   "metadata": {},
   "outputs": [
    {
     "data": {
      "text/plain": [
       "[70, 100, 99]"
      ]
     },
     "execution_count": 23,
     "metadata": {},
     "output_type": "execute_result"
    }
   ],
   "source": [
    "arr = [10,2,30,25,70,99,50,100]\n",
    "k = 3\n",
    "size = len(arr)\n",
    "get_k_largest(arr, size, k)\n",
    "# ans\n",
    "# [70, 100, 99]"
   ]
  },
  {
   "cell_type": "code",
   "execution_count": 24,
   "metadata": {},
   "outputs": [
    {
     "data": {
      "text/plain": [
       "[2, 10, 30]"
      ]
     },
     "execution_count": 24,
     "metadata": {},
     "output_type": "execute_result"
    }
   ],
   "source": [
    "arr = [10,2,30]\n",
    "k = 3\n",
    "size = len(arr)\n",
    "get_k_largest(arr, size, k)\n",
    "# ans\n",
    "# [2, 10, 30]"
   ]
  },
  {
   "cell_type": "code",
   "execution_count": null,
   "metadata": {},
   "outputs": [],
   "source": []
  }
 ],
 "metadata": {
  "kernelspec": {
   "display_name": "Python 3",
   "language": "python",
   "name": "python3"
  },
  "language_info": {
   "codemirror_mode": {
    "name": "ipython",
    "version": 3
   },
   "file_extension": ".py",
   "mimetype": "text/x-python",
   "name": "python",
   "nbconvert_exporter": "python",
   "pygments_lexer": "ipython3",
   "version": "3.9.0"
  }
 },
 "nbformat": 4,
 "nbformat_minor": 4
}
