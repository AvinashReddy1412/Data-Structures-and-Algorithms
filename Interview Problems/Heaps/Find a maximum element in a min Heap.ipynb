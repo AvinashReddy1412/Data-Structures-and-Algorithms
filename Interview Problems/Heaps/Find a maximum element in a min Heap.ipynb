{
 "cells": [
  {
   "cell_type": "markdown",
   "metadata": {},
   "source": [
    "# Understanding the problem statement\n",
    "\n",
    "Given a min heap, we have to find the maximum element in it.\n",
    "\n",
    "Input : { 10, 25, 23, 45, 50, 30, 35, 63, 65, 81 }\n",
    "\n",
    "Output : 81"
   ]
  },
  {
   "cell_type": "markdown",
   "metadata": {},
   "source": [
    "# Algorithm"
   ]
  },
  {
   "cell_type": "markdown",
   "metadata": {},
   "source": [
    "1. Traverse all the leaf nodes in the given array and find the max element in them.\n",
    "2. Leaf nodes will be from n/2 to n.\n",
    "3. Refer screenshot for clear explanation"
   ]
  },
  {
   "cell_type": "markdown",
   "metadata": {},
   "source": [
    "# Complexity :\n",
    "# Time :\n",
    "    O(n) since n/2 - 1 comparisons\n",
    "# Space:\n",
    "    O(1) since no extra space is used"
   ]
  },
  {
   "cell_type": "markdown",
   "metadata": {},
   "source": [
    "# Implementation"
   ]
  },
  {
   "cell_type": "code",
   "execution_count": 2,
   "metadata": {},
   "outputs": [],
   "source": [
    "def max_ele_min_heap(heap_arr,size):\n",
    "    max_ele = heap_arr[0]\n",
    "    for i in range(size//2,size):\n",
    "        if heap_arr[i] > max_ele:\n",
    "            max_ele = heap_arr[i]\n",
    "    return max_ele"
   ]
  },
  {
   "cell_type": "code",
   "execution_count": 3,
   "metadata": {},
   "outputs": [
    {
     "data": {
      "text/plain": [
       "81"
      ]
     },
     "execution_count": 3,
     "metadata": {},
     "output_type": "execute_result"
    }
   ],
   "source": [
    "heap_arr = [ 10, 25, 23, 45, 50, 30, 35, 63, 65, 81 ]\n",
    "size = len(heap_arr)\n",
    "max_ele_min_heap(heap_arr, size)\n",
    "# ans\n",
    "# 81"
   ]
  },
  {
   "cell_type": "code",
   "execution_count": 4,
   "metadata": {},
   "outputs": [
    {
     "data": {
      "text/plain": [
       "92"
      ]
     },
     "execution_count": 4,
     "metadata": {},
     "output_type": "execute_result"
    }
   ],
   "source": [
    "heap_arr = [ 10, 25, 23, 45, 50, 30, 35, 63, 92, 81 ]\n",
    "size = len(heap_arr)\n",
    "max_ele_min_heap(heap_arr, size)\n",
    "# ans\n",
    "# 92"
   ]
  },
  {
   "cell_type": "code",
   "execution_count": null,
   "metadata": {},
   "outputs": [],
   "source": []
  }
 ],
 "metadata": {
  "kernelspec": {
   "display_name": "Python 3",
   "language": "python",
   "name": "python3"
  },
  "language_info": {
   "codemirror_mode": {
    "name": "ipython",
    "version": 3
   },
   "file_extension": ".py",
   "mimetype": "text/x-python",
   "name": "python",
   "nbconvert_exporter": "python",
   "pygments_lexer": "ipython3",
   "version": "3.9.0"
  }
 },
 "nbformat": 4,
 "nbformat_minor": 4
}
