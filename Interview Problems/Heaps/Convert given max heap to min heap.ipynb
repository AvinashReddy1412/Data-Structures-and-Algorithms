{
 "cells": [
  {
   "cell_type": "markdown",
   "metadata": {},
   "source": [
    "# Understanding the problem statement\n",
    "    Given a max heap we should convert it into min heap"
   ]
  },
  {
   "cell_type": "markdown",
   "metadata": {},
   "source": [
    "# Algorithm"
   ]
  },
  {
   "cell_type": "markdown",
   "metadata": {},
   "source": [
    "1. We have to convert given max heap to min heap \n",
    "2. The operation we can perform on max heap is delete max. So we can delete max and insert it into min heap.\n",
    "3. We know insertion takes O(logn) in min heap. We have to insert n elements into\n",
    "min heap and therefore total time complexity is O(nlogn).\n",
    "4. It does not differ if we delete max or any element from max heap for inserting into min heap because whatever element is insertion takes O(logn).\n",
    "5. We are not making use of max heap properties anywhere here.\n",
    "6. So its better to treat heap as normal array of elements and try to build min heap\n",
    "from scratch.\n",
    "7. We know buiding heap from scratch takes O(n).\n",
    "8. So to convert max heap to min heap we treat max heap as a normal array and try to build min heap from scratch and time complexity for this approach is O(n).\n",
    "9. Since we make use of same array space complexity is O(1)"
   ]
  },
  {
   "cell_type": "markdown",
   "metadata": {},
   "source": [
    "# Complexity :\n",
    "# Time Complexity :\n",
    "    O(n) since we are building min heap\n",
    "# Space Complexity :\n",
    "    O(1) since no extra space is used\n"
   ]
  },
  {
   "cell_type": "markdown",
   "metadata": {},
   "source": [
    "# Implementation"
   ]
  },
  {
   "cell_type": "code",
   "execution_count": 1,
   "metadata": {},
   "outputs": [],
   "source": [
    "def build_min_heap(arr,size):\n",
    "    for i in range(size//2-1,-1,-1): # -1 since we are considering index from 0\n",
    "        min_heapify(arr, size, i)\n",
    "\n",
    "def min_heapify(arr, size, index):\n",
    "    left = 2*index + 1\n",
    "    right = 2*index + 2\n",
    "    smallest = index\n",
    "    if left < size and arr[left] < arr[smallest]:\n",
    "        smallest = left\n",
    "    if right < size and arr[right] < arr[smallest]:\n",
    "        smallest = right\n",
    "    if smallest != index:\n",
    "        # swap\n",
    "        temp = arr[smallest]\n",
    "        arr[smallest] = arr[index]\n",
    "        arr[index] = temp\n",
    "        min_heapify(arr, size, smallest)\n",
    "\n",
    "def convert_max_heap_to_min_heap(max_heap, size):\n",
    "    build_min_heap(max_heap, size)\n",
    "    "
   ]
  },
  {
   "cell_type": "markdown",
   "metadata": {},
   "source": [
    "# Test"
   ]
  },
  {
   "cell_type": "code",
   "execution_count": 4,
   "metadata": {},
   "outputs": [
    {
     "name": "stdout",
     "output_type": "stream",
     "text": [
      "[4, 6, 5, 7, 9, 10, 8]\n"
     ]
    }
   ],
   "source": [
    "max_heap = [10,9,8,7,6,5,4]\n",
    "size = 7\n",
    "convert_max_heap_to_min_heap(max_heap, size)\n",
    "print(max_heap)\n",
    "# ans\n",
    "# [4, 6, 5, 7, 9, 10, 8]\n",
    "# many answers might be possible"
   ]
  },
  {
   "cell_type": "code",
   "execution_count": null,
   "metadata": {},
   "outputs": [],
   "source": []
  }
 ],
 "metadata": {
  "kernelspec": {
   "display_name": "Python 3",
   "language": "python",
   "name": "python3"
  },
  "language_info": {
   "codemirror_mode": {
    "name": "ipython",
    "version": 3
   },
   "file_extension": ".py",
   "mimetype": "text/x-python",
   "name": "python",
   "nbconvert_exporter": "python",
   "pygments_lexer": "ipython3",
   "version": "3.9.0"
  }
 },
 "nbformat": 4,
 "nbformat_minor": 4
}
