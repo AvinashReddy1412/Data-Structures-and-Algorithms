{
 "cells": [
  {
   "cell_type": "markdown",
   "metadata": {},
   "source": [
    "# Understanding the problem statement"
   ]
  },
  {
   "cell_type": "raw",
   "metadata": {},
   "source": [
    "Given a min heap and a value, we have to delete node from min heap whose value is equal to given value.\n",
    "\n",
    "Input : [1,2,3,4,5,6] , k = 2\n",
    "Output : [1,3,4,5,6]"
   ]
  },
  {
   "cell_type": "markdown",
   "metadata": {},
   "source": [
    "# Algorithm"
   ]
  },
  {
   "cell_type": "markdown",
   "metadata": {},
   "source": [
    "1. Traverse the min heap and find the node/element whose value is k\n",
    "2. Exchange current node or node with value k, with the last element.\n",
    "3. Decrease heap size.\n",
    "4. Now call min_heapify on exchanged node index.\n",
    "5. Refer screenshot for clear explanation"
   ]
  },
  {
   "cell_type": "markdown",
   "metadata": {},
   "source": [
    "# Complexity :\n",
    "# Time :\n",
    "    1. For finding node with given value k, we are traversing complete heap --> O(n)\n",
    "    2. Min_heapify is called. O(logn)\n",
    "    3. Total Time complexity --> O(n)+O(logn)\n",
    "# Space:\n",
    "    no extra space is used. But min_heapify internally uses stack records for recursion \n",
    "    so O(logn)"
   ]
  },
  {
   "cell_type": "markdown",
   "metadata": {},
   "source": [
    "# Implementation"
   ]
  },
  {
   "cell_type": "code",
   "execution_count": 2,
   "metadata": {},
   "outputs": [],
   "source": [
    "# may be take min_heapify from k - largest elements\n",
    "def min_heapify(heap_arr, index ):\n",
    "    left = 2*index\n",
    "    right = 2*index+1\n",
    "    heap_size = len(heap_arr)+1 # +1 since we are considering index from 1 and to check left < size we have add +1 \n",
    "    smallest = index\n",
    "    if left < heap_size and heap_arr[left-1] < heap_arr[index-1]:\n",
    "        smallest = left\n",
    "    if right < heap_size and heap_arr[right-1] < heap_arr[smallest-1]:\n",
    "        smallest = right\n",
    "    if smallest != index :\n",
    "        # swap\n",
    "        temp = heap_arr[smallest-1]\n",
    "        heap_arr[smallest-1] = heap_arr[index-1]\n",
    "        heap_arr[index-1] = temp\n",
    "        # call min_heapify on smallest index\n",
    "        min_heapify(heap_arr, smallest )\n",
    "        \n",
    "def delete_min_heap(heap_arr, k, heap_size):\n",
    "    index_to_delete = None\n",
    "    for i in range(heap_size):\n",
    "        if heap_arr[i] == k:\n",
    "            index_to_delete = i\n",
    "    if index_to_delete:\n",
    "        heap_arr[index_to_delete] = heap_arr[-1]\n",
    "        heap_size -=1\n",
    "        heap_arr.pop()\n",
    "        min_heapify(heap_arr, index_to_delete+1) # +1 because heap indexing starts from 1 instead of zero. to calculate left and right child\n",
    "                                                 # starting from 1 will be helpful. Again while accessing array we should do -1\n",
    "    return heap_arr"
   ]
  },
  {
   "cell_type": "markdown",
   "metadata": {},
   "source": [
    "# Test"
   ]
  },
  {
   "cell_type": "code",
   "execution_count": 3,
   "metadata": {},
   "outputs": [
    {
     "data": {
      "text/plain": [
       "[10, 20, 40, 80]"
      ]
     },
     "execution_count": 3,
     "metadata": {},
     "output_type": "execute_result"
    }
   ],
   "source": [
    "heap_arr = [10,20,40,60,80]\n",
    "k = 60\n",
    "heap_size = len(heap_arr)\n",
    "delete_min_heap(heap_arr, k, heap_size)\n",
    "# ans\n",
    "# [10,20,40,80]"
   ]
  },
  {
   "cell_type": "code",
   "execution_count": 4,
   "metadata": {},
   "outputs": [
    {
     "data": {
      "text/plain": [
       "[10, 20, 40, 60, 80]"
      ]
     },
     "execution_count": 4,
     "metadata": {},
     "output_type": "execute_result"
    }
   ],
   "source": [
    "heap_arr = [10,20,40,60,80]\n",
    "k = 100\n",
    "heap_size = len(heap_arr)\n",
    "delete_min_heap(heap_arr, k, heap_size)\n",
    "# ans\n",
    "# [10,20,40,60,80]"
   ]
  },
  {
   "cell_type": "code",
   "execution_count": 5,
   "metadata": {},
   "outputs": [
    {
     "data": {
      "text/plain": [
       "[13, 16, 80, 41, 60, 100]"
      ]
     },
     "execution_count": 5,
     "metadata": {},
     "output_type": "execute_result"
    }
   ],
   "source": [
    "heap_arr = [13,16,31,41,60,80,100]\n",
    "k = 31\n",
    "heap_size = len(heap_arr)\n",
    "delete_min_heap(heap_arr, k, heap_size)\n",
    "# ans\n",
    "# [13, 16, 80, 41, 60, 100]"
   ]
  },
  {
   "cell_type": "code",
   "execution_count": null,
   "metadata": {},
   "outputs": [],
   "source": []
  },
  {
   "cell_type": "code",
   "execution_count": null,
   "metadata": {},
   "outputs": [],
   "source": []
  }
 ],
 "metadata": {
  "kernelspec": {
   "display_name": "Python 3",
   "language": "python",
   "name": "python3"
  },
  "language_info": {
   "codemirror_mode": {
    "name": "ipython",
    "version": 3
   },
   "file_extension": ".py",
   "mimetype": "text/x-python",
   "name": "python",
   "nbconvert_exporter": "python",
   "pygments_lexer": "ipython3",
   "version": "3.9.0"
  }
 },
 "nbformat": 4,
 "nbformat_minor": 4
}
