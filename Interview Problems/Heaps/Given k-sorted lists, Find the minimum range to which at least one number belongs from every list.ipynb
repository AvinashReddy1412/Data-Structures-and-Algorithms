{
 "cells": [
  {
   "cell_type": "markdown",
   "metadata": {},
   "source": [
    "# Understanding the problem statement\n",
    "\n",
    "    Given K sorted lists, we have to find a minimum range such that atleast one element from each of the k lists should be present in the range\n",
    "    \n",
    "Input  : \n",
    "\n",
    "        [[15, 27, 35, 42],\n",
    "        [12 , 14, 16, 21],\n",
    "        [10, 25, 55, 67],\n",
    "        [23, 33, 41, 43]]\n",
    "Output : \n",
    "        \n",
    "        [21, 27] \n",
    "        \n",
    "21, 27 is answer because 27 from first list, 21 from second list, 25 from third list and 23 from fourth list are covered in 21,27 range and this is the minimum length range i.e 27-21 = 6 less than all other ranges"
   ]
  },
  {
   "cell_type": "markdown",
   "metadata": {},
   "source": [
    "# Algorithm :\n",
    "\n",
    "1. Clear explanation is given in reference screenshot. But we implement using heap.\n",
    "2. We store min elements from all K lists in Heap.(we store all elements in list and apply build min heap on it) Along with element we also store list number and index of upcoming element because while squeezing the range as mentioned in screenshot, we drop the element. Once we drop the element we need to know what element should be added. we decide what element should be added based on the list number and upcoming index. So we store them.\n",
    "3. While dropping min element, we drop root of min heap because root will be min of all and then add upcoming element. So instead of dropping min element and add upcoming element, we directly use replaceminandheapify."
   ]
  },
  {
   "cell_type": "markdown",
   "metadata": {},
   "source": [
    "# Implementation"
   ]
  },
  {
   "cell_type": "code",
   "execution_count": 13,
   "metadata": {},
   "outputs": [],
   "source": [
    "def build_min_heap(arr,size):\n",
    "    for i in range(size//2-1,-1,-1): # -1 since we are considering index from 0\n",
    "        min_heapify(arr, size, i)\n",
    "\n",
    "def min_heapify(arr, size, index):\n",
    "    left = 2*index + 1\n",
    "    right = 2*index + 2\n",
    "    smallest = index\n",
    "    if left < size and arr[left]['element'] < arr[smallest]['element']:\n",
    "        smallest = left\n",
    "    if right < size and arr[right]['element'] < arr[smallest]['element']:\n",
    "        smallest = right\n",
    "    if smallest != index:\n",
    "        # swap\n",
    "        temp = arr[smallest]\n",
    "        arr[smallest] = arr[index]\n",
    "        arr[index] = temp\n",
    "        min_heapify(arr, size, smallest)\n",
    "        \n",
    "def replace_min_and_heapify(min_heap, heap_size, root):\n",
    "    min_heap[0] = root\n",
    "    min_heapify(min_heap, heap_size, 0)    "
   ]
  },
  {
   "cell_type": "code",
   "execution_count": 14,
   "metadata": {},
   "outputs": [],
   "source": [
    "def find_smallest_range(sorted_lists, k, n):\n",
    "    min_heap_arr = []\n",
    "    curr_range = 1000000\n",
    "    max_ele = 0\n",
    "    start = 0\n",
    "    end = 0\n",
    "    for i in range(k):\n",
    "        heap_arr_obj = dict()\n",
    "        heap_arr_obj['element'] = sorted_lists[i][0]\n",
    "        heap_arr_obj['i'] = i\n",
    "        heap_arr_obj['j'] = 1 #upcoming element index\n",
    "        if heap_arr_obj['element'] > max_ele:\n",
    "            max_ele = heap_arr_obj['element']\n",
    "        min_heap_arr.append(heap_arr_obj)\n",
    "    build_min_heap(min_heap_arr,k)\n",
    "    while(1):\n",
    "        root = min_heap_arr[0]\n",
    "        min_ele = root['element']\n",
    "        if curr_range > max_ele - min_ele +1:\n",
    "            curr_range = max_ele - min_ele+1\n",
    "            start = min_ele\n",
    "            end = max_ele\n",
    "        if root['j'] < n:\n",
    "            root['element'] = sorted_lists[root['i']][root['j']]\n",
    "            root['j'] +=1\n",
    "            if root['element'] > max_ele:\n",
    "                max_ele = root['element']\n",
    "        else:\n",
    "            break\n",
    "        replace_min_and_heapify(min_heap_arr, k, root)\n",
    "    print(f\"range is from {start} to {end}\")\n",
    "        \n",
    "        \n",
    "    "
   ]
  },
  {
   "cell_type": "code",
   "execution_count": 17,
   "metadata": {},
   "outputs": [
    {
     "name": "stdout",
     "output_type": "stream",
     "text": [
      "range is from 21 to 27\n"
     ]
    }
   ],
   "source": [
    "sorted_lists = [[15, 27, 35, 42],\n",
    "    [12 , 14, 16, 21],\n",
    "    [10, 25, 55, 67],\n",
    "    [23, 33, 41, 43]]\n",
    "k = 4\n",
    "n = 4\n",
    "find_smallest_range(sorted_lists, k, n)\n",
    "# ans \n",
    "# range is from 21 to 27"
   ]
  },
  {
   "cell_type": "code",
   "execution_count": 18,
   "metadata": {},
   "outputs": [
    {
     "name": "stdout",
     "output_type": "stream",
     "text": [
      "range is from 22 to 26\n"
     ]
    }
   ],
   "source": [
    "sorted_lists = [[15, 26, 35, 42],\n",
    "    [12 , 14, 16, 22],\n",
    "    [10, 25, 55, 67],\n",
    "    [23, 33, 41, 43]]\n",
    "k = 4\n",
    "n = 4\n",
    "find_smallest_range(sorted_lists, k, n)\n",
    "# ans\n",
    "# range is from 22 to 26"
   ]
  },
  {
   "cell_type": "code",
   "execution_count": null,
   "metadata": {},
   "outputs": [],
   "source": []
  }
 ],
 "metadata": {
  "kernelspec": {
   "display_name": "Python 3",
   "language": "python",
   "name": "python3"
  },
  "language_info": {
   "codemirror_mode": {
    "name": "ipython",
    "version": 3
   },
   "file_extension": ".py",
   "mimetype": "text/x-python",
   "name": "python",
   "nbconvert_exporter": "python",
   "pygments_lexer": "ipython3",
   "version": "3.9.0"
  }
 },
 "nbformat": 4,
 "nbformat_minor": 4
}
