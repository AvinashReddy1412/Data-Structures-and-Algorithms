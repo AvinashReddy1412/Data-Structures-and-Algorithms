{
 "cells": [
  {
   "cell_type": "markdown",
   "metadata": {},
   "source": [
    "# Understanding the problem statement"
   ]
  },
  {
   "cell_type": "markdown",
   "metadata": {},
   "source": [
    "We need to implement stack operations push and pop using queue operations enqueue and dequeue.\n"
   ]
  },
  {
   "cell_type": "markdown",
   "metadata": {},
   "source": [
    "# Algorithm "
   ]
  },
  {
   "cell_type": "raw",
   "metadata": {},
   "source": [
    "1. Stack is Last In First Out whereas Queue is First In First Out.\n",
    "2. Stack Push : 1,2,3,4,5\n",
    "   Stack Pop Order : 5,4,3,2,1\n",
    "   Queue Insert : 1,2,3,4,5\n",
    "   Queue Delete Order : 1,2,3,4,5\n",
    "3. So we will be needing two queues to implement stack.\n",
    "4. For complete algorithm refer screenshot."
   ]
  },
  {
   "cell_type": "markdown",
   "metadata": {},
   "source": [
    "# Implementation"
   ]
  },
  {
   "cell_type": "markdown",
   "metadata": {},
   "source": [
    "## Stack Implementation"
   ]
  },
  {
   "cell_type": "code",
   "execution_count": 9,
   "metadata": {},
   "outputs": [],
   "source": [
    "class Stack:\n",
    "    def __init__(self,maxsize):\n",
    "        self.top = -1\n",
    "        self.stack = [0]*maxsize\n",
    "        self.maxsize = maxsize\n",
    "    \n",
    "    def push(self,item):\n",
    "        if self.top == self.maxsize-1:\n",
    "            print(\"overflow\")\n",
    "        else:\n",
    "            self.top+=1\n",
    "            self.stack[self.top] = item\n",
    "    \n",
    "    def pop(self):\n",
    "        if self.top == -1:\n",
    "            print(\"underflow\")\n",
    "            return -1\n",
    "        else:\n",
    "            temp = self.stack[self.top]\n",
    "            self.top-=1\n",
    "            return temp\n",
    "        \n",
    "    def display(self):\n",
    "        for i in self.stack:\n",
    "            print(i,end=' ')\n",
    "            "
   ]
  },
  {
   "cell_type": "markdown",
   "metadata": {},
   "source": [
    "## Queue Implementation"
   ]
  },
  {
   "cell_type": "code",
   "execution_count": 10,
   "metadata": {},
   "outputs": [],
   "source": [
    "class Queue:\n",
    "    def __init__(self,maxsize):\n",
    "        self.queue = [0]*maxsize\n",
    "        self.front = 0\n",
    "        self.rear = 0\n",
    "        self.maxsize = maxsize\n",
    "    \n",
    "    def enqueue(self,item):\n",
    "        self.rear = (self.rear+1)%self.maxsize\n",
    "        if (self.front == self.rear):\n",
    "            print(\"Overflow\")\n",
    "            if self.rear == 0:\n",
    "                self.rear = self.maxsize - 1\n",
    "            else:\n",
    "                self.rear = self.rear - 1\n",
    "            return\n",
    "        else:\n",
    "            self.queue[self.rear] = item\n",
    "            return\n",
    "    \n",
    "    def dequeue(self):\n",
    "        if (self.front == self.rear):\n",
    "            print(\"Underflow\")\n",
    "            return -1\n",
    "        else:\n",
    "            self.front = (self.front+1)%self.maxsize\n",
    "            item = self.queue[self.front]\n",
    "            return item\n",
    "\n",
    "    def isEmpty(self):\n",
    "        if self.front == self.rear:\n",
    "            return True\n",
    "        return False\n",
    "    \n",
    "    def display(self):\n",
    "        print(self.queue)\n",
    "            "
   ]
  },
  {
   "cell_type": "markdown",
   "metadata": {},
   "source": [
    "# Implementing Stack Using Queue"
   ]
  },
  {
   "cell_type": "code",
   "execution_count": 11,
   "metadata": {},
   "outputs": [],
   "source": [
    "class QStack:\n",
    "    def __init__(self):\n",
    "        self.q1 = Queue(10)\n",
    "        self.q2 = Queue(10)\n",
    "    \n",
    "    def push(self,item):\n",
    "        if self.q1.isEmpty():\n",
    "            self.q1.enqueue(item)\n",
    "            while(not self.q2.isEmpty()):\n",
    "                self.q1.enqueue(self.q2.dequeue())\n",
    "        else:\n",
    "            self.q2.enqueue(item)\n",
    "            while(not self.q1.isEmpty()):\n",
    "                self.q2.enqueue(self.q1.dequeue())\n",
    "\n",
    "    def pop(self):\n",
    "        if self.q1.isEmpty():\n",
    "            return self.q2.dequeue()\n",
    "        return self.q1.dequeue()\n",
    "        \n",
    "    def display(self):\n",
    "        if self.q1.isEmpty():\n",
    "            self.q2.display()\n",
    "        else:\n",
    "            self.q1.display()\n",
    "            "
   ]
  },
  {
   "cell_type": "markdown",
   "metadata": {},
   "source": [
    "# Test"
   ]
  },
  {
   "cell_type": "code",
   "execution_count": 12,
   "metadata": {},
   "outputs": [
    {
     "name": "stdout",
     "output_type": "stream",
     "text": [
      "****** COMPARE *************\n",
      "6\n",
      "6\n",
      "****** COMPARE *************\n",
      "8\n",
      "8\n",
      "****** COMPARE *************\n",
      "4\n",
      "4\n",
      "****** COMPARE *************\n",
      "3\n",
      "3\n"
     ]
    }
   ],
   "source": [
    "# Comparing Stack vs Qstack. Push and Pop should be similar\n",
    "\n",
    "s = Stack(10)\n",
    "qs = QStack()\n",
    "\n",
    "s.push(7)\n",
    "qs.push(7)\n",
    "\n",
    "\n",
    "s.push(6)\n",
    "qs.push(6)\n",
    "\n",
    "\n",
    "print(\"****** COMPARE *************\")\n",
    "print(s.pop())\n",
    "print(qs.pop())\n",
    "\n",
    "s.push(3)\n",
    "qs.push(3)\n",
    "\n",
    "s.push(4)\n",
    "qs.push(4)\n",
    "\n",
    "s.push(8)\n",
    "qs.push(8)\n",
    "\n",
    "\n",
    "print(\"****** COMPARE *************\")\n",
    "print(s.pop())\n",
    "print(qs.pop())\n",
    "\n",
    "print(\"****** COMPARE *************\")\n",
    "print(s.pop())\n",
    "print(qs.pop())\n",
    "\n",
    "print(\"****** COMPARE *************\")\n",
    "print(s.pop())\n",
    "print(qs.pop())\n",
    "\n"
   ]
  },
  {
   "cell_type": "markdown",
   "metadata": {},
   "source": [
    "##### Results matched.\n",
    "we can display() in between to check elements they contain, but they are returning zeroes. Implement stack using linkedlist instead of arrays and follow the algorithm for effective display()"
   ]
  },
  {
   "cell_type": "code",
   "execution_count": 13,
   "metadata": {},
   "outputs": [],
   "source": [
    "# print(\"****** COMPARE *************\")\n",
    "# s.display()\n",
    "# qs.display()\n"
   ]
  },
  {
   "cell_type": "code",
   "execution_count": null,
   "metadata": {},
   "outputs": [],
   "source": []
  }
 ],
 "metadata": {
  "kernelspec": {
   "display_name": "3.8.6 (pyenv)",
   "language": "python",
   "name": "pyenv-386"
  },
  "language_info": {
   "codemirror_mode": {
    "name": "ipython",
    "version": 3
   },
   "file_extension": ".py",
   "mimetype": "text/x-python",
   "name": "python",
   "nbconvert_exporter": "python",
   "pygments_lexer": "ipython3",
   "version": "3.8.6"
  }
 },
 "nbformat": 4,
 "nbformat_minor": 4
}
