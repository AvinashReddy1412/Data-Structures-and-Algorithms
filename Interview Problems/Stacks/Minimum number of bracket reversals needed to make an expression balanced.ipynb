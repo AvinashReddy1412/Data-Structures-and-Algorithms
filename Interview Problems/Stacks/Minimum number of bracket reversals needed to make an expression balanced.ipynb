{
 "cells": [
  {
   "cell_type": "markdown",
   "metadata": {},
   "source": [
    "# Understanding the problem statement"
   ]
  },
  {
   "cell_type": "raw",
   "metadata": {},
   "source": [
    "Given an array or expression, we should calculate the minimum number of reversals that should be made to make the\n",
    "expression or array of paranthesis balanced.\n",
    "\n",
    "Input : }}{{}}{{\n",
    "Output : 2\n",
    "    \n",
    "Input : }}}}{{}}{{{{\n",
    "Output : 4\n",
    "    \n",
    "Input : }}}{{{  # will be clear after checking screenshot formula\n",
    "Output : 4\n"
   ]
  },
  {
   "cell_type": "markdown",
   "metadata": {},
   "source": [
    "# Algorithm "
   ]
  },
  {
   "cell_type": "markdown",
   "metadata": {},
   "source": [
    "1. Iterate through the given expression and push the current element to stack if no match is found on top. \n",
    "2. If match is found then pop it from top\n",
    "3. Atlast all unbalanced paranthesis remain on the stack with all opening braces at the top of stack.\n",
    "4. Minimum number of paranthesis can be calcuated as (all_unbalanced_paranthesis/2) + (opening_braces_at_top%2)\n",
    "5. (opening_braces_at_top%2) is to handle odd scenarios. In odd cases we need to change both opening and closing one\n",
    "    so +1 . check screenshot for example."
   ]
  },
  {
   "cell_type": "markdown",
   "metadata": {},
   "source": [
    "# Complexity :\n",
    "# Time : \n",
    "    O(n) since entire expression is scanned once.\n",
    "# Space:\n",
    "    O(n) since stack is used."
   ]
  },
  {
   "cell_type": "markdown",
   "metadata": {},
   "source": [
    "# Implementation"
   ]
  },
  {
   "cell_type": "markdown",
   "metadata": {},
   "source": [
    "### Stack Implementation"
   ]
  },
  {
   "cell_type": "code",
   "execution_count": 1,
   "metadata": {},
   "outputs": [],
   "source": [
    "class Stack:\n",
    "    def __init__(self,maxsize):\n",
    "        self.top = -1\n",
    "        self.stack = [0]*maxsize\n",
    "        self.maxsize = maxsize\n",
    "    \n",
    "    def push(self,item):\n",
    "        if self.top == self.maxsize-1:\n",
    "            print(\"overflow\")\n",
    "        else:\n",
    "            self.top+=1\n",
    "            self.stack[self.top] = item\n",
    "    \n",
    "    def pop(self):\n",
    "        if self.top == -1:\n",
    "            print(\"underflow\")\n",
    "            return -1\n",
    "        else:\n",
    "            temp = self.stack[self.top]\n",
    "            self.top-=1\n",
    "            return temp\n",
    "        \n",
    "    def display(self):\n",
    "        for i in self.stack:\n",
    "            print(i,end=' ')\n",
    "            \n",
    "    def getTop(self):\n",
    "        if self.top == -1:\n",
    "            return None\n",
    "        else:\n",
    "            temp = self.stack[self.top]\n",
    "            return temp\n",
    "    \n",
    "    def isEmpty(self):\n",
    "        if self.top == -1:\n",
    "            return True\n",
    "        return False\n",
    "    \n",
    "    def size(self):\n",
    "        return self.top+1"
   ]
  },
  {
   "cell_type": "code",
   "execution_count": 24,
   "metadata": {},
   "outputs": [],
   "source": [
    "def min_no_reversals(paranthesis_exp):\n",
    "    if len(paranthesis_exp)%2 != 0 :\n",
    "        return -1\n",
    "    s = Stack(20)\n",
    "    for p in paranthesis_exp:\n",
    "        if (not s.isEmpty()) and (p == '}'):\n",
    "            if s.getTop() == '{':\n",
    "                s.pop()\n",
    "            else:\n",
    "                s.push(p)\n",
    "        else:\n",
    "            s.push(p)\n",
    "    unbal_len = s.size()\n",
    "    open_len = 0\n",
    "    while(not s.isEmpty() and s.getTop()=='{'):\n",
    "        s.pop()\n",
    "        open_len +=1\n",
    "    return (unbal_len//2) + (open_len%2)\n",
    "    "
   ]
  },
  {
   "cell_type": "code",
   "execution_count": 25,
   "metadata": {},
   "outputs": [
    {
     "data": {
      "text/plain": [
       "2"
      ]
     },
     "execution_count": 25,
     "metadata": {},
     "output_type": "execute_result"
    }
   ],
   "source": [
    "paranthesis_exp = '}}{{}}{{'\n",
    "min_no_reversals(paranthesis_exp)\n",
    "# ans\n",
    "# 2"
   ]
  },
  {
   "cell_type": "code",
   "execution_count": 26,
   "metadata": {},
   "outputs": [
    {
     "data": {
      "text/plain": [
       "4"
      ]
     },
     "execution_count": 26,
     "metadata": {},
     "output_type": "execute_result"
    }
   ],
   "source": [
    "paranthesis_exp = '}}}}{{}}{{{{'\n",
    "min_no_reversals(paranthesis_exp)\n",
    "# ans\n",
    "# 4"
   ]
  },
  {
   "cell_type": "code",
   "execution_count": 28,
   "metadata": {},
   "outputs": [
    {
     "data": {
      "text/plain": [
       "4"
      ]
     },
     "execution_count": 28,
     "metadata": {},
     "output_type": "execute_result"
    }
   ],
   "source": [
    "paranthesis_exp = '}}}{{{'\n",
    "min_no_reversals(paranthesis_exp)\n",
    "# ans\n",
    "# 4"
   ]
  },
  {
   "cell_type": "code",
   "execution_count": null,
   "metadata": {},
   "outputs": [],
   "source": []
  }
 ],
 "metadata": {
  "kernelspec": {
   "display_name": "Python 3",
   "language": "python",
   "name": "python3"
  },
  "language_info": {
   "codemirror_mode": {
    "name": "ipython",
    "version": 3
   },
   "file_extension": ".py",
   "mimetype": "text/x-python",
   "name": "python",
   "nbconvert_exporter": "python",
   "pygments_lexer": "ipython3",
   "version": "3.9.0"
  }
 },
 "nbformat": 4,
 "nbformat_minor": 4
}
