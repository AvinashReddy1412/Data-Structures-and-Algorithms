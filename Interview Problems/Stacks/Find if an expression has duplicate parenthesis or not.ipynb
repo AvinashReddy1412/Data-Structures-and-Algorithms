{
 "cells": [
  {
   "cell_type": "markdown",
   "metadata": {},
   "source": [
    "# Understanding the problem statement"
   ]
  },
  {
   "cell_type": "raw",
   "metadata": {},
   "source": [
    "Given an expression we have to find out if the expression contains any duplicate/ redundant/ unnecessary extra\n",
    "paranthesis.\n",
    "\n",
    "Input : ()(1+2)\n",
    "Output : 1\n",
    "    \n",
    "Input : ((1+2)+(3*4))\n",
    "Output : 0\n",
    "    \n",
    "Input : (((1+2))+(3*4))\n",
    "Output : 1"
   ]
  },
  {
   "cell_type": "markdown",
   "metadata": {},
   "source": [
    "# Algorithm"
   ]
  },
  {
   "cell_type": "markdown",
   "metadata": {},
   "source": [
    "1. Traverse the given expression\n",
    "2. If current element is other than ')' push to stack\n",
    "3. If current element is ')', check the top of stack. If top is '(' return 1 since there is no operator between\n",
    "   paranthesis and they are redundant. If top is other than '(' then pop everything till we encounter '('"
   ]
  },
  {
   "cell_type": "markdown",
   "metadata": {},
   "source": [
    "# Complexity :\n",
    "# Time :\n",
    "    O(n) since entire expression is scanned once.\n",
    "# Space :\n",
    "    O(n) since stack is used."
   ]
  },
  {
   "cell_type": "markdown",
   "metadata": {},
   "source": [
    "# Implementation"
   ]
  },
  {
   "cell_type": "markdown",
   "metadata": {},
   "source": [
    "### Stack Implementation"
   ]
  },
  {
   "cell_type": "code",
   "execution_count": 2,
   "metadata": {},
   "outputs": [],
   "source": [
    "class Stack:\n",
    "    def __init__(self,maxsize):\n",
    "        self.top = -1\n",
    "        self.stack = [0]*maxsize\n",
    "        self.maxsize = maxsize\n",
    "    \n",
    "    def push(self,item):\n",
    "        if self.top == self.maxsize-1:\n",
    "            print(\"overflow\")\n",
    "        else:\n",
    "            self.top+=1\n",
    "            self.stack[self.top] = item\n",
    "    \n",
    "    def pop(self):\n",
    "        if self.top == -1:\n",
    "            print(\"underflow\")\n",
    "            return -1\n",
    "        else:\n",
    "            temp = self.stack[self.top]\n",
    "            self.top-=1\n",
    "            return temp\n",
    "        \n",
    "    def display(self):\n",
    "        for i in self.stack:\n",
    "            print(i,end=' ')\n",
    "            \n",
    "    def getTop(self):\n",
    "        if self.top == -1:\n",
    "            return None\n",
    "        else:\n",
    "            temp = self.stack[self.top]\n",
    "            return temp\n",
    "    \n",
    "    def isEmpty(self):\n",
    "        if self.top == -1:\n",
    "            return True\n",
    "        return False"
   ]
  },
  {
   "cell_type": "code",
   "execution_count": 13,
   "metadata": {},
   "outputs": [],
   "source": [
    "def check_duplicate(paranthesis_expr):\n",
    "    s = Stack(20)\n",
    "    for p in paranthesis_expr:\n",
    "        if p == ')':\n",
    "            tp = s.pop()\n",
    "            if tp == '(':\n",
    "                return 1\n",
    "            else:\n",
    "                while(tp!='('):\n",
    "                    tp = s.pop()\n",
    "        else:\n",
    "            s.push(p)\n",
    "    return 0"
   ]
  },
  {
   "cell_type": "markdown",
   "metadata": {},
   "source": [
    "# Test"
   ]
  },
  {
   "cell_type": "code",
   "execution_count": 14,
   "metadata": {},
   "outputs": [
    {
     "data": {
      "text/plain": [
       "1"
      ]
     },
     "execution_count": 14,
     "metadata": {},
     "output_type": "execute_result"
    }
   ],
   "source": [
    "paranthesis_expr = '()(1+2)'\n",
    "check_duplicate(paranthesis_expr)\n",
    "# ans\n",
    "# 1"
   ]
  },
  {
   "cell_type": "code",
   "execution_count": 15,
   "metadata": {},
   "outputs": [
    {
     "data": {
      "text/plain": [
       "0"
      ]
     },
     "execution_count": 15,
     "metadata": {},
     "output_type": "execute_result"
    }
   ],
   "source": [
    "paranthesis_expr = '((1+2)+(3*4))'\n",
    "check_duplicate(paranthesis_expr)\n",
    "# ans\n",
    "# 0"
   ]
  },
  {
   "cell_type": "code",
   "execution_count": 16,
   "metadata": {},
   "outputs": [
    {
     "data": {
      "text/plain": [
       "1"
      ]
     },
     "execution_count": 16,
     "metadata": {},
     "output_type": "execute_result"
    }
   ],
   "source": [
    "paranthesis_expr = '(((1+2))+(3*4))'\n",
    "check_duplicate(paranthesis_expr)\n",
    "# ans\n",
    "# 1"
   ]
  },
  {
   "cell_type": "code",
   "execution_count": null,
   "metadata": {},
   "outputs": [],
   "source": []
  }
 ],
 "metadata": {
  "kernelspec": {
   "display_name": "Python 3",
   "language": "python",
   "name": "python3"
  },
  "language_info": {
   "codemirror_mode": {
    "name": "ipython",
    "version": 3
   },
   "file_extension": ".py",
   "mimetype": "text/x-python",
   "name": "python",
   "nbconvert_exporter": "python",
   "pygments_lexer": "ipython3",
   "version": "3.9.0"
  }
 },
 "nbformat": 4,
 "nbformat_minor": 4
}
