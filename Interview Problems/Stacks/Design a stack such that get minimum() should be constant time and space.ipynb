{
 "cells": [
  {
   "cell_type": "markdown",
   "metadata": {},
   "source": [
    "# Understanding the problem statement"
   ]
  },
  {
   "cell_type": "markdown",
   "metadata": {},
   "source": [
    "We have to implement stack such that along with push and pop, getminimum() also should have O(1) time and O(1) space."
   ]
  },
  {
   "cell_type": "markdown",
   "metadata": {},
   "source": [
    "# Algorithm"
   ]
  },
  {
   "cell_type": "markdown",
   "metadata": {},
   "source": [
    "1. Maintain a variable to store min value.\n",
    "2. If element which has to be pushed is greater than min element, push it directly.\n",
    "3. If element which has to be pushed is smaller than min element, do not push the element, instead push the\n",
    "difference of element-min_element, and update the min element to element as element is lesser.\n",
    "4. while popping, if top element is greater than min element, pop top element and return it. But if top element is \n",
    "lesser than min element, it means top element is not original element.In this case return min_ele. previous min original element can be retrieved by substracting min element-top element. After popping update min element to min element-top element. see code\n",
    "5. To getminimum(), we can directly return min element in O(1)\n",
    "6. Refer screenshots for clear understanding."
   ]
  },
  {
   "cell_type": "markdown",
   "metadata": {},
   "source": [
    "# Complexity:\n",
    "# Time :\n",
    "    For push O(1)\n",
    "    For pop O(1)\n",
    "    For getminimum O(1)\n",
    "# Space :\n",
    "    O(1) for all"
   ]
  },
  {
   "cell_type": "markdown",
   "metadata": {},
   "source": [
    "# Stack Implementation"
   ]
  },
  {
   "cell_type": "code",
   "execution_count": 44,
   "metadata": {},
   "outputs": [],
   "source": [
    "class Stack:\n",
    "    def __init__(self,maxsize):\n",
    "        self.min_ele = None\n",
    "        self.top = -1\n",
    "        self.stack = [0]*maxsize\n",
    "        self.maxsize = maxsize\n",
    "    \n",
    "    def push(self,item):\n",
    "        if self.top == self.maxsize-1:\n",
    "            print(\"overflow\")\n",
    "        else:\n",
    "            if not self.min_ele:\n",
    "                self.top+=1\n",
    "                self.stack[self.top] = item\n",
    "                self.min_ele = item\n",
    "            elif self.min_ele < item:\n",
    "                self.top+=1\n",
    "                self.stack[self.top] = item\n",
    "            else:\n",
    "                self.top+=1\n",
    "                diff_item = item - self.min_ele\n",
    "                self.stack[self.top] = diff_item\n",
    "                self.min_ele = item\n",
    "\n",
    "    def pop(self):\n",
    "        if self.top == -1:\n",
    "            print(\"underflow\")\n",
    "            return -1\n",
    "        else:\n",
    "            temp = self.stack[self.top]\n",
    "            if temp > self.min_ele:\n",
    "                self.top-=1\n",
    "                return temp\n",
    "            else:\n",
    "                self.top-=1\n",
    "                return_val = self.min_ele\n",
    "                self.min_ele = self.min_ele - temp\n",
    "                return return_val\n",
    "        \n",
    "    def get_minimum(self):\n",
    "        return self.min_ele\n",
    "        \n",
    "    def display(self):\n",
    "        for i in self.stack:\n",
    "            print(i,end=' ')\n",
    "            "
   ]
  },
  {
   "cell_type": "markdown",
   "metadata": {},
   "source": [
    "# Test"
   ]
  },
  {
   "cell_type": "code",
   "execution_count": 45,
   "metadata": {},
   "outputs": [],
   "source": [
    "s = Stack(8) # passing below inputs from screenshot"
   ]
  },
  {
   "cell_type": "code",
   "execution_count": 46,
   "metadata": {},
   "outputs": [
    {
     "name": "stdout",
     "output_type": "stream",
     "text": [
      "10\n",
      "10 0 0 0 0 0 0 0 "
     ]
    }
   ],
   "source": [
    "s.push(10)\n",
    "print(s.get_minimum())\n",
    "s.display()"
   ]
  },
  {
   "cell_type": "code",
   "execution_count": 47,
   "metadata": {},
   "outputs": [
    {
     "name": "stdout",
     "output_type": "stream",
     "text": [
      "10\n",
      "10 20 0 0 0 0 0 0 "
     ]
    }
   ],
   "source": [
    "s.push(20)\n",
    "print(s.get_minimum())\n",
    "s.display()"
   ]
  },
  {
   "cell_type": "code",
   "execution_count": 48,
   "metadata": {},
   "outputs": [
    {
     "name": "stdout",
     "output_type": "stream",
     "text": [
      "5\n",
      "10 20 -5 0 0 0 0 0 "
     ]
    }
   ],
   "source": [
    "s.push(5)\n",
    "print(s.get_minimum())\n",
    "s.display()"
   ]
  },
  {
   "cell_type": "code",
   "execution_count": 49,
   "metadata": {},
   "outputs": [
    {
     "name": "stdout",
     "output_type": "stream",
     "text": [
      "5\n",
      "10 20 -5 15 0 0 0 0 "
     ]
    }
   ],
   "source": [
    "s.push(15)\n",
    "print(s.get_minimum())\n",
    "s.display()"
   ]
  },
  {
   "cell_type": "code",
   "execution_count": 50,
   "metadata": {},
   "outputs": [
    {
     "name": "stdout",
     "output_type": "stream",
     "text": [
      "3\n",
      "10 20 -5 15 -2 0 0 0 "
     ]
    }
   ],
   "source": [
    "s.push(3)\n",
    "print(s.get_minimum())\n",
    "s.display()"
   ]
  },
  {
   "cell_type": "code",
   "execution_count": 51,
   "metadata": {},
   "outputs": [
    {
     "name": "stdout",
     "output_type": "stream",
     "text": [
      "3\n",
      "10 20 -5 15 -2 6 0 0 "
     ]
    }
   ],
   "source": [
    "s.push(6)\n",
    "print(s.get_minimum())\n",
    "s.display()"
   ]
  },
  {
   "cell_type": "code",
   "execution_count": 52,
   "metadata": {},
   "outputs": [
    {
     "name": "stdout",
     "output_type": "stream",
     "text": [
      "2\n",
      "10 20 -5 15 -2 6 -1 0 "
     ]
    }
   ],
   "source": [
    "s.push(2)\n",
    "print(s.get_minimum())\n",
    "s.display()"
   ]
  },
  {
   "cell_type": "code",
   "execution_count": 53,
   "metadata": {},
   "outputs": [
    {
     "name": "stdout",
     "output_type": "stream",
     "text": [
      "1\n",
      "10 20 -5 15 -2 6 -1 -1 "
     ]
    }
   ],
   "source": [
    "s.push(1)\n",
    "print(s.get_minimum())\n",
    "s.display()"
   ]
  },
  {
   "cell_type": "code",
   "execution_count": 54,
   "metadata": {},
   "outputs": [
    {
     "name": "stdout",
     "output_type": "stream",
     "text": [
      "1\n",
      "2\n"
     ]
    }
   ],
   "source": [
    "print(s.pop())\n",
    "print(s.get_minimum())"
   ]
  },
  {
   "cell_type": "code",
   "execution_count": 55,
   "metadata": {},
   "outputs": [
    {
     "name": "stdout",
     "output_type": "stream",
     "text": [
      "2\n",
      "3\n"
     ]
    }
   ],
   "source": [
    "print(s.pop())\n",
    "print(s.get_minimum())"
   ]
  },
  {
   "cell_type": "code",
   "execution_count": 56,
   "metadata": {},
   "outputs": [
    {
     "name": "stdout",
     "output_type": "stream",
     "text": [
      "6\n",
      "3\n"
     ]
    }
   ],
   "source": [
    "print(s.pop())\n",
    "print(s.get_minimum())"
   ]
  },
  {
   "cell_type": "code",
   "execution_count": 57,
   "metadata": {},
   "outputs": [
    {
     "name": "stdout",
     "output_type": "stream",
     "text": [
      "3\n",
      "5\n"
     ]
    }
   ],
   "source": [
    "print(s.pop())\n",
    "print(s.get_minimum())"
   ]
  },
  {
   "cell_type": "code",
   "execution_count": 58,
   "metadata": {},
   "outputs": [
    {
     "name": "stdout",
     "output_type": "stream",
     "text": [
      "15\n",
      "5\n"
     ]
    }
   ],
   "source": [
    "print(s.pop())\n",
    "print(s.get_minimum())"
   ]
  },
  {
   "cell_type": "code",
   "execution_count": 59,
   "metadata": {},
   "outputs": [
    {
     "name": "stdout",
     "output_type": "stream",
     "text": [
      "5\n",
      "10\n"
     ]
    }
   ],
   "source": [
    "print(s.pop())\n",
    "print(s.get_minimum())"
   ]
  },
  {
   "cell_type": "code",
   "execution_count": 60,
   "metadata": {},
   "outputs": [
    {
     "name": "stdout",
     "output_type": "stream",
     "text": [
      "20\n",
      "10\n"
     ]
    }
   ],
   "source": [
    "print(s.pop())\n",
    "print(s.get_minimum())"
   ]
  },
  {
   "cell_type": "code",
   "execution_count": 61,
   "metadata": {},
   "outputs": [
    {
     "name": "stdout",
     "output_type": "stream",
     "text": [
      "10\n",
      "0\n"
     ]
    }
   ],
   "source": [
    "print(s.pop())\n",
    "print(s.get_minimum())"
   ]
  },
  {
   "cell_type": "code",
   "execution_count": null,
   "metadata": {},
   "outputs": [],
   "source": []
  }
 ],
 "metadata": {
  "kernelspec": {
   "display_name": "Python 3",
   "language": "python",
   "name": "python3"
  },
  "language_info": {
   "codemirror_mode": {
    "name": "ipython",
    "version": 3
   },
   "file_extension": ".py",
   "mimetype": "text/x-python",
   "name": "python",
   "nbconvert_exporter": "python",
   "pygments_lexer": "ipython3",
   "version": "3.9.0"
  }
 },
 "nbformat": 4,
 "nbformat_minor": 4
}
