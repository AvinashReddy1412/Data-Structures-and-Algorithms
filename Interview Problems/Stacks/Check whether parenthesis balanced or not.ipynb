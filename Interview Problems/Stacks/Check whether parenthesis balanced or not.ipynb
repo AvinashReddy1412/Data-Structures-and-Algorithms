{
 "cells": [
  {
   "cell_type": "markdown",
   "metadata": {},
   "source": [
    "# Understanding the problem statement\n",
    "\n",
    "Given an array or string check whether they have balanced paranthesis or not i.e equal number of same left and right\n",
    "paranthesis\n",
    "\n",
    "Input : [ ( ) ] { } { [ ( ) ( ) ] }\n",
    "\n",
    "Output : True\n",
    "\n",
    "Input: [ ( ) ] [ ] [ ] }\n",
    "\n",
    "Output : False"
   ]
  },
  {
   "cell_type": "markdown",
   "metadata": {},
   "source": [
    "# Algorithm"
   ]
  },
  {
   "cell_type": "markdown",
   "metadata": {},
   "source": [
    "1. Use stack\n",
    "2. Traverse the input, compare with top of the stack. If current element and top of stack are same the pop the top\n",
    "from stack\n",
    "3. If current element and top of the stack are not same then push the current element on to the stack.\n",
    "4. By the end of traversal if the stack is empty return True else return False"
   ]
  },
  {
   "cell_type": "markdown",
   "metadata": {},
   "source": [
    "# Complexity:\n",
    "# Time :\n",
    "    since we are scanning input once and push and pop are O(1) therefore time complexity is O(n)\n",
    "    O(n)\n",
    "# Space:\n",
    "    No extra space is used\n",
    "    O(1)"
   ]
  },
  {
   "cell_type": "markdown",
   "metadata": {},
   "source": [
    "# Implementation"
   ]
  },
  {
   "cell_type": "markdown",
   "metadata": {},
   "source": [
    "### Stack Implementation"
   ]
  },
  {
   "cell_type": "code",
   "execution_count": 8,
   "metadata": {},
   "outputs": [],
   "source": [
    "class Stack:\n",
    "    def __init__(self,maxsize):\n",
    "        self.top = -1\n",
    "        self.stack = [0]*maxsize\n",
    "        self.maxsize = maxsize\n",
    "    \n",
    "    def push(self,item):\n",
    "        if self.top == self.maxsize-1:\n",
    "            print(\"overflow\")\n",
    "        else:\n",
    "            self.top+=1\n",
    "            self.stack[self.top] = item\n",
    "    \n",
    "    def pop(self):\n",
    "        if self.top == -1:\n",
    "            print(\"underflow\")\n",
    "            return -1\n",
    "        else:\n",
    "            temp = self.stack[self.top]\n",
    "            self.top-=1\n",
    "            return temp\n",
    "        \n",
    "    def display(self):\n",
    "        for i in self.stack:\n",
    "            print(i,end=' ')\n",
    "            \n",
    "    def getTop(self):\n",
    "        if self.top == -1:\n",
    "            return None\n",
    "        else:\n",
    "            temp = self.stack[self.top]\n",
    "            return temp\n",
    "    \n",
    "    def isEmpty(self):\n",
    "        if self.top == -1:\n",
    "            return True\n",
    "        return False"
   ]
  },
  {
   "cell_type": "code",
   "execution_count": 22,
   "metadata": {},
   "outputs": [],
   "source": [
    "def are_paranthesis_balanced(par_string):\n",
    "    match_dict = {'(':')','{':'}','[':']'} # This is needed to compare current ele and top of stack\n",
    "    s = Stack(20)\n",
    "    for par in par_string:\n",
    "        if s.isEmpty():\n",
    "            s.push(par)\n",
    "        else:\n",
    "            if par == match_dict[s.getTop()]:\n",
    "                s.pop()\n",
    "            else:\n",
    "                s.push(par)\n",
    "    if s.isEmpty():\n",
    "        return True\n",
    "    return False"
   ]
  },
  {
   "cell_type": "markdown",
   "metadata": {},
   "source": [
    "# Test"
   ]
  },
  {
   "cell_type": "code",
   "execution_count": 28,
   "metadata": {},
   "outputs": [
    {
     "data": {
      "text/plain": [
       "True"
      ]
     },
     "execution_count": 28,
     "metadata": {},
     "output_type": "execute_result"
    }
   ],
   "source": [
    "par_string = \"[ ( ) ] { } { [ ( ) ( ) ] }\"\n",
    "par_string = par_string.replace(\" \", \"\")\n",
    "are_paranthesis_balanced(par_string)\n",
    "# ans\n",
    "# True"
   ]
  },
  {
   "cell_type": "code",
   "execution_count": 29,
   "metadata": {},
   "outputs": [
    {
     "data": {
      "text/plain": [
       "False"
      ]
     },
     "execution_count": 29,
     "metadata": {},
     "output_type": "execute_result"
    }
   ],
   "source": [
    "par_string = \"[ ( ) ] [ ] [ ] }\"\n",
    "par_string = par_string.replace(\" \", \"\")\n",
    "are_paranthesis_balanced(par_string)\n",
    "# ans\n",
    "# False"
   ]
  },
  {
   "cell_type": "code",
   "execution_count": 30,
   "metadata": {},
   "outputs": [
    {
     "data": {
      "text/plain": [
       "False"
      ]
     },
     "execution_count": 30,
     "metadata": {},
     "output_type": "execute_result"
    }
   ],
   "source": [
    "par_string = \"{[ ( ) ] { } { [ ( ) ( ) ] }}}\"\n",
    "par_string = par_string.replace(\" \", \"\")\n",
    "are_paranthesis_balanced(par_string)\n",
    "# ans\n",
    "# True"
   ]
  },
  {
   "cell_type": "code",
   "execution_count": 31,
   "metadata": {},
   "outputs": [],
   "source": [
    "# match_dict might give rise to key error if paranthesis are unbalanced. More good version of code is below\n",
    "# Above version can also be modified to remove key error but below version is good because once we encounter\n",
    "# imbalance we are immediately returning False instead of parsing the entire string. The below code is pulled from\n",
    "# GFG\n",
    "def areBracketsBalanced(expr): \n",
    "    stack = [] \n",
    "  \n",
    "    # Traversing the Expression \n",
    "    for char in expr: \n",
    "        if char in [\"(\", \"{\", \"[\"]: \n",
    "  \n",
    "            # Push the element in the stack \n",
    "            stack.append(char) \n",
    "        else: \n",
    "  \n",
    "            # IF current character is not opening \n",
    "            # bracket, then it must be closing. \n",
    "            # So stack cannot be empty at this point. \n",
    "            if not stack: \n",
    "                return False\n",
    "            current_char = stack.pop() \n",
    "            if current_char == '(': \n",
    "                if char != \")\": \n",
    "                    return False\n",
    "            if current_char == '{': \n",
    "                if char != \"}\": \n",
    "                    return False\n",
    "            if current_char == '[': \n",
    "                if char != \"]\": \n",
    "                    return False\n",
    "  \n",
    "    # Check Empty Stack \n",
    "    if stack: \n",
    "        return False\n",
    "    return True"
   ]
  },
  {
   "cell_type": "code",
   "execution_count": null,
   "metadata": {},
   "outputs": [],
   "source": []
  }
 ],
 "metadata": {
  "kernelspec": {
   "display_name": "Python 3",
   "language": "python",
   "name": "python3"
  },
  "language_info": {
   "codemirror_mode": {
    "name": "ipython",
    "version": 3
   },
   "file_extension": ".py",
   "mimetype": "text/x-python",
   "name": "python",
   "nbconvert_exporter": "python",
   "pygments_lexer": "ipython3",
   "version": "3.9.0"
  }
 },
 "nbformat": 4,
 "nbformat_minor": 4
}
