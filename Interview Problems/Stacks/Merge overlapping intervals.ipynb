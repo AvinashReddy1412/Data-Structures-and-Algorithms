{
 "cells": [
  {
   "cell_type": "markdown",
   "metadata": {},
   "source": [
    "# Understanding the problem statement"
   ]
  },
  {
   "cell_type": "markdown",
   "metadata": {},
   "source": [
    "Given array of intervals, we should merge all the overlapping intervals.\n",
    "\n",
    "Input : [(6,8),(2,5),(1,3),(13,20),(9,14),(100,120)]\n",
    "\n",
    "Output : []"
   ]
  },
  {
   "cell_type": "markdown",
   "metadata": {},
   "source": [
    "# Algorithm"
   ]
  },
  {
   "cell_type": "raw",
   "metadata": {},
   "source": [
    "1. Two approaches are clearly explained. Please refer screenshot.\n",
    "2. RRR explained implementation using stack. Here we are implementing using normal list. Check stack implementation\n",
    "as well during preparation.\n",
    "# EDIT : Normal list implementation did not work. Check the code below. \n",
    "Normal list implementation also works if we compare top of merged intervals instead of adjacent elements in sorted array"
   ]
  },
  {
   "cell_type": "markdown",
   "metadata": {},
   "source": [
    "# Implementation"
   ]
  },
  {
   "cell_type": "code",
   "execution_count": 22,
   "metadata": {},
   "outputs": [],
   "source": [
    "def merge_overlapping_intervals(arr):\n",
    "    sorted_arr = sorted(arr, key=lambda x: x[0])\n",
    "    merged_intervals = []\n",
    "    flag = True\n",
    "    visited = [] # maintaining this to keep track of what is already visited. In case there is an overlap we need not again verify second element\n",
    "    for ivl in range(len(sorted_arr)-1):\n",
    "        if ivl in visited: \n",
    "            continue\n",
    "        if sorted_arr[ivl][1] > sorted_arr[ivl+1][0]:\n",
    "            if ivl == len(sorted_arr)-2:\n",
    "                flag = False\n",
    "            merged_intervals.append((sorted_arr[ivl][0],max(sorted_arr[ivl][1],sorted_arr[ivl+1][1])))\n",
    "            visited.append(ivl)\n",
    "            visited.append(ivl+1)\n",
    "        else:\n",
    "            merged_intervals.append((sorted_arr[ivl][0],sorted_arr[ivl][1]))\n",
    "            visited.append(ivl)\n",
    "    if flag: \n",
    "        # This condition is in case if last interval is not overlapping we need to add it to final interval list\n",
    "        merged_intervals.append(((sorted_arr[-1][0],sorted_arr[-1][1])))\n",
    "                                    \n",
    "    return merged_intervals\n",
    "    "
   ]
  },
  {
   "cell_type": "code",
   "execution_count": 18,
   "metadata": {},
   "outputs": [
    {
     "data": {
      "text/plain": [
       "[(1, 5), (6, 8), (9, 20), (100, 120)]"
      ]
     },
     "execution_count": 18,
     "metadata": {},
     "output_type": "execute_result"
    }
   ],
   "source": [
    "arr = [(6,8),(2,5),(1,3),(13,20),(9,14),(100,120)]\n",
    "merge_overlapping_intervals(arr)\n",
    "# ans \n",
    "# [(1, 5), (6, 8), (9, 20), (100, 120)]"
   ]
  },
  {
   "cell_type": "code",
   "execution_count": 19,
   "metadata": {},
   "outputs": [],
   "source": [
    "# will this procedure work if there are more than two adjacent overlaps???????\n",
    "# This is the procedure we have implemented in image code as well.\n",
    "# lets check"
   ]
  },
  {
   "cell_type": "code",
   "execution_count": 20,
   "metadata": {},
   "outputs": [
    {
     "data": {
      "text/plain": [
       "[(1, 5), (4, 21), (9, 20), (100, 120)]"
      ]
     },
     "execution_count": 20,
     "metadata": {},
     "output_type": "execute_result"
    }
   ],
   "source": [
    "arr = [(6,8),(2,5),(1,3),(4,21),(13,20),(9,14),(100,120)]\n",
    "merge_overlapping_intervals(arr)\n",
    "# ans \n",
    "# [(1, 5), (6, 8), (9, 20), (100, 120)] "
   ]
  },
  {
   "cell_type": "code",
   "execution_count": 21,
   "metadata": {},
   "outputs": [],
   "source": [
    "# This thing doesnt work because we are not comparing it with already merged intervals but we are only comparing sorted arr\n",
    "# adjacent elements. Need to modify code\n",
    "# Normal list implementation also works if we compare top of merged intervals instead of adjacent elements in sorted \n",
    "# array"
   ]
  },
  {
   "cell_type": "markdown",
   "metadata": {},
   "source": [
    "# Modified list Implementation"
   ]
  },
  {
   "cell_type": "code",
   "execution_count": 27,
   "metadata": {},
   "outputs": [],
   "source": [
    "def merge_overlapping_intervals(arr,size):\n",
    "    sorted_arr = sorted(arr, key=lambda x: x[0])\n",
    "    merged_intervals = [] # This can be treated as stack in RRR code\n",
    "    merged_intervals.append(sorted_arr[0])\n",
    "    for i in range(1,size):\n",
    "        if sorted_arr[i][0] < merged_intervals[-1][1]:\n",
    "            interval_start = merged_intervals[-1][0]\n",
    "            interval_end = max(sorted_arr[i][1],merged_intervals[-1][1])\n",
    "            merged_intervals[-1] = (interval_start,interval_end) # This is equivalent to popping stack\n",
    "        else:\n",
    "            merged_intervals.append(sorted_arr[i]) # This is equivalent to stack push\n",
    "    return merged_intervals\n",
    "    "
   ]
  },
  {
   "cell_type": "code",
   "execution_count": 28,
   "metadata": {},
   "outputs": [
    {
     "data": {
      "text/plain": [
       "[(1, 5), (6, 8), (9, 20), (100, 120)]"
      ]
     },
     "execution_count": 28,
     "metadata": {},
     "output_type": "execute_result"
    }
   ],
   "source": [
    "arr = [(6,8),(2,5),(1,3),(13,20),(9,14),(100,120)]\n",
    "size = len(arr)\n",
    "merge_overlapping_intervals(arr, size)\n",
    "# ans \n",
    "# [(1, 5), (6, 8), (9, 20), (100, 120)]"
   ]
  },
  {
   "cell_type": "code",
   "execution_count": 31,
   "metadata": {},
   "outputs": [
    {
     "data": {
      "text/plain": [
       "[(1, 21), (100, 120)]"
      ]
     },
     "execution_count": 31,
     "metadata": {},
     "output_type": "execute_result"
    }
   ],
   "source": [
    "arr = [(6,8),(2,5),(1,3),(4,21),(13,20),(9,14),(100,120)]\n",
    "size = len(arr)\n",
    "merge_overlapping_intervals(arr, size)\n",
    "# ans \n",
    "# [(1, 21), (100, 120)] "
   ]
  },
  {
   "cell_type": "code",
   "execution_count": 32,
   "metadata": {},
   "outputs": [],
   "source": [
    "# Working as expected"
   ]
  },
  {
   "cell_type": "code",
   "execution_count": 34,
   "metadata": {},
   "outputs": [],
   "source": [
    "# stack implementation was confused as start and end are in separate arrays in RRR and also top operation has to\n",
    "# be implemeted along with push and pop. But stack implementation has to be told in interviews so prepare for that"
   ]
  },
  {
   "cell_type": "code",
   "execution_count": null,
   "metadata": {},
   "outputs": [],
   "source": []
  }
 ],
 "metadata": {
  "kernelspec": {
   "display_name": "Python 3",
   "language": "python",
   "name": "python3"
  },
  "language_info": {
   "codemirror_mode": {
    "name": "ipython",
    "version": 3
   },
   "file_extension": ".py",
   "mimetype": "text/x-python",
   "name": "python",
   "nbconvert_exporter": "python",
   "pygments_lexer": "ipython3",
   "version": "3.9.0"
  }
 },
 "nbformat": 4,
 "nbformat_minor": 4
}
