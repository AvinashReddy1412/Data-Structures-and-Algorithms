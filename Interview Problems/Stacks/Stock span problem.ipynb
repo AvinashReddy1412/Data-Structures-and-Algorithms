{
 "cells": [
  {
   "cell_type": "markdown",
   "metadata": {},
   "source": [
    "# Understanding the problem statement"
   ]
  },
  {
   "cell_type": "markdown",
   "metadata": {},
   "source": [
    "Given an array of stock prices, we have to calculate span for each day. Span is the number of consecutive previous days\n",
    "before a day where we could have bought the stock and sold today without no loss.\n",
    "Refer screenshot for clear understanding \n",
    "\n",
    "Input : [10,2,3,15,22,9,25,29]\n",
    "    \n",
    "Output : [0,0,1,3,4,0,6,7]"
   ]
  },
  {
   "cell_type": "markdown",
   "metadata": {},
   "source": [
    "# Algorithm "
   ]
  },
  {
   "cell_type": "markdown",
   "metadata": {},
   "source": [
    "1. Traverse through the given array.\n",
    "2. store the first element in stack.\n",
    "3. While traversing if current element is greater than top element in stack pop the element.\n",
    "4. Repeat this till we encounter greater element at top or the stack is empty. Once we encounter calculate span\n",
    "as current_index - top_element_index - 1.\n",
    "5. To get top_element_index instead of storing actual elements in stack, we store indices in stack.\n",
    "6. Stack helps in comparing elements only with major checkpoints and helps in reducing complexity from O(n^2) to\n",
    "O(n)\n",
    "7. Refer screenshot for clear explanation"
   ]
  },
  {
   "cell_type": "markdown",
   "metadata": {},
   "source": [
    "# Complexity :\n",
    "# Time : \n",
    "    Each element is pushed once and popped once in worst case. So total time complexity is O(n) + O(n) = O(2n) = O(n)\n",
    "# Space:\n",
    "    In worst case n elements get stored in stack. Worst case happens when elements are in descending order.\n",
    "    O(n) since stack is used"
   ]
  },
  {
   "cell_type": "markdown",
   "metadata": {},
   "source": [
    "# Implementation"
   ]
  },
  {
   "cell_type": "markdown",
   "metadata": {},
   "source": [
    "### Stack Implementation"
   ]
  },
  {
   "cell_type": "code",
   "execution_count": 14,
   "metadata": {},
   "outputs": [],
   "source": [
    "class Stack:\n",
    "    def __init__(self,maxsize):\n",
    "        self.top = -1\n",
    "        self.stack = [0]*maxsize\n",
    "        self.maxsize = maxsize\n",
    "    \n",
    "    def push(self,item):\n",
    "        if self.top == self.maxsize-1:\n",
    "            print(\"overflow\")\n",
    "        else:\n",
    "            self.top+=1\n",
    "            self.stack[self.top] = item\n",
    "    \n",
    "    def pop(self):\n",
    "        if self.top == -1:\n",
    "            print(\"underflow\")\n",
    "            return -1\n",
    "        else:\n",
    "            temp = self.stack[self.top]\n",
    "            self.top-=1\n",
    "            return temp\n",
    "        \n",
    "    def display(self):\n",
    "        for i in self.stack:\n",
    "            print(i,end=' ')\n",
    "            \n",
    "    def getTop(self):\n",
    "        if self.top == -1:\n",
    "            return None\n",
    "        else:\n",
    "            temp = self.stack[self.top]\n",
    "            return temp\n",
    "    \n",
    "    def isEmpty(self):\n",
    "        if self.top == -1:\n",
    "            return True\n",
    "        return False"
   ]
  },
  {
   "cell_type": "code",
   "execution_count": 15,
   "metadata": {},
   "outputs": [],
   "source": [
    "def stock_span(arr, n):\n",
    "    s = Stack(20)\n",
    "    span = []\n",
    "    s.push(0)\n",
    "    span.append(0)\n",
    "    for i in range(1,n):\n",
    "        while((not s.isEmpty()) and (arr[s.getTop()] <= arr[i])):\n",
    "            s.pop()\n",
    "        if s.isEmpty():\n",
    "            span_value = i \n",
    "        else:\n",
    "            span_value = i - s.getTop() - 1\n",
    "        span.append(span_value)\n",
    "        s.push(i)\n",
    "    return span"
   ]
  },
  {
   "cell_type": "markdown",
   "metadata": {},
   "source": [
    "# Test"
   ]
  },
  {
   "cell_type": "code",
   "execution_count": 17,
   "metadata": {},
   "outputs": [
    {
     "data": {
      "text/plain": [
       "[0, 0, 1, 3, 4, 0, 6, 7]"
      ]
     },
     "execution_count": 17,
     "metadata": {},
     "output_type": "execute_result"
    }
   ],
   "source": [
    "arr = [10,2,3,15,22,9,25,29]\n",
    "n = len(arr)\n",
    "stock_span(arr, n)\n",
    "# ans \n",
    "# [0,0,1,3,4,0,6,7]"
   ]
  },
  {
   "cell_type": "code",
   "execution_count": 18,
   "metadata": {},
   "outputs": [
    {
     "data": {
      "text/plain": [
       "[0, 0, 0, 1, 2, 4, 0, 1, 7]"
      ]
     },
     "execution_count": 18,
     "metadata": {},
     "output_type": "execute_result"
    }
   ],
   "source": [
    "arr = [100,30,10,20,25,40,26,35,45]\n",
    "n = len(arr)\n",
    "stock_span(arr, n)\n",
    "# ans \n",
    "# [0,0,0,1,2,4,0,1,7]"
   ]
  },
  {
   "cell_type": "code",
   "execution_count": null,
   "metadata": {},
   "outputs": [],
   "source": []
  }
 ],
 "metadata": {
  "kernelspec": {
   "display_name": "Python 3",
   "language": "python",
   "name": "python3"
  },
  "language_info": {
   "codemirror_mode": {
    "name": "ipython",
    "version": 3
   },
   "file_extension": ".py",
   "mimetype": "text/x-python",
   "name": "python",
   "nbconvert_exporter": "python",
   "pygments_lexer": "ipython3",
   "version": "3.9.0"
  }
 },
 "nbformat": 4,
 "nbformat_minor": 4
}
