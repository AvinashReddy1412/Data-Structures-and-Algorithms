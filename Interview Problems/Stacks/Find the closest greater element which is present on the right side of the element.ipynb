{
 "cells": [
  {
   "cell_type": "markdown",
   "metadata": {},
   "source": [
    "# Understanding the problem statement"
   ]
  },
  {
   "cell_type": "markdown",
   "metadata": {},
   "source": [
    "Given an array for each element we have to find closest greater element to its right. Closest here means in terms of\n",
    "distance. \n",
    "\n",
    "Input : [10,20,1,5,25,500,60]\n",
    "\n",
    "Output: [20,25,5,25,500,-1,-1]\n",
    "    \n",
    "    Note: 5,25,20 then for 5 25 is greater element to its right because its greater and closer to 5. closer here means distance and not closer value.\n"
   ]
  },
  {
   "cell_type": "markdown",
   "metadata": {},
   "source": [
    "# Algorithm:\n"
   ]
  },
  {
   "cell_type": "markdown",
   "metadata": {},
   "source": [
    "1. Use a stack.\n",
    "2. Push first element to stack.\n",
    "3. Iterate each element in the array and compare it with the top element. If element is greater then top, then \n",
    "keep on popping elements till either we encounter smaller top element or stack becomes empty. while popping\n",
    "store the element as greater element at its index position.\n",
    "4. But if the element is smaller than top element just push the element on the stack.\n",
    "5. After the complete process of popping also push the element on the stack\n",
    "6. After the traversal of array, if the stack is not empty pop each element and place -1 as greater element\n",
    "in their index as greater element is not found for those elements."
   ]
  },
  {
   "cell_type": "markdown",
   "metadata": {},
   "source": [
    "# Complexity:\n"
   ]
  },
  {
   "cell_type": "markdown",
   "metadata": {},
   "source": [
    "# Time :\n",
    "    Since each element is pushed and popped from stack exactly once then time complexity is\n",
    "    n * O(1) + n * O(1) = O(2n) = O(n)\n",
    "# Space :\n",
    "    A stack is used which will have atmost n entries. So time complexity is O(n)"
   ]
  },
  {
   "cell_type": "markdown",
   "metadata": {},
   "source": [
    "# Implementation"
   ]
  },
  {
   "cell_type": "markdown",
   "metadata": {},
   "source": [
    "### Stack Implementation"
   ]
  },
  {
   "cell_type": "code",
   "execution_count": 2,
   "metadata": {},
   "outputs": [],
   "source": [
    "class Stack:\n",
    "    def __init__(self,maxsize):\n",
    "        self.top = -1\n",
    "        self.stack = [0]*maxsize\n",
    "        self.maxsize = maxsize\n",
    "    \n",
    "    def push(self,item):\n",
    "        if self.top == self.maxsize-1:\n",
    "            print(\"overflow\")\n",
    "        else:\n",
    "            self.top+=1\n",
    "            self.stack[self.top] = item\n",
    "    \n",
    "    def pop(self):\n",
    "        if self.top == -1:\n",
    "            print(\"underflow\")\n",
    "            return -1\n",
    "        else:\n",
    "            temp = self.stack[self.top]\n",
    "            self.top-=1\n",
    "            return temp\n",
    "        \n",
    "    def isempty(self):\n",
    "        if self.top == -1:\n",
    "            return True\n",
    "        return False\n",
    "        \n",
    "    def display(self):\n",
    "        for i in self.stack:\n",
    "            print(i,end=' ')\n",
    "            "
   ]
  },
  {
   "cell_type": "code",
   "execution_count": 15,
   "metadata": {},
   "outputs": [],
   "source": [
    "def closest_greater_element(arr, n):\n",
    "    output_arr = [0] * n\n",
    "    s = Stack(10)\n",
    "#     s.push([arr[0],0])\n",
    "    for i in range(0,n): # if we uncomment top above line we have to start index from 1 instead of 0\n",
    "        ele = arr[i]\n",
    "        if not s.isempty():\n",
    "            top_ele = s.pop()\n",
    "            while ( ele > top_ele[0]):\n",
    "                output_arr[top_ele[1]] = ele\n",
    "                if s.isempty():\n",
    "                    break\n",
    "                top_ele = s.pop()\n",
    "            if ele < top_ele[0] : # we are popping first so we have to place it back if current ele is smaller.\n",
    "                s.push(top_ele)\n",
    "        s.push([ele,i]) # we have to push current ele to stack in all scenarios because we still havent found greater for it. check screenshot\n",
    "    while(not s.isempty()):\n",
    "        top_ele = s.pop()\n",
    "        output_arr[top_ele[1]] = -1\n",
    "    return output_arr"
   ]
  },
  {
   "cell_type": "code",
   "execution_count": 16,
   "metadata": {},
   "outputs": [
    {
     "name": "stdout",
     "output_type": "stream",
     "text": [
      "[20, 25, 5, 25, 500, -1, -1]\n"
     ]
    }
   ],
   "source": [
    "arr = [10,20,1,5,25,500,60]\n",
    "n = len(arr)\n",
    "print(closest_greater_element(arr,n))\n",
    "# ans\n",
    "# [20, 25, 5, 25, 500, -1, -1]"
   ]
  },
  {
   "cell_type": "code",
   "execution_count": 17,
   "metadata": {},
   "outputs": [
    {
     "name": "stdout",
     "output_type": "stream",
     "text": [
      "[10, 100, 100, 500, 500, 620, -1]\n"
     ]
    }
   ],
   "source": [
    "arr = [5,10,1,100,25,500,620]\n",
    "n = len(arr)\n",
    "print(closest_greater_element(arr,n))\n",
    "# ans\n",
    "# [10, 100, 100, 500, 500, 620, -1]"
   ]
  },
  {
   "cell_type": "code",
   "execution_count": null,
   "metadata": {},
   "outputs": [],
   "source": []
  }
 ],
 "metadata": {
  "kernelspec": {
   "display_name": "Python 3",
   "language": "python",
   "name": "python3"
  },
  "language_info": {
   "codemirror_mode": {
    "name": "ipython",
    "version": 3
   },
   "file_extension": ".py",
   "mimetype": "text/x-python",
   "name": "python",
   "nbconvert_exporter": "python",
   "pygments_lexer": "ipython3",
   "version": "3.9.0"
  }
 },
 "nbformat": 4,
 "nbformat_minor": 4
}
