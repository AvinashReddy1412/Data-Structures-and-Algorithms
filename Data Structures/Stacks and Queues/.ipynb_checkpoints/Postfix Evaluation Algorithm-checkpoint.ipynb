{
 "cells": [
  {
   "cell_type": "markdown",
   "metadata": {},
   "source": [
    "# Importance of Postfix"
   ]
  },
  {
   "cell_type": "markdown",
   "metadata": {},
   "source": [
    "1. We can convert infix to postfix expression in O(n) time.\n",
    "2. Evaluation of postfix expression also takes O(n) time.\n",
    "3. Total time = O(n)\n",
    "4. But to evaluate direct infix it can take upto O(n^2) as we have to evaluate come backward and then evaluate again."
   ]
  },
  {
   "cell_type": "markdown",
   "metadata": {},
   "source": [
    "# Algorithm \n",
    "(Go through notes folder)"
   ]
  },
  {
   "cell_type": "markdown",
   "metadata": {},
   "source": [
    "1. create a stack\n",
    "2. Iterate through each character in postfix expression\n",
    "3. if character is operand push it to stack.\n",
    "4. if character is unary operator, pop one element from stack. perform the operation and push result to stack\n",
    "5. if character is binary operator, pop two elements from stack. first element becomes second operator and second element\n",
    "becomes first operator . Perform the operation on two elements and push the result to stack.\n",
    "6. After traversal, result is in the stack.\n"
   ]
  },
  {
   "cell_type": "markdown",
   "metadata": {},
   "source": [
    "# Implementation "
   ]
  },
  {
   "cell_type": "code",
   "execution_count": 3,
   "metadata": {},
   "outputs": [],
   "source": [
    "class Stack:\n",
    "    def __init__(self,maxsize):\n",
    "        self.top = -1\n",
    "        self.stack = [0]*maxsize\n",
    "        self.maxsize = maxsize\n",
    "    \n",
    "    def push(self,item):\n",
    "        if self.top == self.maxsize-1:\n",
    "            print(\"overflow\")\n",
    "        else:\n",
    "            self.top+=1\n",
    "            self.stack[self.top] = item\n",
    "    \n",
    "    def pop(self):\n",
    "        if self.top == -1:\n",
    "            print(\"underflow\")\n",
    "            return -1\n",
    "        else:\n",
    "            temp = self.stack[self.top]\n",
    "            self.top-=1\n",
    "            return temp\n",
    "        \n",
    "    def display(self):\n",
    "        for i in self.stack:\n",
    "            print(i,end=' ')\n",
    "            "
   ]
  },
  {
   "cell_type": "code",
   "execution_count": 4,
   "metadata": {},
   "outputs": [],
   "source": [
    "operator_type = {}\n",
    "operator_type['+'] = 'binary'\n",
    "operator_type['-'] = 'binary'\n",
    "operator_type['*'] = 'binary'\n",
    "operator_type['/'] = 'binary'"
   ]
  },
  {
   "cell_type": "code",
   "execution_count": 7,
   "metadata": {},
   "outputs": [],
   "source": [
    "def postfixExprEvaluation(postfix_expr):\n",
    "    postfix_expr = postfix_expr.strip()\n",
    "    s = Stack(20)\n",
    "    for char in postfix_expr:\n",
    "        if char.isnumeric():\n",
    "            s.push(char)\n",
    "        elif operator_type[char] == 'unary':\n",
    "            #TODO implement this later\n",
    "            pass\n",
    "        elif operator_type[char] == 'binary':\n",
    "            if s.top == -1:\n",
    "                print(\"expr not valid\")\n",
    "                return\n",
    "            else:\n",
    "                op2 = s.pop()\n",
    "                op1 = s.pop()\n",
    "                res = eval(str(op1)+char+str(op2))\n",
    "                s.push(res)\n",
    "    return s.pop()\n",
    "            \n",
    "            \n",
    "        "
   ]
  },
  {
   "cell_type": "markdown",
   "metadata": {},
   "source": [
    "# Test"
   ]
  },
  {
   "cell_type": "code",
   "execution_count": 8,
   "metadata": {},
   "outputs": [
    {
     "data": {
      "text/plain": [
       "11"
      ]
     },
     "execution_count": 8,
     "metadata": {},
     "output_type": "execute_result"
    }
   ],
   "source": [
    "postfix_expr = \"523*+\"\n",
    "postfixExprEvaluation(postfix_expr)\n",
    "# ans 11"
   ]
  },
  {
   "cell_type": "code",
   "execution_count": 9,
   "metadata": {},
   "outputs": [
    {
     "data": {
      "text/plain": [
       "13"
      ]
     },
     "execution_count": 9,
     "metadata": {},
     "output_type": "execute_result"
    }
   ],
   "source": [
    "postfix_expr = \"52*3+\"\n",
    "postfixExprEvaluation(postfix_expr)\n",
    "# ans 13"
   ]
  },
  {
   "cell_type": "code",
   "execution_count": 10,
   "metadata": {},
   "outputs": [
    {
     "data": {
      "text/plain": [
       "11"
      ]
     },
     "execution_count": 10,
     "metadata": {},
     "output_type": "execute_result"
    }
   ],
   "source": [
    "postfix_expr = \"5252-*+\"\n",
    "postfixExprEvaluation(postfix_expr)\n",
    "# ans 13"
   ]
  },
  {
   "cell_type": "code",
   "execution_count": 11,
   "metadata": {},
   "outputs": [
    {
     "data": {
      "text/plain": [
       "13"
      ]
     },
     "execution_count": 11,
     "metadata": {},
     "output_type": "execute_result"
    }
   ],
   "source": [
    "postfix_expr = \"525*+2-\"\n",
    "postfixExprEvaluation(postfix_expr)\n",
    "# ans 13"
   ]
  },
  {
   "cell_type": "code",
   "execution_count": null,
   "metadata": {},
   "outputs": [],
   "source": []
  }
 ],
 "metadata": {
  "kernelspec": {
   "display_name": "Python 3",
   "language": "python",
   "name": "python3"
  },
  "language_info": {
   "codemirror_mode": {
    "name": "ipython",
    "version": 3
   },
   "file_extension": ".py",
   "mimetype": "text/x-python",
   "name": "python",
   "nbconvert_exporter": "python",
   "pygments_lexer": "ipython3",
   "version": "3.5.2"
  }
 },
 "nbformat": 4,
 "nbformat_minor": 2
}
