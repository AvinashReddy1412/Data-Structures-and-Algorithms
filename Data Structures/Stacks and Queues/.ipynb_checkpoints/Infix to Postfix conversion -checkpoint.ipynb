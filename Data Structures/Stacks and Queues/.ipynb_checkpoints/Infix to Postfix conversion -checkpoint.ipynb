{
 "cells": [
  {
   "cell_type": "markdown",
   "metadata": {},
   "source": [
    "# Algorithm\n",
    "(Go through notes folder)"
   ]
  },
  {
   "cell_type": "markdown",
   "metadata": {},
   "source": [
    "1. Create a stack\n",
    "2. Iterate through each character in the infix expression\n",
    "3. If character is operand then print it\n",
    "4. If character is right paranthesis, then pop elements from stack and print them till left paranthesis is encountered.\n",
    "(Do not print left paranthesis)\n",
    "5. If character is left paranathesis or operator, pop elements from stack and print them till lesser precedence character is encountered.\n",
    "6. After all characters are traversed, pop all elements from stack and print them."
   ]
  },
  {
   "cell_type": "markdown",
   "metadata": {},
   "source": [
    "#### Complexity\n",
    "    We scan the entire expression once and store operators in stack\n",
    "#### Time\n",
    "    O(n)\n",
    "#### Space\n",
    "    O(n)"
   ]
  },
  {
   "cell_type": "markdown",
   "metadata": {},
   "source": [
    "# Implementation"
   ]
  },
  {
   "cell_type": "code",
   "execution_count": 37,
   "metadata": {},
   "outputs": [],
   "source": [
    "class Stack:\n",
    "    def __init__(self,maxsize):\n",
    "        self.top = -1\n",
    "        self.stack = [0]*maxsize\n",
    "        self.maxsize = maxsize\n",
    "    \n",
    "    def push(self,item):\n",
    "        if self.top == self.maxsize-1:\n",
    "            print(\"overflow\")\n",
    "        else:\n",
    "            self.top+=1\n",
    "            self.stack[self.top] = item\n",
    "    \n",
    "    def pop(self):\n",
    "        if self.top == -1:\n",
    "            print(\"underflow\")\n",
    "            return -1\n",
    "        else:\n",
    "            temp = self.stack[self.top]\n",
    "            self.top-=1\n",
    "            return temp\n",
    "        \n",
    "    def display(self):\n",
    "        for i in self.stack:\n",
    "            print(i,end=' ')\n",
    "            "
   ]
  },
  {
   "cell_type": "code",
   "execution_count": 38,
   "metadata": {},
   "outputs": [],
   "source": [
    "precedence = {}\n",
    "precedence['('] = 0\n",
    "precedence['^'] = 3\n",
    "precedence['*'] = 2\n",
    "precedence['/'] = 2\n",
    "precedence['+'] = 1\n",
    "precedence['-'] = 1"
   ]
  },
  {
   "cell_type": "code",
   "execution_count": 39,
   "metadata": {},
   "outputs": [],
   "source": [
    "def infixToPostfix(infix_expr):\n",
    "    infix_expr = infix_expr.strip()\n",
    "    s = Stack(20)\n",
    "    for char in infix_expr:\n",
    "        if char.isalpha():\n",
    "            print(char,end='')\n",
    "        elif char == ')':\n",
    "            temp = ''\n",
    "            while(temp != '('):\n",
    "                temp = s.pop()\n",
    "                if temp != '(':\n",
    "                    print(temp,end='')\n",
    "        elif char=='(':\n",
    "            s.push(char)\n",
    "        else:\n",
    "            if s.top != -1:\n",
    "                while(s.top != -1 and precedence[s.stack[s.top]] >= precedence[char]):\n",
    "                    temp = s.pop()\n",
    "                    print(temp,end='')\n",
    "            s.push(char)\n",
    "    while(s.top!=-1):\n",
    "        temp = s.pop()\n",
    "        print(temp,end='')"
   ]
  },
  {
   "cell_type": "markdown",
   "metadata": {},
   "source": [
    "# Test"
   ]
  },
  {
   "cell_type": "code",
   "execution_count": 40,
   "metadata": {},
   "outputs": [
    {
     "name": "stdout",
     "output_type": "stream",
     "text": [
      "abc*+"
     ]
    }
   ],
   "source": [
    "infix_expr = \"a+b*c\"\n",
    "infixToPostfix(infix_expr)\n",
    "# ans \n",
    "# abc*+"
   ]
  },
  {
   "cell_type": "code",
   "execution_count": 41,
   "metadata": {},
   "outputs": [
    {
     "name": "stdout",
     "output_type": "stream",
     "text": [
      "ab*c+"
     ]
    }
   ],
   "source": [
    "infix_expr = \"a*b+c\"\n",
    "infixToPostfix(infix_expr)\n",
    "# ans \n",
    "# ab*c+"
   ]
  },
  {
   "cell_type": "code",
   "execution_count": 42,
   "metadata": {},
   "outputs": [
    {
     "name": "stdout",
     "output_type": "stream",
     "text": [
      "abde-*+"
     ]
    }
   ],
   "source": [
    "infix_expr = \"a+b*(d-e)\"\n",
    "infixToPostfix(infix_expr)\n",
    "# ans \n",
    "# abde-*+"
   ]
  },
  {
   "cell_type": "code",
   "execution_count": 43,
   "metadata": {},
   "outputs": [
    {
     "name": "stdout",
     "output_type": "stream",
     "text": [
      "abd*+e-"
     ]
    }
   ],
   "source": [
    "infix_expr = \"a+b*d-e\"\n",
    "infixToPostfix(infix_expr)\n",
    "# ans\n",
    "# abd*+e-"
   ]
  },
  {
   "cell_type": "code",
   "execution_count": 44,
   "metadata": {},
   "outputs": [
    {
     "name": "stdout",
     "output_type": "stream",
     "text": [
      "xy^bz*/k+"
     ]
    }
   ],
   "source": [
    "infix_expr = \"x^y/(b*z)+k\"\n",
    "infixToPostfix(infix_expr)\n",
    "# ans\n",
    "# xy^bz*/k+"
   ]
  },
  {
   "cell_type": "code",
   "execution_count": null,
   "metadata": {},
   "outputs": [],
   "source": []
  }
 ],
 "metadata": {
  "kernelspec": {
   "display_name": "Python 3",
   "language": "python",
   "name": "python3"
  },
  "language_info": {
   "codemirror_mode": {
    "name": "ipython",
    "version": 3
   },
   "file_extension": ".py",
   "mimetype": "text/x-python",
   "name": "python",
   "nbconvert_exporter": "python",
   "pygments_lexer": "ipython3",
   "version": "3.5.2"
  }
 },
 "nbformat": 4,
 "nbformat_minor": 2
}
