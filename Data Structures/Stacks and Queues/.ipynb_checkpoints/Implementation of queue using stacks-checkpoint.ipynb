{
 "cells": [
  {
   "cell_type": "markdown",
   "metadata": {},
   "source": [
    "# Gate Questions"
   ]
  },
  {
   "cell_type": "markdown",
   "metadata": {},
   "source": [
    "##### Go through the video or notes folder"
   ]
  },
  {
   "cell_type": "markdown",
   "metadata": {},
   "source": [
    "# Implementation of queue using two stacks"
   ]
  },
  {
   "cell_type": "markdown",
   "metadata": {},
   "source": [
    "1. In queue order of insertion and deletion remains same .\n",
    "2. if a,b,c,d are inserted, dequeue order is also a,b,c,d\n",
    "3. or if a,b inserted then dequeued order will be a,b. then c and d are inserted and them dequeued final total order of \n",
    "dequeue will be a,b,c,d\n",
    "4. Where as in stack order gets changed .\n",
    "a,b inserted then popped order will be b,a.\n",
    "c,d inserted then popped order will be d,c\n",
    "total popping order will be b,a,d,c\n",
    "5. To maintain same order we have to use two stacks\n"
   ]
  },
  {
   "cell_type": "markdown",
   "metadata": {},
   "source": [
    "# Algorithm"
   ]
  },
  {
   "cell_type": "markdown",
   "metadata": {},
   "source": [
    "1. Use two stacks s1 and s2\n",
    "2. For insertion directly do s1.push\n",
    "3. For deletion, \n",
    "    first check s2 is empty or not. if s2 is empty check s1 is empty. if s2 and s1 are empty return underflow.\n",
    "    if s2 is empty and s1 is not empty then pop all the elements of s1 and push to s2. and then pop top element of s2.\n",
    "    if s2 is not empty then directly pop element from s2.\n",
    "4. using this algorithm on average to pop one element it takes 2 pushes and 2 pops.\n",
    "5. to make minimum pushed and pops do one element at a time.one push to s1 , pop from s1 and push to s2 and then pop from s2\n",
    "6. for maximum pushed and pops first push all elements to s1, pop all elements from s1 and push to s2 and then pop one element from s2"
   ]
  },
  {
   "cell_type": "markdown",
   "metadata": {},
   "source": [
    "# Implementation of queue using one stack"
   ]
  },
  {
   "cell_type": "markdown",
   "metadata": {},
   "source": [
    "To implement queue using one stack, stack should have push pop as well as reverse operation that reverses the elements of stack"
   ]
  },
  {
   "cell_type": "markdown",
   "metadata": {},
   "source": [
    "# Algorithm"
   ]
  },
  {
   "cell_type": "markdown",
   "metadata": {},
   "source": [
    "##### Insert\n",
    "To insert directly push to stack\n",
    "##### Delete\n",
    "To delete, reverse elements of stack, pop the element and again reverse the elements of stack to original order"
   ]
  },
  {
   "cell_type": "markdown",
   "metadata": {},
   "source": [
    "1. Insert can be done in one operation and delete can be done in 3 operations.\n",
    "2. Insert can be done in 3 operations and delete can be done in one operation as well\n"
   ]
  },
  {
   "cell_type": "code",
   "execution_count": null,
   "metadata": {},
   "outputs": [],
   "source": []
  }
 ],
 "metadata": {
  "kernelspec": {
   "display_name": "Python 3",
   "language": "python",
   "name": "python3"
  },
  "language_info": {
   "codemirror_mode": {
    "name": "ipython",
    "version": 3
   },
   "file_extension": ".py",
   "mimetype": "text/x-python",
   "name": "python",
   "nbconvert_exporter": "python",
   "pygments_lexer": "ipython3",
   "version": "3.5.2"
  }
 },
 "nbformat": 4,
 "nbformat_minor": 2
}
