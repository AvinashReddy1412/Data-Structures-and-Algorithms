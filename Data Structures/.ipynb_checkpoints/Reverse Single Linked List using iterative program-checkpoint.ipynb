{
 "cells": [
  {
   "cell_type": "markdown",
   "metadata": {},
   "source": [
    "# Linked List Creation"
   ]
  },
  {
   "cell_type": "code",
   "execution_count": 3,
   "metadata": {},
   "outputs": [],
   "source": [
    "class Node:\n",
    "    def __init__(self,data):\n",
    "        self.data = data\n",
    "        self.next = None\n",
    "    \n",
    "    @staticmethod\n",
    "    def createSampleLinkedList():\n",
    "        head = Node(7)\n",
    "        a = Node(6)\n",
    "        b = Node(3)\n",
    "        c = Node(4)\n",
    "        d = Node(8)\n",
    "        head.next = a\n",
    "        a.next = b\n",
    "        b.next = c\n",
    "        c.next = d\n",
    "        return head\n",
    "\n",
    "    @staticmethod\n",
    "    def createEmptyNode(value):\n",
    "        newnode = Node(value)\n",
    "        return newnode"
   ]
  },
  {
   "cell_type": "code",
   "execution_count": 4,
   "metadata": {},
   "outputs": [],
   "source": [
    "def traverseSingleLinkedList(a):\n",
    "    temp = a\n",
    "    while(temp):\n",
    "        print(temp.data)\n",
    "        temp = temp.next"
   ]
  },
  {
   "cell_type": "markdown",
   "metadata": {},
   "source": [
    "# Reverse Linked List"
   ]
  },
  {
   "cell_type": "markdown",
   "metadata": {},
   "source": [
    "While reversing SLL, further nodes may loose their reference. So we use 3 pointers to keep track of next node and continue process of reversal"
   ]
  },
  {
   "cell_type": "code",
   "execution_count": 6,
   "metadata": {},
   "outputs": [],
   "source": [
    "def reverse(curr_node):\n",
    "    prev_node = None\n",
    "    next_node = None\n",
    "    while(curr_node):\n",
    "        next_node = curr_node.next\n",
    "        curr_node.next = prev_node\n",
    "        prev_node = curr_node\n",
    "        curr_node = next_node\n",
    "    return prev_node\n",
    "        \n",
    "    "
   ]
  },
  {
   "cell_type": "markdown",
   "metadata": {},
   "source": [
    "# Test"
   ]
  },
  {
   "cell_type": "code",
   "execution_count": 7,
   "metadata": {},
   "outputs": [
    {
     "name": "stdout",
     "output_type": "stream",
     "text": [
      "7\n",
      "6\n",
      "3\n",
      "4\n",
      "8\n"
     ]
    }
   ],
   "source": [
    "head = Node.createSampleLinkedList()\n",
    "traverseSingleLinkedList(head)\n",
    "#ans\n",
    "# 7\n",
    "# 6\n",
    "# 3\n",
    "# 4\n",
    "# 8"
   ]
  },
  {
   "cell_type": "code",
   "execution_count": 8,
   "metadata": {},
   "outputs": [
    {
     "name": "stdout",
     "output_type": "stream",
     "text": [
      "8\n",
      "4\n",
      "3\n",
      "6\n",
      "7\n"
     ]
    }
   ],
   "source": [
    "head = reverse(head)\n",
    "traverseSingleLinkedList(head)\n",
    "# ans\n",
    "# 8\n",
    "# 4\n",
    "# 3\n",
    "# 6\n",
    "# 7"
   ]
  },
  {
   "cell_type": "code",
   "execution_count": null,
   "metadata": {},
   "outputs": [],
   "source": []
  }
 ],
 "metadata": {
  "kernelspec": {
   "display_name": "Python 3",
   "language": "python",
   "name": "python3"
  },
  "language_info": {
   "codemirror_mode": {
    "name": "ipython",
    "version": 3
   },
   "file_extension": ".py",
   "mimetype": "text/x-python",
   "name": "python",
   "nbconvert_exporter": "python",
   "pygments_lexer": "ipython3",
   "version": "3.5.2"
  }
 },
 "nbformat": 4,
 "nbformat_minor": 2
}
