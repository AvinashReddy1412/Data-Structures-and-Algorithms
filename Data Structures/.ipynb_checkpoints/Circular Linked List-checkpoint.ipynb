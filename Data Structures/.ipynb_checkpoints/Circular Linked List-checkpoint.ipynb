{
 "cells": [
  {
   "cell_type": "markdown",
   "metadata": {},
   "source": [
    "# Circular Linked List Creation"
   ]
  },
  {
   "cell_type": "code",
   "execution_count": 1,
   "metadata": {},
   "outputs": [],
   "source": [
    "class Node:\n",
    "    def __init__(self,data):\n",
    "        self.data = data\n",
    "        self.next = None\n",
    "    \n",
    "    @staticmethod\n",
    "    def createSampleCircularLinkedList():\n",
    "        head = Node(7)\n",
    "        a = Node(6)\n",
    "        b = Node(3)\n",
    "        c = Node(4)\n",
    "        d = Node(8)\n",
    "        head.next = a\n",
    "        a.next = b\n",
    "        b.next = c\n",
    "        c.next = d\n",
    "        d.next = head\n",
    "        return head\n",
    "\n",
    "    @staticmethod\n",
    "    def createEmptyNode(value):\n",
    "        newnode = Node(value)\n",
    "        return newnode"
   ]
  },
  {
   "cell_type": "code",
   "execution_count": 9,
   "metadata": {},
   "outputs": [],
   "source": [
    "def traverseCircularLinkedList(head):\n",
    "    temp = head\n",
    "    while(temp.next!= head):\n",
    "        print(temp.data)\n",
    "        temp = temp.next\n",
    "    if temp.next == head:\n",
    "        print(temp.data)\n"
   ]
  },
  {
   "cell_type": "markdown",
   "metadata": {},
   "source": [
    "The Last node of Circular Linked List points to the head. It helps to travers through the complete list.\n",
    "To prevent entering into infinte loop as end node also contains pointer sentinel is introduced at the beginning which has\n",
    "count of nodes. Head is pointed to sentinel\n",
    "#TODO Reseach on sentinel Later"
   ]
  },
  {
   "cell_type": "code",
   "execution_count": 10,
   "metadata": {},
   "outputs": [
    {
     "name": "stdout",
     "output_type": "stream",
     "text": [
      "7\n",
      "6\n",
      "3\n",
      "4\n",
      "8\n"
     ]
    }
   ],
   "source": [
    "head = Node.createSampleCircularLinkedList()\n",
    "traverseCircularLinkedList(head)"
   ]
  },
  {
   "cell_type": "code",
   "execution_count": null,
   "metadata": {},
   "outputs": [],
   "source": []
  }
 ],
 "metadata": {
  "kernelspec": {
   "display_name": "Python 3",
   "language": "python",
   "name": "python3"
  },
  "language_info": {
   "codemirror_mode": {
    "name": "ipython",
    "version": 3
   },
   "file_extension": ".py",
   "mimetype": "text/x-python",
   "name": "python",
   "nbconvert_exporter": "python",
   "pygments_lexer": "ipython3",
   "version": "3.5.2"
  }
 },
 "nbformat": 4,
 "nbformat_minor": 2
}
