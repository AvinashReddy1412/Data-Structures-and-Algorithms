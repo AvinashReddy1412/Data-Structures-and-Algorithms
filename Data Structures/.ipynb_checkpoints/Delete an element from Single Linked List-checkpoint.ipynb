{
 "cells": [
  {
   "cell_type": "markdown",
   "metadata": {},
   "source": [
    "###### Important Note ################\n",
    "\n",
    "\n",
    "To delete element from single linked list we cannot go till that node and delete.\n",
    "So we have to stop one node ahead of what is to be deleted."
   ]
  },
  {
   "cell_type": "markdown",
   "metadata": {},
   "source": [
    "## Linked List Creation"
   ]
  },
  {
   "cell_type": "code",
   "execution_count": 1,
   "metadata": {},
   "outputs": [],
   "source": [
    "class Node:\n",
    "    def __init__(self,data):\n",
    "        self.data = data\n",
    "        self.next = None\n",
    "    \n",
    "    @staticmethod\n",
    "    def createSampleLinkedList():\n",
    "        head = Node(7)\n",
    "        a = Node(6)\n",
    "        b = Node(3)\n",
    "        c = Node(4)\n",
    "        d = Node(8)\n",
    "        head.next = a\n",
    "        a.next = b\n",
    "        b.next = c\n",
    "        c.next = d\n",
    "        return head\n",
    "\n",
    "    @staticmethod\n",
    "    def createEmptyNode(value):\n",
    "        newnode = Node(value)\n",
    "        return newnode"
   ]
  },
  {
   "cell_type": "code",
   "execution_count": 2,
   "metadata": {},
   "outputs": [],
   "source": [
    "def traverseSingleLinkedList(a):\n",
    "    temp = a\n",
    "    while(temp):\n",
    "        print(temp.data)\n",
    "        temp = temp.next"
   ]
  },
  {
   "cell_type": "markdown",
   "metadata": {},
   "source": [
    "# Deleting an element"
   ]
  },
  {
   "cell_type": "markdown",
   "metadata": {},
   "source": [
    "## At the beginning "
   ]
  },
  {
   "cell_type": "code",
   "execution_count": 3,
   "metadata": {},
   "outputs": [],
   "source": [
    "def deleteBegin(head):\n",
    "    temp = head\n",
    "    head = head.next\n",
    "    del temp \n",
    "    return head"
   ]
  },
  {
   "cell_type": "markdown",
   "metadata": {},
   "source": [
    "## At the end"
   ]
  },
  {
   "cell_type": "code",
   "execution_count": 4,
   "metadata": {},
   "outputs": [],
   "source": [
    "def deleteEnd(head):\n",
    "    temp = head\n",
    "    while(temp.next.next):\n",
    "        temp = temp.next\n",
    "    del temp.next\n",
    "    temp.next = None\n",
    "    return head\n"
   ]
  },
  {
   "cell_type": "markdown",
   "metadata": {},
   "source": [
    "## In the middle at particular data value i.e delete element whose data is k"
   ]
  },
  {
   "cell_type": "code",
   "execution_count": 5,
   "metadata": {},
   "outputs": [],
   "source": [
    "def deleteMiddle(head,k = 3):\n",
    "    temp = head\n",
    "    while(temp.next.data!=3):\n",
    "        temp = temp.next\n",
    "    temp1 = temp.next\n",
    "    temp.next = temp.next.next\n",
    "    del temp1\n",
    "    return head"
   ]
  },
  {
   "cell_type": "markdown",
   "metadata": {},
   "source": [
    "# Test"
   ]
  },
  {
   "cell_type": "code",
   "execution_count": 6,
   "metadata": {},
   "outputs": [
    {
     "name": "stdout",
     "output_type": "stream",
     "text": [
      "7\n",
      "6\n",
      "3\n",
      "4\n",
      "8\n"
     ]
    }
   ],
   "source": [
    "head = Node.createSampleLinkedList()\n",
    "traverseSingleLinkedList(head)\n",
    "# ans \n",
    "# 7\n",
    "# 6\n",
    "# 3\n",
    "# 4\n",
    "# 8"
   ]
  },
  {
   "cell_type": "code",
   "execution_count": 8,
   "metadata": {},
   "outputs": [
    {
     "name": "stdout",
     "output_type": "stream",
     "text": [
      "6\n",
      "3\n",
      "4\n",
      "8\n"
     ]
    }
   ],
   "source": [
    "head = deleteBegin(head)\n",
    "traverseSingleLinkedList(head)\n",
    "# ans\n",
    "# 6\n",
    "# 3\n",
    "# 4\n",
    "# 8"
   ]
  },
  {
   "cell_type": "code",
   "execution_count": 9,
   "metadata": {},
   "outputs": [
    {
     "name": "stdout",
     "output_type": "stream",
     "text": [
      "7\n",
      "6\n",
      "3\n",
      "4\n",
      "8\n"
     ]
    }
   ],
   "source": [
    "head = Node.createSampleLinkedList()\n",
    "traverseSingleLinkedList(head)\n",
    "# ans \n",
    "# 7\n",
    "# 6\n",
    "# 3\n",
    "# 4\n",
    "# 8"
   ]
  },
  {
   "cell_type": "code",
   "execution_count": 10,
   "metadata": {},
   "outputs": [
    {
     "name": "stdout",
     "output_type": "stream",
     "text": [
      "7\n",
      "6\n",
      "3\n",
      "4\n"
     ]
    }
   ],
   "source": [
    "head = deleteEnd(head)\n",
    "traverseSingleLinkedList(head)\n",
    "# ans\n",
    "# 7\n",
    "# 6\n",
    "# 3\n",
    "# 4"
   ]
  },
  {
   "cell_type": "code",
   "execution_count": 11,
   "metadata": {},
   "outputs": [
    {
     "name": "stdout",
     "output_type": "stream",
     "text": [
      "7\n",
      "6\n",
      "3\n",
      "4\n",
      "8\n"
     ]
    }
   ],
   "source": [
    "head = Node.createSampleLinkedList()\n",
    "traverseSingleLinkedList(head)\n",
    "# ans \n",
    "# 7\n",
    "# 6\n",
    "# 3\n",
    "# 4\n",
    "# 8"
   ]
  },
  {
   "cell_type": "code",
   "execution_count": 12,
   "metadata": {},
   "outputs": [
    {
     "name": "stdout",
     "output_type": "stream",
     "text": [
      "7\n",
      "6\n",
      "4\n",
      "8\n"
     ]
    }
   ],
   "source": [
    "head = deleteMiddle(head)\n",
    "traverseSingleLinkedList(head)\n",
    "# ans\n",
    "# 7\n",
    "# 6\n",
    "# 4\n",
    "# 8"
   ]
  }
 ],
 "metadata": {
  "kernelspec": {
   "display_name": "Python 3",
   "language": "python",
   "name": "python3"
  },
  "language_info": {
   "codemirror_mode": {
    "name": "ipython",
    "version": 3
   },
   "file_extension": ".py",
   "mimetype": "text/x-python",
   "name": "python",
   "nbconvert_exporter": "python",
   "pygments_lexer": "ipython3",
   "version": "3.5.2"
  }
 },
 "nbformat": 4,
 "nbformat_minor": 2
}
