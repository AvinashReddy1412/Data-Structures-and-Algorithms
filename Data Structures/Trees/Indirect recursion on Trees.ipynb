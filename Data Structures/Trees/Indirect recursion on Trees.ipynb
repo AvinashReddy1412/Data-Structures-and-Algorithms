{
 "cells": [
  {
   "cell_type": "markdown",
   "metadata": {},
   "source": [
    "# Indirect Recursion"
   ]
  },
  {
   "cell_type": "markdown",
   "metadata": {},
   "source": [
    "Instead of function calling itself, function A calls function B and function B calls function A. This is called Indirect\n",
    "Recursion. For pictorial tracing refer notes folder."
   ]
  },
  {
   "cell_type": "markdown",
   "metadata": {},
   "source": [
    "# Tree Creation"
   ]
  },
  {
   "cell_type": "code",
   "execution_count": 4,
   "metadata": {},
   "outputs": [],
   "source": [
    "class TreeNode:\n",
    "    def __init__(self,data):\n",
    "        self.key = data\n",
    "        self.leftChild = None\n",
    "        self.rightChild = None\n",
    "        \n",
    "def createSampleTree():\n",
    "    a= TreeNode('a')\n",
    "    b = TreeNode('b')\n",
    "    c = TreeNode('c')\n",
    "    d = TreeNode('d')\n",
    "    e = TreeNode('e')\n",
    "    f = TreeNode('f')\n",
    "    g = TreeNode('g')\n",
    "    a.leftChild = b\n",
    "    a.rightChild = c\n",
    "    b.leftChild = d\n",
    "    b.rightChild = e\n",
    "    c.leftChild = f\n",
    "    c.rightChild = g\n",
    "    return a\n"
   ]
  },
  {
   "cell_type": "markdown",
   "metadata": {},
   "source": [
    "# Implementation"
   ]
  },
  {
   "cell_type": "code",
   "execution_count": 5,
   "metadata": {},
   "outputs": [],
   "source": [
    "def A(root):\n",
    "    if root:\n",
    "        print(root.key,end=\" \")\n",
    "        B(root.leftChild)\n",
    "        B(root.rightChild)\n",
    "\n",
    "def B(root):\n",
    "    if root:\n",
    "        A(root.leftChild)\n",
    "        print(root.key,end=\" \")\n",
    "        A(root.rightChild)\n",
    "\n",
    "        "
   ]
  },
  {
   "cell_type": "markdown",
   "metadata": {},
   "source": [
    "# Test"
   ]
  },
  {
   "cell_type": "code",
   "execution_count": 9,
   "metadata": {},
   "outputs": [
    {
     "name": "stdout",
     "output_type": "stream",
     "text": [
      "a d b e f c g "
     ]
    }
   ],
   "source": [
    "root = createSampleTree()\n",
    "A(root) # A called from main\n",
    "# ans \n",
    "# a d b e f c g"
   ]
  },
  {
   "cell_type": "code",
   "execution_count": 8,
   "metadata": {},
   "outputs": [
    {
     "name": "stdout",
     "output_type": "stream",
     "text": [
      "b d e a c f g "
     ]
    }
   ],
   "source": [
    "root = createSampleTree()\n",
    "B(root) # B called from main\n",
    "# ans \n",
    "# b d e a c f g"
   ]
  },
  {
   "cell_type": "code",
   "execution_count": null,
   "metadata": {},
   "outputs": [],
   "source": []
  }
 ],
 "metadata": {
  "kernelspec": {
   "display_name": "Python 3",
   "language": "python",
   "name": "python3"
  },
  "language_info": {
   "codemirror_mode": {
    "name": "ipython",
    "version": 3
   },
   "file_extension": ".py",
   "mimetype": "text/x-python",
   "name": "python",
   "nbconvert_exporter": "python",
   "pygments_lexer": "ipython3",
   "version": "3.5.2"
  }
 },
 "nbformat": 4,
 "nbformat_minor": 2
}
