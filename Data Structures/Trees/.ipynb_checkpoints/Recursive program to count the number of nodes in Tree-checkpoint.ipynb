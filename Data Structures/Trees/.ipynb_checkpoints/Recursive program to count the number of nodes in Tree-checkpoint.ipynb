{
 "cells": [
  {
   "cell_type": "markdown",
   "metadata": {},
   "source": [
    "# Tree Creation"
   ]
  },
  {
   "cell_type": "code",
   "execution_count": 2,
   "metadata": {},
   "outputs": [],
   "source": [
    "class TreeNode:\n",
    "    def __init__(self,data):\n",
    "        self.key = data\n",
    "        self.leftChild = None\n",
    "        self.rightChild = None\n",
    "        \n",
    "def createSampleTree():\n",
    "    a= TreeNode('a')\n",
    "    b = TreeNode('b')\n",
    "    c = TreeNode('c')\n",
    "    d = TreeNode('d')\n",
    "    e = TreeNode('e')\n",
    "    f = TreeNode('f')\n",
    "    g = TreeNode('g')\n",
    "    a.leftChild = b\n",
    "    a.rightChild = c\n",
    "    b.leftChild = d\n",
    "    b.rightChild = e\n",
    "    c.leftChild = f\n",
    "    c.rightChild = g\n",
    "    return a\n"
   ]
  },
  {
   "cell_type": "markdown",
   "metadata": {},
   "source": [
    "# Recursive Equation"
   ]
  },
  {
   "cell_type": "markdown",
   "metadata": {},
   "source": [
    "To write recursion, first split the given problem into recursive equation\n"
   ]
  },
  {
   "cell_type": "raw",
   "metadata": {},
   "source": [
    "Number of nodes(root) = 1 + Number of nodes(Left subtree) + Number of nodes(right subtree)\n",
    "                      = 0  ; if root=Null"
   ]
  },
  {
   "cell_type": "markdown",
   "metadata": {},
   "source": [
    "## Complexity\n",
    "### Time :\n",
    "    As each node is visted thrice in recrusion : O(n)\n",
    "### Space :\n",
    "    At any stage number of records in recursion stack is equal to number of levels in tree\n",
    "    maximum levels can be n : O(n)"
   ]
  },
  {
   "cell_type": "markdown",
   "metadata": {},
   "source": [
    "# Implementation"
   ]
  },
  {
   "cell_type": "code",
   "execution_count": 3,
   "metadata": {},
   "outputs": [],
   "source": [
    "def NN(root):\n",
    "    if root:\n",
    "        return 1+NN(root.leftChild)+NN(root.rightChild)\n",
    "    else:\n",
    "        return 0"
   ]
  },
  {
   "cell_type": "markdown",
   "metadata": {},
   "source": [
    "## Test"
   ]
  },
  {
   "cell_type": "code",
   "execution_count": 5,
   "metadata": {},
   "outputs": [
    {
     "data": {
      "text/plain": [
       "7"
      ]
     },
     "execution_count": 5,
     "metadata": {},
     "output_type": "execute_result"
    }
   ],
   "source": [
    "root = createSampleTree()\n",
    "NN(root)\n",
    "# ans 7"
   ]
  },
  {
   "cell_type": "code",
   "execution_count": null,
   "metadata": {},
   "outputs": [],
   "source": []
  }
 ],
 "metadata": {
  "kernelspec": {
   "display_name": "Python 3",
   "language": "python",
   "name": "python3"
  },
  "language_info": {
   "codemirror_mode": {
    "name": "ipython",
    "version": 3
   },
   "file_extension": ".py",
   "mimetype": "text/x-python",
   "name": "python",
   "nbconvert_exporter": "python",
   "pygments_lexer": "ipython3",
   "version": "3.5.2"
  }
 },
 "nbformat": 4,
 "nbformat_minor": 2
}
