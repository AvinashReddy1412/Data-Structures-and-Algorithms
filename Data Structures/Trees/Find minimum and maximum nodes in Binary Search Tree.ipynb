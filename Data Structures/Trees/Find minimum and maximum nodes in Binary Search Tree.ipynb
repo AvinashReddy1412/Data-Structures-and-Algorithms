{
 "cells": [
  {
   "cell_type": "markdown",
   "metadata": {},
   "source": [
    "# Binary Search Tree:\n",
    "    Lesser nodes in left subtree and greater nodes in right subtree. Go through notebook for complete explanation."
   ]
  },
  {
   "cell_type": "markdown",
   "metadata": {},
   "source": [
    "## Binary Search Tree Creation"
   ]
  },
  {
   "cell_type": "code",
   "execution_count": 1,
   "metadata": {},
   "outputs": [],
   "source": [
    "class TreeNode:\n",
    "    def __init__(self,data):\n",
    "        self.key = data\n",
    "        self.leftChild = None\n",
    "        self.rightChild = None\n",
    "        \n",
    "def createSampleTree():\n",
    "    node_20 = TreeNode(20)\n",
    "    node_15 = TreeNode(15)\n",
    "    node_10 = TreeNode(10)\n",
    "    node_2 = TreeNode(2)\n",
    "    node_12 = TreeNode(12)\n",
    "    node_30 = TreeNode(30)\n",
    "    node_91 = TreeNode(91)\n",
    "    node_20.leftChild = node_15\n",
    "    node_20.rightChild = node_30\n",
    "    node_15.leftChild = node_10\n",
    "    node_10.rightChild = node_12\n",
    "    node_10.leftChild = node_2\n",
    "    node_30.rightChild = node_91\n",
    "    return node_20\n"
   ]
  },
  {
   "cell_type": "markdown",
   "metadata": {},
   "source": [
    "# Minimum and Maximum nodes in BST\n",
    "##### Minimum node is the left most element in BST and maximum node is the right most element in BST.\n",
    "##### Finding minimum node is same as finding inorder successor in BST node deletion.\n",
    "##### Finding maximum node is same as finding inorder predecessor in BST node deletion.\n"
   ]
  },
  {
   "cell_type": "markdown",
   "metadata": {},
   "source": [
    "# Implementation"
   ]
  },
  {
   "cell_type": "code",
   "execution_count": 2,
   "metadata": {},
   "outputs": [],
   "source": [
    "def findMin(root):\n",
    "    if root:\n",
    "        temp = root\n",
    "        while(temp.leftChild):\n",
    "            temp = temp.leftChild\n",
    "        return temp\n",
    "    else:\n",
    "        return "
   ]
  },
  {
   "cell_type": "code",
   "execution_count": 3,
   "metadata": {},
   "outputs": [],
   "source": [
    "def findMax(root):\n",
    "    if root:\n",
    "        temp = root\n",
    "        while(temp.rightChild):\n",
    "            temp = temp.rightChild\n",
    "        return temp\n",
    "    else:\n",
    "        return "
   ]
  },
  {
   "cell_type": "code",
   "execution_count": 4,
   "metadata": {},
   "outputs": [
    {
     "data": {
      "text/plain": [
       "2"
      ]
     },
     "execution_count": 4,
     "metadata": {},
     "output_type": "execute_result"
    }
   ],
   "source": [
    "root = createSampleTree()\n",
    "findMin(root).key\n",
    "# ans 2"
   ]
  },
  {
   "cell_type": "code",
   "execution_count": 5,
   "metadata": {},
   "outputs": [
    {
     "data": {
      "text/plain": [
       "91"
      ]
     },
     "execution_count": 5,
     "metadata": {},
     "output_type": "execute_result"
    }
   ],
   "source": [
    "root = createSampleTree()\n",
    "findMax(root).key\n",
    "# ans 91"
   ]
  },
  {
   "cell_type": "code",
   "execution_count": null,
   "metadata": {},
   "outputs": [],
   "source": []
  }
 ],
 "metadata": {
  "kernelspec": {
   "display_name": "Python 3",
   "language": "python",
   "name": "python3"
  },
  "language_info": {
   "codemirror_mode": {
    "name": "ipython",
    "version": 3
   },
   "file_extension": ".py",
   "mimetype": "text/x-python",
   "name": "python",
   "nbconvert_exporter": "python",
   "pygments_lexer": "ipython3",
   "version": "3.5.2"
  }
 },
 "nbformat": 4,
 "nbformat_minor": 2
}
