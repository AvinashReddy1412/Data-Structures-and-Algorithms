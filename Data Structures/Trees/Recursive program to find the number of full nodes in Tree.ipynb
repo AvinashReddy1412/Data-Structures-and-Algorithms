{
 "cells": [
  {
   "cell_type": "markdown",
   "metadata": {},
   "source": [
    "## Full Node \n",
    "#####  Node which has both left child and right child is called Full Node in Binary Tree"
   ]
  },
  {
   "cell_type": "markdown",
   "metadata": {},
   "source": [
    "# Tree Creation"
   ]
  },
  {
   "cell_type": "code",
   "execution_count": 13,
   "metadata": {},
   "outputs": [],
   "source": [
    "class TreeNode:\n",
    "    def __init__(self,data):\n",
    "        self.key = data\n",
    "        self.leftChild = None\n",
    "        self.rightChild = None\n",
    "        \n",
    "def createSampleTree():\n",
    "    a= TreeNode('a')\n",
    "    b = TreeNode('b')\n",
    "    c = TreeNode('c')\n",
    "    d = TreeNode('d')\n",
    "    e = TreeNode('e')\n",
    "    f = TreeNode('f')\n",
    "    g = TreeNode('g')\n",
    "    a.leftChild = b\n",
    "    a.rightChild = c\n",
    "    b.leftChild = d\n",
    "    b.rightChild = e\n",
    "    c.leftChild = f\n",
    "    c.rightChild = g\n",
    "    return a\n"
   ]
  },
  {
   "cell_type": "markdown",
   "metadata": {},
   "source": [
    "# Recursive Equation"
   ]
  },
  {
   "cell_type": "markdown",
   "metadata": {},
   "source": [
    "To write recursion, first split the given problem into recursive equation\n"
   ]
  },
  {
   "cell_type": "raw",
   "metadata": {},
   "source": [
    "Number of Full Nodes(root) = 0  ; if root = Null\n",
    "                           = 0  ; if root = Leaf\n",
    "                       = Number of Full Nodes(Leftchild) + Number of Full Nodes(Rightchild); if root has one  child\n",
    "                       = 1 + Number of Full Nodes(Leftchild) + Number of Full Nodes(Rightchild); if root = FullNode"
   ]
  },
  {
   "cell_type": "markdown",
   "metadata": {},
   "source": [
    "## Complexity\n",
    "### Time :\n",
    "    As each node is visted thrice in recrusion : O(n)\n",
    "### Space :\n",
    "    At any stage number of records in recursion stack is equal to number of levels in tree\n",
    "    maximum levels can be n : O(n)"
   ]
  },
  {
   "cell_type": "markdown",
   "metadata": {},
   "source": [
    "# Implementation"
   ]
  },
  {
   "cell_type": "code",
   "execution_count": 14,
   "metadata": {},
   "outputs": [],
   "source": [
    "def NFN(root):\n",
    "    if root==None :\n",
    "        return 0\n",
    "    if root.leftChild == None and root.rightChild == None:\n",
    "        return 0\n",
    "    return NFN(root.leftChild)+NFN(root.rightChild)+(1 if (root.leftChild and root.rightChild) else 0)"
   ]
  },
  {
   "cell_type": "code",
   "execution_count": 15,
   "metadata": {},
   "outputs": [
    {
     "data": {
      "text/plain": [
       "3"
      ]
     },
     "execution_count": 15,
     "metadata": {},
     "output_type": "execute_result"
    }
   ],
   "source": [
    "root = createSampleTree()\n",
    "NFN(root)\n",
    "# ans 3"
   ]
  },
  {
   "cell_type": "code",
   "execution_count": 17,
   "metadata": {},
   "outputs": [
    {
     "data": {
      "text/plain": [
       "3"
      ]
     },
     "execution_count": 17,
     "metadata": {},
     "output_type": "execute_result"
    }
   ],
   "source": [
    "# after deleting g # modify create sample tree to not assign g and check\n",
    "root = createSampleTree()\n",
    "NFN(root)\n",
    "# ans 2"
   ]
  },
  {
   "cell_type": "code",
   "execution_count": null,
   "metadata": {},
   "outputs": [],
   "source": []
  },
  {
   "cell_type": "code",
   "execution_count": null,
   "metadata": {},
   "outputs": [],
   "source": []
  }
 ],
 "metadata": {
  "kernelspec": {
   "display_name": "Python 3",
   "language": "python",
   "name": "python3"
  },
  "language_info": {
   "codemirror_mode": {
    "name": "ipython",
    "version": 3
   },
   "file_extension": ".py",
   "mimetype": "text/x-python",
   "name": "python",
   "nbconvert_exporter": "python",
   "pygments_lexer": "ipython3",
   "version": "3.5.2"
  }
 },
 "nbformat": 4,
 "nbformat_minor": 2
}
