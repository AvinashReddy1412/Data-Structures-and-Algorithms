{
 "cells": [
  {
   "cell_type": "markdown",
   "metadata": {},
   "source": [
    "# Breadth First Search\n",
    "    We start from a node, expore it completely by visiting its neighbours. Then one of its neigbours is taken \n",
    "    and expored completely. This is repeated till we visit all nodes.For clear explanation see notes folder \n",
    "    and notebook"
   ]
  },
  {
   "cell_type": "markdown",
   "metadata": {},
   "source": [
    "# Complexity\n",
    "### Time :\n",
    "    Time complexity depends on datastructure using which Graph is Implemented. If Graph is implemented using Adjacency List we have total of 2E entries. Each entry is visited once. And for initializing visited array time take is O(V). So total time taken is \n",
    "#### O(V+E)\n",
    "    If Graph is implemented using Adjacency matrix total entries are V^2. Each Entry is visited once.And for initializing visited array time take is O(V). So total time taken is \n",
    "#### O(V^2+V) = O(V^2)\n",
    "\n",
    "###  Space:\n",
    "    We use visited array which has atleast V Entries. And in Queue in worst case we have V records simultaneously.\n",
    "    This worst case happens when we have one node and all other vertices are directly connected to this node.\n",
    "    So total space is O(2V) \n",
    "#### O(V)"
   ]
  },
  {
   "cell_type": "markdown",
   "metadata": {},
   "source": [
    "# Graph Creation"
   ]
  },
  {
   "cell_type": "code",
   "execution_count": 43,
   "metadata": {},
   "outputs": [],
   "source": [
    "class Vertex:\n",
    "    def __init__(self,key):\n",
    "        self.key = key\n",
    "        self.neighbours = {}\n",
    "    \n",
    "    def addNeighbour(self,ver,weight = 1):\n",
    "        self.neighbours[ver] = weight\n",
    "    \n",
    "    \n",
    "    def getNeighbours(self):\n",
    "        return [x.key for x in self.neighbours]\n",
    "    \n",
    "    \n",
    "class Graph:\n",
    "    def __init__(self):\n",
    "        self.no_of_vertices = 0\n",
    "        self.vertices = {}\n",
    "        \n",
    "    def addVertex(self,key):\n",
    "        if key in self.vertices:\n",
    "            print(\"vertex already exists\")\n",
    "            return\n",
    "        newvertex = Vertex(key)\n",
    "        self.no_of_vertices+=1\n",
    "        self.vertices[key] = newvertex\n",
    "        return newvertex\n",
    "    \n",
    "    def getVertex(self,key):\n",
    "        if key in self.vertices:\n",
    "            return self.vertices[key]\n",
    "        else:\n",
    "            print(\"Vertex does not exist\")\n",
    "            return \n",
    "    \n",
    "    def addEdge(self,key1,key2,weight = 1,directed=False):\n",
    "        if key1 in self.vertices:\n",
    "            vertex1 = self.vertices[key1]\n",
    "        else:\n",
    "            vertex1 = self.addVertex(key1)\n",
    "        \n",
    "        if key2 in self.vertices:\n",
    "            vertex2 = self.vertices[key2]\n",
    "        else:\n",
    "            vertex2 = self.addVertex(key2)\n",
    "            \n",
    "        vertex1.addNeighbour(vertex2,weight)\n",
    "        vertex2.addNeighbour(vertex1,weight)\n",
    "        \n",
    "    def printGraph(self):\n",
    "        for i,(key,vertex) in enumerate(self.vertices.items()):\n",
    "            print(\"{0} connected to {1}\".format(key,vertex.getNeighbours()))\n",
    "        \n",
    "\n",
    "        \n",
    "class Queue:\n",
    "    def __init__(self,maxsize):\n",
    "        self.queue = [0]*maxsize\n",
    "        self.front = 0\n",
    "        self.rear = 0\n",
    "        self.maxsize = maxsize\n",
    "    \n",
    "    def enqueue(self,item):\n",
    "        self.rear = (self.rear+1)%self.maxsize\n",
    "        if (self.front == self.rear):\n",
    "            print(\"Overflow\")\n",
    "            if self.rear == 0:\n",
    "                self.rear = self.maxsize - 1\n",
    "            else:\n",
    "                self.rear = self.rear - 1\n",
    "            return\n",
    "        else:\n",
    "            self.queue[self.rear] = item\n",
    "            return\n",
    "    \n",
    "    def dequeue(self):\n",
    "        if (self.front == self.rear):\n",
    "            print(\"Underflow\")\n",
    "            return -1\n",
    "        else:\n",
    "            self.front = (self.front+1)%self.maxsize\n",
    "            item = self.queue[self.front]\n",
    "            return item\n",
    "\n",
    "    def display(self):\n",
    "        print(self.queue)\n",
    "            \n",
    "            \n",
    "def createSampleGraph():\n",
    "    g = Graph()\n",
    "    g.addEdge(1,2)\n",
    "    g.addEdge(1,3)\n",
    "    g.addEdge(2,4)\n",
    "    g.addEdge(2,5)\n",
    "    g.addEdge(3,6)\n",
    "    g.addEdge(3,7)\n",
    "    g.addEdge(4,8)\n",
    "    g.addEdge(5,8)\n",
    "    g.addEdge(6,8)\n",
    "    g.addEdge(7,8)\n",
    "    return g\n",
    "        \n",
    "        \n",
    "    \n",
    "    \n",
    "            "
   ]
  },
  {
   "cell_type": "markdown",
   "metadata": {},
   "source": [
    "# Implementation"
   ]
  },
  {
   "cell_type": "code",
   "execution_count": 44,
   "metadata": {},
   "outputs": [],
   "source": [
    "def BFS(v,visited,g):\n",
    "    q = Queue(20)\n",
    "    print(v.key,end=\" \")\n",
    "    visited[v.key] = 1\n",
    "    u = v\n",
    "    while(True):\n",
    "        for i in u.getNeighbours():\n",
    "            if visited[i] == 0:\n",
    "                q.enqueue(i)\n",
    "                visited[i] = 1\n",
    "                print(i,end = \" \")\n",
    "        if q.front == q.rear:\n",
    "            return \n",
    "        u = g.getVertex(q.dequeue())\n",
    "    "
   ]
  },
  {
   "cell_type": "markdown",
   "metadata": {},
   "source": [
    "# Test"
   ]
  },
  {
   "cell_type": "code",
   "execution_count": 45,
   "metadata": {},
   "outputs": [
    {
     "name": "stdout",
     "output_type": "stream",
     "text": [
      "1 connected to [3, 2]\n",
      "2 connected to [1, 5, 4]\n",
      "3 connected to [1, 7, 6]\n",
      "4 connected to [8, 2]\n",
      "5 connected to [8, 2]\n",
      "6 connected to [3, 8]\n",
      "7 connected to [3, 8]\n",
      "8 connected to [5, 7, 6, 4]\n"
     ]
    }
   ],
   "source": [
    "g = createSampleGraph()\n",
    "g.printGraph()\n",
    "# ans\n",
    "# 1 connected to [2, 3]\n",
    "# 2 connected to [1, 4, 5]\n",
    "# 3 connected to [6, 7, 1]\n",
    "# 4 connected to [8, 2]\n",
    "# 5 connected to [8, 2]\n",
    "# 6 connected to [8, 3]\n",
    "# 7 connected to [8, 3]\n",
    "# 8 connected to [6, 7, 4, 5]"
   ]
  },
  {
   "cell_type": "code",
   "execution_count": 46,
   "metadata": {},
   "outputs": [
    {
     "name": "stdout",
     "output_type": "stream",
     "text": [
      "1 3 2 7 6 5 4 8 "
     ]
    }
   ],
   "source": [
    "visited = [0]* (g.no_of_vertices+1)\n",
    "BFS(g.getVertex(1),visited,g)\n",
    "# ans \n",
    "# 1 2 3 4 5 6 7 8 # o/p may get changed as many sequences are possible"
   ]
  },
  {
   "cell_type": "code",
   "execution_count": null,
   "metadata": {},
   "outputs": [],
   "source": []
  },
  {
   "cell_type": "code",
   "execution_count": null,
   "metadata": {},
   "outputs": [],
   "source": []
  }
 ],
 "metadata": {
  "kernelspec": {
   "display_name": "Python 3",
   "language": "python",
   "name": "python3"
  },
  "language_info": {
   "codemirror_mode": {
    "name": "ipython",
    "version": 3
   },
   "file_extension": ".py",
   "mimetype": "text/x-python",
   "name": "python",
   "nbconvert_exporter": "python",
   "pygments_lexer": "ipython3",
   "version": "3.5.2"
  }
 },
 "nbformat": 4,
 "nbformat_minor": 2
}
