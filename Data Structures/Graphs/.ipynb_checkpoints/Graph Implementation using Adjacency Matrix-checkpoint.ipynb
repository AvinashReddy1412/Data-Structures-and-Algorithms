{
 "cells": [
  {
   "cell_type": "code",
   "execution_count": 12,
   "metadata": {},
   "outputs": [],
   "source": [
    "class Graph:\n",
    "    def __init__(self):\n",
    "        self.no_of_vertices = 0\n",
    "        self.vertices = []\n",
    "        self.graph = []\n",
    "        \n",
    "    def addVertex(self,key):\n",
    "        if key in self.vertices:\n",
    "            print(\"vertex already exists\")\n",
    "        else:\n",
    "            self.no_of_vertices +=1\n",
    "            self.vertices.append(key)\n",
    "            for vertex in self.graph:\n",
    "                vertex.append(0)\n",
    "            temp = []\n",
    "            for i in range(self.no_of_vertices):\n",
    "                temp.append(0)\n",
    "            self.graph.append(temp)\n",
    "    \n",
    "    def addEdge(self,key1,key2,weight=1,directed=False):\n",
    "        if key1 not in self.vertices:\n",
    "            self.addVertex(key1)\n",
    "        if key2 not in self.vertices:\n",
    "            self.addVertex(key2)\n",
    "        \n",
    "        index1 = self.vertices.index(key1)\n",
    "        index2 = self.vertices.index(key2)\n",
    "        self.graph[index1][index2] = weight\n",
    "        self.graph[index2][index1] = weight\n",
    "        \n",
    "    def printGraph(self):\n",
    "        for i in range(len(self.graph)):\n",
    "            connections = []\n",
    "            for j in range(len(self.graph[i])):\n",
    "                if self.graph[i][j] == 1:\n",
    "                    connections.append(j)\n",
    "            print(\"{0} connected to {1}\".format(self.vertices[i],[self.vertices[x] for x in connections]))\n",
    "                \n",
    "            \n",
    "        \n",
    "def createSampleGraph():\n",
    "    g = Graph()\n",
    "    g.addEdge(1,2)\n",
    "    g.addEdge(1,3)\n",
    "    g.addEdge(2,4)\n",
    "    g.addEdge(2,5)\n",
    "    g.addEdge(3,6)\n",
    "    g.addEdge(3,7)\n",
    "    g.addEdge(4,8)\n",
    "    g.addEdge(5,8)\n",
    "    g.addEdge(6,8)\n",
    "    g.addEdge(7,8)\n",
    "    return g\n",
    "        \n",
    "        \n",
    "        \n",
    "        "
   ]
  },
  {
   "cell_type": "code",
   "execution_count": 13,
   "metadata": {},
   "outputs": [
    {
     "name": "stdout",
     "output_type": "stream",
     "text": [
      "1 connected to [2, 3]\n",
      "2 connected to [1, 4, 5]\n",
      "3 connected to [1, 6, 7]\n",
      "4 connected to [2, 8]\n",
      "5 connected to [2, 8]\n",
      "6 connected to [3, 8]\n",
      "7 connected to [3, 8]\n",
      "8 connected to [4, 5, 6, 7]\n"
     ]
    }
   ],
   "source": [
    "g = createSampleGraph()\n",
    "g.printGraph()\n",
    "# ans\n",
    "# 1 connected to [2, 3]\n",
    "# 2 connected to [1, 4, 5]\n",
    "# 3 connected to [1, 6, 7]\n",
    "# 4 connected to [2, 8]\n",
    "# 5 connected to [2, 8]\n",
    "# 6 connected to [3, 8]\n",
    "# 7 connected to [3, 8]\n",
    "# 8 connected to [4, 5, 6, 7]"
   ]
  },
  {
   "cell_type": "code",
   "execution_count": null,
   "metadata": {},
   "outputs": [],
   "source": []
  }
 ],
 "metadata": {
  "kernelspec": {
   "display_name": "Python 3",
   "language": "python",
   "name": "python3"
  },
  "language_info": {
   "codemirror_mode": {
    "name": "ipython",
    "version": 3
   },
   "file_extension": ".py",
   "mimetype": "text/x-python",
   "name": "python",
   "nbconvert_exporter": "python",
   "pygments_lexer": "ipython3",
   "version": "3.5.2"
  }
 },
 "nbformat": 4,
 "nbformat_minor": 2
}
