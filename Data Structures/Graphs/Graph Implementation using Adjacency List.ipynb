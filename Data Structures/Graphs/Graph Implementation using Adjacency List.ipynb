{
 "cells": [
  {
   "cell_type": "markdown",
   "metadata": {},
   "source": [
    "# Graph Creation"
   ]
  },
  {
   "cell_type": "code",
   "execution_count": 24,
   "metadata": {},
   "outputs": [],
   "source": [
    "class Vertex:\n",
    "    def __init__(self,key):\n",
    "        self.key = key\n",
    "        self.neighbours = {}\n",
    "    \n",
    "    def addNeighbour(self,ver,weight = 1):\n",
    "        self.neighbours[ver] = weight\n",
    "    \n",
    "    \n",
    "    def getNeighbours(self):\n",
    "        return [x.key for x in self.neighbours]\n",
    "    \n",
    "    \n",
    "class Graph:\n",
    "    def __init__(self):\n",
    "        self.no_of_vertices = 0\n",
    "        self.vertices = {}\n",
    "        \n",
    "    def addVertex(self,key):\n",
    "        if key in self.vertices:\n",
    "            print(\"vertex already exists\")\n",
    "            return\n",
    "        newvertex = Vertex(key)\n",
    "        self.no_of_vertices+=1\n",
    "        self.vertices[key] = newvertex\n",
    "        return newvertex\n",
    "    \n",
    "    def getVertex(self,key):\n",
    "        if key in self.vertices:\n",
    "            return self.vertices[key]\n",
    "        else:\n",
    "            print(\"Vertex does not exist\")\n",
    "            return \n",
    "    \n",
    "    def addEdge(self,key1,key2,weight = 1,directed=False):\n",
    "        if key1 in self.vertices:\n",
    "            vertex1 = self.vertices[key1]\n",
    "        else:\n",
    "            vertex1 = self.addVertex(key1)\n",
    "        \n",
    "        if key2 in self.vertices:\n",
    "            vertex2 = self.vertices[key2]\n",
    "        else:\n",
    "            vertex2 = self.addVertex(key2)\n",
    "            \n",
    "        vertex1.addNeighbour(vertex2,weight)\n",
    "        vertex2.addNeighbour(vertex1,weight)\n",
    "        \n",
    "    def printGraph(self):\n",
    "        for i,(key,vertex) in enumerate(self.vertices.items()):\n",
    "            print(\"{0} connected to {1}\".format(key,vertex.getNeighbours()))\n",
    "        \n",
    "\n",
    "def createSampleGraph():\n",
    "    g = Graph()\n",
    "    g.addEdge(1,2)\n",
    "    g.addEdge(1,3)\n",
    "    g.addEdge(2,4)\n",
    "    g.addEdge(2,5)\n",
    "    g.addEdge(3,6)\n",
    "    g.addEdge(3,7)\n",
    "    g.addEdge(4,8)\n",
    "    g.addEdge(5,8)\n",
    "    g.addEdge(6,8)\n",
    "    g.addEdge(7,8)\n",
    "    return g\n",
    "        \n",
    "        \n",
    "    \n",
    "    \n",
    "            "
   ]
  },
  {
   "cell_type": "code",
   "execution_count": 25,
   "metadata": {},
   "outputs": [
    {
     "name": "stdout",
     "output_type": "stream",
     "text": [
      "1 connected to [3, 2]\n",
      "2 connected to [4, 5, 1]\n",
      "3 connected to [7, 6, 1]\n",
      "4 connected to [8, 2]\n",
      "5 connected to [8, 2]\n",
      "6 connected to [3, 8]\n",
      "7 connected to [3, 8]\n",
      "8 connected to [7, 4, 6, 5]\n"
     ]
    }
   ],
   "source": [
    "g = createSampleGraph()\n",
    "g.printGraph()\n",
    "# ans\n",
    "# 1 connected to [3, 2]\n",
    "# 2 connected to [1, 5, 4]\n",
    "# 3 connected to [1, 7, 6]\n",
    "# 4 connected to [8, 2]\n",
    "# 5 connected to [8, 2]\n",
    "# 6 connected to [3, 8]\n",
    "# 7 connected to [3, 8]\n",
    "# 8 connected to [6, 7, 5, 4]"
   ]
  },
  {
   "cell_type": "code",
   "execution_count": null,
   "metadata": {},
   "outputs": [],
   "source": []
  },
  {
   "cell_type": "code",
   "execution_count": null,
   "metadata": {},
   "outputs": [],
   "source": []
  }
 ],
 "metadata": {
  "kernelspec": {
   "display_name": "Python 3",
   "language": "python",
   "name": "python3"
  },
  "language_info": {
   "codemirror_mode": {
    "name": "ipython",
    "version": 3
   },
   "file_extension": ".py",
   "mimetype": "text/x-python",
   "name": "python",
   "nbconvert_exporter": "python",
   "pygments_lexer": "ipython3",
   "version": "3.5.2"
  }
 },
 "nbformat": 4,
 "nbformat_minor": 2
}
