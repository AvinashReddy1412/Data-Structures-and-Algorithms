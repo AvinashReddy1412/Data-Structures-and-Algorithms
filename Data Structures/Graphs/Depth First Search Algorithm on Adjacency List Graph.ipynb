{
 "cells": [
  {
   "cell_type": "markdown",
   "metadata": {},
   "source": [
    "# Depth First Search\n",
    "    We start from a Vertex V. Visit one of its neighbour N. Then we visit N's Neigbour n1. Then we visit n1's neigbour and continue until last depth. Then we come back, pick one more neighbour of V and then repeat the process."
   ]
  },
  {
   "cell_type": "markdown",
   "metadata": {},
   "source": [
    "# Complexity\n",
    "### Time :\n",
    "    Time complexity depends on datastructure using which Graph is Implemented. If Graph is implemented using Adjacency List we have total of 2E entries. Each entry is visited once. And for initializing visited array time take is O(V). So total time taken is \n",
    "#### O(V+E)\n",
    "    If Graph is implemented using Adjacency matrix total entries are V^2. Each Entry is visited once.And for initializing visited array time take is O(V). So total time taken is \n",
    "#### O(V^2+V) = O(V^2)\n",
    "\n",
    "###  Space:\n",
    "    We use visited array which has atleast V Entries. And in Queue in worst case we have V records simultaneously.\n",
    "    This worst case happens when we have one node and all other vertices are directly connected to this node.\n",
    "    So total space is O(2V) \n",
    "#### O(V)"
   ]
  },
  {
   "cell_type": "markdown",
   "metadata": {},
   "source": [
    "# Graph Creation"
   ]
  },
  {
   "cell_type": "code",
   "execution_count": 3,
   "metadata": {},
   "outputs": [],
   "source": [
    "class Vertex:\n",
    "    def __init__(self,key):\n",
    "        self.key = key\n",
    "        self.neighbours = {}\n",
    "    \n",
    "    def addNeighbour(self,ver,weight = 1):\n",
    "        self.neighbours[ver] = weight\n",
    "    \n",
    "    \n",
    "    def getNeighbours(self):\n",
    "        return [x.key for x in self.neighbours]\n",
    "    \n",
    "    \n",
    "class Graph:\n",
    "    def __init__(self):\n",
    "        self.no_of_vertices = 0\n",
    "        self.vertices = {}\n",
    "        \n",
    "    def addVertex(self,key):\n",
    "        if key in self.vertices:\n",
    "            print(\"vertex already exists\")\n",
    "            return\n",
    "        newvertex = Vertex(key)\n",
    "        self.no_of_vertices+=1\n",
    "        self.vertices[key] = newvertex\n",
    "        return newvertex\n",
    "    \n",
    "    def getVertex(self,key):\n",
    "        if key in self.vertices:\n",
    "            return self.vertices[key]\n",
    "        else:\n",
    "            print(\"Vertex does not exist\")\n",
    "            return \n",
    "    \n",
    "    def addEdge(self,key1,key2,weight = 1,directed=False):\n",
    "        if key1 in self.vertices:\n",
    "            vertex1 = self.vertices[key1]\n",
    "        else:\n",
    "            vertex1 = self.addVertex(key1)\n",
    "        \n",
    "        if key2 in self.vertices:\n",
    "            vertex2 = self.vertices[key2]\n",
    "        else:\n",
    "            vertex2 = self.addVertex(key2)\n",
    "            \n",
    "        vertex1.addNeighbour(vertex2,weight)\n",
    "        vertex2.addNeighbour(vertex1,weight)\n",
    "        \n",
    "    def printGraph(self):\n",
    "        for i,(key,vertex) in enumerate(self.vertices.items()):\n",
    "            print(\"{0} connected to {1}\".format(key,vertex.getNeighbours()))\n",
    "        \n",
    "            \n",
    "def createSampleGraph():\n",
    "    g = Graph()\n",
    "    g.addEdge(1,2)\n",
    "    g.addEdge(1,3)\n",
    "    g.addEdge(2,4)\n",
    "    g.addEdge(2,5)\n",
    "    g.addEdge(3,6)\n",
    "    g.addEdge(3,7)\n",
    "    g.addEdge(4,8)\n",
    "    g.addEdge(5,8)\n",
    "    g.addEdge(6,8)\n",
    "    g.addEdge(7,8)\n",
    "    return g\n",
    "        "
   ]
  },
  {
   "cell_type": "markdown",
   "metadata": {},
   "source": [
    "# Implementation"
   ]
  },
  {
   "cell_type": "code",
   "execution_count": 15,
   "metadata": {},
   "outputs": [],
   "source": [
    "def DFS(v,visited,g):\n",
    "    visited[v.key] = 1\n",
    "    print(v.key,end=\" \")\n",
    "    for i in v.getNeighbours():\n",
    "        if visited[i] == 0:\n",
    "            DFS(g.getVertex(i),visited,g)"
   ]
  },
  {
   "cell_type": "markdown",
   "metadata": {},
   "source": [
    "# Test"
   ]
  },
  {
   "cell_type": "code",
   "execution_count": 16,
   "metadata": {},
   "outputs": [
    {
     "name": "stdout",
     "output_type": "stream",
     "text": [
      "1 2 5 8 6 3 7 4 "
     ]
    }
   ],
   "source": [
    "g = createSampleGraph()\n",
    "visited = [0]*(g.no_of_vertices+1)\n",
    "visited[0] = 1\n",
    "DFS(g.getVertex(1),visited,g)\n",
    "# ans \n",
    "# 1 2 4 8 6 3 7 5  # o/p may get changed as many sequences are possible"
   ]
  },
  {
   "cell_type": "code",
   "execution_count": null,
   "metadata": {},
   "outputs": [],
   "source": []
  },
  {
   "cell_type": "code",
   "execution_count": null,
   "metadata": {},
   "outputs": [],
   "source": []
  }
 ],
 "metadata": {
  "kernelspec": {
   "display_name": "Python 3",
   "language": "python",
   "name": "python3"
  },
  "language_info": {
   "codemirror_mode": {
    "name": "ipython",
    "version": 3
   },
   "file_extension": ".py",
   "mimetype": "text/x-python",
   "name": "python",
   "nbconvert_exporter": "python",
   "pygments_lexer": "ipython3",
   "version": "3.5.2"
  }
 },
 "nbformat": 4,
 "nbformat_minor": 2
}
