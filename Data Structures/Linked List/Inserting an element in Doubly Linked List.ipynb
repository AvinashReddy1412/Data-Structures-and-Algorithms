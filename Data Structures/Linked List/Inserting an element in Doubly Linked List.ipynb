{
 "cells": [
  {
   "cell_type": "markdown",
   "metadata": {},
   "source": [
    "# Double Linked List Creation"
   ]
  },
  {
   "cell_type": "code",
   "execution_count": 2,
   "metadata": {},
   "outputs": [],
   "source": [
    "class Node:\n",
    "    def __init__(self,data):\n",
    "        self.prev = None\n",
    "        self.data = data\n",
    "        self.next = None\n",
    "        \n",
    "    @staticmethod\n",
    "    def createSampleDLL():\n",
    "        head = Node(7)\n",
    "        a = Node(6)\n",
    "        b = Node(3)\n",
    "        c = Node(4)\n",
    "        d = Node(8)\n",
    "        head.next = a\n",
    "        a.prev = head\n",
    "        a.next = b\n",
    "        b.prev = a\n",
    "        b.next = c\n",
    "        c.prev = b\n",
    "        c.next = d\n",
    "        d.prev = c\n",
    "        return head\n",
    "    \n",
    "    @staticmethod\n",
    "    def createSampleNode(k):\n",
    "        newnode = Node(k)\n",
    "        return newnode"
   ]
  },
  {
   "cell_type": "code",
   "execution_count": 3,
   "metadata": {},
   "outputs": [],
   "source": [
    "def traverseDoubleLinkedList(a):\n",
    "    temp = a\n",
    "    while(temp):\n",
    "        print(temp.data)\n",
    "        temp = temp.next"
   ]
  },
  {
   "cell_type": "markdown",
   "metadata": {},
   "source": [
    "# Inserting an element"
   ]
  },
  {
   "cell_type": "markdown",
   "metadata": {},
   "source": [
    "## At the beginning\n"
   ]
  },
  {
   "cell_type": "code",
   "execution_count": 4,
   "metadata": {},
   "outputs": [],
   "source": [
    "def insertBegin(head,newnode):\n",
    "    newnode.next = head\n",
    "    head.prev = newnode\n",
    "    head = newnode\n",
    "    return newnode"
   ]
  },
  {
   "cell_type": "markdown",
   "metadata": {},
   "source": [
    "## At the end "
   ]
  },
  {
   "cell_type": "code",
   "execution_count": 5,
   "metadata": {},
   "outputs": [],
   "source": [
    "def insertEnd(head,newnode):\n",
    "    temp = head\n",
    "    while(temp.next):\n",
    "        temp = temp.next\n",
    "    newnode.prev = temp\n",
    "    temp.next = newnode\n",
    "    return head"
   ]
  },
  {
   "cell_type": "markdown",
   "metadata": {},
   "source": [
    "## In the middle at after particular data value"
   ]
  },
  {
   "cell_type": "code",
   "execution_count": 6,
   "metadata": {},
   "outputs": [],
   "source": [
    "def insertMiddle(head,newnode,k=3):\n",
    "    temp = head\n",
    "    while(temp.data != k):\n",
    "        temp = temp.next\n",
    "    newnode.prev = temp\n",
    "    newnode.next = temp.next\n",
    "    temp.next.prev = newnode\n",
    "    temp.next = newnode\n",
    "    return head"
   ]
  },
  {
   "cell_type": "markdown",
   "metadata": {},
   "source": [
    "# Test"
   ]
  },
  {
   "cell_type": "code",
   "execution_count": 8,
   "metadata": {},
   "outputs": [
    {
     "name": "stdout",
     "output_type": "stream",
     "text": [
      "7\n",
      "6\n",
      "3\n",
      "4\n",
      "8\n"
     ]
    }
   ],
   "source": [
    "head = Node.createSampleDLL()\n",
    "traverseDoubleLinkedList(head)\n",
    "newnode = Node.createSampleNode(1)\n",
    "# ans\n",
    "# 7\n",
    "# 6\n",
    "# 3\n",
    "# 4\n",
    "# 8"
   ]
  },
  {
   "cell_type": "code",
   "execution_count": 9,
   "metadata": {},
   "outputs": [
    {
     "name": "stdout",
     "output_type": "stream",
     "text": [
      "1\n",
      "7\n",
      "6\n",
      "3\n",
      "4\n",
      "8\n"
     ]
    }
   ],
   "source": [
    "head = insertBegin(head,newnode)\n",
    "traverseDoubleLinkedList(head)\n",
    "# ans\n",
    "# 1\n",
    "# 7\n",
    "# 6\n",
    "# 3\n",
    "# 4\n",
    "# 8"
   ]
  },
  {
   "cell_type": "code",
   "execution_count": 10,
   "metadata": {},
   "outputs": [
    {
     "name": "stdout",
     "output_type": "stream",
     "text": [
      "7\n",
      "6\n",
      "3\n",
      "4\n",
      "8\n"
     ]
    }
   ],
   "source": [
    "head = Node.createSampleDLL()\n",
    "traverseDoubleLinkedList(head)\n",
    "newnode = Node.createSampleNode(1)\n",
    "# ans\n",
    "# 7\n",
    "# 6\n",
    "# 3\n",
    "# 4\n",
    "# 8"
   ]
  },
  {
   "cell_type": "code",
   "execution_count": 11,
   "metadata": {},
   "outputs": [
    {
     "name": "stdout",
     "output_type": "stream",
     "text": [
      "7\n",
      "6\n",
      "3\n",
      "4\n",
      "8\n",
      "1\n"
     ]
    }
   ],
   "source": [
    "head = insertEnd(head,newnode)\n",
    "traverseDoubleLinkedList(head)\n",
    "# ans\n",
    "# 1\n",
    "# 7\n",
    "# 6\n",
    "# 3\n",
    "# 4\n",
    "# 8\n",
    "# 1"
   ]
  },
  {
   "cell_type": "code",
   "execution_count": 12,
   "metadata": {},
   "outputs": [
    {
     "name": "stdout",
     "output_type": "stream",
     "text": [
      "7\n",
      "6\n",
      "3\n",
      "4\n",
      "8\n"
     ]
    }
   ],
   "source": [
    "head = Node.createSampleDLL()\n",
    "traverseDoubleLinkedList(head)\n",
    "newnode = Node.createSampleNode(1)\n",
    "# ans\n",
    "# 7\n",
    "# 6\n",
    "# 3\n",
    "# 4\n",
    "# 8"
   ]
  },
  {
   "cell_type": "code",
   "execution_count": 13,
   "metadata": {},
   "outputs": [
    {
     "name": "stdout",
     "output_type": "stream",
     "text": [
      "7\n",
      "6\n",
      "3\n",
      "1\n",
      "4\n",
      "8\n"
     ]
    }
   ],
   "source": [
    "head = insertMiddle(head,newnode)\n",
    "traverseDoubleLinkedList(head)\n",
    "# ans\n",
    "# 7\n",
    "# 6\n",
    "# 3\n",
    "# 1\n",
    "# 4\n",
    "# 8"
   ]
  },
  {
   "cell_type": "code",
   "execution_count": null,
   "metadata": {},
   "outputs": [],
   "source": []
  }
 ],
 "metadata": {
  "kernelspec": {
   "display_name": "Python 3",
   "language": "python",
   "name": "python3"
  },
  "language_info": {
   "codemirror_mode": {
    "name": "ipython",
    "version": 3
   },
   "file_extension": ".py",
   "mimetype": "text/x-python",
   "name": "python",
   "nbconvert_exporter": "python",
   "pygments_lexer": "ipython3",
   "version": "3.5.2"
  }
 },
 "nbformat": 4,
 "nbformat_minor": 2
}
