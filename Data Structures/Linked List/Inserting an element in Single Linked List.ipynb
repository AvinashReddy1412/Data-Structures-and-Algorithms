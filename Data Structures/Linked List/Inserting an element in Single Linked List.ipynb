{
 "cells": [
  {
   "cell_type": "markdown",
   "metadata": {},
   "source": [
    "## Linked List Creation"
   ]
  },
  {
   "cell_type": "code",
   "execution_count": 24,
   "metadata": {},
   "outputs": [],
   "source": [
    "class Node:\n",
    "    def __init__(self,data):\n",
    "        self.data = data\n",
    "        self.next = None\n",
    "    \n",
    "    @staticmethod\n",
    "    def createSampleLinkedList():\n",
    "        head = Node(7)\n",
    "        a = Node(6)\n",
    "        b = Node(3)\n",
    "        c = Node(4)\n",
    "        d = Node(8)\n",
    "        head.next = a\n",
    "        a.next = b\n",
    "        b.next = c\n",
    "        c.next = d\n",
    "        return head\n",
    "\n",
    "    @staticmethod\n",
    "    def createEmptyNode(value):\n",
    "        newnode = Node(value)\n",
    "        return newnode"
   ]
  },
  {
   "cell_type": "code",
   "execution_count": 25,
   "metadata": {},
   "outputs": [],
   "source": [
    "def traverseSingleLinkedList(a):\n",
    "    temp = a\n",
    "    while(temp):\n",
    "        print(temp.data)\n",
    "        temp = temp.next"
   ]
  },
  {
   "cell_type": "markdown",
   "metadata": {},
   "source": [
    "# Inserting an element"
   ]
  },
  {
   "cell_type": "markdown",
   "metadata": {},
   "source": [
    "## At the beginning"
   ]
  },
  {
   "cell_type": "code",
   "execution_count": 26,
   "metadata": {},
   "outputs": [],
   "source": [
    "def insertBegin(head,newnode):\n",
    "    newnode.next = head\n",
    "    head = newnode\n",
    "    return head\n",
    "    "
   ]
  },
  {
   "cell_type": "markdown",
   "metadata": {},
   "source": [
    "## At the end"
   ]
  },
  {
   "cell_type": "code",
   "execution_count": 27,
   "metadata": {},
   "outputs": [],
   "source": [
    "def insertEnd(head,newnode):\n",
    "    temp = head\n",
    "    while(temp.next):\n",
    "        temp = temp.next\n",
    "    temp.next = newnode\n",
    "    return head"
   ]
  },
  {
   "cell_type": "markdown",
   "metadata": {},
   "source": [
    "## In the middle after particular data value "
   ]
  },
  {
   "cell_type": "code",
   "execution_count": 28,
   "metadata": {},
   "outputs": [],
   "source": [
    "def insertMiddle(head,newnode,k = 3):\n",
    "    temp = head\n",
    "    while temp.data != k:\n",
    "        temp = temp.next\n",
    "    newnode.next = temp.next\n",
    "    temp.next = newnode\n",
    "    return head"
   ]
  },
  {
   "cell_type": "markdown",
   "metadata": {},
   "source": [
    "## Test"
   ]
  },
  {
   "cell_type": "code",
   "execution_count": 29,
   "metadata": {},
   "outputs": [
    {
     "name": "stdout",
     "output_type": "stream",
     "text": [
      "7\n",
      "6\n",
      "3\n",
      "4\n",
      "8\n"
     ]
    }
   ],
   "source": [
    "head = Node.createSampleLinkedList()\n",
    "newnode = Node.createEmptyNode(1)\n",
    "traverseSingleLinkedList(head)\n",
    "# ans \n",
    "# 7\n",
    "# 6\n",
    "# 3\n",
    "# 4\n",
    "# 8"
   ]
  },
  {
   "cell_type": "code",
   "execution_count": 30,
   "metadata": {},
   "outputs": [
    {
     "name": "stdout",
     "output_type": "stream",
     "text": [
      "1\n",
      "7\n",
      "6\n",
      "3\n",
      "4\n",
      "8\n"
     ]
    }
   ],
   "source": [
    "head = insertBegin(head,newnode)\n",
    "traverseSingleLinkedList(head)\n",
    "# ans\n",
    "# 1\n",
    "# 7\n",
    "# 6\n",
    "# 3\n",
    "# 4\n",
    "# 8"
   ]
  },
  {
   "cell_type": "code",
   "execution_count": 31,
   "metadata": {},
   "outputs": [
    {
     "name": "stdout",
     "output_type": "stream",
     "text": [
      "7\n",
      "6\n",
      "3\n",
      "4\n",
      "8\n"
     ]
    }
   ],
   "source": [
    "head = Node.createSampleLinkedList()\n",
    "newnode = Node.createEmptyNode(1)\n",
    "traverseSingleLinkedList(head)\n",
    "# ans \n",
    "# 7\n",
    "# 6\n",
    "# 3\n",
    "# 4\n",
    "# 8"
   ]
  },
  {
   "cell_type": "code",
   "execution_count": 32,
   "metadata": {},
   "outputs": [
    {
     "name": "stdout",
     "output_type": "stream",
     "text": [
      "7\n",
      "6\n",
      "3\n",
      "4\n",
      "8\n",
      "1\n"
     ]
    }
   ],
   "source": [
    "head = insertEnd(head,newnode)\n",
    "traverseSingleLinkedList(head)\n",
    "# ans\n",
    "# 7\n",
    "# 6\n",
    "# 3\n",
    "# 4\n",
    "# 8\n",
    "# 1"
   ]
  },
  {
   "cell_type": "code",
   "execution_count": 33,
   "metadata": {},
   "outputs": [
    {
     "name": "stdout",
     "output_type": "stream",
     "text": [
      "7\n",
      "6\n",
      "3\n",
      "4\n",
      "8\n"
     ]
    }
   ],
   "source": [
    "head = Node.createSampleLinkedList()\n",
    "newnode = Node.createEmptyNode(1)\n",
    "traverseSingleLinkedList(head)\n",
    "# ans \n",
    "# 7\n",
    "# 6\n",
    "# 3\n",
    "# 4\n",
    "# 8"
   ]
  },
  {
   "cell_type": "code",
   "execution_count": 34,
   "metadata": {},
   "outputs": [
    {
     "name": "stdout",
     "output_type": "stream",
     "text": [
      "7\n",
      "6\n",
      "3\n",
      "1\n",
      "4\n",
      "8\n"
     ]
    }
   ],
   "source": [
    "head = insertMiddle(head,newnode)\n",
    "traverseSingleLinkedList(head)\n",
    "# ans\n",
    "# 7\n",
    "# 6\n",
    "# 3\n",
    "# 1\n",
    "# 4\n",
    "# 8"
   ]
  },
  {
   "cell_type": "code",
   "execution_count": null,
   "metadata": {},
   "outputs": [],
   "source": []
  }
 ],
 "metadata": {
  "kernelspec": {
   "display_name": "Python 3",
   "language": "python",
   "name": "python3"
  },
  "language_info": {
   "codemirror_mode": {
    "name": "ipython",
    "version": 3
   },
   "file_extension": ".py",
   "mimetype": "text/x-python",
   "name": "python",
   "nbconvert_exporter": "python",
   "pygments_lexer": "ipython3",
   "version": "3.5.2"
  }
 },
 "nbformat": 4,
 "nbformat_minor": 2
}
