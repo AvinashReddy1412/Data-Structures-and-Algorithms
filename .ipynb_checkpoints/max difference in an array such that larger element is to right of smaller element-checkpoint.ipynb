{
 "cells": [
  {
   "cell_type": "markdown",
   "metadata": {},
   "source": [
    "# Approach 1"
   ]
  },
  {
   "cell_type": "markdown",
   "metadata": {},
   "source": [
    "Take first element and compare it with all the remaining elements to the right. Ignore smaller elements. Consider only larger elements and update\n",
    "current_max variable.\n",
    "Repeat for all the elements.\n",
    "current_max is max difference."
   ]
  },
  {
   "cell_type": "markdown",
   "metadata": {},
   "source": [
    "Complexity"
   ]
  },
  {
   "cell_type": "raw",
   "metadata": {},
   "source": [
    "Time : (n-1)+(n-2)+....1\n",
    "    O(n^2)\n",
    "Space : O(1)"
   ]
  },
  {
   "cell_type": "code",
   "execution_count": 2,
   "metadata": {},
   "outputs": [],
   "source": [
    "def findMaxDifference(arr):\n",
    "    arr_len = len(arr)\n",
    "    cur_max = 0\n",
    "    for i in range(len(arr)-1):\n",
    "        for j in range(i+1,len(arr)):\n",
    "            if arr[j] < arr[i]:\n",
    "                continue\n",
    "            if arr[j]-arr[i] > cur_max:\n",
    "                cur_max = arr[j]-arr[i]\n",
    "    return cur_max\n",
    "                \n",
    "        "
   ]
  },
  {
   "cell_type": "code",
   "execution_count": 3,
   "metadata": {},
   "outputs": [
    {
     "data": {
      "text/plain": [
       "9"
      ]
     },
     "execution_count": 3,
     "metadata": {},
     "output_type": "execute_result"
    }
   ],
   "source": [
    "arr = [3,2,1,10,9,7]\n",
    "findMaxDifference(arr)\n",
    "#ans 9"
   ]
  },
  {
   "cell_type": "code",
   "execution_count": 4,
   "metadata": {},
   "outputs": [
    {
     "data": {
      "text/plain": [
       "45"
      ]
     },
     "execution_count": 4,
     "metadata": {},
     "output_type": "execute_result"
    }
   ],
   "source": [
    "arr = [145,10,55,1,9,7]\n",
    "findMaxDifference(arr)\n",
    "#ans 45"
   ]
  },
  {
   "cell_type": "markdown",
   "metadata": {},
   "source": [
    "# Approach 2 using difference array"
   ]
  },
  {
   "cell_type": "raw",
   "metadata": {},
   "source": [
    "construct difference array diff[i] = arr[i+1]-arr[i]\n",
    "then maximum difference in arr = maximum sum sub array in diff array\n",
    "computing maximum sum sub array:\n",
    "cur_diff = diff[0]\n",
    "iterate through the elements, update cur_diff by adding elements. \n",
    "diff[i] = diff[i] + diff[i-1] ==> take i-1 only if >0 or else ignore it.\n",
    "\n",
    "\n"
   ]
  },
  {
   "cell_type": "raw",
   "metadata": {},
   "source": [
    "Complexity\n",
    "Time complexity: \n",
    "    O(n) --> computing difference array\n",
    "    O(n) --> finding max sum sub array\n",
    "    Total --> O(n)\n",
    "Space complexity:\n",
    "    O(n) --> for difference array\n",
    "    We can make it order of 1 by dynamically computing diff[i]\n",
    "    "
   ]
  },
  {
   "cell_type": "code",
   "execution_count": 5,
   "metadata": {},
   "outputs": [],
   "source": [
    "def findDifferenceArray(arr):\n",
    "    diff_arr = []\n",
    "    for i in range(len(arr)-1):\n",
    "        diff_arr.append(arr[i+1]-arr[i])\n",
    "    return diff_arr"
   ]
  },
  {
   "cell_type": "code",
   "execution_count": 7,
   "metadata": {},
   "outputs": [],
   "source": [
    "def findSumSubarray(arr):\n",
    "    cur_sum = arr[0]\n",
    "    for i in range(1,len(arr)):\n",
    "        if arr[i-1] > 0 :\n",
    "            arr[i] = arr[i]+arr[i-1]\n",
    "        cur_sum = max(cur_sum,arr[i])\n",
    "    return cur_sum\n",
    "    "
   ]
  },
  {
   "cell_type": "code",
   "execution_count": 8,
   "metadata": {},
   "outputs": [
    {
     "data": {
      "text/plain": [
       "45"
      ]
     },
     "execution_count": 8,
     "metadata": {},
     "output_type": "execute_result"
    }
   ],
   "source": [
    "arr = [145,10,55,1,9,7]\n",
    "diff_arr = findDifferenceArray(arr)\n",
    "findSumSubarray(diff_arr)\n",
    "#ans 45"
   ]
  },
  {
   "cell_type": "code",
   "execution_count": 10,
   "metadata": {},
   "outputs": [
    {
     "data": {
      "text/plain": [
       "9"
      ]
     },
     "execution_count": 10,
     "metadata": {},
     "output_type": "execute_result"
    }
   ],
   "source": [
    "arr = [3,2,1,10,9,7]\n",
    "diff_arr = findDifferenceArray(arr)\n",
    "findSumSubarray(diff_arr)\n",
    "#ans 9"
   ]
  },
  {
   "cell_type": "markdown",
   "metadata": {},
   "source": [
    "# Approach 3"
   ]
  },
  {
   "cell_type": "raw",
   "metadata": {},
   "source": [
    "[,,,,b,,,,]\n",
    "if we have b and we want b-a to be maximum then a should be minimum of all elements to the left of b.\n",
    "So while scanning arr from left to right we mantain min_ele_so_far and max_diff_so_far.\n",
    "we update min_ele_so_far and max_diff_so_far while scanning as in the program"
   ]
  },
  {
   "cell_type": "markdown",
   "metadata": {},
   "source": [
    "Complexity\n",
    "Time : O(n)\n",
    "Space : O(1)"
   ]
  },
  {
   "cell_type": "code",
   "execution_count": 17,
   "metadata": {},
   "outputs": [],
   "source": [
    "def findMaxDifference(arr):\n",
    "    min_ele_so_far = arr[0]\n",
    "    max_diff_so_far = arr[1]-arr[0]\n",
    "    for i in range(1,len(arr)):\n",
    "        if arr[i] < min_ele_so_far:\n",
    "            min_ele_so_far = arr[i]\n",
    "        else:\n",
    "            max_diff_so_far = max(max_diff_so_far,arr[i]-min_ele_so_far) #Try not to use max during exams . Use if else condition as below\n",
    "    return max_diff_so_far"
   ]
  },
  {
   "cell_type": "code",
   "execution_count": 21,
   "metadata": {},
   "outputs": [
    {
     "data": {
      "text/plain": [
       "9"
      ]
     },
     "execution_count": 21,
     "metadata": {},
     "output_type": "execute_result"
    }
   ],
   "source": [
    "arr = [3,2,1,10,9,7]\n",
    "findMaxDifference(arr)\n",
    "#ans 9"
   ]
  },
  {
   "cell_type": "code",
   "execution_count": 22,
   "metadata": {},
   "outputs": [
    {
     "data": {
      "text/plain": [
       "45"
      ]
     },
     "execution_count": 22,
     "metadata": {},
     "output_type": "execute_result"
    }
   ],
   "source": [
    "arr = [145,10,55,1,9,7]\n",
    "findMaxDifference(arr)\n",
    "#ans 45"
   ]
  },
  {
   "cell_type": "code",
   "execution_count": 23,
   "metadata": {},
   "outputs": [],
   "source": [
    "def findMaxDifference1(arr):\n",
    "    min_ele_so_far = arr[0]\n",
    "    max_diff_so_far = arr[1]-arr[0]\n",
    "    curr_diff = arr[1]-arr[0]\n",
    "    for i in range(1,len(arr)):\n",
    "        if arr[i] < min_ele_so_far:\n",
    "            min_ele_so_far = arr[i]\n",
    "        else:\n",
    "            curr_diff = arr[i]-min_ele_so_far\n",
    "            if curr_diff > max_diff_so_far:\n",
    "                max_diff_so_far = curr_diff \n",
    "    return max_diff_so_far"
   ]
  },
  {
   "cell_type": "code",
   "execution_count": null,
   "metadata": {},
   "outputs": [],
   "source": []
  }
 ],
 "metadata": {
  "kernelspec": {
   "display_name": "Python 3",
   "language": "python",
   "name": "python3"
  },
  "language_info": {
   "codemirror_mode": {
    "name": "ipython",
    "version": 3
   },
   "file_extension": ".py",
   "mimetype": "text/x-python",
   "name": "python",
   "nbconvert_exporter": "python",
   "pygments_lexer": "ipython3",
   "version": "3.5.2"
  }
 },
 "nbformat": 4,
 "nbformat_minor": 2
}
