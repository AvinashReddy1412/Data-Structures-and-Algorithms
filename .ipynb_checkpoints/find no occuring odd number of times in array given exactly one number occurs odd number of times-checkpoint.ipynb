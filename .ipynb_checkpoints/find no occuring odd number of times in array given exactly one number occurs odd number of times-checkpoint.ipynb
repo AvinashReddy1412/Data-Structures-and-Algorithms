{
 "cells": [
  {
   "cell_type": "markdown",
   "metadata": {},
   "source": [
    "# Approach 1"
   ]
  },
  {
   "cell_type": "raw",
   "metadata": {},
   "source": [
    "Find number of occurences using for loops and then see which one is occuring odd number of times\n",
    "Time Complexity:\n",
    "    O(n^2)\n",
    "Space Complexity:\n",
    "    O(1)"
   ]
  },
  {
   "cell_type": "markdown",
   "metadata": {},
   "source": [
    "# Approach 2"
   ]
  },
  {
   "cell_type": "raw",
   "metadata": {},
   "source": [
    "Use Hash Table. Scan through the array and count number of occurences and increment at Hash Table index position.\n",
    "Then scan Hash Table and check which one is occuring odd number of times\n",
    "Complexity:\n",
    "    Time : O(n)\n",
    "    Space : O(n)"
   ]
  },
  {
   "cell_type": "markdown",
   "metadata": {},
   "source": [
    "# Approach 3"
   ]
  },
  {
   "cell_type": "raw",
   "metadata": {},
   "source": [
    "Use Exclusive OR\n",
    "a ^ a = 0\n",
    "0 ^ a = a\n",
    "a ^ a ^ a = a\n",
    "a ^ b = b ^ a (commutative)"
   ]
  },
  {
   "cell_type": "code",
   "execution_count": null,
   "metadata": {},
   "outputs": [],
   "source": [
    "Complexity :\n",
    "    Time : O(n)\n",
    "    Space : O(1)"
   ]
  },
  {
   "cell_type": "code",
   "execution_count": 2,
   "metadata": {},
   "outputs": [],
   "source": [
    "def findOddOccurence(arr):\n",
    "    ans = 0\n",
    "    for i in arr:\n",
    "        ans = ans ^ i\n",
    "    return ans\n",
    "        "
   ]
  },
  {
   "cell_type": "code",
   "execution_count": 3,
   "metadata": {},
   "outputs": [
    {
     "data": {
      "text/plain": [
       "1"
      ]
     },
     "execution_count": 3,
     "metadata": {},
     "output_type": "execute_result"
    }
   ],
   "source": [
    "arr = [2,1,3,2,3,1,1]\n",
    "findOddOccurence(arr)\n",
    "#ans 1"
   ]
  },
  {
   "cell_type": "code",
   "execution_count": 4,
   "metadata": {},
   "outputs": [
    {
     "data": {
      "text/plain": [
       "5"
      ]
     },
     "execution_count": 4,
     "metadata": {},
     "output_type": "execute_result"
    }
   ],
   "source": [
    "arr = [2,1,3,2,3,1,5]\n",
    "findOddOccurence(arr)\n",
    "#ans 5"
   ]
  },
  {
   "cell_type": "code",
   "execution_count": null,
   "metadata": {},
   "outputs": [],
   "source": []
  }
 ],
 "metadata": {
  "kernelspec": {
   "display_name": "Python 3",
   "language": "python",
   "name": "python3"
  },
  "language_info": {
   "codemirror_mode": {
    "name": "ipython",
    "version": 3
   },
   "file_extension": ".py",
   "mimetype": "text/x-python",
   "name": "python",
   "nbconvert_exporter": "python",
   "pygments_lexer": "ipython3",
   "version": "3.5.2"
  }
 },
 "nbformat": 4,
 "nbformat_minor": 2
}
