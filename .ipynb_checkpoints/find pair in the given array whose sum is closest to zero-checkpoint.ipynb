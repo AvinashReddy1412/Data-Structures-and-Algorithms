{
 "cells": [
  {
   "cell_type": "markdown",
   "metadata": {},
   "source": [
    "# Two pointer Technique"
   ]
  },
  {
   "cell_type": "raw",
   "metadata": {},
   "source": [
    "1. Sort the array\n",
    "2. Take l and r as two pointers to the left and right of the array.\n",
    "    Find sum of l and r.\n",
    "3. If sum > 0 then decrement r.\n",
    "4. If sum falls below 0 then increment l.\n",
    "5. Adjust l and r based on sum result and find pair"
   ]
  },
  {
   "cell_type": "raw",
   "metadata": {},
   "source": [
    "Complexity:\n",
    "    Time --> O(nlogn) [nlogn(sort)+n(scan using two pointer technique)]\n",
    "    Space --> O(1)"
   ]
  },
  {
   "cell_type": "code",
   "execution_count": 11,
   "metadata": {},
   "outputs": [],
   "source": [
    "def pairSumCloseToZero(arr):\n",
    "    arr = sorted(arr)\n",
    "    l = 0\n",
    "    r = len(arr)-1\n",
    "    current_closest = arr[l]+arr[r]\n",
    "    current_sum = arr[l]+arr[r]\n",
    "    current_min_index = l\n",
    "    current_max_index = r\n",
    "    while(l < r):\n",
    "        if current_sum > 0:\n",
    "            r -= 1\n",
    "        else:\n",
    "            l +=1\n",
    "        if (l<r):\n",
    "            current_sum = arr[l]+arr[r]\n",
    "            if abs(current_sum) < abs(current_closest):\n",
    "                current_closest = current_sum\n",
    "                current_min_index = l\n",
    "                current_max_index = r\n",
    "    print(\"pair {0} and {1} have closest to zero {2}\".format(arr[current_min_index],arr[current_max_index],current_closest))\n",
    "    \n",
    "        \n",
    "    \n",
    "    "
   ]
  },
  {
   "cell_type": "code",
   "execution_count": 12,
   "metadata": {},
   "outputs": [
    {
     "name": "stdout",
     "output_type": "stream",
     "text": [
      "pair -54 and 53 have closest to zero -1\n"
     ]
    }
   ],
   "source": [
    "arr = [2,10,45,-54,53]\n",
    "pairSumCloseToZero(arr)\n",
    "#ans pair -54 and 53 have closest to zero -1"
   ]
  },
  {
   "cell_type": "code",
   "execution_count": 14,
   "metadata": {},
   "outputs": [
    {
     "name": "stdout",
     "output_type": "stream",
     "text": [
      "pair -54 and 54 have closest to zero 0\n"
     ]
    }
   ],
   "source": [
    "arr = [2,10,45,-54,54]\n",
    "pairSumCloseToZero(arr)\n",
    "#ans pair -54 and 54 have closest to zero 0"
   ]
  },
  {
   "cell_type": "code",
   "execution_count": 15,
   "metadata": {},
   "outputs": [
    {
     "name": "stdout",
     "output_type": "stream",
     "text": [
      "pair -54 and 45 have closest to zero -9\n"
     ]
    }
   ],
   "source": [
    "arr = [2,10,45,-54]\n",
    "pairSumCloseToZero(arr)\n",
    "#ans pair -54 and 45 have closest to zero -9"
   ]
  },
  {
   "cell_type": "code",
   "execution_count": null,
   "metadata": {},
   "outputs": [],
   "source": []
  }
 ],
 "metadata": {
  "kernelspec": {
   "display_name": "Python 3",
   "language": "python",
   "name": "python3"
  },
  "language_info": {
   "codemirror_mode": {
    "name": "ipython",
    "version": 3
   },
   "file_extension": ".py",
   "mimetype": "text/x-python",
   "name": "python",
   "nbconvert_exporter": "python",
   "pygments_lexer": "ipython3",
   "version": "3.5.2"
  }
 },
 "nbformat": 4,
 "nbformat_minor": 2
}
