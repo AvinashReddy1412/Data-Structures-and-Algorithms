{
 "cells": [
  {
   "cell_type": "markdown",
   "metadata": {},
   "source": [
    "# Finding Majority Element using Linear Search"
   ]
  },
  {
   "cell_type": "raw",
   "metadata": {},
   "source": [
    "element should occur (n/2)+1 times.\n",
    "As the array is sorted we can check at index i and (i+(n/2)). If they are same then that is majority element.\n",
    "\n",
    "if n = 7. majority element should occur 4 times . 1 is at index 0 and 3 . therefore majority element = 1\n",
    "[1,1,1,1,2,3,4]\n",
    "\n",
    "Complexity :\n",
    "Time : O(n/2) == O(n)\n",
    "Space : O(1)\n"
   ]
  },
  {
   "cell_type": "code",
   "execution_count": 13,
   "metadata": {},
   "outputs": [],
   "source": [
    "def findMajorityele(arr):\n",
    "    arr_len = len(arr)\n",
    "    for i in range(arr_len - (arr_len//2)):\n",
    "        if arr[i] == arr[i+(arr_len//2)]:\n",
    "            return arr[i]\n",
    "    return -1"
   ]
  },
  {
   "cell_type": "code",
   "execution_count": 14,
   "metadata": {},
   "outputs": [
    {
     "data": {
      "text/plain": [
       "1"
      ]
     },
     "execution_count": 14,
     "metadata": {},
     "output_type": "execute_result"
    }
   ],
   "source": [
    "arr = [1,1,1,1,2,3,4]\n",
    "findMajorityele(arr)\n",
    "# ans 1"
   ]
  },
  {
   "cell_type": "code",
   "execution_count": 15,
   "metadata": {},
   "outputs": [
    {
     "data": {
      "text/plain": [
       "4"
      ]
     },
     "execution_count": 15,
     "metadata": {},
     "output_type": "execute_result"
    }
   ],
   "source": [
    "arr = [1,2,3,4,4,4,4]\n",
    "findMajorityele(arr)\n",
    "# ans 4"
   ]
  },
  {
   "cell_type": "code",
   "execution_count": 16,
   "metadata": {},
   "outputs": [
    {
     "data": {
      "text/plain": [
       "8"
      ]
     },
     "execution_count": 16,
     "metadata": {},
     "output_type": "execute_result"
    }
   ],
   "source": [
    "arr = [4,5,8,8,8,8]\n",
    "findMajorityele(arr)\n",
    "# ans 8"
   ]
  },
  {
   "cell_type": "code",
   "execution_count": 17,
   "metadata": {},
   "outputs": [
    {
     "data": {
      "text/plain": [
       "-1"
      ]
     },
     "execution_count": 17,
     "metadata": {},
     "output_type": "execute_result"
    }
   ],
   "source": [
    "arr = [3,4,5,8,8,8]\n",
    "findMajorityele(arr)\n",
    "# ans -1"
   ]
  },
  {
   "cell_type": "code",
   "execution_count": 18,
   "metadata": {},
   "outputs": [
    {
     "data": {
      "text/plain": [
       "2"
      ]
     },
     "execution_count": 18,
     "metadata": {},
     "output_type": "execute_result"
    }
   ],
   "source": [
    "arr = [1,2,2]\n",
    "findMajorityele(arr)\n",
    "# ans 2"
   ]
  },
  {
   "cell_type": "markdown",
   "metadata": {},
   "source": [
    "# MOORE VOTING ALGORITHM"
   ]
  },
  {
   "cell_type": "raw",
   "metadata": {},
   "source": [
    "If the array is not sorted just count the votes and decide\n",
    "Complexity:\n",
    "Time : O(n) --> scanning entire array while counting votes\n",
    "Space: O(1) "
   ]
  },
  {
   "cell_type": "code",
   "execution_count": 19,
   "metadata": {},
   "outputs": [],
   "source": [
    "def getMajorityElement(arr):\n",
    "    if len(arr) == 0:\n",
    "        return None\n",
    "    voter = None\n",
    "    votes = 0\n",
    "    for ix,i  in enumerate(arr):\n",
    "        if voter:\n",
    "            if voter == i:\n",
    "                votes+=1\n",
    "            else:\n",
    "                if votes > 0:\n",
    "                    votes -=1\n",
    "                else:\n",
    "                    voter = i\n",
    "                    votes = 1\n",
    "        else:\n",
    "            voter = i\n",
    "            votes +=1\n",
    "    return voter\n",
    "\n",
    "def checkMajorityElement(arr,ele):\n",
    "    count = 0\n",
    "    for i in arr:\n",
    "        if i == ele:\n",
    "            count+=1\n",
    "    if count > (len(arr)//2):\n",
    "        return True\n",
    "        \n",
    "def findMajorityelement(arr):\n",
    "    potential_candidate = getMajorityElement(arr)\n",
    "    if potential_candidate:\n",
    "        if checkMajorityElement(arr,potential_candidate):\n",
    "            print(\"found {0}\".format(potential_candidate))\n",
    "        else:\n",
    "            print(\"Not found\")\n",
    "    else:\n",
    "        print(\"Not found\")"
   ]
  },
  {
   "cell_type": "code",
   "execution_count": 20,
   "metadata": {},
   "outputs": [
    {
     "name": "stdout",
     "output_type": "stream",
     "text": [
      "found 1\n"
     ]
    }
   ],
   "source": [
    "arr = [1,1,1,1,2,3,4]\n",
    "findMajorityelement(arr)\n",
    "# ans found 1"
   ]
  },
  {
   "cell_type": "code",
   "execution_count": 21,
   "metadata": {},
   "outputs": [
    {
     "name": "stdout",
     "output_type": "stream",
     "text": [
      "found 4\n"
     ]
    }
   ],
   "source": [
    "arr = [1,2,3,4,4,4,4]\n",
    "findMajorityelement(arr)\n",
    "# ans found 4"
   ]
  },
  {
   "cell_type": "code",
   "execution_count": 22,
   "metadata": {},
   "outputs": [
    {
     "name": "stdout",
     "output_type": "stream",
     "text": [
      "found 8\n"
     ]
    }
   ],
   "source": [
    "arr = [4,5,8,8,8,8]\n",
    "findMajorityelement(arr)\n",
    "# ans found 8"
   ]
  },
  {
   "cell_type": "code",
   "execution_count": 23,
   "metadata": {},
   "outputs": [
    {
     "name": "stdout",
     "output_type": "stream",
     "text": [
      "Not found\n"
     ]
    }
   ],
   "source": [
    "arr = [3,4,5,8,8,8]\n",
    "findMajorityelement(arr)\n",
    "# ans Not found"
   ]
  },
  {
   "cell_type": "code",
   "execution_count": 24,
   "metadata": {},
   "outputs": [
    {
     "name": "stdout",
     "output_type": "stream",
     "text": [
      "found 2\n"
     ]
    }
   ],
   "source": [
    "arr = [1,2,2]\n",
    "findMajorityelement(arr)\n",
    "# ans found 2"
   ]
  },
  {
   "cell_type": "raw",
   "metadata": {},
   "source": [
    "Another simple way of same logic"
   ]
  },
  {
   "cell_type": "code",
   "execution_count": 25,
   "metadata": {},
   "outputs": [],
   "source": [
    "# int getMajorityElement(int arr[], int size)\n",
    "# {\n",
    "# int majorityIndex=0, count=1;\n",
    "# for(int index = 1; index < size; index++)\n",
    "# {\n",
    "# if(arr[majorityIndex] == arr[index])\n",
    "# count++;\n",
    "# else\n",
    "# count--;\n",
    "# if(count == 0)\n",
    "# {\n",
    "# majorityIndex = index;\n",
    "# count = 1;\n",
    "# }\n",
    "# }\n",
    "# return arr[majorityIndex];\n",
    "# }\n"
   ]
  },
  {
   "cell_type": "code",
   "execution_count": null,
   "metadata": {},
   "outputs": [],
   "source": []
  },
  {
   "cell_type": "code",
   "execution_count": null,
   "metadata": {},
   "outputs": [],
   "source": []
  }
 ],
 "metadata": {
  "kernelspec": {
   "display_name": "Python 3",
   "language": "python",
   "name": "python3"
  },
  "language_info": {
   "codemirror_mode": {
    "name": "ipython",
    "version": 3
   },
   "file_extension": ".py",
   "mimetype": "text/x-python",
   "name": "python",
   "nbconvert_exporter": "python",
   "pygments_lexer": "ipython3",
   "version": "3.5.2"
  }
 },
 "nbformat": 4,
 "nbformat_minor": 2
}
