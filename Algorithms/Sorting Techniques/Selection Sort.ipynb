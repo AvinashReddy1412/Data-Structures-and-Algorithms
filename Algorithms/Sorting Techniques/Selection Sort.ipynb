{
 "cells": [
  {
   "cell_type": "markdown",
   "metadata": {},
   "source": [
    "# Selection Sort\n",
    "    In each pass minimum element is identified and placed in the beginning. In the next pass minimum element is identied in the remaining elements and placed at second position. This is continued till the end of array.\n",
    "    After each pass one minimum element comes to its postion."
   ]
  },
  {
   "cell_type": "markdown",
   "metadata": {},
   "source": [
    "# Complexity\n",
    "For i= 0 , no of comparisons to identify minimum element = (n-1)\n",
    "    i= 1 , Nc = (n-2)\n",
    "    .\n",
    "    .\n",
    "    .\n",
    "    i= n-2, Nc=1\n",
    "    Total Comparisons = (n-1)+(n-2)...1 = O(n^2)\n",
    "## Time : O(n^2)\n",
    "## Space : O(1)\n",
    "    "
   ]
  },
  {
   "cell_type": "markdown",
   "metadata": {},
   "source": [
    "# Implementation"
   ]
  },
  {
   "cell_type": "code",
   "execution_count": 1,
   "metadata": {},
   "outputs": [],
   "source": [
    "def selectionSort(A,n):\n",
    "    for i in range(n-1):\n",
    "        min_ = i\n",
    "        for j in range(i+1,n):\n",
    "            if A[j] < A[min_]:\n",
    "                min_ = j\n",
    "        if i != min_:\n",
    "            temp = A[i]\n",
    "            A[i] = A[min_]\n",
    "            A[min_] = temp"
   ]
  },
  {
   "cell_type": "markdown",
   "metadata": {},
   "source": [
    "# Test"
   ]
  },
  {
   "cell_type": "code",
   "execution_count": 2,
   "metadata": {},
   "outputs": [
    {
     "data": {
      "text/plain": [
       "[1, 3, 4, 6, 7, 8, 10]"
      ]
     },
     "execution_count": 2,
     "metadata": {},
     "output_type": "execute_result"
    }
   ],
   "source": [
    "A = [7,6,3,4,8,10,1]\n",
    "selectionSort(A,7)\n",
    "A\n",
    "# ans \n",
    "# [1, 3, 4, 6, 7, 8, 10]"
   ]
  },
  {
   "cell_type": "code",
   "execution_count": 4,
   "metadata": {},
   "outputs": [
    {
     "data": {
      "text/plain": [
       "[1, 3, 4, 6, 7, 8, 10, 100]"
      ]
     },
     "execution_count": 4,
     "metadata": {},
     "output_type": "execute_result"
    }
   ],
   "source": [
    "A = [7,6,100,3,4,8,10,1]\n",
    "selectionSort(A,8)\n",
    "A\n",
    "# ans \n",
    "# [1, 3, 4, 6, 7, 8, 10, 100]"
   ]
  },
  {
   "cell_type": "code",
   "execution_count": null,
   "metadata": {},
   "outputs": [],
   "source": []
  }
 ],
 "metadata": {
  "kernelspec": {
   "display_name": "Python 3",
   "language": "python",
   "name": "python3"
  },
  "language_info": {
   "codemirror_mode": {
    "name": "ipython",
    "version": 3
   },
   "file_extension": ".py",
   "mimetype": "text/x-python",
   "name": "python",
   "nbconvert_exporter": "python",
   "pygments_lexer": "ipython3",
   "version": "3.5.2"
  }
 },
 "nbformat": 4,
 "nbformat_minor": 2
}
