{
 "cells": [
  {
   "cell_type": "markdown",
   "metadata": {},
   "source": [
    "# Build Max Heap\n",
    "    From given array of elements build max heap. Max heap contains maximum element at root and this rule should apply on all sub trees."
   ]
  },
  {
   "cell_type": "markdown",
   "metadata": {},
   "source": [
    "## Complexity:\n",
    "#### Time   : O(n)\n",
    "#### Space : O(logn)\n",
    "    For explanation refer notebook and notes folder\n",
    "    "
   ]
  },
  {
   "cell_type": "markdown",
   "metadata": {},
   "source": [
    "### Max Heapify Implementation"
   ]
  },
  {
   "cell_type": "code",
   "execution_count": 10,
   "metadata": {},
   "outputs": [],
   "source": [
    "def maxHeapify(A,i,heapsize):\n",
    "    l = 2*i\n",
    "    r = (2*i)+1\n",
    "    largest = i\n",
    "    if l <= heapsize and A[l-1] > A[i-1]: #-1 because our indexing starts from 0 and tree index from 1\n",
    "        largest = l\n",
    "    if r<= heapsize and A[r-1] > A[largest-1]:\n",
    "        largest = r\n",
    "    if largest != i :\n",
    "        temp = A[i-1]\n",
    "        A[i-1] = A[largest-1]\n",
    "        A[largest-1] = temp\n",
    "        maxHeapify(A,largest,heapsize)\n",
    "    \n",
    "    "
   ]
  },
  {
   "cell_type": "markdown",
   "metadata": {},
   "source": [
    "### Build Max Heap Implementation"
   ]
  },
  {
   "cell_type": "code",
   "execution_count": 11,
   "metadata": {},
   "outputs": [],
   "source": [
    "def buildMaxHeap(A):\n",
    "    heapsize = len(A)\n",
    "    for i in range((heapsize//2)+1,0,-1):\n",
    "        maxHeapify(A,i,heapsize)\n",
    "        "
   ]
  },
  {
   "cell_type": "code",
   "execution_count": 12,
   "metadata": {},
   "outputs": [
    {
     "data": {
      "text/plain": [
       "[9, 8, 5, 3, 6, 2, 1, 0]"
      ]
     },
     "execution_count": 12,
     "metadata": {},
     "output_type": "execute_result"
    }
   ],
   "source": [
    "A = [9,6,5,0,8,2,1,3]\n",
    "buildMaxHeap(A)\n",
    "A\n",
    "# ans\n",
    "# [9, 8, 5, 3, 6, 2, 1, 0]"
   ]
  },
  {
   "cell_type": "code",
   "execution_count": 13,
   "metadata": {},
   "outputs": [
    {
     "data": {
      "text/plain": [
       "[25, 10, 5, 9, 8, 2, 1, 3, 0, 6]"
      ]
     },
     "execution_count": 13,
     "metadata": {},
     "output_type": "execute_result"
    }
   ],
   "source": [
    "A = [9,6,5,0,8,2,1,3,10,25]\n",
    "buildMaxHeap(A)\n",
    "A\n",
    "# ans\n",
    "# [25, 10, 5, 9, 8, 2, 1, 3, 0, 6]"
   ]
  },
  {
   "cell_type": "code",
   "execution_count": null,
   "metadata": {},
   "outputs": [],
   "source": []
  }
 ],
 "metadata": {
  "kernelspec": {
   "display_name": "Python 3",
   "language": "python",
   "name": "python3"
  },
  "language_info": {
   "codemirror_mode": {
    "name": "ipython",
    "version": 3
   },
   "file_extension": ".py",
   "mimetype": "text/x-python",
   "name": "python",
   "nbconvert_exporter": "python",
   "pygments_lexer": "ipython3",
   "version": "3.5.2"
  }
 },
 "nbformat": 4,
 "nbformat_minor": 2
}
