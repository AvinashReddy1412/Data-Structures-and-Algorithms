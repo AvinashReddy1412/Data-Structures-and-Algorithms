{
 "cells": [
  {
   "cell_type": "markdown",
   "metadata": {},
   "source": [
    "# Heap Sort\n",
    "    After building max heap, swap root which is largest element with the last element. Then reduce heap size to last but one and max_heapify array . Again swap largest element root with present last element . Continue this to get ascending order elements as largest elements are shifted to last. For full algorithm see notes folder."
   ]
  },
  {
   "cell_type": "markdown",
   "metadata": {},
   "source": [
    "## Complexity\n",
    "### Time :\n",
    "    For all elements max_heapify is called. Max_heapify is called on root node where height is O(logn). Even though for each iteration heap size is reduced n/2 times height will be O(logn) only. therefore complexity is O(n/2*logn)\n",
    "#### = O(nlogn)\n",
    "### Space:\n",
    "#### = O(logn)"
   ]
  },
  {
   "cell_type": "markdown",
   "metadata": {},
   "source": [
    "# Max Heapify Implementation"
   ]
  },
  {
   "cell_type": "code",
   "execution_count": 1,
   "metadata": {},
   "outputs": [],
   "source": [
    "def maxHeapify(A,i,heapsize):\n",
    "    l = 2*i\n",
    "    r = (2*i)+1\n",
    "    largest = i\n",
    "    if l <= heapsize and A[l-1] > A[i-1]: #-1 because our indexing starts from 0 and tree index from 1\n",
    "        largest = l\n",
    "    if r<= heapsize and A[r-1] > A[largest-1]:\n",
    "        largest = r\n",
    "    if largest != i :\n",
    "        temp = A[i-1]\n",
    "        A[i-1] = A[largest-1]\n",
    "        A[largest-1] = temp\n",
    "        maxHeapify(A,largest,heapsize)\n",
    "    "
   ]
  },
  {
   "cell_type": "markdown",
   "metadata": {},
   "source": [
    "# Build Max Heap Implementation"
   ]
  },
  {
   "cell_type": "code",
   "execution_count": 2,
   "metadata": {},
   "outputs": [],
   "source": [
    "def buildMaxHeap(A):\n",
    "    heapsize = len(A)\n",
    "    for i in range((heapsize//2)+1,0,-1):\n",
    "        maxHeapify(A,i,heapsize)\n",
    "        "
   ]
  },
  {
   "cell_type": "markdown",
   "metadata": {},
   "source": [
    "# Heap Sort Implementation"
   ]
  },
  {
   "cell_type": "code",
   "execution_count": 13,
   "metadata": {},
   "outputs": [],
   "source": [
    "def heapSort(A):\n",
    "    buildMaxHeap(A)\n",
    "    heapsize = len(A)\n",
    "    for i in range(heapsize,1,-1):\n",
    "        temp = A[0]\n",
    "        A[0] = A[i-1] # -1 since heap tree index starts from 1 and ours from 0\n",
    "        A[i-1] = temp\n",
    "        heapsize -=1\n",
    "        maxHeapify(A,1,heapsize)"
   ]
  },
  {
   "cell_type": "code",
   "execution_count": 14,
   "metadata": {},
   "outputs": [
    {
     "data": {
      "text/plain": [
       "[3, 4, 6, 7, 8, 10]"
      ]
     },
     "execution_count": 14,
     "metadata": {},
     "output_type": "execute_result"
    }
   ],
   "source": [
    "A = [7,6,3,4,8,10]\n",
    "heapSort(A)\n",
    "A\n",
    "# ans\n",
    "# [3, 4, 6, 7, 8, 10]"
   ]
  },
  {
   "cell_type": "code",
   "execution_count": 15,
   "metadata": {},
   "outputs": [
    {
     "data": {
      "text/plain": [
       "[1, 3, 4, 6, 7, 8, 10]"
      ]
     },
     "execution_count": 15,
     "metadata": {},
     "output_type": "execute_result"
    }
   ],
   "source": [
    "A = [7,6,3,4,10,8,1]\n",
    "heapSort(A)\n",
    "A\n",
    "# ans\n",
    "# [1, 3, 4, 6, 7, 8, 10]"
   ]
  },
  {
   "cell_type": "code",
   "execution_count": null,
   "metadata": {},
   "outputs": [],
   "source": [
    "# def heapSort(A):\n",
    "#     buildMaxHeap(A)\n",
    "#     heapsize = len(A)\n",
    "#     for i in range(1,heapsize):\n",
    "#         temp = A[0]\n",
    "#         A[0] = A[heapsize-1] # -1 since heap tree index starts from 1 and ours from 0\n",
    "#         A[heapsize-1] = temp\n",
    "#         heapsize -=1\n",
    "#         maxHeapify(A,1,heapsize)\n",
    "\n",
    "## this is myversion. but above one makes sense as we are iterating and using i"
   ]
  }
 ],
 "metadata": {
  "kernelspec": {
   "display_name": "Python 3",
   "language": "python",
   "name": "python3"
  },
  "language_info": {
   "codemirror_mode": {
    "name": "ipython",
    "version": 3
   },
   "file_extension": ".py",
   "mimetype": "text/x-python",
   "name": "python",
   "nbconvert_exporter": "python",
   "pygments_lexer": "ipython3",
   "version": "3.5.2"
  }
 },
 "nbformat": 4,
 "nbformat_minor": 2
}
