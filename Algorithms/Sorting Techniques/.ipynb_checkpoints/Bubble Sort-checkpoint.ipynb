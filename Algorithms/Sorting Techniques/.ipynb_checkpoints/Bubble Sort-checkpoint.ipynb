{
 "cells": [
  {
   "cell_type": "markdown",
   "metadata": {},
   "source": [
    "# Bubble Sort"
   ]
  },
  {
   "cell_type": "raw",
   "metadata": {},
   "source": [
    "In bubble sort adjacent elements are compared and swapped. After each iteration maximum element is pushed to right\n",
    "end. We no longer compare this rightmost element in future iterations.\n",
    "We use i to keep track till what element comparsions should be done.\n",
    "J is used to compare adjacent elements.\n",
    "Swapped is used to optimize the algorithm. If no element is swapped in iteration we break the loop and return since \n",
    "the elements are in correct order.\n"
   ]
  },
  {
   "cell_type": "markdown",
   "metadata": {},
   "source": [
    "# Complexity\n",
    "    For i=0, n-1 comparisons\n",
    "        i=1, n-2 comparisons\n",
    "        .\n",
    "        .\n",
    "        .\n",
    "        i=n-1,1 comparison\n",
    "        Total comparisons : ((n-1)(n-2))/2\n",
    "### Time : \n",
    "#### Worst Case: \n",
    "##### O(n^2) Reverse sorted array\n",
    "#### Best Case\n",
    "#### O(n) In sorted array after one iteration swapped is 0 and loop breaks\n",
    "    \n",
    "### Space : \n",
    "##### O(1)\n",
    "        "
   ]
  },
  {
   "cell_type": "code",
   "execution_count": 55,
   "metadata": {},
   "outputs": [],
   "source": [
    "def bubbleSort(arr,size):\n",
    "    a = arr # to reduce typing.. dont do this.. waste of variable space\n",
    "    n = size\n",
    "    for i in range(n-1): # For each iteration one max element goes to right end i.e n-1 iterations\n",
    "        swapped = 0\n",
    "        for j in range(n-i-1): # j should be traversed till last but one element since we perform j+1 and compare.\n",
    "            if a[j] > a[j+1]:\n",
    "                # swap\n",
    "                temp = a[j+1]\n",
    "                a[j+1] = a[j]\n",
    "                a[j] = temp\n",
    "                swapped = 1\n",
    "        if swapped == 0:\n",
    "            break\n",
    "                \n",
    "            \n",
    "    "
   ]
  },
  {
   "cell_type": "code",
   "execution_count": 56,
   "metadata": {},
   "outputs": [
    {
     "data": {
      "text/plain": [
       "[1, 3, 4, 6, 7, 8, 10, 20]"
      ]
     },
     "execution_count": 56,
     "metadata": {},
     "output_type": "execute_result"
    }
   ],
   "source": [
    "arr = [10,7,6,20,3,4,8,1]\n",
    "bubbleSort(arr,8)\n",
    "arr\n",
    "# ans \n",
    "# [1, 3, 4, 6, 7, 8, 10, 20]"
   ]
  },
  {
   "cell_type": "code",
   "execution_count": null,
   "metadata": {},
   "outputs": [],
   "source": []
  }
 ],
 "metadata": {
  "kernelspec": {
   "display_name": "Python 3",
   "language": "python",
   "name": "python3"
  },
  "language_info": {
   "codemirror_mode": {
    "name": "ipython",
    "version": 3
   },
   "file_extension": ".py",
   "mimetype": "text/x-python",
   "name": "python",
   "nbconvert_exporter": "python",
   "pygments_lexer": "ipython3",
   "version": "3.5.2"
  }
 },
 "nbformat": 4,
 "nbformat_minor": 2
}
