{
 "cells": [
  {
   "cell_type": "markdown",
   "metadata": {},
   "source": [
    "# Quick Sort\n",
    "    Partitioning is done first on selected pivot element. This pivot element is moved to its position such that all smaller elements than pivot are on its left side and all the greater elements than it are moved to its right side.\n",
    "    Then Quick Sort is applied on left half and right half.\n",
    "    For full explanation refer notebook."
   ]
  },
  {
   "cell_type": "markdown",
   "metadata": {},
   "source": [
    "# Complexity\n",
    "### Time\n",
    "#### Best Case : O(nlogn) [Partition always yields two equal halves]\n",
    "#### Worst Case : O(n^2) [Partition always yields one full half and empty half]\n",
    "\n",
    "### Space\n",
    "#### Best Case : O(logn) [Partition always yields two equal halves]\n",
    "#### Worst Case : O(n) [Partition always yields one full half and empty half]\n"
   ]
  },
  {
   "cell_type": "markdown",
   "metadata": {},
   "source": [
    "## Partition Implementation"
   ]
  },
  {
   "cell_type": "code",
   "execution_count": 27,
   "metadata": {},
   "outputs": [],
   "source": [
    "def partition(A,p,r):\n",
    "    i = p-1\n",
    "    pivot = A[r]\n",
    "    for j in range(p,r): # start from p not 0 , and continue till r-1 (i.e r in range)\n",
    "        if A[j] < pivot:\n",
    "            i +=1\n",
    "            # swap \n",
    "            temp = A[j]\n",
    "            A[j] = A[i]\n",
    "            A[i] = temp\n",
    "    A[r] = A[i+1]\n",
    "    A[i+1] = pivot\n",
    "    return i+1\n",
    "    "
   ]
  },
  {
   "cell_type": "markdown",
   "metadata": {},
   "source": [
    "# Quick Sort Implementation"
   ]
  },
  {
   "cell_type": "code",
   "execution_count": 28,
   "metadata": {},
   "outputs": [],
   "source": [
    "def quickSort(A,p,r):\n",
    "    if p<r:\n",
    "        q = partition(A,p,r)\n",
    "        quickSort(A,p,q-1)\n",
    "        quickSort(A,q+1,r)"
   ]
  },
  {
   "cell_type": "markdown",
   "metadata": {},
   "source": [
    "# Test"
   ]
  },
  {
   "cell_type": "code",
   "execution_count": 29,
   "metadata": {},
   "outputs": [
    {
     "data": {
      "text/plain": [
       "[3, 4, 6, 7, 8, 10]"
      ]
     },
     "execution_count": 29,
     "metadata": {},
     "output_type": "execute_result"
    }
   ],
   "source": [
    "arr = [7,6,3,4,10,8]\n",
    "quickSort(arr,0,5)\n",
    "arr"
   ]
  },
  {
   "cell_type": "code",
   "execution_count": 31,
   "metadata": {},
   "outputs": [
    {
     "data": {
      "text/plain": [
       "[1, 3, 4, 6, 7, 8, 10]"
      ]
     },
     "execution_count": 31,
     "metadata": {},
     "output_type": "execute_result"
    }
   ],
   "source": [
    "arr = [7,6,3,4,10,8,1]\n",
    "quickSort(arr,0,6)\n",
    "arr"
   ]
  },
  {
   "cell_type": "markdown",
   "metadata": {},
   "source": [
    "# **ANALYSIS OF QUICK SORT \n",
    "### If the elements are in ascending order or descending order or if all the elements are equal Quick sort time complexity will be O(n^2)\n",
    "### Where as even if the partition results in left and right partition ratios as 1:9,1:99,1:999 Quick sort complexity will be O(nlogn)\n",
    "### If we can find median in O(n) and then select median as pivot then partition results in nearly 1:1, then time complexity will be O(n^2)\n",
    "    See notes folder for example screenshots"
   ]
  },
  {
   "cell_type": "code",
   "execution_count": null,
   "metadata": {},
   "outputs": [],
   "source": []
  }
 ],
 "metadata": {
  "kernelspec": {
   "display_name": "Python 3",
   "language": "python",
   "name": "python3"
  },
  "language_info": {
   "codemirror_mode": {
    "name": "ipython",
    "version": 3
   },
   "file_extension": ".py",
   "mimetype": "text/x-python",
   "name": "python",
   "nbconvert_exporter": "python",
   "pygments_lexer": "ipython3",
   "version": "3.5.2"
  }
 },
 "nbformat": 4,
 "nbformat_minor": 2
}
