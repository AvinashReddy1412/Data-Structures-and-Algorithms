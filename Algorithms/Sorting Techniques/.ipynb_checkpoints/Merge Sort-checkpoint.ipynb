{
 "cells": [
  {
   "cell_type": "markdown",
   "metadata": {},
   "source": [
    "# Merge Implementation"
   ]
  },
  {
   "cell_type": "code",
   "execution_count": 25,
   "metadata": {},
   "outputs": [],
   "source": [
    "def merge(A,p,q,r):\n",
    "    n1 = q-p+1\n",
    "    n2 = r-q+1\n",
    "    L = []\n",
    "    R = []\n",
    "    for i in range(p,q+1):\n",
    "        L.append(A[i])\n",
    "    for i in range(q+1,r+1):\n",
    "        R.append(A[i])\n",
    "    L.append(10000000) # Like infinity\n",
    "    R.append(10000000)\n",
    "    i = 0\n",
    "    j = 0\n",
    "    for k in range(p,r+1):\n",
    "        if L[i] < R[j]:\n",
    "            A[k] = L[i]\n",
    "            i +=1\n",
    "        else:\n",
    "            A[k] = R[j]\n",
    "            j +=1\n",
    "            "
   ]
  },
  {
   "cell_type": "markdown",
   "metadata": {},
   "source": [
    "# Merge Sort Implementation"
   ]
  },
  {
   "cell_type": "code",
   "execution_count": 26,
   "metadata": {},
   "outputs": [],
   "source": [
    "def mergeSort(A,p,r):\n",
    "    if p<r:\n",
    "        q = (p+r)//2\n",
    "        mergeSort(A,p,q)\n",
    "        mergeSort(A,q+1,r)\n",
    "        merge(A,p,q,r)\n",
    "        "
   ]
  },
  {
   "cell_type": "markdown",
   "metadata": {},
   "source": [
    "# Test"
   ]
  },
  {
   "cell_type": "code",
   "execution_count": 27,
   "metadata": {},
   "outputs": [
    {
     "data": {
      "text/plain": [
       "[3, 4, 6, 7, 8]"
      ]
     },
     "execution_count": 27,
     "metadata": {},
     "output_type": "execute_result"
    }
   ],
   "source": [
    "arr = [7,6,3,4,8]\n",
    "mergeSort(arr,0,4)\n",
    "arr\n",
    "# ans\n",
    "# [3, 4, 6, 7, 8]"
   ]
  },
  {
   "cell_type": "code",
   "execution_count": 28,
   "metadata": {},
   "outputs": [
    {
     "data": {
      "text/plain": [
       "[3, 4, 6, 7, 8, 10]"
      ]
     },
     "execution_count": 28,
     "metadata": {},
     "output_type": "execute_result"
    }
   ],
   "source": [
    "arr = [7,6,3,4,8,10]\n",
    "mergeSort(arr,0,4)\n",
    "arr\n",
    "# ans\n",
    "# [3, 4, 6, 7, 8, 10]"
   ]
  },
  {
   "cell_type": "code",
   "execution_count": null,
   "metadata": {},
   "outputs": [],
   "source": []
  }
 ],
 "metadata": {
  "kernelspec": {
   "display_name": "Python 3",
   "language": "python",
   "name": "python3"
  },
  "language_info": {
   "codemirror_mode": {
    "name": "ipython",
    "version": 3
   },
   "file_extension": ".py",
   "mimetype": "text/x-python",
   "name": "python",
   "nbconvert_exporter": "python",
   "pygments_lexer": "ipython3",
   "version": "3.5.2"
  }
 },
 "nbformat": 4,
 "nbformat_minor": 2
}
