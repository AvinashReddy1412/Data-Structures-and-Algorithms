{
 "cells": [
  {
   "cell_type": "markdown",
   "metadata": {},
   "source": [
    "# Max Heapify Implementation"
   ]
  },
  {
   "cell_type": "code",
   "execution_count": 1,
   "metadata": {},
   "outputs": [],
   "source": [
    "def maxHeapify(A,i,heapsize):\n",
    "    l = 2*i\n",
    "    r = (2*i)+1\n",
    "    largest = i\n",
    "    if l <= heapsize and A[l-1] > A[i-1]: #-1 because our indexing starts from 0 and tree index from 1\n",
    "        largest = l\n",
    "    if r<= heapsize and A[r-1] > A[largest-1]:\n",
    "        largest = r\n",
    "    if largest != i :\n",
    "        temp = A[i-1]\n",
    "        A[i-1] = A[largest-1]\n",
    "        A[largest-1] = temp\n",
    "        maxHeapify(A,largest,heapsize)\n",
    "    "
   ]
  },
  {
   "cell_type": "markdown",
   "metadata": {},
   "source": [
    "# Build Max Heap Implementation"
   ]
  },
  {
   "cell_type": "code",
   "execution_count": 2,
   "metadata": {},
   "outputs": [],
   "source": [
    "def buildMaxHeap(A):\n",
    "    heapsize = len(A)\n",
    "    for i in range((heapsize//2)+1,0,-1):\n",
    "        maxHeapify(A,i,heapsize)\n",
    "        "
   ]
  },
  {
   "cell_type": "markdown",
   "metadata": {},
   "source": [
    "# Extract Max Key Implementation\n",
    "   ### Complexity :\n",
    "   #### Time : O(logn) as it uses max heapify\n",
    "   #### Space : O(logn)"
   ]
  },
  {
   "cell_type": "code",
   "execution_count": 13,
   "metadata": {},
   "outputs": [],
   "source": [
    "def extractMaxKeyInMaxHeap(A,heapsize=-1):\n",
    "    if heapsize == -1:\n",
    "        heapsize = len(A)\n",
    "    if heapsize < 1:\n",
    "        print(\"Underflow error\")\n",
    "        return \n",
    "    max_key = A[0]\n",
    "    A[0] =  heapsize\n",
    "    heapsize = heapsize - 1\n",
    "    maxHeapify(A,1,heapsize)\n",
    "    return max_key"
   ]
  },
  {
   "cell_type": "code",
   "execution_count": 18,
   "metadata": {},
   "outputs": [
    {
     "name": "stdout",
     "output_type": "stream",
     "text": [
      "[100, 10, 8, 7, 3, 4, 6, 5]\n",
      "100\n",
      "10\n"
     ]
    }
   ],
   "source": [
    "A = [7,5,6,100,3,4,8,10]\n",
    "buildMaxHeap(A)\n",
    "print(A)\n",
    "max1 = extractMaxKeyInMaxHeap(A)\n",
    "print(max1)\n",
    "max2 = extractMaxKeyInMaxHeap(A,heapsize=6)\n",
    "print(max2)\n",
    "# ans\n",
    "# 100\n",
    "# 10"
   ]
  },
  {
   "cell_type": "markdown",
   "metadata": {},
   "source": [
    "# Increase Key Implementation\n",
    "    Change particular value to key at index i. After changing value compare it with parent and if it is greater than parent simply swap it with parent. repeat it until root node.\n",
    "### Complexity\n",
    "#### Time : O(logn) since at each iteration element climbs up one level till root node and there are logn levels\n",
    "#### Space : O(1)"
   ]
  },
  {
   "cell_type": "code",
   "execution_count": 48,
   "metadata": {},
   "outputs": [],
   "source": [
    "def increaseKeyInMaxHeap(A,i,key):\n",
    "    if key< A[i-1]: # array index is one lesser than tree index\n",
    "        print(\"key is lesser\")\n",
    "        return\n",
    "    A[i-1] = key\n",
    "    while(i>1 and A[(i//2)-1] < A[i-1]):\n",
    "        temp = A[i-1]\n",
    "        A[i-1] = A[(i//2)-1] #i/2-1 not i-1/2 remember this\n",
    "        A[(i//2)-1] = temp\n",
    "        i = i//2\n",
    "    "
   ]
  },
  {
   "cell_type": "code",
   "execution_count": 49,
   "metadata": {},
   "outputs": [
    {
     "data": {
      "text/plain": [
       "[1000, 10, 8, 7, 3, 4, 6, 5]"
      ]
     },
     "execution_count": 49,
     "metadata": {},
     "output_type": "execute_result"
    }
   ],
   "source": [
    "A = [100, 10, 8, 7, 3, 4, 6, 5]\n",
    "increaseKeyInMaxHeap(A,1,1000)\n",
    "A"
   ]
  },
  {
   "cell_type": "code",
   "execution_count": 50,
   "metadata": {},
   "outputs": [
    {
     "data": {
      "text/plain": [
       "[50000, 1000, 8, 10, 3, 4, 6, 5, 7]"
      ]
     },
     "execution_count": 50,
     "metadata": {},
     "output_type": "execute_result"
    }
   ],
   "source": [
    "A = [1000, 10, 8, 7, 3, 4, 6,5,-10000]\n",
    "increaseKeyInMaxHeap(A,9,50000)\n",
    "A"
   ]
  },
  {
   "cell_type": "markdown",
   "metadata": {},
   "source": [
    "# Insert Key In Max Heap Implementation\n",
    "    Place smaller value at the end and increase key to required value using increase key algorithm\n",
    "### Complexity\n",
    "#### Time : O(logn) since it uses increase key. \n",
    "#### Space : O(1)"
   ]
  },
  {
   "cell_type": "code",
   "execution_count": 51,
   "metadata": {},
   "outputs": [],
   "source": [
    "def insertKeyInMaxHeap(A,key):\n",
    "    A.append(-10000)\n",
    "    heapsize = len(A)\n",
    "    increaseKeyInMaxHeap(A,heapsize,key)"
   ]
  },
  {
   "cell_type": "code",
   "execution_count": 52,
   "metadata": {},
   "outputs": [
    {
     "data": {
      "text/plain": [
       "[50000, 1000, 8, 10, 3, 4, 6, 5, 7]"
      ]
     },
     "execution_count": 52,
     "metadata": {},
     "output_type": "execute_result"
    }
   ],
   "source": [
    "A = [1000, 10, 8, 7, 3, 4, 6, 5]\n",
    "insertKeyInMaxHeap(A,50000)\n",
    "A\n",
    "# ans [50000, 1000, 8, 10, 3, 4, 6, 5, 7]"
   ]
  },
  {
   "cell_type": "code",
   "execution_count": null,
   "metadata": {},
   "outputs": [],
   "source": []
  },
  {
   "cell_type": "raw",
   "metadata": {},
   "source": [
    "Notes : \n",
    "    1. In extract max key,root node is returned last node is placed at root node and max_heapify is called to make \n",
    "    if max heap.\n",
    "    2. In increase key, node value is changed to new key and compared with parent and swapped is new key is greater\n",
    "    than parent. comparing continues till root node\n",
    "    3. In insert key, we insert very small value at last node and then make use of increase key to change last node\n",
    "    value to required value. we use small value to ensure all new keys to be greater than that so we can use \n",
    "    increase key"
   ]
  },
  {
   "cell_type": "code",
   "execution_count": null,
   "metadata": {},
   "outputs": [],
   "source": []
  }
 ],
 "metadata": {
  "kernelspec": {
   "display_name": "Python 3",
   "language": "python",
   "name": "python3"
  },
  "language_info": {
   "codemirror_mode": {
    "name": "ipython",
    "version": 3
   },
   "file_extension": ".py",
   "mimetype": "text/x-python",
   "name": "python",
   "nbconvert_exporter": "python",
   "pygments_lexer": "ipython3",
   "version": "3.5.2"
  }
 },
 "nbformat": 4,
 "nbformat_minor": 2
}
